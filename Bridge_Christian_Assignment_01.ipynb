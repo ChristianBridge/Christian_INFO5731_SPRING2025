{
  "cells": [
    {
      "cell_type": "markdown",
      "metadata": {
        "id": "view-in-github",
        "colab_type": "text"
      },
      "source": [
        "<a href=\"https://colab.research.google.com/github/ChristianBridge/Christian_INFO5731_SPRING2025/blob/main/Bridge_Christian_Assignment_01.ipynb\" target=\"_parent\"><img src=\"https://colab.research.google.com/assets/colab-badge.svg\" alt=\"Open In Colab\"/></a>"
      ]
    },
    {
      "cell_type": "markdown",
      "metadata": {
        "id": "Ryk8D1Q4Wsrp"
      },
      "source": [
        "# **INFO5731 Assignment - 1**"
      ]
    },
    {
      "cell_type": "markdown",
      "source": [
        "This assignment includes range of programming tasks and data analysis exercises, aiming to enhance your Python skills and proficiency in string manipulation, numerical computations, and data science. Follow the instructions carefully and design well-structured Python programs to address each question.\n",
        "\n",
        "\n",
        "1.  Question 1-5 using AI assistance is strictly prohibted\n",
        "2.  Question 6-7 AI assitance is recommended by following guidelines.\n",
        "\n",
        "Guidelines and expectations file can be found in week 2 module.\n",
        "\n",
        "Late Submission will have a penalty of 10% reduction for each day after the deadline."
      ],
      "metadata": {
        "id": "qcP6re2g5A5r"
      }
    },
    {
      "cell_type": "code",
      "source": [
        "#Import libraries\n",
        "import numpy as np\n",
        "import pandas as pd"
      ],
      "metadata": {
        "id": "q-MFo2kKlc-u"
      },
      "execution_count": 1,
      "outputs": []
    },
    {
      "cell_type": "markdown",
      "metadata": {
        "id": "JkzR8cFAyGik"
      },
      "source": [
        "# Question 1 (10 points).\n",
        "\n",
        "The formula that describes the volume V of a hemisphere with radius r is the following:\n",
        "\n",
        "$ V=\\frac{2}{3}\\ast\\ \\pi\\ast\\ r^3 $\n",
        "\n",
        "Write a program to calculate the value of V when r is in the range of even numbers from 1-20. Output the result in the following format:\n",
        "\n",
        "\tr\tV\n",
        "\t2\t…\n",
        "\t4\t…\n",
        "\t6\t…\n",
        "\t.\n",
        "\t.\n",
        "\t.\n",
        "\t20\t…\n"
      ]
    },
    {
      "cell_type": "code",
      "execution_count": 2,
      "metadata": {
        "id": "jDyTKYs-yGit"
      },
      "outputs": [],
      "source": [
        "# Create Volume function\n",
        "def volume(r):\n",
        "    pi = 3.14159\n",
        "    c = (2/3)\n",
        "    r = r + 1\n",
        "    r = range(1, r)\n",
        "    for i in r:\n",
        "        if i % 2 == 0:\n",
        "            vol = (c * pi * (i**3))\n",
        "            print(i, vol)"
      ]
    },
    {
      "cell_type": "code",
      "source": [
        "#Use volume function\n",
        "volume(20)"
      ],
      "metadata": {
        "colab": {
          "base_uri": "https://localhost:8080/"
        },
        "id": "mVbNgeRPlagY",
        "outputId": "5f7a30fe-d85d-4d4c-e459-47a9e7a3e9c5"
      },
      "execution_count": 3,
      "outputs": [
        {
          "output_type": "stream",
          "name": "stdout",
          "text": [
            "2 16.755146666666665\n",
            "4 134.04117333333332\n",
            "6 452.38895999999994\n",
            "8 1072.3293866666666\n",
            "10 2094.393333333333\n",
            "12 3619.1116799999995\n",
            "14 5747.015306666666\n",
            "16 8578.635093333332\n",
            "18 12214.501919999999\n",
            "20 16755.146666666664\n"
          ]
        }
      ]
    },
    {
      "cell_type": "markdown",
      "metadata": {
        "id": "90_NR8c5XGWc"
      },
      "source": [
        "# Question 2 (10 points)\n",
        "\n",
        "(a) Write a Python program to generate a sequence of 12 random numbers falling within the range of 50 to 150.\n",
        "\n",
        "(b) Arrange the generated numbers in ascending order. Display the sorted list.\n",
        "\n",
        "(c) Extend the program to arrange the numbers in descending order as well. Present the sorted list accordingly.\n",
        "\n",
        "(d) Compute and output the average of the entire group of generated numbers.\n",
        "\n",
        "(e) Enhance the program to calculate and display the average of the first 6 numbers from both the ascending and descending sorted lists."
      ]
    },
    {
      "cell_type": "code",
      "execution_count": 4,
      "metadata": {
        "id": "5QX6bJjGWXY9",
        "colab": {
          "base_uri": "https://localhost:8080/"
        },
        "outputId": "da6bd9c9-b59f-49a5-e36b-aa1864524cec"
      },
      "outputs": [
        {
          "output_type": "stream",
          "name": "stdout",
          "text": [
            "# of items in list: 12\n",
            "Ascending: [65, 67, 76, 80, 80, 86, 88, 94, 104, 120, 131, 147]\n",
            "Descending: [147, 131, 120, 104, 94, 88, 86, 80, 80, 76, 67, 65]\n",
            "The Average of the list: 94.83333333333333\n"
          ]
        }
      ],
      "source": [
        "#Import random library\n",
        "import random\n",
        "# define list for random number creation & iteration (i)\n",
        "numbers = []\n",
        "i = 0\n",
        "#Iterate 12 times to select numbers and append to list\n",
        "while i < 12:\n",
        "    rand_int = random.randint(50,150)\n",
        "    numbers.append(rand_int)\n",
        "    i+= 1\n",
        "#Print number of items, list ascending, and list descending\n",
        "print(\"# of items in list:\", len(numbers))\n",
        "numbers.sort()\n",
        "print(\"Ascending:\", numbers)\n",
        "numbers.sort(reverse = True)\n",
        "print(\"Descending:\", numbers)\n",
        "#Average = Sum of list / # of list items\n",
        "avg = sum(numbers) / len(numbers)\n",
        "print(\"The Average of the list:\", avg)"
      ]
    },
    {
      "cell_type": "code",
      "source": [
        "#Create function to get previously created number list\n",
        "#User inputs X as 'asc' or 'desc' to control how list is sorted\n",
        "#Take average using first 6 index items\n",
        "def avg_six(x):\n",
        "    num_list = numbers\n",
        "    if x == 'asc':\n",
        "        numbers.sort()\n",
        "    elif x == 'des':\n",
        "        numbers.sort(reverse = True)\n",
        "    avg = sum(numbers[0:6])/6\n",
        "    print(avg)"
      ],
      "metadata": {
        "id": "jluK-pYLoPHe"
      },
      "execution_count": 5,
      "outputs": []
    },
    {
      "cell_type": "code",
      "source": [
        "#Call function for Ascending list\n",
        "avg_six('asc')"
      ],
      "metadata": {
        "colab": {
          "base_uri": "https://localhost:8080/"
        },
        "id": "_zBYH4Dcq3Lx",
        "outputId": "3a327e86-c9f9-4d39-c7ef-32ea62783fcf"
      },
      "execution_count": 6,
      "outputs": [
        {
          "output_type": "stream",
          "name": "stdout",
          "text": [
            "75.66666666666667\n"
          ]
        }
      ]
    },
    {
      "cell_type": "code",
      "source": [
        "#Call function for Descending list\n",
        "avg_six('des')"
      ],
      "metadata": {
        "colab": {
          "base_uri": "https://localhost:8080/"
        },
        "id": "puTEvQMMq-cQ",
        "outputId": "8a01db03-cb5a-4f81-d07e-0e7c76115dc7"
      },
      "execution_count": 7,
      "outputs": [
        {
          "output_type": "stream",
          "name": "stdout",
          "text": [
            "114.0\n"
          ]
        }
      ]
    },
    {
      "cell_type": "markdown",
      "metadata": {
        "id": "1F_PZdH9Sh49"
      },
      "source": [
        "# Question 3 (10 points).\n",
        "\n",
        "Create a Python program that encompasses various string manipulation task:\n",
        "\n",
        "(a) Prompt the user to input two sentences.\n",
        "\n",
        "(b) Transform each sentence into a list, where each element corresponds to a word in the sentence. For example, if the sentences are \"Hello, how are you doing today?\" and \"This is an example sentence for the program!\"\n",
        "\n",
        "The program should output:\n",
        "['Hello', ',', 'how', 'are', 'you', 'doing', 'today', '?', 'This', 'is', 'an', 'example', 'sentence', 'for', 'the', 'program', '!']\n",
        "\n",
        "(c) Compare the two sentences. Print out a list of words that occur in both sentences.\n",
        "\n",
        "(d) Remove any punctuation from the sentence and print the sanitized sentences. It should remove at least the following characters, but it can remove more: period(“.”), comma (“,”), semicolon (“;”), and colon (“:”).\n",
        "\n",
        "(e) Count the number of vowels in each of the sentences. Print out each vowel and the occurrences  in the each of the two sentences separately, such as:\n",
        "\n",
        "Sentence1: a:2, e:2, i:0, etc.\n",
        "Sentence2: a:1, e:2, i:2, etc.\n",
        "\n",
        "Design a well-structured Python program to execute these tasks efficiently."
      ]
    },
    {
      "cell_type": "code",
      "execution_count": 8,
      "metadata": {
        "id": "Y0oOSlsOS0cq",
        "colab": {
          "base_uri": "https://localhost:8080/"
        },
        "outputId": "43dca449-f13c-4f1b-f0d5-f20c081734db"
      },
      "outputs": [
        {
          "name": "stdout",
          "output_type": "stream",
          "text": [
            "Write a sentence here.\n",
            "\n",
            "Write another sentence here.\n",
            "\n"
          ]
        }
      ],
      "source": [
        "# Store user inputs\n",
        "prompt1 = input(\"Write a sentence here.\\n\")\n",
        "prompt2 = input(\"Write another sentence here.\\n\")"
      ]
    },
    {
      "cell_type": "code",
      "source": [
        "#Import Regular Expression library\n",
        "import re\n",
        "# create function to return list of words & characters given sentence\n",
        "# r'(\\W)' is used to capture and group non-word characters\n",
        "#ch.strip() will remove the blank space characters\n",
        "def word_split(sent):\n",
        "    return [ch for ch in re.split(r'(\\W)', sent) if ch.strip()]"
      ],
      "metadata": {
        "id": "ANP9MLs4slPO"
      },
      "execution_count": 9,
      "outputs": []
    },
    {
      "cell_type": "code",
      "source": [
        "#Create list using function\n",
        "ws1 = word_split(prompt1)\n",
        "print(ws1)"
      ],
      "metadata": {
        "colab": {
          "base_uri": "https://localhost:8080/"
        },
        "id": "GpQOxMTHxqpM",
        "outputId": "24cde245-01c0-47de-f61e-f561c1cd3bb1"
      },
      "execution_count": 10,
      "outputs": [
        {
          "output_type": "stream",
          "name": "stdout",
          "text": [
            "[]\n"
          ]
        }
      ]
    },
    {
      "cell_type": "code",
      "source": [
        "#Create list using function\n",
        "ws2 = word_split(prompt2)\n",
        "print(ws2)"
      ],
      "metadata": {
        "colab": {
          "base_uri": "https://localhost:8080/"
        },
        "id": "iQk6jT0axxFQ",
        "outputId": "d77b1a69-5c50-4be1-b3a6-5aa3fee68a1a"
      },
      "execution_count": 11,
      "outputs": [
        {
          "output_type": "stream",
          "name": "stdout",
          "text": [
            "[]\n"
          ]
        }
      ]
    },
    {
      "cell_type": "code",
      "source": [
        "#Intersection operator for sets\n",
        "set(ws1) & set(ws2)"
      ],
      "metadata": {
        "colab": {
          "base_uri": "https://localhost:8080/"
        },
        "id": "h_Vxh1max1oz",
        "outputId": "503d2b70-177e-4792-9095-85ac17a336bf"
      },
      "execution_count": 12,
      "outputs": [
        {
          "output_type": "execute_result",
          "data": {
            "text/plain": [
              "set()"
            ]
          },
          "metadata": {},
          "execution_count": 12
        }
      ]
    },
    {
      "cell_type": "code",
      "source": [
        "def word_split_no_spec(sent):\n",
        "    x = [ch for ch in re.split('[^a-zA-Z]',sent) if ch.strip()]\n",
        "    x = ' '.join(x)\n",
        "    return x"
      ],
      "metadata": {
        "id": "87c3ED2CzJy0"
      },
      "execution_count": 13,
      "outputs": []
    },
    {
      "cell_type": "code",
      "source": [
        "wsns1 = word_split_no_spec(prompt1)\n",
        "print(wsns1)"
      ],
      "metadata": {
        "colab": {
          "base_uri": "https://localhost:8080/"
        },
        "id": "_laPvg5Q0Mu5",
        "outputId": "e69cd8bf-d0ad-4d29-cb49-7efa5c8c727f"
      },
      "execution_count": 14,
      "outputs": [
        {
          "output_type": "stream",
          "name": "stdout",
          "text": [
            "\n"
          ]
        }
      ]
    },
    {
      "cell_type": "code",
      "source": [
        "wsns2 = word_split_no_spec(prompt2)\n",
        "print(wsns2)"
      ],
      "metadata": {
        "colab": {
          "base_uri": "https://localhost:8080/"
        },
        "id": "KDuVXyMU1nPi",
        "outputId": "0081327a-3c86-43b4-f74d-147e5583bc9d"
      },
      "execution_count": 15,
      "outputs": [
        {
          "output_type": "stream",
          "name": "stdout",
          "text": [
            "\n"
          ]
        }
      ]
    },
    {
      "cell_type": "code",
      "source": [
        "def vowel_count(sent):\n",
        "    x = sent\n",
        "    x = list(x)\n",
        "    vowels = ['a','e','i','o','u']\n",
        "    vowel_nums = []\n",
        "    for i in vowels:\n",
        "        vowel_nums.append(x.count(i))\n",
        "    y = zip(vowels, vowel_nums)\n",
        "    return dict(y)"
      ],
      "metadata": {
        "id": "t18OjJ2w17nY"
      },
      "execution_count": 16,
      "outputs": []
    },
    {
      "cell_type": "code",
      "source": [
        "vowel_count(wsns1)"
      ],
      "metadata": {
        "colab": {
          "base_uri": "https://localhost:8080/"
        },
        "id": "6v6ACn1b52Vh",
        "outputId": "54256139-9e22-448f-919a-fb808cfd133f"
      },
      "execution_count": 17,
      "outputs": [
        {
          "output_type": "execute_result",
          "data": {
            "text/plain": [
              "{'a': 0, 'e': 0, 'i': 0, 'o': 0, 'u': 0}"
            ]
          },
          "metadata": {},
          "execution_count": 17
        }
      ]
    },
    {
      "cell_type": "code",
      "source": [
        "vowel_count(wsns2)"
      ],
      "metadata": {
        "colab": {
          "base_uri": "https://localhost:8080/"
        },
        "id": "ds8-wbC46bdi",
        "outputId": "b57375d7-de39-47d0-aaee-500aa38afacb"
      },
      "execution_count": 18,
      "outputs": [
        {
          "output_type": "execute_result",
          "data": {
            "text/plain": [
              "{'a': 0, 'e': 0, 'i': 0, 'o': 0, 'u': 0}"
            ]
          },
          "metadata": {},
          "execution_count": 18
        }
      ]
    },
    {
      "cell_type": "markdown",
      "source": [
        "# Question 4 (10 Points)"
      ],
      "metadata": {
        "id": "OP4-5qxAtInv"
      }
    },
    {
      "cell_type": "markdown",
      "source": [
        "Design and implement a simple command-line calculator program. The program should handle both integers and floating-point numbers.\n",
        "\n",
        "(a) Write program that takes a mathematical expression as input and evaluates it. The program should support addition, subtraction, multiplication, and division.\n",
        "\n",
        "(b) Extend the calculator to handle parentheses in mathematical expressions. Implement the necessary logic to evaluate expressions with nested parentheses.\n",
        "\n",
        "(c) Enhance your calculator to include additional mathematical operations such as exponentiation, square root, and modulus.\n",
        "\n",
        "(d) Implement error handling in the calculator program. Handle cases such as division by zero and invalid input expressions. Provide meaningful error messages.\n",
        "\n",
        "(e) Implement a command to exit the calculator."
      ],
      "metadata": {
        "id": "uzN4_hDptK9U"
      }
    },
    {
      "cell_type": "code",
      "source": [
        "#Import operators and create dictionary\n",
        "import operator\n",
        "ops = {\n",
        "    '+' : operator.add,\n",
        "    'add' : operator.add,\n",
        "    '-' : operator.sub,\n",
        "    'sub' : operator.sub,\n",
        "    \"*\" : operator.mul,\n",
        "    'multiply' : operator.mul,\n",
        "    'times' : operator.mul,\n",
        "    \"/\" : operator.truediv,\n",
        "    'divided by' : operator.truediv,\n",
        "    'over' : operator.truediv\n",
        "}\n",
        "\n",
        "#Create math function\n",
        "def math(num1, operator, num2):\n",
        "    x = num1\n",
        "    y = num2\n",
        "    o = ops[operator]\n",
        "    result = o(x,y)\n",
        "    return result"
      ],
      "metadata": {
        "id": "8nQnVxjJuYtu"
      },
      "execution_count": 19,
      "outputs": []
    },
    {
      "cell_type": "code",
      "source": [
        "test = '((1/2) + 2)**2'\n",
        "word_split(test)"
      ],
      "metadata": {
        "colab": {
          "base_uri": "https://localhost:8080/"
        },
        "id": "ZsHqz4dDquz5",
        "outputId": "0d14e15b-26c0-4e6f-d196-705debc77273"
      },
      "execution_count": 20,
      "outputs": [
        {
          "output_type": "execute_result",
          "data": {
            "text/plain": [
              "['(', '(', '1', '/', '2', ')', '+', '2', ')', '*', '*', '2']"
            ]
          },
          "metadata": {},
          "execution_count": 20
        }
      ]
    },
    {
      "cell_type": "code",
      "source": [
        "'''def math(equation):\n",
        "    x = word_split(equation)\n",
        "    for ch in x:\n",
        "'''"
      ],
      "metadata": {
        "colab": {
          "base_uri": "https://localhost:8080/",
          "height": 35
        },
        "id": "rs9-AQxzrbhV",
        "outputId": "d813fc85-b52e-457c-ee2b-14a9171be19b"
      },
      "execution_count": 21,
      "outputs": [
        {
          "output_type": "execute_result",
          "data": {
            "text/plain": [
              "'def math(equation):\\n    x = word_split(equation)\\n    for ch in x:\\n'"
            ],
            "application/vnd.google.colaboratory.intrinsic+json": {
              "type": "string"
            }
          },
          "metadata": {},
          "execution_count": 21
        }
      ]
    },
    {
      "cell_type": "markdown",
      "metadata": {
        "id": "z3tBE7E-Xn5X"
      },
      "source": [
        "# Question 5 (20 points).\n",
        "\n",
        "In the field of Data Science, data is often formatted as a comma-delimited (CSV) file, where each line in a file corresponds to a field's value. Refer to Chapter 9 (p. 106) for more information on comma-delimited files.\n",
        "\n",
        "To answer this question, you will need to download the file [Assignment1_denton_housing.csv](https://raw.githubusercontent.com/unt-iialab/info5731-spring2022/main/assignments/Assignment1_denton_housing.csv) included with this assignment. The file contains statistics about housing in the city of Denton from 2008 to 2014. Write a program to implement the following questions.\n",
        "\n",
        "(a) (5 pts) Calculate the difference in the number of Occupied Housing Units from year to year and print it. The difference must be calculated for the consecutive years such as 2008-2009, 2009-2010 etc. Finally, print the values in the ascending order.\n",
        "\n",
        "(b) (5 pts) For all the years, calculate the percentage of housing units which are vacant an occupied. Print the results in the following format:\n",
        "\n",
        "Year Vacant Housing Units Occupied Housing Units\n",
        "\n",
        "    2008  30%   70%                          \n",
        "\t2009 ----- -----\n",
        "\t2010 ----- -----\n",
        "    2011 ----- -----\n",
        "\t2012 ----- -----\n",
        "    2013 ----- -----\n",
        "\t2014 ----- -----\n",
        "  \n",
        "  \n",
        "\n",
        "(c) (5 pts) Calculate and print the valued and years in which the highest number of housing units were vacant and occupied. Print the results in the following format:  \n",
        "\n",
        "                              Year\tValue\n",
        "\tVacant Housing Units\t  -----   -----\n",
        "\tOccupied Housing Units\t-----   -----\n",
        "\n",
        "(d) (5 pts) Calculate the harmonic mean of the total housing units and print it out. You can find the information about harmonic mean here: https://ncalculators.com/statistics/harmonic-mean-calculator.htm"
      ]
    },
    {
      "cell_type": "code",
      "execution_count": 22,
      "metadata": {
        "id": "lqGYuHBhcsRH",
        "colab": {
          "base_uri": "https://localhost:8080/",
          "height": 237
        },
        "outputId": "6c50b08e-a326-46f2-b9df-1b3edecd1915"
      },
      "outputs": [
        {
          "output_type": "execute_result",
          "data": {
            "text/plain": [
              "                 title_field  value\n",
              "year                               \n",
              "2014     Total Housing Units  49109\n",
              "2014    Vacant Housing Units   2814\n",
              "2014  Occupied Housing Units  46295\n",
              "2013     Total Housing Units  47888\n",
              "2013    Vacant Housing Units   4215"
            ],
            "text/html": [
              "\n",
              "  <div id=\"df-0f475dd6-c3fa-4682-a724-be3d1c310324\" class=\"colab-df-container\">\n",
              "    <div>\n",
              "<style scoped>\n",
              "    .dataframe tbody tr th:only-of-type {\n",
              "        vertical-align: middle;\n",
              "    }\n",
              "\n",
              "    .dataframe tbody tr th {\n",
              "        vertical-align: top;\n",
              "    }\n",
              "\n",
              "    .dataframe thead th {\n",
              "        text-align: right;\n",
              "    }\n",
              "</style>\n",
              "<table border=\"1\" class=\"dataframe\">\n",
              "  <thead>\n",
              "    <tr style=\"text-align: right;\">\n",
              "      <th></th>\n",
              "      <th>title_field</th>\n",
              "      <th>value</th>\n",
              "    </tr>\n",
              "    <tr>\n",
              "      <th>year</th>\n",
              "      <th></th>\n",
              "      <th></th>\n",
              "    </tr>\n",
              "  </thead>\n",
              "  <tbody>\n",
              "    <tr>\n",
              "      <th>2014</th>\n",
              "      <td>Total Housing Units</td>\n",
              "      <td>49109</td>\n",
              "    </tr>\n",
              "    <tr>\n",
              "      <th>2014</th>\n",
              "      <td>Vacant Housing Units</td>\n",
              "      <td>2814</td>\n",
              "    </tr>\n",
              "    <tr>\n",
              "      <th>2014</th>\n",
              "      <td>Occupied Housing Units</td>\n",
              "      <td>46295</td>\n",
              "    </tr>\n",
              "    <tr>\n",
              "      <th>2013</th>\n",
              "      <td>Total Housing Units</td>\n",
              "      <td>47888</td>\n",
              "    </tr>\n",
              "    <tr>\n",
              "      <th>2013</th>\n",
              "      <td>Vacant Housing Units</td>\n",
              "      <td>4215</td>\n",
              "    </tr>\n",
              "  </tbody>\n",
              "</table>\n",
              "</div>\n",
              "    <div class=\"colab-df-buttons\">\n",
              "\n",
              "  <div class=\"colab-df-container\">\n",
              "    <button class=\"colab-df-convert\" onclick=\"convertToInteractive('df-0f475dd6-c3fa-4682-a724-be3d1c310324')\"\n",
              "            title=\"Convert this dataframe to an interactive table.\"\n",
              "            style=\"display:none;\">\n",
              "\n",
              "  <svg xmlns=\"http://www.w3.org/2000/svg\" height=\"24px\" viewBox=\"0 -960 960 960\">\n",
              "    <path d=\"M120-120v-720h720v720H120Zm60-500h600v-160H180v160Zm220 220h160v-160H400v160Zm0 220h160v-160H400v160ZM180-400h160v-160H180v160Zm440 0h160v-160H620v160ZM180-180h160v-160H180v160Zm440 0h160v-160H620v160Z\"/>\n",
              "  </svg>\n",
              "    </button>\n",
              "\n",
              "  <style>\n",
              "    .colab-df-container {\n",
              "      display:flex;\n",
              "      gap: 12px;\n",
              "    }\n",
              "\n",
              "    .colab-df-convert {\n",
              "      background-color: #E8F0FE;\n",
              "      border: none;\n",
              "      border-radius: 50%;\n",
              "      cursor: pointer;\n",
              "      display: none;\n",
              "      fill: #1967D2;\n",
              "      height: 32px;\n",
              "      padding: 0 0 0 0;\n",
              "      width: 32px;\n",
              "    }\n",
              "\n",
              "    .colab-df-convert:hover {\n",
              "      background-color: #E2EBFA;\n",
              "      box-shadow: 0px 1px 2px rgba(60, 64, 67, 0.3), 0px 1px 3px 1px rgba(60, 64, 67, 0.15);\n",
              "      fill: #174EA6;\n",
              "    }\n",
              "\n",
              "    .colab-df-buttons div {\n",
              "      margin-bottom: 4px;\n",
              "    }\n",
              "\n",
              "    [theme=dark] .colab-df-convert {\n",
              "      background-color: #3B4455;\n",
              "      fill: #D2E3FC;\n",
              "    }\n",
              "\n",
              "    [theme=dark] .colab-df-convert:hover {\n",
              "      background-color: #434B5C;\n",
              "      box-shadow: 0px 1px 3px 1px rgba(0, 0, 0, 0.15);\n",
              "      filter: drop-shadow(0px 1px 2px rgba(0, 0, 0, 0.3));\n",
              "      fill: #FFFFFF;\n",
              "    }\n",
              "  </style>\n",
              "\n",
              "    <script>\n",
              "      const buttonEl =\n",
              "        document.querySelector('#df-0f475dd6-c3fa-4682-a724-be3d1c310324 button.colab-df-convert');\n",
              "      buttonEl.style.display =\n",
              "        google.colab.kernel.accessAllowed ? 'block' : 'none';\n",
              "\n",
              "      async function convertToInteractive(key) {\n",
              "        const element = document.querySelector('#df-0f475dd6-c3fa-4682-a724-be3d1c310324');\n",
              "        const dataTable =\n",
              "          await google.colab.kernel.invokeFunction('convertToInteractive',\n",
              "                                                    [key], {});\n",
              "        if (!dataTable) return;\n",
              "\n",
              "        const docLinkHtml = 'Like what you see? Visit the ' +\n",
              "          '<a target=\"_blank\" href=https://colab.research.google.com/notebooks/data_table.ipynb>data table notebook</a>'\n",
              "          + ' to learn more about interactive tables.';\n",
              "        element.innerHTML = '';\n",
              "        dataTable['output_type'] = 'display_data';\n",
              "        await google.colab.output.renderOutput(dataTable, element);\n",
              "        const docLink = document.createElement('div');\n",
              "        docLink.innerHTML = docLinkHtml;\n",
              "        element.appendChild(docLink);\n",
              "      }\n",
              "    </script>\n",
              "  </div>\n",
              "\n",
              "\n",
              "<div id=\"df-1430f5f6-eb4b-4009-a2b3-606cf7c03ce1\">\n",
              "  <button class=\"colab-df-quickchart\" onclick=\"quickchart('df-1430f5f6-eb4b-4009-a2b3-606cf7c03ce1')\"\n",
              "            title=\"Suggest charts\"\n",
              "            style=\"display:none;\">\n",
              "\n",
              "<svg xmlns=\"http://www.w3.org/2000/svg\" height=\"24px\"viewBox=\"0 0 24 24\"\n",
              "     width=\"24px\">\n",
              "    <g>\n",
              "        <path d=\"M19 3H5c-1.1 0-2 .9-2 2v14c0 1.1.9 2 2 2h14c1.1 0 2-.9 2-2V5c0-1.1-.9-2-2-2zM9 17H7v-7h2v7zm4 0h-2V7h2v10zm4 0h-2v-4h2v4z\"/>\n",
              "    </g>\n",
              "</svg>\n",
              "  </button>\n",
              "\n",
              "<style>\n",
              "  .colab-df-quickchart {\n",
              "      --bg-color: #E8F0FE;\n",
              "      --fill-color: #1967D2;\n",
              "      --hover-bg-color: #E2EBFA;\n",
              "      --hover-fill-color: #174EA6;\n",
              "      --disabled-fill-color: #AAA;\n",
              "      --disabled-bg-color: #DDD;\n",
              "  }\n",
              "\n",
              "  [theme=dark] .colab-df-quickchart {\n",
              "      --bg-color: #3B4455;\n",
              "      --fill-color: #D2E3FC;\n",
              "      --hover-bg-color: #434B5C;\n",
              "      --hover-fill-color: #FFFFFF;\n",
              "      --disabled-bg-color: #3B4455;\n",
              "      --disabled-fill-color: #666;\n",
              "  }\n",
              "\n",
              "  .colab-df-quickchart {\n",
              "    background-color: var(--bg-color);\n",
              "    border: none;\n",
              "    border-radius: 50%;\n",
              "    cursor: pointer;\n",
              "    display: none;\n",
              "    fill: var(--fill-color);\n",
              "    height: 32px;\n",
              "    padding: 0;\n",
              "    width: 32px;\n",
              "  }\n",
              "\n",
              "  .colab-df-quickchart:hover {\n",
              "    background-color: var(--hover-bg-color);\n",
              "    box-shadow: 0 1px 2px rgba(60, 64, 67, 0.3), 0 1px 3px 1px rgba(60, 64, 67, 0.15);\n",
              "    fill: var(--button-hover-fill-color);\n",
              "  }\n",
              "\n",
              "  .colab-df-quickchart-complete:disabled,\n",
              "  .colab-df-quickchart-complete:disabled:hover {\n",
              "    background-color: var(--disabled-bg-color);\n",
              "    fill: var(--disabled-fill-color);\n",
              "    box-shadow: none;\n",
              "  }\n",
              "\n",
              "  .colab-df-spinner {\n",
              "    border: 2px solid var(--fill-color);\n",
              "    border-color: transparent;\n",
              "    border-bottom-color: var(--fill-color);\n",
              "    animation:\n",
              "      spin 1s steps(1) infinite;\n",
              "  }\n",
              "\n",
              "  @keyframes spin {\n",
              "    0% {\n",
              "      border-color: transparent;\n",
              "      border-bottom-color: var(--fill-color);\n",
              "      border-left-color: var(--fill-color);\n",
              "    }\n",
              "    20% {\n",
              "      border-color: transparent;\n",
              "      border-left-color: var(--fill-color);\n",
              "      border-top-color: var(--fill-color);\n",
              "    }\n",
              "    30% {\n",
              "      border-color: transparent;\n",
              "      border-left-color: var(--fill-color);\n",
              "      border-top-color: var(--fill-color);\n",
              "      border-right-color: var(--fill-color);\n",
              "    }\n",
              "    40% {\n",
              "      border-color: transparent;\n",
              "      border-right-color: var(--fill-color);\n",
              "      border-top-color: var(--fill-color);\n",
              "    }\n",
              "    60% {\n",
              "      border-color: transparent;\n",
              "      border-right-color: var(--fill-color);\n",
              "    }\n",
              "    80% {\n",
              "      border-color: transparent;\n",
              "      border-right-color: var(--fill-color);\n",
              "      border-bottom-color: var(--fill-color);\n",
              "    }\n",
              "    90% {\n",
              "      border-color: transparent;\n",
              "      border-bottom-color: var(--fill-color);\n",
              "    }\n",
              "  }\n",
              "</style>\n",
              "\n",
              "  <script>\n",
              "    async function quickchart(key) {\n",
              "      const quickchartButtonEl =\n",
              "        document.querySelector('#' + key + ' button');\n",
              "      quickchartButtonEl.disabled = true;  // To prevent multiple clicks.\n",
              "      quickchartButtonEl.classList.add('colab-df-spinner');\n",
              "      try {\n",
              "        const charts = await google.colab.kernel.invokeFunction(\n",
              "            'suggestCharts', [key], {});\n",
              "      } catch (error) {\n",
              "        console.error('Error during call to suggestCharts:', error);\n",
              "      }\n",
              "      quickchartButtonEl.classList.remove('colab-df-spinner');\n",
              "      quickchartButtonEl.classList.add('colab-df-quickchart-complete');\n",
              "    }\n",
              "    (() => {\n",
              "      let quickchartButtonEl =\n",
              "        document.querySelector('#df-1430f5f6-eb4b-4009-a2b3-606cf7c03ce1 button');\n",
              "      quickchartButtonEl.style.display =\n",
              "        google.colab.kernel.accessAllowed ? 'block' : 'none';\n",
              "    })();\n",
              "  </script>\n",
              "</div>\n",
              "\n",
              "    </div>\n",
              "  </div>\n"
            ],
            "application/vnd.google.colaboratory.intrinsic+json": {
              "type": "dataframe",
              "variable_name": "df",
              "summary": "{\n  \"name\": \"df\",\n  \"rows\": 42,\n  \"fields\": [\n    {\n      \"column\": \"year\",\n      \"properties\": {\n        \"dtype\": \"number\",\n        \"std\": 2,\n        \"min\": 2008,\n        \"max\": 2014,\n        \"num_unique_values\": 7,\n        \"samples\": [\n          2014,\n          2013,\n          2009\n        ],\n        \"semantic_type\": \"\",\n        \"description\": \"\"\n      }\n    },\n    {\n      \"column\": \"title_field\",\n      \"properties\": {\n        \"dtype\": \"category\",\n        \"num_unique_values\": 6,\n        \"samples\": [\n          \"Total Housing Units\",\n          \"Vacant Housing Units\",\n          \"Median Gross Rent\"\n        ],\n        \"semantic_type\": \"\",\n        \"description\": \"\"\n      }\n    },\n    {\n      \"column\": \"value\",\n      \"properties\": {\n        \"dtype\": \"number\",\n        \"std\": 16977,\n        \"min\": 768,\n        \"max\": 49109,\n        \"num_unique_values\": 42,\n        \"samples\": [\n          20068,\n          3635,\n          42108\n        ],\n        \"semantic_type\": \"\",\n        \"description\": \"\"\n      }\n    }\n  ]\n}"
            }
          },
          "metadata": {},
          "execution_count": 22
        }
      ],
      "source": [
        "#import file & check format\n",
        "df = pd.read_csv(\"Assignment1_denton_housing.csv\", index_col = 'year')\n",
        "df.head(5)"
      ]
    },
    {
      "cell_type": "code",
      "source": [
        "#Find all the various categories of title_field\n",
        "columns = list(df['title_field'].unique())\n",
        "print(columns)"
      ],
      "metadata": {
        "id": "vaX7Zrzsunhe",
        "colab": {
          "base_uri": "https://localhost:8080/"
        },
        "outputId": "d449cdd0-c43e-4dad-b34a-f4e040bd5665"
      },
      "execution_count": 23,
      "outputs": [
        {
          "output_type": "stream",
          "name": "stdout",
          "text": [
            "['Total Housing Units', 'Vacant Housing Units', 'Occupied Housing Units', 'Owner Occupied', 'Renter Occupied', 'Median Gross Rent']\n"
          ]
        }
      ]
    },
    {
      "cell_type": "code",
      "source": [
        "#Part 1\n",
        "#Create new Dataframe for Occupied Housing Units\n",
        "df_ohu = df[df['title_field'] == 'Occupied Housing Units']"
      ],
      "metadata": {
        "id": "2zEcTBlkvApz"
      },
      "execution_count": 24,
      "outputs": []
    },
    {
      "cell_type": "code",
      "source": [
        "#Sort Index\n",
        "df_ohu.sort_index(ascending = True, inplace = True)"
      ],
      "metadata": {
        "colab": {
          "base_uri": "https://localhost:8080/"
        },
        "id": "DU99wy-rT-bA",
        "outputId": "001cde9b-2af3-43c5-b3c7-8f2be9de1455"
      },
      "execution_count": 25,
      "outputs": [
        {
          "output_type": "stream",
          "name": "stderr",
          "text": [
            "<ipython-input-25-c251b2ab9039>:2: SettingWithCopyWarning: \n",
            "A value is trying to be set on a copy of a slice from a DataFrame\n",
            "\n",
            "See the caveats in the documentation: https://pandas.pydata.org/pandas-docs/stable/user_guide/indexing.html#returning-a-view-versus-a-copy\n",
            "  df_ohu.sort_index(ascending = True, inplace = True)\n"
          ]
        }
      ]
    },
    {
      "cell_type": "code",
      "source": [
        "#Part A\n",
        "df_index = list(df_ohu.index)\n",
        "\n",
        "#For every year and the subsequent year, find the difference between housing total\n",
        "for x in df_index:\n",
        "    next_year = x + 1\n",
        "    if next_year in df_index:\n",
        "        value = df_ohu.loc[x]['value'] - df_ohu.loc[next_year]['value']\n",
        "        print(x, '-', next_year, 'difference in housing:', value)\n",
        "    #Error for 2014 as there is no subsequent year to compare it to\n",
        "    else:\n",
        "        value = df_ohu.loc[x]['value'] - 0\n",
        "        print(\"There is no year\", next_year, \"to compare housing for\", x, \"to.\")"
      ],
      "metadata": {
        "colab": {
          "base_uri": "https://localhost:8080/"
        },
        "id": "9IWxnuiOTzL7",
        "outputId": "e47c5c4b-799b-47a2-9e72-1b5cbb06d74e"
      },
      "execution_count": 26,
      "outputs": [
        {
          "output_type": "stream",
          "name": "stdout",
          "text": [
            "2008 - 2009 difference in housing: 795\n",
            "2009 - 2010 difference in housing: -5091\n",
            "2010 - 2011 difference in housing: 303\n",
            "2011 - 2012 difference in housing: -1404\n",
            "2012 - 2013 difference in housing: -1565\n",
            "2013 - 2014 difference in housing: -2622\n",
            "There is no year 2015 to compare housing for 2014 to.\n"
          ]
        }
      ]
    },
    {
      "cell_type": "code",
      "source": [
        "#Part B\n",
        "#Create empty list for results\n",
        "part_b = []\n",
        "\n",
        "#Get the values of the various fields for calculations\n",
        "for x in df_index:\n",
        "    total_housing = df.loc[(df['title_field'] == 'Total Housing Units') & (df.index == x), 'value'].item()\n",
        "    vacant_housing = df.loc[(df['title_field'] == 'Vacant Housing Units') & (df.index == x), 'value'].item()\n",
        "    occupied_housing = df.loc[(df['title_field'] == 'Occupied Housing Units') & (df.index == x), 'value'].item()\n",
        "    percent_vacant = vacant_housing / total_housing\n",
        "    percent_occupied = occupied_housing / total_housing\n",
        "    part_b.append([x, percent_vacant, percent_occupied])\n",
        "\n",
        "#Use the list created to make a dataframe for formatting\n",
        "part_b = pd.DataFrame(part_b, columns = ['year', 'percent_vacant', 'percent occupied'])\n",
        "print(part_b)"
      ],
      "metadata": {
        "colab": {
          "base_uri": "https://localhost:8080/"
        },
        "id": "3lbHFJPUVu_O",
        "outputId": "0701593c-5e80-4489-8989-dc94197ac741"
      },
      "execution_count": 27,
      "outputs": [
        {
          "output_type": "stream",
          "name": "stdout",
          "text": [
            "   year  percent_vacant  percent occupied\n",
            "0  2008        0.108827          0.891173\n",
            "1  2009        0.090711          0.909289\n",
            "2  2010        0.081426          0.918574\n",
            "3  2011        0.093795          0.906205\n",
            "4  2012        0.066776          0.933224\n",
            "5  2013        0.088018          0.911982\n",
            "6  2014        0.057301          0.942699\n"
          ]
        }
      ]
    },
    {
      "cell_type": "code",
      "source": [
        "df_index = list(df.index.unique())\n",
        "df_index.sort()\n",
        "print(df_index)"
      ],
      "metadata": {
        "colab": {
          "base_uri": "https://localhost:8080/"
        },
        "id": "WaRG5VXgexiP",
        "outputId": "f75b57f0-4f6c-49de-8e03-ca93ca84aa36"
      },
      "execution_count": 28,
      "outputs": [
        {
          "output_type": "stream",
          "name": "stdout",
          "text": [
            "[2008, 2009, 2010, 2011, 2012, 2013, 2014]\n"
          ]
        }
      ]
    },
    {
      "cell_type": "code",
      "source": [
        "compare = df.loc[(df['title_field'] == 'Vacant Housing Units') & (df.index == 2010), 'value'].values\n",
        "print(compare)"
      ],
      "metadata": {
        "colab": {
          "base_uri": "https://localhost:8080/"
        },
        "id": "Xt7SA8cpfK8m",
        "outputId": "8052dbd5-ee74-47d5-d02b-56f40da39a34"
      },
      "execution_count": 29,
      "outputs": [
        {
          "output_type": "stream",
          "name": "stdout",
          "text": [
            "[3635]\n"
          ]
        }
      ]
    },
    {
      "cell_type": "code",
      "source": [
        "#Part C - print the value and year for highest vacant and occupied\n",
        "\n",
        "#Create placeholders\n",
        "year = 0\n",
        "value = 0\n",
        "\n",
        "#Check each year\n",
        "for x in df_index:\n",
        "    y = df.loc[(df['title_field'] == 'Vacant Housing Units') & (df.index == x), 'value'].item()\n",
        "    if y > value:\n",
        "        value = y\n",
        "        year = x\n",
        "    else:\n",
        "        continue\n",
        "\n",
        "#Return results\n",
        "print(f'In {year}, {value} housing units were vacant')"
      ],
      "metadata": {
        "colab": {
          "base_uri": "https://localhost:8080/"
        },
        "id": "2t1UxNjqc1DA",
        "outputId": "c22faea5-8d35-45f1-d731-202c270c44e3"
      },
      "execution_count": 30,
      "outputs": [
        {
          "output_type": "stream",
          "name": "stdout",
          "text": [
            "In 2008, 4483 housing units were vacant\n"
          ]
        }
      ]
    },
    {
      "cell_type": "code",
      "source": [
        "#Create placeholders\n",
        "year = 0\n",
        "value = 0\n",
        "\n",
        "#Check each year\n",
        "for x in df_index:\n",
        "    y = df.loc[(df['title_field'] == 'Occupied Housing Units') & (df.index == x), 'value'].item()\n",
        "    if y > value:\n",
        "        value = y\n",
        "        year = x\n",
        "    else:\n",
        "        continue\n",
        "\n",
        "#Return results\n",
        "print(f'In {year}, {value} housing units were occupied')"
      ],
      "metadata": {
        "colab": {
          "base_uri": "https://localhost:8080/"
        },
        "id": "FiRvtSklh-Tf",
        "outputId": "753476dd-7931-425f-ef35-bb734732a0eb"
      },
      "execution_count": 31,
      "outputs": [
        {
          "output_type": "stream",
          "name": "stdout",
          "text": [
            "In 2014, 46295 housing units were occupied\n"
          ]
        }
      ]
    },
    {
      "cell_type": "code",
      "source": [
        "#Part D - Harmonic Mean\n",
        "#Find number of items & Create empty list\n",
        "n = len(df_index)\n",
        "sigma = []\n",
        "\n",
        "#Find 1/each year's value and add to list\n",
        "for x in df_index:\n",
        "    total_housing = df.loc[(df['title_field'] == 'Total Housing Units') & (df.index == x), 'value'].item()\n",
        "    total_housing = 1/total_housing\n",
        "    sigma.append(total_housing)\n",
        "\n",
        "#Sum list (denominator of harmonic mean)\n",
        "harmonic_mean = sum(sigma)\n",
        "#Compute equation for harmonic mean\n",
        "harmonic_mean = n / harmonic_mean\n",
        "print(harmonic_mean)"
      ],
      "metadata": {
        "colab": {
          "base_uri": "https://localhost:8080/"
        },
        "id": "lma7nyUUjgEA",
        "outputId": "87c4bdd9-70b9-49c7-e232-57ebea701055"
      },
      "execution_count": 32,
      "outputs": [
        {
          "output_type": "stream",
          "name": "stdout",
          "text": [
            "44398.28543969185\n"
          ]
        }
      ]
    },
    {
      "cell_type": "markdown",
      "source": [
        "# **For question 6 and 7 you can take AI assitance to solve.**\n",
        "\n",
        "Make sure you follow the instructions given in class to answer these questions.\n",
        "\n",
        "\n",
        "**Important points:**\n",
        "\n",
        "1.   You must come up with at least 10 edge cases.\n",
        "2.   You should provide prompts and revised prompts given to ChatGPT.\n",
        "2.   Debug your code and write comments for each block of code\n",
        "3.   Analyzing error will not consider as edge case.\n",
        "\n",
        "Edge cases are like real life scienarios which are realated to the given question."
      ],
      "metadata": {
        "id": "DB9XtkavJmsO"
      }
    },
    {
      "cell_type": "markdown",
      "source": [
        "# Question 6 (20 points).\n",
        "Develop a advance Python program to manage inventory records for a prodcut managing company. The system needs functions for adding, deleting and changing products and basic search options. Your system should use CSV files to automate restocking and produce reports that show item values alongside category breakdowns. Manage edge cases and corrupted CSV files. Finally maintaine 50 products of different categories in inventory."
      ],
      "metadata": {
        "id": "BAfp-70D2Cay"
      }
    },
    {
      "cell_type": "code",
      "source": [
        "# Import Libraries\n",
        "import sqlite3\n",
        "import csv\n",
        "import random\n",
        "\n",
        "# Database setup\n",
        "def initialize_db():\n",
        "    conn = sqlite3.connect(\"products.db\")\n",
        "    cursor = conn.cursor()\n",
        "    cursor.execute('''\n",
        "        CREATE TABLE IF NOT EXISTS products (\n",
        "            id INTEGER PRIMARY KEY,\n",
        "            quantity INTEGER,\n",
        "            value REAL,\n",
        "            category TEXT,\n",
        "            name TEXT\n",
        "        )\n",
        "    ''')\n",
        "    conn.commit()\n",
        "    conn.close()\n",
        "\n",
        "# Function to add product\n",
        "def add_product(product_id, quantity, value, category, name):\n",
        "    conn = sqlite3.connect(\"products.db\")\n",
        "    cursor = conn.cursor()\n",
        "    cursor.execute(\"INSERT INTO products VALUES (?, ?, ?, ?, ?)\", (product_id, quantity, value, category, name))\n",
        "    conn.commit()\n",
        "    conn.close()\n",
        "\n",
        "# Function to delete product\n",
        "def delete_product(product_id):\n",
        "    conn = sqlite3.connect(\"products.db\")\n",
        "    cursor = conn.cursor()\n",
        "    cursor.execute(\"DELETE FROM products WHERE id = ?\", (product_id,))\n",
        "    conn.commit()\n",
        "    conn.close()\n",
        "\n",
        "# Function to update product\n",
        "def update_product(product_id, quantity=None, value=None, category=None, name=None):\n",
        "    conn = sqlite3.connect(\"products.db\")\n",
        "    cursor = conn.cursor()\n",
        "\n",
        "    updates = []\n",
        "    params = []\n",
        "    if quantity is not None:\n",
        "        updates.append(\"quantity = ?\")\n",
        "        params.append(quantity)\n",
        "    if value is not None:\n",
        "        updates.append(\"value = ?\")\n",
        "        params.append(value)\n",
        "    if category is not None:\n",
        "        updates.append(\"category = ?\")\n",
        "        params.append(category)\n",
        "    if name is not None:\n",
        "        updates.append(\"name = ?\")\n",
        "        params.append(name)\n",
        "\n",
        "    params.append(product_id)\n",
        "    cursor.execute(f\"UPDATE products SET {', '.join(updates)} WHERE id = ?\", params)\n",
        "    conn.commit()\n",
        "    conn.close()\n",
        "\n",
        "# Function to import from CSV\n",
        "def import_from_csv(filename):\n",
        "    conn = sqlite3.connect(\"products.db\")\n",
        "    cursor = conn.cursor()\n",
        "\n",
        "    try:\n",
        "        # Open the CSV file\n",
        "        with open(filename, \"r\") as file:\n",
        "            reader = csv.reader(file)\n",
        "            header = next(reader)  # Skip the header row\n",
        "\n",
        "            # Ensure the CSV file has the expected number of columns\n",
        "            if len(header) != 5:\n",
        "                print(\"Error: CSV file does not have the correct number of columns.\")\n",
        "                return\n",
        "\n",
        "            for row in reader:\n",
        "                try:\n",
        "                    # Ensure the row has exactly 5 elements\n",
        "                    if len(row) != 5:\n",
        "                        raise ValueError(f\"Malformed row: {row}\")\n",
        "\n",
        "                    # Convert the data types as needed\n",
        "                    product_id = int(row[0])\n",
        "                    quantity = int(row[1])\n",
        "                    value = float(row[2])\n",
        "                    category = row[3]\n",
        "                    name = row[4]\n",
        "\n",
        "                    # Check for existing product ID to update the quantity and value\n",
        "                    cursor.execute(\"SELECT * FROM products WHERE id = ?\", (product_id,))\n",
        "                    existing_product = cursor.fetchone()\n",
        "\n",
        "                    if existing_product:\n",
        "                        # Update the product's quantity and value\n",
        "                        new_quantity = existing_product[1] + quantity\n",
        "                        cursor.execute(\"UPDATE products SET quantity = ?, value = ? WHERE id = ?\",\n",
        "                                       (new_quantity, value, product_id))\n",
        "                    else:\n",
        "                        # Insert the new product\n",
        "                        cursor.execute(\"INSERT INTO products VALUES (?, ?, ?, ?, ?)\",\n",
        "                                       (product_id, quantity, value, category, name))\n",
        "                except ValueError as ve:\n",
        "                    print(f\"Skipping row due to ValueError: {ve}\")\n",
        "                except sqlite3.Error as db_error:\n",
        "                    print(f\"Database error occurred while processing row {row}: {db_error}\")\n",
        "\n",
        "        # Commit the changes and close the connection\n",
        "        conn.commit()\n",
        "    except FileNotFoundError:\n",
        "        print(f\"Error: The file '{filename}' was not found.\")\n",
        "    except csv.Error as csv_error:\n",
        "        print(f\"Error: A CSV error occurred: {csv_error}\")\n",
        "    except sqlite3.Error as db_error:\n",
        "        print(f\"Database error occurred: {db_error}\")\n",
        "    finally:\n",
        "        conn.close()\n",
        "\n",
        "# Sample food categories and names\n",
        "categories = [\"Fruits\", \"Vegetables\", \"Dairy\", \"Meat\", \"Grains\", \"Beverages\", \"Snacks\"]\n",
        "names = [\n",
        "    \"Apple\", \"Banana\", \"Carrot\", \"Cheese\", \"Chicken\", \"Chili\", \"Cucumber\", \"Donut\",\n",
        "    \"Eggplant\", \"Garlic\", \"Grapes\", \"Hamburger\", \"Hotdog\", \"Ice cream\", \"Jalapeno\",\n",
        "    \"Kiwi\", \"Lettuce\", \"Mango\", \"Noodles\", \"Olives\", \"Onion\", \"Pasta\", \"Peach\", \"Peas\",\n",
        "    \"Pepper\", \"Pineapple\", \"Potato\", \"Pumpkin\", \"Quinoa\", \"Rice\", \"Salmon\", \"Spinach\",\n",
        "    \"Squash\", \"Strawberry\", \"Tomato\", \"Tuna\", \"Watermelon\", \"Zucchini\", \"Avocado\",\n",
        "    \"Bagel\", \"Bacon\", \"Beef\", \"Berry\", \"Biscuits\", \"Blueberry\", \"Bread\", \"Broccoli\",\n",
        "    \"Brownie\", \"Butter\", \"Cabbage\", \"Cantaloupe\", \"Cereal\", \"Cherries\", \"Chocolate\",\n",
        "    \"Cinnamon\", \"Coconut\", \"Cookies\", \"Corn\", \"Crab\", \"Crackers\", \"Croissant\", \"Cucumber\",\n",
        "    \"Doughnut\", \"Eggs\", \"Feta\", \"Figs\", \"French fries\", \"Garlic bread\", \"Ginger\", \"Grapefruit\",\n",
        "    \"Gravy\", \"Ham\", \"Honey\", \"Ice tea\", \"Jelly\", \"Lamb\", \"Lemon\", \"Lobster\", \"Muffin\",\n",
        "    \"Mustard\", \"Naan\", \"Oatmeal\", \"Olive oil\", \"Orange\", \"Pancake\", \"Peanut\", \"Pine nuts\",\n",
        "    \"Popcorn\", \"Pudding\", \"Raspberry\", \"Rice cake\", \"Salad\", \"Sausage\", \"Sesame\", \"Shrimp\",\n",
        "    \"Smoothie\", \"Sourdough\", \"Spaghetti\", \"Spinach\", \"Steak\", \"Sushi\", \"Taco\", \"Tofu\",\n",
        "    \"Turkey\", \"Vanilla\", \"Waffle\", \"Watercress\", \"Yogurt\", \"Ziti\"\n",
        "]\n",
        "\n",
        "# Define the categories and food items as before\n",
        "food_categories = {\n",
        "    \"Fruits\": [\"Apple\", \"Banana\", \"Grapes\", \"Kiwi\", \"Mango\", \"Peach\", \"Pineapple\", \"Watermelon\", \"Strawberry\", \"Orange\", \"Lemon\"],\n",
        "    \"Vegetables\": [\"Carrot\", \"Cucumber\", \"Eggplant\", \"Garlic\", \"Onion\", \"Lettuce\", \"Peas\", \"Spinach\", \"Tomato\", \"Zucchini\", \"Broccoli\", \"Cabbage\", \"Potato\", \"Pumpkin\", \"Squash\"],\n",
        "    \"Dairy\": [\"Cheese\", \"Butter\", \"Milk\", \"Yogurt\", \"Cream\", \"Feta\", \"Mozzarella\", \"Cottage cheese\"],\n",
        "    \"Meat\": [\"Chicken\", \"Beef\", \"Pork\", \"Lamb\", \"Turkey\", \"Duck\", \"Bacon\", \"Sausage\", \"Salmon\", \"Tuna\", \"Shrimp\", \"Crab\", \"Lobster\"],\n",
        "    \"Grains\": [\"Rice\", \"Quinoa\", \"Oats\", \"Wheat\", \"Barley\", \"Noodles\", \"Bread\", \"Pasta\", \"Bagel\", \"Tortilla\"],\n",
        "    \"Beverages\": [\"Water\", \"Soda\", \"Juice\", \"Tea\", \"Coffee\", \"Milkshake\", \"Smoothie\", \"Wine\", \"Beer\", \"Iced tea\"],\n",
        "    \"Snacks\": [\"Chips\", \"Popcorn\", \"Cookies\", \"Crackers\", \"Nuts\", \"Granola bar\", \"Candy\", \"Chocolate\", \"Pretzels\", \"Biscuits\"]\n",
        "}\n",
        "\n",
        "# Flatten the food categories into a list of names along with their categories\n",
        "categories = list(food_categories.keys())\n",
        "names = {category: items for category, items in food_categories.items()}\n",
        "\n",
        "def generate_food_csv(filename, num_items=50):\n",
        "    used_names = set()  # Set to track globally used names\n",
        "    available_items = [(category, name) for category, names in food_categories.items() for name in names]\n",
        "\n",
        "    # Shuffle the available items to ensure random selection\n",
        "    random.shuffle(available_items)\n",
        "\n",
        "    with open(filename, \"w\", newline=\"\") as file:\n",
        "        writer = csv.writer(file)\n",
        "        writer.writerow([\"ID\", \"Quantity\", \"Value\", \"Category\", \"Name\"])\n",
        "\n",
        "        for i in range(1, num_items + 1):\n",
        "            # Ensure there's enough unique items\n",
        "            if not available_items:\n",
        "                print(f\"Not enough unique names available to generate {num_items} items.\")\n",
        "                break\n",
        "\n",
        "            item_id = i\n",
        "            quantity = random.randint(1, 100)\n",
        "            value = round(random.uniform(1, 50), 2)\n",
        "\n",
        "            # Get the next available item\n",
        "            category, name = available_items.pop()\n",
        "\n",
        "            # Add the name to the used set\n",
        "            used_names.add(name)\n",
        "\n",
        "            # Write the row to the CSV file\n",
        "            writer.writerow([item_id, quantity, value, category, name])\n",
        "\n",
        "# Function to view all products\n",
        "def view_products():\n",
        "    conn = None\n",
        "    try:\n",
        "        conn = sqlite3.connect(\"products.db\")\n",
        "        cursor = conn.cursor()\n",
        "\n",
        "        # Fetch column names\n",
        "        cursor.execute(\"PRAGMA table_info(products)\")\n",
        "        columns = [column[1] for column in cursor.fetchall()]\n",
        "\n",
        "        # Fetch all rows of products\n",
        "        cursor.execute(\"SELECT * FROM products\")\n",
        "        rows = cursor.fetchall()\n",
        "\n",
        "        # Print the column names\n",
        "        print(f\"{' | '.join(columns)}\")  # Adjust this if you need specific formatting\n",
        "\n",
        "        # Print each row of data\n",
        "        for row in rows:\n",
        "            print(f\"{' | '.join(map(str, row))}\")\n",
        "\n",
        "    except sqlite3.Error as e:\n",
        "        print(f\"Database error: {e}\")\n",
        "    finally:\n",
        "        if conn:\n",
        "            conn.close()"
      ],
      "metadata": {
        "id": "w8dE2dJb2quE"
      },
      "execution_count": 33,
      "outputs": []
    },
    {
      "cell_type": "code",
      "source": [
        "# Initialize database\n",
        "initialize_db()"
      ],
      "metadata": {
        "id": "vc_QNYQKtHy0"
      },
      "execution_count": 34,
      "outputs": []
    },
    {
      "cell_type": "code",
      "source": [
        "# Generate CSV file & Import\n",
        "generate_food_csv(\"food_items.csv\")\n",
        "import_from_csv('food_items.csv')"
      ],
      "metadata": {
        "id": "3VHU0Rd5ZprG"
      },
      "execution_count": 35,
      "outputs": []
    },
    {
      "cell_type": "code",
      "source": [
        "view_products()"
      ],
      "metadata": {
        "colab": {
          "base_uri": "https://localhost:8080/"
        },
        "id": "8rx5HAl4cegz",
        "outputId": "6b9e9bd4-2dd9-454f-a31a-693371e60206"
      },
      "execution_count": 36,
      "outputs": [
        {
          "output_type": "stream",
          "name": "stdout",
          "text": [
            "id | quantity | value | category | name\n",
            "1 | 356 | 16.53 | Dairy | Feta\n",
            "2 | 509 | 4.91 | Fruits | Strawberry\n",
            "3 | 521 | 25.69 | Vegetables | Spinach\n",
            "4 | 386 | 48.26 | Vegetables | Onion\n",
            "5 | 446 | 39.42 | Beverages | Wine\n",
            "6 | 454 | 46.5 | Fruits | Apple\n",
            "7 | 482 | 18.0 | Fruits | Strawberry\n",
            "8 | 311 | 49.94 | Dairy | Yogurt\n",
            "9 | 423 | 11.16 | Dairy | Milk\n",
            "10 | 522 | 13.41 | Vegetables | Pumpkin\n",
            "11 | 517 | 8.19 | Grains | Bagel\n",
            "12 | 434 | 12.11 | Dairy | Cottage cheese\n",
            "13 | 470 | 21.29 | Meat | Bacon\n",
            "14 | 496 | 48.55 | Dairy | Butter\n",
            "15 | 557 | 20.94 | Beverages | Wine\n",
            "16 | 441 | 1.74 | Dairy | Cottage cheese\n",
            "17 | 356 | 26.03 | Grains | Pasta\n",
            "18 | 474 | 48.15 | Grains | Rice\n",
            "19 | 505 | 40.18 | Meat | Sausage\n",
            "20 | 325 | 17.62 | Grains | Quinoa\n",
            "21 | 459 | 5.07 | Meat | Sausage\n",
            "22 | 454 | 34.19 | Snacks | Crackers\n",
            "23 | 458 | 35.2 | Beverages | Smoothie\n",
            "24 | 460 | 22.49 | Vegetables | Squash\n",
            "25 | 508 | 19.52 | Dairy | Mozzarella\n",
            "26 | 522 | 38.49 | Dairy | Cream\n",
            "27 | 393 | 7.04 | Meat | Bacon\n",
            "28 | 538 | 7.88 | Grains | Bread\n",
            "29 | 406 | 34.93 | Dairy | Cream\n",
            "30 | 457 | 25.71 | Fruits | Apple\n",
            "31 | 461 | 12.31 | Beverages | Smoothie\n",
            "32 | 551 | 9.68 | Dairy | Mozzarella\n",
            "33 | 391 | 10.8 | Fruits | Banana\n",
            "34 | 436 | 40.42 | Snacks | Chips\n",
            "35 | 596 | 31.64 | Grains | Bagel\n",
            "36 | 398 | 47.65 | Dairy | Cottage cheese\n",
            "37 | 372 | 39.69 | Beverages | Wine\n",
            "38 | 477 | 10.93 | Beverages | Tea\n",
            "39 | 488 | 25.31 | Fruits | Mango\n",
            "40 | 365 | 39.83 | Dairy | Cottage cheese\n",
            "41 | 496 | 19.47 | Meat | Lobster\n",
            "42 | 445 | 34.69 | Beverages | Iced tea\n",
            "43 | 275 | 43.11 | Meat | Chicken\n",
            "44 | 490 | 33.85 | Vegetables | Zucchini\n",
            "45 | 449 | 3.95 | Dairy | Milk\n",
            "46 | 524 | 32.12 | Grains | Noodles\n",
            "47 | 415 | 25.73 | Vegetables | Eggplant\n",
            "48 | 295 | 26.96 | Vegetables | Squash\n",
            "49 | 482 | 30.35 | Snacks | Pretzels\n",
            "50 | 494 | 36.31 | Fruits | Strawberry\n"
          ]
        }
      ]
    },
    {
      "cell_type": "markdown",
      "source": [
        "# Question 7 (20 points)\n",
        "\n",
        "Create a well desined Python program for a flight booking system. Offer core functions for adding new flights, finding trips, reserving and releasing seating space and creating performance reports. Ensure the system manages edge cases like invalid input, overbooking, and cancellations. Finally, extend the booking system by including advanced features and maintain about 50 flight in the system."
      ],
      "metadata": {
        "id": "290UJiNg2xES"
      }
    },
    {
      "cell_type": "code",
      "source": [
        "import sqlite3\n",
        "import datetime\n",
        "\n",
        "# Create a connection to the SQLite database\n",
        "conn = sqlite3.connect('flight_booking_system.db')\n",
        "\n",
        "# Create a cursor object to interact with the database\n",
        "cursor = conn.cursor()\n",
        "\n",
        "# Create the flights table (if not exists)\n",
        "cursor.execute('''\n",
        "CREATE TABLE IF NOT EXISTS flights (\n",
        "    flight_id INTEGER PRIMARY KEY AUTOINCREMENT,\n",
        "    departure_location TEXT NOT NULL,\n",
        "    arrival_location TEXT NOT NULL,\n",
        "    departure_time TEXT NOT NULL,\n",
        "    distance_traveled REAL NOT NULL,\n",
        "    time_to_arrival TEXT NOT NULL,\n",
        "    capacity INTEGER NOT NULL\n",
        ")\n",
        "''')\n",
        "\n",
        "# Create the bookings table (for managing bookings)\n",
        "cursor.execute('''\n",
        "CREATE TABLE IF NOT EXISTS bookings (\n",
        "    booking_id INTEGER PRIMARY KEY AUTOINCREMENT,\n",
        "    flight_id INTEGER NOT NULL,\n",
        "    seats_booked INTEGER NOT NULL,\n",
        "    FOREIGN KEY (flight_id) REFERENCES flights (flight_id)\n",
        ")\n",
        "''')\n",
        "\n",
        "# List of sample departure and arrival locations (cities)\n",
        "cities = [\n",
        "    'New York', 'Los Angeles', 'Chicago', 'Miami', 'San Francisco',\n",
        "    'London', 'Paris', 'Berlin', 'Madrid', 'Rome',\n",
        "    'Tokyo', 'Seoul', 'Beijing', 'Singapore', 'Sydney',\n",
        "    'Dubai', 'Mumbai', 'Bangkok', 'Dubai', 'Mexico City'\n",
        "]\n",
        "\n",
        "# Function to generate random flight durations based on the distance\n",
        "def get_flight_duration(distance):\n",
        "    # Average cruising speed for commercial jets is around 800-900 km/h\n",
        "    avg_speed = random.randint(800, 900)\n",
        "    duration = distance / avg_speed\n",
        "    hours = int(duration)\n",
        "    minutes = int((duration - hours) * 60)\n",
        "    return f\"{hours:02}:{minutes:02}:00\"\n",
        "\n",
        "# Function to add a new flight (from the previous implementation)\n",
        "def add_flight(departure_location, arrival_location, departure_time, distance_traveled, time_to_arrival, capacity):\n",
        "    cursor.execute('''\n",
        "    INSERT INTO flights (departure_location, arrival_location, departure_time, distance_traveled, time_to_arrival, capacity)\n",
        "    VALUES (?, ?, ?, ?, ?, ?)\n",
        "    ''', (departure_location, arrival_location, departure_time, distance_traveled, time_to_arrival, capacity))\n",
        "    conn.commit()\n",
        "    print(f\"Flight from {departure_location} to {arrival_location} added successfully.\")\n",
        "\n",
        "# Function to generate a random flight and add it to the database\n",
        "def generate_random_flight_and_add():\n",
        "    departure_location = random.choice(cities)\n",
        "    arrival_location = random.choice(cities)\n",
        "\n",
        "    # Ensure that the departure and arrival locations are not the same\n",
        "    while departure_location == arrival_location:\n",
        "        arrival_location = random.choice(cities)\n",
        "\n",
        "    # Random flight distance between 1000 km to 10000 km\n",
        "    distance = round(random.uniform(1000, 10000), 1)\n",
        "\n",
        "    # Calculate flight duration based on distance\n",
        "    time_to_arrival = get_flight_duration(distance)\n",
        "\n",
        "    # Random departure time within the next 30 days\n",
        "    departure_time = datetime.datetime.now() + datetime.timedelta(days=random.randint(1, 30))\n",
        "    departure_time = departure_time.strftime(\"%Y-%m-%d %H:%M:%S\")\n",
        "\n",
        "    # Random flight capacity between 100 and 300\n",
        "    capacity = random.randint(100, 300)\n",
        "\n",
        "    # Add the generated flight to the database\n",
        "    add_flight(departure_location, arrival_location, departure_time, distance, time_to_arrival, capacity)\n",
        "\n",
        "# Function to find a flight by departure and arrival locations\n",
        "def find_flight(departure_location, arrival_location):\n",
        "    cursor.execute('''\n",
        "    SELECT * FROM flights WHERE departure_location = ? AND arrival_location = ?\n",
        "    ''', (departure_location, arrival_location))\n",
        "    flights = cursor.fetchall()\n",
        "    if flights:\n",
        "        for flight in flights:\n",
        "            print(f\"Flight ID: {flight[0]}, Departure: {flight[1]}, Arrival: {flight[2]}, Departure Time: {flight[3]}, Distance: {flight[4]}, Duration: {flight[5]}, Capacity: {flight[6]}\")\n",
        "    else:\n",
        "        print(\"No flights found for the specified route.\")\n",
        "\n",
        "# Function to book seats on a flight\n",
        "def book_seats(flight_id, seats_to_book):\n",
        "    # First, find the flight by ID\n",
        "    cursor.execute('SELECT capacity FROM flights WHERE flight_id = ?', (flight_id,))\n",
        "    flight = cursor.fetchone()\n",
        "\n",
        "    if flight:\n",
        "        capacity = flight[0]\n",
        "        # Check if there are enough seats available\n",
        "        if seats_to_book <= capacity:\n",
        "            # Deduct booked seats from the flight capacity\n",
        "            new_capacity = capacity - seats_to_book\n",
        "            cursor.execute('UPDATE flights SET capacity = ? WHERE flight_id = ?', (new_capacity, flight_id))\n",
        "            # Add a booking record\n",
        "            cursor.execute('''\n",
        "            INSERT INTO bookings (flight_id, seats_booked) VALUES (?, ?)\n",
        "            ''', (flight_id, seats_to_book))\n",
        "            conn.commit()\n",
        "            print(f\"Booking successful! {seats_to_book} seats booked on flight {flight_id}.\")\n",
        "        else:\n",
        "            print(\"Not enough seats available for booking.\")\n",
        "    else:\n",
        "        print(\"Flight not found.\")\n",
        "\n",
        "def cancel_booking(booking_id):\n",
        "    # Find the booking by booking_id\n",
        "    cursor.execute('SELECT flight_id, seats_booked FROM bookings WHERE booking_id = ?', (booking_id,))\n",
        "    booking = cursor.fetchone()\n",
        "\n",
        "    if booking:\n",
        "        flight_id, seats_booked = booking\n",
        "\n",
        "        # Add the canceled seats back to the flight's available capacity\n",
        "        cursor.execute('SELECT capacity FROM flights WHERE flight_id = ?', (flight_id,))\n",
        "        flight = cursor.fetchone()\n",
        "\n",
        "        if flight:\n",
        "            current_capacity = flight[0]\n",
        "            new_capacity = current_capacity + seats_booked\n",
        "            cursor.execute('UPDATE flights SET capacity = ? WHERE flight_id = ?', (new_capacity, flight_id))\n",
        "\n",
        "            # Delete the booking record\n",
        "            cursor.execute('DELETE FROM bookings WHERE booking_id = ?', (booking_id,))\n",
        "            conn.commit()\n",
        "\n",
        "            print(f\"Booking {booking_id} canceled successfully. {seats_booked} seats returned to the flight.\")\n",
        "        else:\n",
        "            print(\"Flight not found.\")\n",
        "    else:\n",
        "        print(f\"Booking {booking_id} not found.\")\n",
        "\n",
        "def query_all_data():\n",
        "    # Query all flights data\n",
        "    cursor.execute('SELECT * FROM flights')\n",
        "    flights = cursor.fetchall()\n",
        "    print(\"\\n--- All Flights ---\")\n",
        "    if flights:\n",
        "        for flight in flights:\n",
        "            print(f\"Flight ID: {flight[0]}, Departure: {flight[1]}, Arrival: {flight[2]}, Departure Time: {flight[3]}, Distance: {flight[4]}, Duration: {flight[5]}, Capacity: {flight[6]}\")\n",
        "    else:\n",
        "        print(\"No flights found.\")\n",
        "\n",
        "    # Query all bookings data\n",
        "    cursor.execute('SELECT * FROM bookings')\n",
        "    bookings = cursor.fetchall()\n",
        "    print(\"\\n--- All Bookings ---\")\n",
        "    if bookings:\n",
        "        for booking in bookings:\n",
        "            print(f\"Booking ID: {booking[0]}, Flight ID: {booking[1]}, Seats Booked: {booking[2]}\")\n",
        "    else:\n",
        "        print(\"No bookings found.\")"
      ],
      "metadata": {
        "id": "dME5iWD53ADa"
      },
      "execution_count": 48,
      "outputs": []
    },
    {
      "cell_type": "code",
      "source": [
        "# Test functions\n",
        "add_flight('New York', 'London', '2025-02-10 18:30:00', 5570.5, '07:30:00', 200)\n",
        "add_flight('Los Angeles', 'Tokyo', '2025-02-11 23:45:00', 8800.2, '11:45:00', 250)\n",
        "add_flight('Chicago', 'Paris', '2025-02-12 08:00:00', 7200.0, '08:00:00', 180)\n",
        "\n",
        "# Find a flight\n",
        "print(\"Searching for flights from New York to London:\")\n",
        "find_flight('New York', 'London')\n",
        "\n",
        "# Book seats on a flight\n",
        "print(\"\\nBooking seats:\")\n",
        "book_seats(1, 5)  # Booking 5 seats on flight with ID 1\n",
        "book_seats(1, 100)  # Trying to book 100 seats (should fail)\n",
        "book_seats(2, 10)   # Booking 10 seats on flight with ID 2\n",
        "\n",
        "# Display all bookings (optional, for testing purposes)\n",
        "cursor.execute('SELECT * FROM bookings')\n",
        "bookings = cursor.fetchall()\n",
        "print(\"\\nCurrent Bookings:\")\n",
        "for booking in bookings:\n",
        "    print(f\"Booking ID: {booking[0]}, Flight ID: {booking[1]}, Seats Booked: {booking[2]}\")"
      ],
      "metadata": {
        "colab": {
          "base_uri": "https://localhost:8080/"
        },
        "id": "Ss6f9Q7An0rw",
        "outputId": "16937669-8009-412a-9bb2-b7e079f987cb"
      },
      "execution_count": 49,
      "outputs": [
        {
          "output_type": "stream",
          "name": "stdout",
          "text": [
            "Flight from New York to London added successfully.\n",
            "Flight from Los Angeles to Tokyo added successfully.\n",
            "Flight from Chicago to Paris added successfully.\n",
            "Searching for flights from New York to London:\n",
            "Flight ID: 1, Departure: New York, Arrival: London, Departure Time: 2025-02-10 18:30:00, Distance: 5570.5, Duration: 07:30:00, Capacity: 85\n",
            "Flight ID: 4, Departure: New York, Arrival: London, Departure Time: 2025-02-10 18:30:00, Distance: 5570.5, Duration: 07:30:00, Capacity: 200\n",
            "Flight ID: 7, Departure: New York, Arrival: London, Departure Time: 2025-02-10 18:30:00, Distance: 5570.5, Duration: 07:30:00, Capacity: 200\n",
            "Flight ID: 10, Departure: New York, Arrival: London, Departure Time: 2025-02-10 18:30:00, Distance: 5570.5, Duration: 07:30:00, Capacity: 200\n",
            "Flight ID: 13, Departure: New York, Arrival: London, Departure Time: 2025-02-10 18:30:00, Distance: 5570.5, Duration: 07:30:00, Capacity: 200\n",
            "\n",
            "Booking seats:\n",
            "Booking successful! 5 seats booked on flight 1.\n",
            "Not enough seats available for booking.\n",
            "Booking successful! 10 seats booked on flight 2.\n",
            "\n",
            "Current Bookings:\n",
            "Booking ID: 1, Flight ID: 1, Seats Booked: 5\n",
            "Booking ID: 2, Flight ID: 1, Seats Booked: 100\n",
            "Booking ID: 3, Flight ID: 2, Seats Booked: 10\n",
            "Booking ID: 4, Flight ID: 1, Seats Booked: 5\n",
            "Booking ID: 5, Flight ID: 2, Seats Booked: 10\n",
            "Booking ID: 6, Flight ID: 1, Seats Booked: 5\n",
            "Booking ID: 7, Flight ID: 2, Seats Booked: 10\n",
            "Booking ID: 8, Flight ID: 1, Seats Booked: 5\n",
            "Booking ID: 9, Flight ID: 2, Seats Booked: 10\n"
          ]
        }
      ]
    },
    {
      "cell_type": "code",
      "source": [
        "# Generate and add 50 random flights to the database\n",
        "for _ in range(50):\n",
        "    generate_random_flight_and_add()\n",
        "\n",
        "# Confirm all flights were added successfully\n",
        "print(\"\\n50 random flights have been added to the database.\")"
      ],
      "metadata": {
        "colab": {
          "base_uri": "https://localhost:8080/"
        },
        "id": "GgrvcZjJpfgR",
        "outputId": "38506dc0-5263-47f9-d94c-4846a41ceb00"
      },
      "execution_count": 50,
      "outputs": [
        {
          "output_type": "stream",
          "name": "stdout",
          "text": [
            "Flight from Berlin to Bangkok added successfully.\n",
            "Flight from Singapore to Bangkok added successfully.\n",
            "Flight from Berlin to Tokyo added successfully.\n",
            "Flight from Tokyo to Los Angeles added successfully.\n",
            "Flight from Berlin to Miami added successfully.\n",
            "Flight from Seoul to Rome added successfully.\n",
            "Flight from Dubai to Rome added successfully.\n",
            "Flight from Madrid to Dubai added successfully.\n",
            "Flight from Chicago to Berlin added successfully.\n",
            "Flight from Mumbai to Bangkok added successfully.\n",
            "Flight from Mumbai to Miami added successfully.\n",
            "Flight from London to Sydney added successfully.\n",
            "Flight from Berlin to Miami added successfully.\n",
            "Flight from Paris to Dubai added successfully.\n",
            "Flight from Singapore to Bangkok added successfully.\n",
            "Flight from Mumbai to Mexico City added successfully.\n",
            "Flight from Singapore to Chicago added successfully.\n",
            "Flight from Rome to Dubai added successfully.\n",
            "Flight from Madrid to Dubai added successfully.\n",
            "Flight from San Francisco to Seoul added successfully.\n",
            "Flight from Los Angeles to Madrid added successfully.\n",
            "Flight from Paris to San Francisco added successfully.\n",
            "Flight from San Francisco to Miami added successfully.\n",
            "Flight from Mexico City to Madrid added successfully.\n",
            "Flight from Seoul to Dubai added successfully.\n",
            "Flight from Seoul to Mumbai added successfully.\n",
            "Flight from Mexico City to Mumbai added successfully.\n",
            "Flight from Dubai to Berlin added successfully.\n",
            "Flight from Chicago to Singapore added successfully.\n",
            "Flight from Sydney to Tokyo added successfully.\n",
            "Flight from Dubai to Rome added successfully.\n",
            "Flight from Sydney to Miami added successfully.\n",
            "Flight from Sydney to Paris added successfully.\n",
            "Flight from Chicago to Rome added successfully.\n",
            "Flight from San Francisco to Mexico City added successfully.\n",
            "Flight from Madrid to Berlin added successfully.\n",
            "Flight from Sydney to Beijing added successfully.\n",
            "Flight from Bangkok to Mexico City added successfully.\n",
            "Flight from Dubai to London added successfully.\n",
            "Flight from San Francisco to Los Angeles added successfully.\n",
            "Flight from Miami to Dubai added successfully.\n",
            "Flight from Rome to Seoul added successfully.\n",
            "Flight from Beijing to Berlin added successfully.\n",
            "Flight from Bangkok to San Francisco added successfully.\n",
            "Flight from Berlin to Los Angeles added successfully.\n",
            "Flight from Singapore to Sydney added successfully.\n",
            "Flight from Paris to Dubai added successfully.\n",
            "Flight from Beijing to Los Angeles added successfully.\n",
            "Flight from New York to Mexico City added successfully.\n",
            "Flight from London to Dubai added successfully.\n",
            "\n",
            "50 random flights have been added to the database.\n"
          ]
        }
      ]
    },
    {
      "cell_type": "code",
      "source": [
        "query_all_data()"
      ],
      "metadata": {
        "colab": {
          "base_uri": "https://localhost:8080/"
        },
        "id": "W-te8188oRd3",
        "outputId": "defbeb08-bba1-45c8-bd4e-9e132349ce90"
      },
      "execution_count": 51,
      "outputs": [
        {
          "output_type": "stream",
          "name": "stdout",
          "text": [
            "\n",
            "--- All Flights ---\n",
            "Flight ID: 1, Departure: New York, Arrival: London, Departure Time: 2025-02-10 18:30:00, Distance: 5570.5, Duration: 07:30:00, Capacity: 80\n",
            "Flight ID: 2, Departure: Los Angeles, Arrival: Tokyo, Departure Time: 2025-02-11 23:45:00, Distance: 8800.2, Duration: 11:45:00, Capacity: 210\n",
            "Flight ID: 3, Departure: Chicago, Arrival: Paris, Departure Time: 2025-02-12 08:00:00, Distance: 7200.0, Duration: 08:00:00, Capacity: 180\n",
            "Flight ID: 4, Departure: New York, Arrival: London, Departure Time: 2025-02-10 18:30:00, Distance: 5570.5, Duration: 07:30:00, Capacity: 200\n",
            "Flight ID: 5, Departure: Los Angeles, Arrival: Tokyo, Departure Time: 2025-02-11 23:45:00, Distance: 8800.2, Duration: 11:45:00, Capacity: 250\n",
            "Flight ID: 6, Departure: Chicago, Arrival: Paris, Departure Time: 2025-02-12 08:00:00, Distance: 7200.0, Duration: 08:00:00, Capacity: 180\n",
            "Flight ID: 7, Departure: New York, Arrival: London, Departure Time: 2025-02-10 18:30:00, Distance: 5570.5, Duration: 07:30:00, Capacity: 200\n",
            "Flight ID: 8, Departure: Los Angeles, Arrival: Tokyo, Departure Time: 2025-02-11 23:45:00, Distance: 8800.2, Duration: 11:45:00, Capacity: 250\n",
            "Flight ID: 9, Departure: Chicago, Arrival: Paris, Departure Time: 2025-02-12 08:00:00, Distance: 7200.0, Duration: 08:00:00, Capacity: 180\n",
            "Flight ID: 10, Departure: New York, Arrival: London, Departure Time: 2025-02-10 18:30:00, Distance: 5570.5, Duration: 07:30:00, Capacity: 200\n",
            "Flight ID: 11, Departure: Los Angeles, Arrival: Tokyo, Departure Time: 2025-02-11 23:45:00, Distance: 8800.2, Duration: 11:45:00, Capacity: 250\n",
            "Flight ID: 12, Departure: Chicago, Arrival: Paris, Departure Time: 2025-02-12 08:00:00, Distance: 7200.0, Duration: 08:00:00, Capacity: 180\n",
            "Flight ID: 13, Departure: New York, Arrival: London, Departure Time: 2025-02-10 18:30:00, Distance: 5570.5, Duration: 07:30:00, Capacity: 200\n",
            "Flight ID: 14, Departure: Los Angeles, Arrival: Tokyo, Departure Time: 2025-02-11 23:45:00, Distance: 8800.2, Duration: 11:45:00, Capacity: 250\n",
            "Flight ID: 15, Departure: Chicago, Arrival: Paris, Departure Time: 2025-02-12 08:00:00, Distance: 7200.0, Duration: 08:00:00, Capacity: 180\n",
            "Flight ID: 16, Departure: Berlin, Arrival: Bangkok, Departure Time: 2025-02-06 01:50:17, Distance: 8795.9, Duration: 09:52:00, Capacity: 290\n",
            "Flight ID: 17, Departure: Singapore, Arrival: Bangkok, Departure Time: 2025-02-17 01:50:17, Distance: 3898.7, Duration: 04:52:00, Capacity: 275\n",
            "Flight ID: 18, Departure: Berlin, Arrival: Tokyo, Departure Time: 2025-02-16 01:50:17, Distance: 2483.4, Duration: 02:51:00, Capacity: 111\n",
            "Flight ID: 19, Departure: Tokyo, Arrival: Los Angeles, Departure Time: 2025-03-06 01:50:17, Distance: 9163.4, Duration: 11:24:00, Capacity: 226\n",
            "Flight ID: 20, Departure: Berlin, Arrival: Miami, Departure Time: 2025-02-16 01:50:17, Distance: 8239.0, Duration: 09:29:00, Capacity: 254\n",
            "Flight ID: 21, Departure: Seoul, Arrival: Rome, Departure Time: 2025-02-16 01:50:17, Distance: 6125.6, Duration: 07:34:00, Capacity: 217\n",
            "Flight ID: 22, Departure: Dubai, Arrival: Rome, Departure Time: 2025-02-17 01:50:18, Distance: 5264.4, Duration: 05:58:00, Capacity: 279\n",
            "Flight ID: 23, Departure: Madrid, Arrival: Dubai, Departure Time: 2025-02-23 01:50:18, Distance: 8785.3, Duration: 10:58:00, Capacity: 100\n",
            "Flight ID: 24, Departure: Chicago, Arrival: Berlin, Departure Time: 2025-02-21 01:50:18, Distance: 5177.2, Duration: 06:25:00, Capacity: 261\n",
            "Flight ID: 25, Departure: Mumbai, Arrival: Bangkok, Departure Time: 2025-02-18 01:50:18, Distance: 1422.9, Duration: 01:35:00, Capacity: 141\n",
            "Flight ID: 26, Departure: Mumbai, Arrival: Miami, Departure Time: 2025-02-09 01:50:18, Distance: 6414.2, Duration: 07:17:00, Capacity: 253\n",
            "Flight ID: 27, Departure: London, Arrival: Sydney, Departure Time: 2025-02-20 01:50:18, Distance: 6525.9, Duration: 08:03:00, Capacity: 113\n",
            "Flight ID: 28, Departure: Berlin, Arrival: Miami, Departure Time: 2025-03-02 01:50:18, Distance: 8522.7, Duration: 10:32:00, Capacity: 292\n",
            "Flight ID: 29, Departure: Paris, Arrival: Dubai, Departure Time: 2025-02-05 01:50:18, Distance: 9700.1, Duration: 10:53:00, Capacity: 166\n",
            "Flight ID: 30, Departure: Singapore, Arrival: Bangkok, Departure Time: 2025-02-16 01:50:18, Distance: 8883.0, Duration: 10:10:00, Capacity: 284\n",
            "Flight ID: 31, Departure: Mumbai, Arrival: Mexico City, Departure Time: 2025-02-16 01:50:18, Distance: 9653.9, Duration: 11:36:00, Capacity: 114\n",
            "Flight ID: 32, Departure: Singapore, Arrival: Chicago, Departure Time: 2025-02-12 01:50:18, Distance: 3439.6, Duration: 04:03:00, Capacity: 288\n",
            "Flight ID: 33, Departure: Rome, Arrival: Dubai, Departure Time: 2025-03-04 01:50:18, Distance: 4739.9, Duration: 05:39:00, Capacity: 259\n",
            "Flight ID: 34, Departure: Madrid, Arrival: Dubai, Departure Time: 2025-02-06 01:50:18, Distance: 5074.8, Duration: 06:03:00, Capacity: 192\n",
            "Flight ID: 35, Departure: San Francisco, Arrival: Seoul, Departure Time: 2025-02-07 01:50:18, Distance: 5683.6, Duration: 06:30:00, Capacity: 128\n",
            "Flight ID: 36, Departure: Los Angeles, Arrival: Madrid, Departure Time: 2025-02-05 01:50:18, Distance: 3852.7, Duration: 04:46:00, Capacity: 152\n",
            "Flight ID: 37, Departure: Paris, Arrival: San Francisco, Departure Time: 2025-02-14 01:50:18, Distance: 9839.0, Duration: 11:05:00, Capacity: 152\n",
            "Flight ID: 38, Departure: San Francisco, Arrival: Miami, Departure Time: 2025-03-01 01:50:18, Distance: 6276.9, Duration: 07:27:00, Capacity: 293\n",
            "Flight ID: 39, Departure: Mexico City, Arrival: Madrid, Departure Time: 2025-02-17 01:50:18, Distance: 4906.7, Duration: 05:29:00, Capacity: 288\n",
            "Flight ID: 40, Departure: Seoul, Arrival: Dubai, Departure Time: 2025-02-17 01:50:18, Distance: 6210.2, Duration: 07:09:00, Capacity: 103\n",
            "Flight ID: 41, Departure: Seoul, Arrival: Mumbai, Departure Time: 2025-02-14 01:50:18, Distance: 6597.1, Duration: 07:41:00, Capacity: 229\n",
            "Flight ID: 42, Departure: Mexico City, Arrival: Mumbai, Departure Time: 2025-02-08 01:50:18, Distance: 3347.7, Duration: 03:53:00, Capacity: 241\n",
            "Flight ID: 43, Departure: Dubai, Arrival: Berlin, Departure Time: 2025-02-21 01:50:18, Distance: 3402.1, Duration: 04:03:00, Capacity: 258\n",
            "Flight ID: 44, Departure: Chicago, Arrival: Singapore, Departure Time: 2025-02-19 01:50:18, Distance: 1477.9, Duration: 01:48:00, Capacity: 178\n",
            "Flight ID: 45, Departure: Sydney, Arrival: Tokyo, Departure Time: 2025-02-10 01:50:18, Distance: 5708.4, Duration: 06:20:00, Capacity: 146\n",
            "Flight ID: 46, Departure: Dubai, Arrival: Rome, Departure Time: 2025-02-17 01:50:18, Distance: 5150.4, Duration: 06:08:00, Capacity: 159\n",
            "Flight ID: 47, Departure: Sydney, Arrival: Miami, Departure Time: 2025-03-06 01:50:18, Distance: 6338.7, Duration: 07:51:00, Capacity: 271\n",
            "Flight ID: 48, Departure: Sydney, Arrival: Paris, Departure Time: 2025-02-09 01:50:18, Distance: 9735.5, Duration: 10:57:00, Capacity: 225\n",
            "Flight ID: 49, Departure: Chicago, Arrival: Rome, Departure Time: 2025-02-07 01:50:18, Distance: 8127.4, Duration: 09:58:00, Capacity: 124\n",
            "Flight ID: 50, Departure: San Francisco, Arrival: Mexico City, Departure Time: 2025-02-25 01:50:18, Distance: 8831.2, Duration: 10:04:00, Capacity: 202\n",
            "Flight ID: 51, Departure: Madrid, Arrival: Berlin, Departure Time: 2025-02-20 01:50:18, Distance: 9377.4, Duration: 11:22:00, Capacity: 186\n",
            "Flight ID: 52, Departure: Sydney, Arrival: Beijing, Departure Time: 2025-02-08 01:50:18, Distance: 4653.7, Duration: 05:43:00, Capacity: 195\n",
            "Flight ID: 53, Departure: Bangkok, Arrival: Mexico City, Departure Time: 2025-02-20 01:50:18, Distance: 1904.0, Duration: 02:11:00, Capacity: 134\n",
            "Flight ID: 54, Departure: Dubai, Arrival: London, Departure Time: 2025-02-22 01:50:18, Distance: 4057.4, Duration: 04:57:00, Capacity: 172\n",
            "Flight ID: 55, Departure: San Francisco, Arrival: Los Angeles, Departure Time: 2025-02-22 01:50:18, Distance: 2465.0, Duration: 02:45:00, Capacity: 166\n",
            "Flight ID: 56, Departure: Miami, Arrival: Dubai, Departure Time: 2025-02-20 01:50:18, Distance: 9863.2, Duration: 11:49:00, Capacity: 161\n",
            "Flight ID: 57, Departure: Rome, Arrival: Seoul, Departure Time: 2025-02-08 01:50:18, Distance: 8284.7, Duration: 10:15:00, Capacity: 124\n",
            "Flight ID: 58, Departure: Beijing, Arrival: Berlin, Departure Time: 2025-02-17 01:50:18, Distance: 3675.6, Duration: 04:06:00, Capacity: 298\n",
            "Flight ID: 59, Departure: Bangkok, Arrival: San Francisco, Departure Time: 2025-02-14 01:50:18, Distance: 4773.4, Duration: 05:26:00, Capacity: 244\n",
            "Flight ID: 60, Departure: Berlin, Arrival: Los Angeles, Departure Time: 2025-02-15 01:50:18, Distance: 6770.9, Duration: 08:20:00, Capacity: 298\n",
            "Flight ID: 61, Departure: Singapore, Arrival: Sydney, Departure Time: 2025-02-27 01:50:18, Distance: 9637.1, Duration: 11:24:00, Capacity: 145\n",
            "Flight ID: 62, Departure: Paris, Arrival: Dubai, Departure Time: 2025-02-27 01:50:18, Distance: 6898.4, Duration: 07:41:00, Capacity: 221\n",
            "Flight ID: 63, Departure: Beijing, Arrival: Los Angeles, Departure Time: 2025-02-22 01:50:18, Distance: 3995.3, Duration: 04:48:00, Capacity: 150\n",
            "Flight ID: 64, Departure: New York, Arrival: Mexico City, Departure Time: 2025-02-28 01:50:18, Distance: 4342.1, Duration: 05:24:00, Capacity: 289\n",
            "Flight ID: 65, Departure: London, Arrival: Dubai, Departure Time: 2025-03-06 01:50:18, Distance: 4350.4, Duration: 04:52:00, Capacity: 177\n",
            "\n",
            "--- All Bookings ---\n",
            "Booking ID: 1, Flight ID: 1, Seats Booked: 5\n",
            "Booking ID: 2, Flight ID: 1, Seats Booked: 100\n",
            "Booking ID: 3, Flight ID: 2, Seats Booked: 10\n",
            "Booking ID: 4, Flight ID: 1, Seats Booked: 5\n",
            "Booking ID: 5, Flight ID: 2, Seats Booked: 10\n",
            "Booking ID: 6, Flight ID: 1, Seats Booked: 5\n",
            "Booking ID: 7, Flight ID: 2, Seats Booked: 10\n",
            "Booking ID: 8, Flight ID: 1, Seats Booked: 5\n",
            "Booking ID: 9, Flight ID: 2, Seats Booked: 10\n"
          ]
        }
      ]
    },
    {
      "cell_type": "code",
      "source": [
        "# Close the connection\n",
        "conn.close()"
      ],
      "metadata": {
        "id": "SjiRFwtdpoVM"
      },
      "execution_count": 52,
      "outputs": []
    },
    {
      "cell_type": "markdown",
      "source": [
        "# Mandatory Question\n",
        "\n",
        "Provide your thoughts on the assignment. What did you find challenging, and what aspects did you enjoy? Your opinion on the provided time to complete the assignment. Share any suggestions for improvement. Your feedback will be valuable for enhancing the learning experience."
      ],
      "metadata": {
        "id": "q8BFCvWp32cf"
      }
    },
    {
      "cell_type": "code",
      "source": [
        "# Write your response below\n",
        "'''\n",
        "I found some of the assignments challenging like question 4 were you were required to analyze\n",
        "text for a mathmatical equation. I have more experience working with databases and using statements\n",
        "to evaluate things, so writing NLP functions using reg ex and translating that into something the computer\n",
        "can process was very difficult.\n",
        "\n",
        "I also do not have a lot of experience with writing loops or functions, and would have to fumble through\n",
        "creating it line by line, and doing the tedious part of writing the same code over, before I could realize how\n",
        "the math was processing, then try to simplify it down. So there was a lot of iterating over things, having to write\n",
        "out test scenarios to ensure the data was being captured how I intended and that I could operate on it, before\n",
        "actually condensing things down.\n",
        "\n",
        "The aspects I enjoyed was working through each question and iterating over it, refining my answer each time.\n",
        "The questions were difficult, but after each one I felt a sense of accomplishment because I had created an\n",
        "advanced function, or something I thought would be extremely difficult just reading the question. The same\n",
        "applies for the Chat GPT questions. I do not have a lot of experience writing SQL in python for creating &\n",
        "querying databases, so it was interesting to see how that was done. While the questions requiring ChatGPT were\n",
        "fun to work throught they were also a little overwhelming, and it feels like I could spend hours trying to re-work\n",
        "and refine the functions, random data generation, and edge-cases.\n",
        "'''"
      ],
      "metadata": {
        "id": "_e557s2w4BpK"
      },
      "execution_count": 38,
      "outputs": []
    }
  ],
  "metadata": {
    "colab": {
      "provenance": [],
      "include_colab_link": true
    },
    "kernelspec": {
      "display_name": "Python 3 (ipykernel)",
      "language": "python",
      "name": "python3"
    },
    "language_info": {
      "codemirror_mode": {
        "name": "ipython",
        "version": 3
      },
      "file_extension": ".py",
      "mimetype": "text/x-python",
      "name": "python",
      "nbconvert_exporter": "python",
      "pygments_lexer": "ipython3",
      "version": "3.9.12"
    }
  },
  "nbformat": 4,
  "nbformat_minor": 0
}