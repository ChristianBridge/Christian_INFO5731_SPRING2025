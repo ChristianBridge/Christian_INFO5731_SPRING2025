{
  "cells": [
    {
      "cell_type": "markdown",
      "metadata": {
        "id": "view-in-github",
        "colab_type": "text"
      },
      "source": [
        "<a href=\"https://colab.research.google.com/github/ChristianBridge/Christian_INFO5731_SPRING2025/blob/main/Bridge_Christian_Assignment_04.ipynb\" target=\"_parent\"><img src=\"https://colab.research.google.com/assets/colab-badge.svg\" alt=\"Open In Colab\"/></a>"
      ]
    },
    {
      "cell_type": "markdown",
      "metadata": {
        "id": "VdRwkJBn70nX"
      },
      "source": [
        "# **INFO5731 Assignment: 4**\n",
        "\n",
        "**This exercise will provide a valuable learning experience in working with text data and extracting features using various topic modeling algorithms. Key concepts such as Latent Dirichlet Allocation (LDA), Latent Semantic Analysis (LSA) and BERTopic.**"
      ]
    },
    {
      "cell_type": "markdown",
      "source": [
        "\n",
        "\n",
        "**Expectations**:\n",
        "*   Students are expected to complete the exercise during lecture period to meet the active participation criteria of the course.\n",
        "*   Use the provided .*ipynb* document to write your code & respond to the questions. Avoid generating a new file.\n",
        "*   Write complete answers and run all the cells before submission.\n",
        "*   Make sure the submission is \"clean\"; *i.e.*, no unnecessary code cells.\n",
        "*   Once finished, allow shared rights from top right corner (*see Canvas for details*).\n",
        "\n",
        "**Total points**: 100\n",
        "\n",
        "\n",
        "NOTE: The output should be presented well to get **full points**\n",
        "\n",
        "**Late submissions will have a penalty of 10% of the marks for each day of late submission, and no requests will be answered. Manage your time accordingly.**\n"
      ],
      "metadata": {
        "id": "TU-pLW33lpcS"
      }
    },
    {
      "cell_type": "markdown",
      "source": [
        "## Troubleshooting Numpy & Gensim versions"
      ],
      "metadata": {
        "id": "oPuFI5A0TCYM"
      }
    },
    {
      "cell_type": "code",
      "source": [
        "#Check current version of python, 3.11.x is okay\n",
        "!python --version"
      ],
      "metadata": {
        "colab": {
          "base_uri": "https://localhost:8080/"
        },
        "id": "a64q03ELO3Ve",
        "outputId": "8c0be1ab-c29b-4aa0-d071-6be2bf396976"
      },
      "execution_count": 6,
      "outputs": [
        {
          "output_type": "stream",
          "name": "stdout",
          "text": [
            "Python 3.11.11\n"
          ]
        }
      ]
    },
    {
      "cell_type": "code",
      "source": [
        "#The following libraries appear to be tethered to a version of numpy greater\n",
        "#than 1.25, however we need 1.25, so we will uninstall these\n",
        "#'''\n",
        "!pip uninstall treescope -y\n",
        "!pip uninstall tensorflow -y\n",
        "!pip uninstall blosc2 -y\n",
        "!pip uninstall dopamine-rl -y\n",
        "!pip uninstall flax -y\n",
        "!pip uninstall tables -y\n",
        "#'''"
      ],
      "metadata": {
        "colab": {
          "base_uri": "https://localhost:8080/"
        },
        "id": "2KBZExUTQfvh",
        "outputId": "d436d835-fe5f-46c6-d975-9e596707d7eb"
      },
      "execution_count": 7,
      "outputs": [
        {
          "output_type": "stream",
          "name": "stdout",
          "text": [
            "Found existing installation: treescope 0.1.9\n",
            "Uninstalling treescope-0.1.9:\n",
            "  Successfully uninstalled treescope-0.1.9\n",
            "Found existing installation: tensorflow 2.18.0\n",
            "Uninstalling tensorflow-2.18.0:\n",
            "  Successfully uninstalled tensorflow-2.18.0\n",
            "Found existing installation: blosc2 3.2.1\n",
            "Uninstalling blosc2-3.2.1:\n",
            "  Successfully uninstalled blosc2-3.2.1\n",
            "Found existing installation: dopamine_rl 4.1.2\n",
            "Uninstalling dopamine_rl-4.1.2:\n",
            "  Successfully uninstalled dopamine_rl-4.1.2\n",
            "Found existing installation: flax 0.10.5\n",
            "Uninstalling flax-0.10.5:\n",
            "  Successfully uninstalled flax-0.10.5\n",
            "Found existing installation: tables 3.10.2\n",
            "Uninstalling tables-3.10.2:\n",
            "  Successfully uninstalled tables-3.10.2\n"
          ]
        }
      ]
    },
    {
      "cell_type": "code",
      "source": [
        "#Force our numpy version to be 1.25 which is compatible with gensim\n",
        "!pip install --force-reinstall numpy==1.25.0"
      ],
      "metadata": {
        "colab": {
          "base_uri": "https://localhost:8080/",
          "height": 357
        },
        "id": "xpVdCeSyQP3W",
        "outputId": "e5002cc9-4f48-44f1-903d-c99f7076f0ce"
      },
      "execution_count": 1,
      "outputs": [
        {
          "output_type": "stream",
          "name": "stdout",
          "text": [
            "Collecting numpy==1.25.0\n",
            "  Downloading numpy-1.25.0-cp311-cp311-manylinux_2_17_x86_64.manylinux2014_x86_64.whl.metadata (5.6 kB)\n",
            "Downloading numpy-1.25.0-cp311-cp311-manylinux_2_17_x86_64.manylinux2014_x86_64.whl (17.6 MB)\n",
            "\u001b[2K   \u001b[90m━━━━━━━━━━━━━━━━━━━━━━━━━━━━━━━━━━━━━━━━\u001b[0m \u001b[32m17.6/17.6 MB\u001b[0m \u001b[31m37.0 MB/s\u001b[0m eta \u001b[36m0:00:00\u001b[0m\n",
            "\u001b[?25hInstalling collected packages: numpy\n",
            "  Attempting uninstall: numpy\n",
            "    Found existing installation: numpy 2.0.2\n",
            "    Uninstalling numpy-2.0.2:\n",
            "      Successfully uninstalled numpy-2.0.2\n",
            "\u001b[31mERROR: pip's dependency resolver does not currently take into account all the packages that are installed. This behaviour is the source of the following dependency conflicts.\n",
            "treescope 0.1.9 requires numpy>=1.25.2, but you have numpy 1.25.0 which is incompatible.\n",
            "tensorflow 2.18.0 requires numpy<2.1.0,>=1.26.0, but you have numpy 1.25.0 which is incompatible.\n",
            "blosc2 3.2.1 requires numpy>=1.26, but you have numpy 1.25.0 which is incompatible.\u001b[0m\u001b[31m\n",
            "\u001b[0mSuccessfully installed numpy-1.25.0\n"
          ]
        },
        {
          "output_type": "display_data",
          "data": {
            "application/vnd.colab-display-data+json": {
              "pip_warning": {
                "packages": [
                  "numpy"
                ]
              },
              "id": "82521139e8a44948952c4040179889b8"
            }
          },
          "metadata": {}
        }
      ]
    },
    {
      "cell_type": "code",
      "source": [
        "#Install gensim after numpy\n",
        "!pip install gensim -q"
      ],
      "metadata": {
        "colab": {
          "base_uri": "https://localhost:8080/"
        },
        "id": "ateCQ-5JMoiI",
        "outputId": "45a5c8ea-4a1a-4971-8cd9-11a30ae007e1"
      },
      "execution_count": 1,
      "outputs": [
        {
          "output_type": "stream",
          "name": "stdout",
          "text": [
            "\u001b[2K     \u001b[90m━━━━━━━━━━━━━━━━━━━━━━━━━━━━━━━━━━━━━━━━\u001b[0m \u001b[32m60.6/60.6 kB\u001b[0m \u001b[31m1.5 MB/s\u001b[0m eta \u001b[36m0:00:00\u001b[0m\n",
            "\u001b[2K   \u001b[90m━━━━━━━━━━━━━━━━━━━━━━━━━━━━━━━━━━━━━━━━\u001b[0m \u001b[32m26.7/26.7 MB\u001b[0m \u001b[31m31.1 MB/s\u001b[0m eta \u001b[36m0:00:00\u001b[0m\n",
            "\u001b[2K   \u001b[90m━━━━━━━━━━━━━━━━━━━━━━━━━━━━━━━━━━━━━━━━\u001b[0m \u001b[32m38.6/38.6 MB\u001b[0m \u001b[31m11.4 MB/s\u001b[0m eta \u001b[36m0:00:00\u001b[0m\n",
            "\u001b[?25h"
          ]
        }
      ]
    },
    {
      "cell_type": "code",
      "source": [
        "#Install LDA Visualizer\n",
        "!pip install pyLDAvis -q"
      ],
      "metadata": {
        "colab": {
          "base_uri": "https://localhost:8080/"
        },
        "id": "USymiNqlVXWn",
        "outputId": "06bd1ad0-17b0-4fd4-8192-97458b3758d0"
      },
      "execution_count": 2,
      "outputs": [
        {
          "output_type": "stream",
          "name": "stdout",
          "text": [
            "\u001b[?25l   \u001b[90m━━━━━━━━━━━━━━━━━━━━━━━━━━━━━━━━━━━━━━━━\u001b[0m \u001b[32m0.0/2.6 MB\u001b[0m \u001b[31m?\u001b[0m eta \u001b[36m-:--:--\u001b[0m\r\u001b[2K   \u001b[91m━━\u001b[0m\u001b[90m╺\u001b[0m\u001b[90m━━━━━━━━━━━━━━━━━━━━━━━━━━━━━━━━━━━━━\u001b[0m \u001b[32m0.2/2.6 MB\u001b[0m \u001b[31m4.4 MB/s\u001b[0m eta \u001b[36m0:00:01\u001b[0m\r\u001b[2K   \u001b[91m━━━━━━━━━━━━━━━━━\u001b[0m\u001b[90m╺\u001b[0m\u001b[90m━━━━━━━━━━━━━━━━━━━━━━\u001b[0m \u001b[32m1.1/2.6 MB\u001b[0m \u001b[31m16.4 MB/s\u001b[0m eta \u001b[36m0:00:01\u001b[0m\r\u001b[2K   \u001b[91m━━━━━━━━━━━━━━━━━━━━━━━━━━━\u001b[0m\u001b[91m╸\u001b[0m\u001b[90m━━━━━━━━━━━━\u001b[0m \u001b[32m1.8/2.6 MB\u001b[0m \u001b[31m16.2 MB/s\u001b[0m eta \u001b[36m0:00:01\u001b[0m\r\u001b[2K   \u001b[91m━━━━━━━━━━━━━━━━━━━━━━━━━━━━━━━━━━━━━━━\u001b[0m\u001b[91m╸\u001b[0m \u001b[32m2.6/2.6 MB\u001b[0m \u001b[31m19.8 MB/s\u001b[0m eta \u001b[36m0:00:01\u001b[0m\r\u001b[2K   \u001b[90m━━━━━━━━━━━━━━━━━━━━━━━━━━━━━━━━━━━━━━━━\u001b[0m \u001b[32m2.6/2.6 MB\u001b[0m \u001b[31m15.8 MB/s\u001b[0m eta \u001b[36m0:00:00\u001b[0m\n",
            "\u001b[?25h"
          ]
        }
      ]
    },
    {
      "cell_type": "code",
      "source": [
        "!pip install bertopic -q"
      ],
      "metadata": {
        "colab": {
          "base_uri": "https://localhost:8080/"
        },
        "id": "-tmuzB2MrhFQ",
        "outputId": "0a20aeae-e5db-4cc3-b272-9c07df074d25"
      },
      "execution_count": 41,
      "outputs": [
        {
          "output_type": "stream",
          "name": "stdout",
          "text": [
            "Collecting bertopic\n",
            "  Downloading bertopic-0.17.0-py3-none-any.whl.metadata (23 kB)\n",
            "Requirement already satisfied: hdbscan>=0.8.29 in /usr/local/lib/python3.11/dist-packages (from bertopic) (0.8.40)\n",
            "Requirement already satisfied: numpy>=1.20.0 in /usr/local/lib/python3.11/dist-packages (from bertopic) (1.25.0)\n",
            "Requirement already satisfied: pandas>=1.1.5 in /usr/local/lib/python3.11/dist-packages (from bertopic) (2.2.2)\n",
            "Requirement already satisfied: plotly>=4.7.0 in /usr/local/lib/python3.11/dist-packages (from bertopic) (5.24.1)\n",
            "Requirement already satisfied: scikit-learn>=1.0 in /usr/local/lib/python3.11/dist-packages (from bertopic) (1.6.1)\n",
            "Requirement already satisfied: sentence-transformers>=0.4.1 in /usr/local/lib/python3.11/dist-packages (from bertopic) (3.4.1)\n",
            "Requirement already satisfied: tqdm>=4.41.1 in /usr/local/lib/python3.11/dist-packages (from bertopic) (4.67.1)\n",
            "Requirement already satisfied: umap-learn>=0.5.0 in /usr/local/lib/python3.11/dist-packages (from bertopic) (0.5.7)\n",
            "Requirement already satisfied: scipy>=1.0 in /usr/local/lib/python3.11/dist-packages (from hdbscan>=0.8.29->bertopic) (1.13.1)\n",
            "Requirement already satisfied: joblib>=1.0 in /usr/local/lib/python3.11/dist-packages (from hdbscan>=0.8.29->bertopic) (1.4.2)\n",
            "Requirement already satisfied: python-dateutil>=2.8.2 in /usr/local/lib/python3.11/dist-packages (from pandas>=1.1.5->bertopic) (2.8.2)\n",
            "Requirement already satisfied: pytz>=2020.1 in /usr/local/lib/python3.11/dist-packages (from pandas>=1.1.5->bertopic) (2025.2)\n",
            "Requirement already satisfied: tzdata>=2022.7 in /usr/local/lib/python3.11/dist-packages (from pandas>=1.1.5->bertopic) (2025.2)\n",
            "Requirement already satisfied: tenacity>=6.2.0 in /usr/local/lib/python3.11/dist-packages (from plotly>=4.7.0->bertopic) (9.1.2)\n",
            "Requirement already satisfied: packaging in /usr/local/lib/python3.11/dist-packages (from plotly>=4.7.0->bertopic) (24.2)\n",
            "Requirement already satisfied: threadpoolctl>=3.1.0 in /usr/local/lib/python3.11/dist-packages (from scikit-learn>=1.0->bertopic) (3.6.0)\n",
            "Requirement already satisfied: transformers<5.0.0,>=4.41.0 in /usr/local/lib/python3.11/dist-packages (from sentence-transformers>=0.4.1->bertopic) (4.50.3)\n",
            "Requirement already satisfied: torch>=1.11.0 in /usr/local/lib/python3.11/dist-packages (from sentence-transformers>=0.4.1->bertopic) (2.6.0+cu124)\n",
            "Requirement already satisfied: huggingface-hub>=0.20.0 in /usr/local/lib/python3.11/dist-packages (from sentence-transformers>=0.4.1->bertopic) (0.30.1)\n",
            "Requirement already satisfied: Pillow in /usr/local/lib/python3.11/dist-packages (from sentence-transformers>=0.4.1->bertopic) (11.1.0)\n",
            "Requirement already satisfied: numba>=0.51.2 in /usr/local/lib/python3.11/dist-packages (from umap-learn>=0.5.0->bertopic) (0.60.0)\n",
            "Requirement already satisfied: pynndescent>=0.5 in /usr/local/lib/python3.11/dist-packages (from umap-learn>=0.5.0->bertopic) (0.5.13)\n",
            "Requirement already satisfied: filelock in /usr/local/lib/python3.11/dist-packages (from huggingface-hub>=0.20.0->sentence-transformers>=0.4.1->bertopic) (3.18.0)\n",
            "Requirement already satisfied: fsspec>=2023.5.0 in /usr/local/lib/python3.11/dist-packages (from huggingface-hub>=0.20.0->sentence-transformers>=0.4.1->bertopic) (2025.3.2)\n",
            "Requirement already satisfied: pyyaml>=5.1 in /usr/local/lib/python3.11/dist-packages (from huggingface-hub>=0.20.0->sentence-transformers>=0.4.1->bertopic) (6.0.2)\n",
            "Requirement already satisfied: requests in /usr/local/lib/python3.11/dist-packages (from huggingface-hub>=0.20.0->sentence-transformers>=0.4.1->bertopic) (2.32.3)\n",
            "Requirement already satisfied: typing-extensions>=3.7.4.3 in /usr/local/lib/python3.11/dist-packages (from huggingface-hub>=0.20.0->sentence-transformers>=0.4.1->bertopic) (4.13.1)\n",
            "Requirement already satisfied: llvmlite<0.44,>=0.43.0dev0 in /usr/local/lib/python3.11/dist-packages (from numba>=0.51.2->umap-learn>=0.5.0->bertopic) (0.43.0)\n",
            "Requirement already satisfied: six>=1.5 in /usr/local/lib/python3.11/dist-packages (from python-dateutil>=2.8.2->pandas>=1.1.5->bertopic) (1.17.0)\n",
            "Requirement already satisfied: networkx in /usr/local/lib/python3.11/dist-packages (from torch>=1.11.0->sentence-transformers>=0.4.1->bertopic) (3.4.2)\n",
            "Requirement already satisfied: jinja2 in /usr/local/lib/python3.11/dist-packages (from torch>=1.11.0->sentence-transformers>=0.4.1->bertopic) (3.1.6)\n",
            "Collecting nvidia-cuda-nvrtc-cu12==12.4.127 (from torch>=1.11.0->sentence-transformers>=0.4.1->bertopic)\n",
            "  Downloading nvidia_cuda_nvrtc_cu12-12.4.127-py3-none-manylinux2014_x86_64.whl.metadata (1.5 kB)\n",
            "Collecting nvidia-cuda-runtime-cu12==12.4.127 (from torch>=1.11.0->sentence-transformers>=0.4.1->bertopic)\n",
            "  Downloading nvidia_cuda_runtime_cu12-12.4.127-py3-none-manylinux2014_x86_64.whl.metadata (1.5 kB)\n",
            "Collecting nvidia-cuda-cupti-cu12==12.4.127 (from torch>=1.11.0->sentence-transformers>=0.4.1->bertopic)\n",
            "  Downloading nvidia_cuda_cupti_cu12-12.4.127-py3-none-manylinux2014_x86_64.whl.metadata (1.6 kB)\n",
            "Collecting nvidia-cudnn-cu12==9.1.0.70 (from torch>=1.11.0->sentence-transformers>=0.4.1->bertopic)\n",
            "  Downloading nvidia_cudnn_cu12-9.1.0.70-py3-none-manylinux2014_x86_64.whl.metadata (1.6 kB)\n",
            "Collecting nvidia-cublas-cu12==12.4.5.8 (from torch>=1.11.0->sentence-transformers>=0.4.1->bertopic)\n",
            "  Downloading nvidia_cublas_cu12-12.4.5.8-py3-none-manylinux2014_x86_64.whl.metadata (1.5 kB)\n",
            "Collecting nvidia-cufft-cu12==11.2.1.3 (from torch>=1.11.0->sentence-transformers>=0.4.1->bertopic)\n",
            "  Downloading nvidia_cufft_cu12-11.2.1.3-py3-none-manylinux2014_x86_64.whl.metadata (1.5 kB)\n",
            "Collecting nvidia-curand-cu12==10.3.5.147 (from torch>=1.11.0->sentence-transformers>=0.4.1->bertopic)\n",
            "  Downloading nvidia_curand_cu12-10.3.5.147-py3-none-manylinux2014_x86_64.whl.metadata (1.5 kB)\n",
            "Collecting nvidia-cusolver-cu12==11.6.1.9 (from torch>=1.11.0->sentence-transformers>=0.4.1->bertopic)\n",
            "  Downloading nvidia_cusolver_cu12-11.6.1.9-py3-none-manylinux2014_x86_64.whl.metadata (1.6 kB)\n",
            "Collecting nvidia-cusparse-cu12==12.3.1.170 (from torch>=1.11.0->sentence-transformers>=0.4.1->bertopic)\n",
            "  Downloading nvidia_cusparse_cu12-12.3.1.170-py3-none-manylinux2014_x86_64.whl.metadata (1.6 kB)\n",
            "Requirement already satisfied: nvidia-cusparselt-cu12==0.6.2 in /usr/local/lib/python3.11/dist-packages (from torch>=1.11.0->sentence-transformers>=0.4.1->bertopic) (0.6.2)\n",
            "Requirement already satisfied: nvidia-nccl-cu12==2.21.5 in /usr/local/lib/python3.11/dist-packages (from torch>=1.11.0->sentence-transformers>=0.4.1->bertopic) (2.21.5)\n",
            "Requirement already satisfied: nvidia-nvtx-cu12==12.4.127 in /usr/local/lib/python3.11/dist-packages (from torch>=1.11.0->sentence-transformers>=0.4.1->bertopic) (12.4.127)\n",
            "Collecting nvidia-nvjitlink-cu12==12.4.127 (from torch>=1.11.0->sentence-transformers>=0.4.1->bertopic)\n",
            "  Downloading nvidia_nvjitlink_cu12-12.4.127-py3-none-manylinux2014_x86_64.whl.metadata (1.5 kB)\n",
            "Requirement already satisfied: triton==3.2.0 in /usr/local/lib/python3.11/dist-packages (from torch>=1.11.0->sentence-transformers>=0.4.1->bertopic) (3.2.0)\n",
            "Requirement already satisfied: sympy==1.13.1 in /usr/local/lib/python3.11/dist-packages (from torch>=1.11.0->sentence-transformers>=0.4.1->bertopic) (1.13.1)\n",
            "Requirement already satisfied: mpmath<1.4,>=1.1.0 in /usr/local/lib/python3.11/dist-packages (from sympy==1.13.1->torch>=1.11.0->sentence-transformers>=0.4.1->bertopic) (1.3.0)\n",
            "Requirement already satisfied: regex!=2019.12.17 in /usr/local/lib/python3.11/dist-packages (from transformers<5.0.0,>=4.41.0->sentence-transformers>=0.4.1->bertopic) (2024.11.6)\n",
            "Requirement already satisfied: tokenizers<0.22,>=0.21 in /usr/local/lib/python3.11/dist-packages (from transformers<5.0.0,>=4.41.0->sentence-transformers>=0.4.1->bertopic) (0.21.1)\n",
            "Requirement already satisfied: safetensors>=0.4.3 in /usr/local/lib/python3.11/dist-packages (from transformers<5.0.0,>=4.41.0->sentence-transformers>=0.4.1->bertopic) (0.5.3)\n",
            "Requirement already satisfied: MarkupSafe>=2.0 in /usr/local/lib/python3.11/dist-packages (from jinja2->torch>=1.11.0->sentence-transformers>=0.4.1->bertopic) (3.0.2)\n",
            "Requirement already satisfied: charset-normalizer<4,>=2 in /usr/local/lib/python3.11/dist-packages (from requests->huggingface-hub>=0.20.0->sentence-transformers>=0.4.1->bertopic) (3.4.1)\n",
            "Requirement already satisfied: idna<4,>=2.5 in /usr/local/lib/python3.11/dist-packages (from requests->huggingface-hub>=0.20.0->sentence-transformers>=0.4.1->bertopic) (3.10)\n",
            "Requirement already satisfied: urllib3<3,>=1.21.1 in /usr/local/lib/python3.11/dist-packages (from requests->huggingface-hub>=0.20.0->sentence-transformers>=0.4.1->bertopic) (2.3.0)\n",
            "Requirement already satisfied: certifi>=2017.4.17 in /usr/local/lib/python3.11/dist-packages (from requests->huggingface-hub>=0.20.0->sentence-transformers>=0.4.1->bertopic) (2025.1.31)\n",
            "Downloading bertopic-0.17.0-py3-none-any.whl (150 kB)\n",
            "\u001b[2K   \u001b[90m━━━━━━━━━━━━━━━━━━━━━━━━━━━━━━━━━━━━━━━━\u001b[0m \u001b[32m150.6/150.6 kB\u001b[0m \u001b[31m7.4 MB/s\u001b[0m eta \u001b[36m0:00:00\u001b[0m\n",
            "\u001b[?25hDownloading nvidia_cublas_cu12-12.4.5.8-py3-none-manylinux2014_x86_64.whl (363.4 MB)\n",
            "\u001b[2K   \u001b[90m━━━━━━━━━━━━━━━━━━━━━━━━━━━━━━━━━━━━━━━━\u001b[0m \u001b[32m363.4/363.4 MB\u001b[0m \u001b[31m3.8 MB/s\u001b[0m eta \u001b[36m0:00:00\u001b[0m\n",
            "\u001b[?25hDownloading nvidia_cuda_cupti_cu12-12.4.127-py3-none-manylinux2014_x86_64.whl (13.8 MB)\n",
            "\u001b[2K   \u001b[90m━━━━━━━━━━━━━━━━━━━━━━━━━━━━━━━━━━━━━━━━\u001b[0m \u001b[32m13.8/13.8 MB\u001b[0m \u001b[31m54.7 MB/s\u001b[0m eta \u001b[36m0:00:00\u001b[0m\n",
            "\u001b[?25hDownloading nvidia_cuda_nvrtc_cu12-12.4.127-py3-none-manylinux2014_x86_64.whl (24.6 MB)\n",
            "\u001b[2K   \u001b[90m━━━━━━━━━━━━━━━━━━━━━━━━━━━━━━━━━━━━━━━━\u001b[0m \u001b[32m24.6/24.6 MB\u001b[0m \u001b[31m34.7 MB/s\u001b[0m eta \u001b[36m0:00:00\u001b[0m\n",
            "\u001b[?25hDownloading nvidia_cuda_runtime_cu12-12.4.127-py3-none-manylinux2014_x86_64.whl (883 kB)\n",
            "\u001b[2K   \u001b[90m━━━━━━━━━━━━━━━━━━━━━━━━━━━━━━━━━━━━━━━━\u001b[0m \u001b[32m883.7/883.7 kB\u001b[0m \u001b[31m44.4 MB/s\u001b[0m eta \u001b[36m0:00:00\u001b[0m\n",
            "\u001b[?25hDownloading nvidia_cudnn_cu12-9.1.0.70-py3-none-manylinux2014_x86_64.whl (664.8 MB)\n",
            "\u001b[2K   \u001b[90m━━━━━━━━━━━━━━━━━━━━━━━━━━━━━━━━━━━━━━━━\u001b[0m \u001b[32m664.8/664.8 MB\u001b[0m \u001b[31m846.0 kB/s\u001b[0m eta \u001b[36m0:00:00\u001b[0m\n",
            "\u001b[?25hDownloading nvidia_cufft_cu12-11.2.1.3-py3-none-manylinux2014_x86_64.whl (211.5 MB)\n",
            "\u001b[2K   \u001b[90m━━━━━━━━━━━━━━━━━━━━━━━━━━━━━━━━━━━━━━━━\u001b[0m \u001b[32m211.5/211.5 MB\u001b[0m \u001b[31m6.4 MB/s\u001b[0m eta \u001b[36m0:00:00\u001b[0m\n",
            "\u001b[?25hDownloading nvidia_curand_cu12-10.3.5.147-py3-none-manylinux2014_x86_64.whl (56.3 MB)\n",
            "\u001b[2K   \u001b[90m━━━━━━━━━━━━━━━━━━━━━━━━━━━━━━━━━━━━━━━━\u001b[0m \u001b[32m56.3/56.3 MB\u001b[0m \u001b[31m13.4 MB/s\u001b[0m eta \u001b[36m0:00:00\u001b[0m\n",
            "\u001b[?25hDownloading nvidia_cusolver_cu12-11.6.1.9-py3-none-manylinux2014_x86_64.whl (127.9 MB)\n",
            "\u001b[2K   \u001b[90m━━━━━━━━━━━━━━━━━━━━━━━━━━━━━━━━━━━━━━━━\u001b[0m \u001b[32m127.9/127.9 MB\u001b[0m \u001b[31m7.8 MB/s\u001b[0m eta \u001b[36m0:00:00\u001b[0m\n",
            "\u001b[?25hDownloading nvidia_cusparse_cu12-12.3.1.170-py3-none-manylinux2014_x86_64.whl (207.5 MB)\n",
            "\u001b[2K   \u001b[90m━━━━━━━━━━━━━━━━━━━━━━━━━━━━━━━━━━━━━━━━\u001b[0m \u001b[32m207.5/207.5 MB\u001b[0m \u001b[31m6.2 MB/s\u001b[0m eta \u001b[36m0:00:00\u001b[0m\n",
            "\u001b[?25hDownloading nvidia_nvjitlink_cu12-12.4.127-py3-none-manylinux2014_x86_64.whl (21.1 MB)\n",
            "\u001b[2K   \u001b[90m━━━━━━━━━━━━━━━━━━━━━━━━━━━━━━━━━━━━━━━━\u001b[0m \u001b[32m21.1/21.1 MB\u001b[0m \u001b[31m48.9 MB/s\u001b[0m eta \u001b[36m0:00:00\u001b[0m\n",
            "\u001b[?25hInstalling collected packages: nvidia-nvjitlink-cu12, nvidia-curand-cu12, nvidia-cufft-cu12, nvidia-cuda-runtime-cu12, nvidia-cuda-nvrtc-cu12, nvidia-cuda-cupti-cu12, nvidia-cublas-cu12, nvidia-cusparse-cu12, nvidia-cudnn-cu12, nvidia-cusolver-cu12, bertopic\n",
            "  Attempting uninstall: nvidia-nvjitlink-cu12\n",
            "    Found existing installation: nvidia-nvjitlink-cu12 12.5.82\n",
            "    Uninstalling nvidia-nvjitlink-cu12-12.5.82:\n",
            "      Successfully uninstalled nvidia-nvjitlink-cu12-12.5.82\n",
            "  Attempting uninstall: nvidia-curand-cu12\n",
            "    Found existing installation: nvidia-curand-cu12 10.3.6.82\n",
            "    Uninstalling nvidia-curand-cu12-10.3.6.82:\n",
            "      Successfully uninstalled nvidia-curand-cu12-10.3.6.82\n",
            "  Attempting uninstall: nvidia-cufft-cu12\n",
            "    Found existing installation: nvidia-cufft-cu12 11.2.3.61\n",
            "    Uninstalling nvidia-cufft-cu12-11.2.3.61:\n",
            "      Successfully uninstalled nvidia-cufft-cu12-11.2.3.61\n",
            "  Attempting uninstall: nvidia-cuda-runtime-cu12\n",
            "    Found existing installation: nvidia-cuda-runtime-cu12 12.5.82\n",
            "    Uninstalling nvidia-cuda-runtime-cu12-12.5.82:\n",
            "      Successfully uninstalled nvidia-cuda-runtime-cu12-12.5.82\n",
            "  Attempting uninstall: nvidia-cuda-nvrtc-cu12\n",
            "    Found existing installation: nvidia-cuda-nvrtc-cu12 12.5.82\n",
            "    Uninstalling nvidia-cuda-nvrtc-cu12-12.5.82:\n",
            "      Successfully uninstalled nvidia-cuda-nvrtc-cu12-12.5.82\n",
            "  Attempting uninstall: nvidia-cuda-cupti-cu12\n",
            "    Found existing installation: nvidia-cuda-cupti-cu12 12.5.82\n",
            "    Uninstalling nvidia-cuda-cupti-cu12-12.5.82:\n",
            "      Successfully uninstalled nvidia-cuda-cupti-cu12-12.5.82\n",
            "  Attempting uninstall: nvidia-cublas-cu12\n",
            "    Found existing installation: nvidia-cublas-cu12 12.5.3.2\n",
            "    Uninstalling nvidia-cublas-cu12-12.5.3.2:\n",
            "      Successfully uninstalled nvidia-cublas-cu12-12.5.3.2\n",
            "  Attempting uninstall: nvidia-cusparse-cu12\n",
            "    Found existing installation: nvidia-cusparse-cu12 12.5.1.3\n",
            "    Uninstalling nvidia-cusparse-cu12-12.5.1.3:\n",
            "      Successfully uninstalled nvidia-cusparse-cu12-12.5.1.3\n",
            "  Attempting uninstall: nvidia-cudnn-cu12\n",
            "    Found existing installation: nvidia-cudnn-cu12 9.3.0.75\n",
            "    Uninstalling nvidia-cudnn-cu12-9.3.0.75:\n",
            "      Successfully uninstalled nvidia-cudnn-cu12-9.3.0.75\n",
            "  Attempting uninstall: nvidia-cusolver-cu12\n",
            "    Found existing installation: nvidia-cusolver-cu12 11.6.3.83\n",
            "    Uninstalling nvidia-cusolver-cu12-11.6.3.83:\n",
            "      Successfully uninstalled nvidia-cusolver-cu12-11.6.3.83\n",
            "Successfully installed bertopic-0.17.0 nvidia-cublas-cu12-12.4.5.8 nvidia-cuda-cupti-cu12-12.4.127 nvidia-cuda-nvrtc-cu12-12.4.127 nvidia-cuda-runtime-cu12-12.4.127 nvidia-cudnn-cu12-9.1.0.70 nvidia-cufft-cu12-11.2.1.3 nvidia-curand-cu12-10.3.5.147 nvidia-cusolver-cu12-11.6.1.9 nvidia-cusparse-cu12-12.3.1.170 nvidia-nvjitlink-cu12-12.4.127\n"
          ]
        }
      ]
    },
    {
      "cell_type": "code",
      "source": [
        "#Used for OpenAI Integration\n",
        "!pip install tiktoken openai -q"
      ],
      "metadata": {
        "colab": {
          "base_uri": "https://localhost:8080/"
        },
        "id": "jOERhiWQWa9f",
        "outputId": "4f7e1e30-1f7e-468a-e8af-eb23378ed62d"
      },
      "execution_count": 3,
      "outputs": [
        {
          "output_type": "stream",
          "name": "stdout",
          "text": [
            "\u001b[?25l   \u001b[90m━━━━━━━━━━━━━━━━━━━━━━━━━━━━━━━━━━━━━━━━\u001b[0m \u001b[32m0.0/1.2 MB\u001b[0m \u001b[31m?\u001b[0m eta \u001b[36m-:--:--\u001b[0m\r\u001b[2K   \u001b[91m━━━━━\u001b[0m\u001b[90m╺\u001b[0m\u001b[90m━━━━━━━━━━━━━━━━━━━━━━━━━━━━━━━━━━\u001b[0m \u001b[32m0.2/1.2 MB\u001b[0m \u001b[31m4.9 MB/s\u001b[0m eta \u001b[36m0:00:01\u001b[0m\r\u001b[2K   \u001b[91m━━━━━━━━━━━━━━━━━━━━\u001b[0m\u001b[91m╸\u001b[0m\u001b[90m━━━━━━━━━━━━━━━━━━━\u001b[0m \u001b[32m0.6/1.2 MB\u001b[0m \u001b[31m10.7 MB/s\u001b[0m eta \u001b[36m0:00:01\u001b[0m\r\u001b[2K   \u001b[90m━━━━━━━━━━━━━━━━━━━━━━━━━━━━━━━━━━━━━━━━\u001b[0m \u001b[32m1.2/1.2 MB\u001b[0m \u001b[31m11.5 MB/s\u001b[0m eta \u001b[36m0:00:00\u001b[0m\n",
            "\u001b[?25h"
          ]
        }
      ]
    },
    {
      "cell_type": "markdown",
      "source": [
        "## Import Libraries"
      ],
      "metadata": {
        "id": "HQlUtWAQTHQh"
      }
    },
    {
      "cell_type": "code",
      "source": [
        "#Check installed versions, Numpy 1.25.x is compatible with gensim 4.3.3\n",
        "import numpy\n",
        "import gensim\n",
        "print(\"NumPy version:\", numpy.__version__)\n",
        "print(\"Gensim version:\", gensim.__version__)"
      ],
      "metadata": {
        "colab": {
          "base_uri": "https://localhost:8080/"
        },
        "id": "JHCuGfrwTKv9",
        "outputId": "a4f6d9d9-b5cb-4bd5-c46d-438b8f0d4bd9"
      },
      "execution_count": 1,
      "outputs": [
        {
          "output_type": "stream",
          "name": "stdout",
          "text": [
            "NumPy version: 1.25.0\n",
            "Gensim version: 4.3.3\n"
          ]
        }
      ]
    },
    {
      "cell_type": "code",
      "source": [
        "#Import Libraries\n",
        "import re\n",
        "import random\n",
        "import pandas as pd\n",
        "from sklearn.datasets import fetch_20newsgroups\n",
        "from gensim import corpora\n",
        "from gensim.models import LsiModel\n",
        "from gensim.models.coherencemodel import CoherenceModel\n",
        "from bertopic import BERTopic\n",
        "from gensim.utils import simple_preprocess\n",
        "import nltk\n",
        "nltk.download('stopwords')\n",
        "from nltk.corpus import stopwords\n",
        "from pprint import pprint\n",
        "import pyLDAvis\n",
        "import pyLDAvis.gensim_models as gensimvis"
      ],
      "metadata": {
        "id": "4yfupVegMsT5",
        "colab": {
          "base_uri": "https://localhost:8080/"
        },
        "outputId": "a00e6e70-3b30-43f0-d9fc-c8711fc7413c"
      },
      "execution_count": 19,
      "outputs": [
        {
          "output_type": "stream",
          "name": "stderr",
          "text": [
            "[nltk_data] Downloading package stopwords to /root/nltk_data...\n",
            "[nltk_data]   Package stopwords is already up-to-date!\n"
          ]
        }
      ]
    },
    {
      "cell_type": "markdown",
      "source": [
        "# **Question 1 (20 Points)**"
      ],
      "metadata": {
        "id": "lPTYY22vDnWu"
      }
    },
    {
      "cell_type": "markdown",
      "source": [
        "**Dataset**: 20 Newsgroups dataset\n",
        "\n",
        "**Dataset Link**: https://scikit-learn.org/0.19/datasets/twenty_newsgroups.html\n",
        "\n",
        "**Consider Random 2000 rows only**\n",
        "\n",
        "Generate K=10 topics by using LDA and LSA,\n",
        "then calculate coherence score and determine the optimized K value by the coherence score. Further, summarize and visualize each topics in you own words.\n"
      ],
      "metadata": {
        "id": "dUkAOXJQDq0J"
      }
    },
    {
      "cell_type": "markdown",
      "source": [
        "## Select Random 2000 rows for dataset"
      ],
      "metadata": {
        "id": "CGZhQ0B8MwtJ"
      }
    },
    {
      "cell_type": "code",
      "source": [
        "newsgroups = fetch_20newsgroups(subset = 'train')"
      ],
      "metadata": {
        "id": "iSb3gYK9C2uJ"
      },
      "execution_count": 3,
      "outputs": []
    },
    {
      "cell_type": "code",
      "source": [
        "newsgroups.filenames.shape"
      ],
      "metadata": {
        "colab": {
          "base_uri": "https://localhost:8080/"
        },
        "id": "7g5cLQArE9rt",
        "outputId": "23e61250-26ea-4b3e-926e-e47061fb9207"
      },
      "execution_count": 4,
      "outputs": [
        {
          "output_type": "execute_result",
          "data": {
            "text/plain": [
              "(11314,)"
            ]
          },
          "metadata": {},
          "execution_count": 4
        }
      ]
    },
    {
      "cell_type": "code",
      "source": [
        "def random_sample(dataset):\n",
        "    random_list = []\n",
        "    random_data = []\n",
        "\n",
        "    num = 2000\n",
        "    shape = dataset.filenames.shape[0] - 1\n",
        "    num_samples = 0\n",
        "\n",
        "    while num_samples < num:\n",
        "        rand_num = random.randint(0,shape)\n",
        "        if rand_num in random_list:\n",
        "            continue\n",
        "        else:\n",
        "            random_list.append(rand_num)\n",
        "            random_data.append(dataset.data[rand_num])\n",
        "            num_samples = len(random_list)\n",
        "\n",
        "    return random_list, random_data"
      ],
      "metadata": {
        "id": "Rmo-TQCSHI5T"
      },
      "execution_count": 5,
      "outputs": []
    },
    {
      "cell_type": "code",
      "source": [
        "data_list, news_data = random_sample(newsgroups)"
      ],
      "metadata": {
        "id": "2iFfLm5kFDfC"
      },
      "execution_count": 6,
      "outputs": []
    },
    {
      "cell_type": "code",
      "source": [
        "len(news_data)"
      ],
      "metadata": {
        "colab": {
          "base_uri": "https://localhost:8080/"
        },
        "id": "KlxXk0JiJLTw",
        "outputId": "fa4c8c6a-059f-4ba3-9257-fedc02d03a12"
      },
      "execution_count": 7,
      "outputs": [
        {
          "output_type": "execute_result",
          "data": {
            "text/plain": [
              "2000"
            ]
          },
          "metadata": {},
          "execution_count": 7
        }
      ]
    },
    {
      "cell_type": "code",
      "source": [
        "df = pd.DataFrame(news_data, columns = ['text'])"
      ],
      "metadata": {
        "id": "5OPm3Kk-Ldqs"
      },
      "execution_count": 8,
      "outputs": []
    },
    {
      "cell_type": "code",
      "source": [
        "df['text']"
      ],
      "metadata": {
        "colab": {
          "base_uri": "https://localhost:8080/",
          "height": 458
        },
        "id": "yww_F9EYLnXO",
        "outputId": "f3a4225c-1755-4933-af35-fbec0bd3fbd9"
      },
      "execution_count": 9,
      "outputs": [
        {
          "output_type": "execute_result",
          "data": {
            "text/plain": [
              "0       From: jca2@cec1.wustl.edu (Joseph Charles Achk...\n",
              "1       From: moseley@u.washington.edu (Steve L. Mosel...\n",
              "2       From: geb@cs.pitt.edu (Gordon Banks)\\nSubject:...\n",
              "3       From: kelleyb@austin.ibm.com (Kelley Boylan)\\n...\n",
              "4       From: cramer@optilink.COM (Clayton Cramer)\\nSu...\n",
              "                              ...                        \n",
              "1995    From: gt6511a@prism.gatech.EDU (COCHRANE,JAMES...\n",
              "1996    From: prb@access.digex.com (Pat)\\nSubject: Con...\n",
              "1997    From: jason@ab20.larc.nasa.gov (Jason Austin)\\...\n",
              "1998    From: paladin@world.std.com (Thomas G Schlatte...\n",
              "1999    From: \"William K. Willis\" <ww1a+@andrew.cmu.ed...\n",
              "Name: text, Length: 2000, dtype: object"
            ],
            "text/html": [
              "<div>\n",
              "<style scoped>\n",
              "    .dataframe tbody tr th:only-of-type {\n",
              "        vertical-align: middle;\n",
              "    }\n",
              "\n",
              "    .dataframe tbody tr th {\n",
              "        vertical-align: top;\n",
              "    }\n",
              "\n",
              "    .dataframe thead th {\n",
              "        text-align: right;\n",
              "    }\n",
              "</style>\n",
              "<table border=\"1\" class=\"dataframe\">\n",
              "  <thead>\n",
              "    <tr style=\"text-align: right;\">\n",
              "      <th></th>\n",
              "      <th>text</th>\n",
              "    </tr>\n",
              "  </thead>\n",
              "  <tbody>\n",
              "    <tr>\n",
              "      <th>0</th>\n",
              "      <td>From: jca2@cec1.wustl.edu (Joseph Charles Achk...</td>\n",
              "    </tr>\n",
              "    <tr>\n",
              "      <th>1</th>\n",
              "      <td>From: moseley@u.washington.edu (Steve L. Mosel...</td>\n",
              "    </tr>\n",
              "    <tr>\n",
              "      <th>2</th>\n",
              "      <td>From: geb@cs.pitt.edu (Gordon Banks)\\nSubject:...</td>\n",
              "    </tr>\n",
              "    <tr>\n",
              "      <th>3</th>\n",
              "      <td>From: kelleyb@austin.ibm.com (Kelley Boylan)\\n...</td>\n",
              "    </tr>\n",
              "    <tr>\n",
              "      <th>4</th>\n",
              "      <td>From: cramer@optilink.COM (Clayton Cramer)\\nSu...</td>\n",
              "    </tr>\n",
              "    <tr>\n",
              "      <th>...</th>\n",
              "      <td>...</td>\n",
              "    </tr>\n",
              "    <tr>\n",
              "      <th>1995</th>\n",
              "      <td>From: gt6511a@prism.gatech.EDU (COCHRANE,JAMES...</td>\n",
              "    </tr>\n",
              "    <tr>\n",
              "      <th>1996</th>\n",
              "      <td>From: prb@access.digex.com (Pat)\\nSubject: Con...</td>\n",
              "    </tr>\n",
              "    <tr>\n",
              "      <th>1997</th>\n",
              "      <td>From: jason@ab20.larc.nasa.gov (Jason Austin)\\...</td>\n",
              "    </tr>\n",
              "    <tr>\n",
              "      <th>1998</th>\n",
              "      <td>From: paladin@world.std.com (Thomas G Schlatte...</td>\n",
              "    </tr>\n",
              "    <tr>\n",
              "      <th>1999</th>\n",
              "      <td>From: \"William K. Willis\" &lt;ww1a+@andrew.cmu.ed...</td>\n",
              "    </tr>\n",
              "  </tbody>\n",
              "</table>\n",
              "<p>2000 rows × 1 columns</p>\n",
              "</div><br><label><b>dtype:</b> object</label>"
            ]
          },
          "metadata": {},
          "execution_count": 9
        }
      ]
    },
    {
      "cell_type": "markdown",
      "source": [
        "## Data Preprocessing"
      ],
      "metadata": {
        "id": "QI9JisrkM4cO"
      }
    },
    {
      "cell_type": "code",
      "source": [
        "from gensim.parsing.preprocessing import remove_stopwords, strip_punctuation \\\n",
        "                                        , preprocess_string, strip_short, stem_text\n",
        "\n",
        "# preprocess given text\n",
        "def preprocess(text):\n",
        "\n",
        "    # clean text based on given filters\n",
        "    CUSTOM_FILTERS = [lambda x: x.lower(),\n",
        "                                remove_stopwords,\n",
        "                                strip_punctuation,\n",
        "                                strip_short,\n",
        "                                stem_text]\n",
        "    text = preprocess_string(text, CUSTOM_FILTERS)\n",
        "\n",
        "    return text\n",
        "\n",
        "# apply function to all reviews\n",
        "df['cleaned_text'] = df['text'].apply(lambda x: preprocess(x))"
      ],
      "metadata": {
        "id": "clAXGRQTLqZb"
      },
      "execution_count": 62,
      "outputs": []
    },
    {
      "cell_type": "code",
      "source": [
        "df.head(5)"
      ],
      "metadata": {
        "colab": {
          "base_uri": "https://localhost:8080/",
          "height": 206
        },
        "id": "0SNlpj5vMWB8",
        "outputId": "9ec56e14-9614-4970-babc-237d9e9edfd1"
      },
      "execution_count": 11,
      "outputs": [
        {
          "output_type": "execute_result",
          "data": {
            "text/plain": [
              "                                                text  \\\n",
              "0  From: jca2@cec1.wustl.edu (Joseph Charles Achk...   \n",
              "1  From: moseley@u.washington.edu (Steve L. Mosel...   \n",
              "2  From: geb@cs.pitt.edu (Gordon Banks)\\nSubject:...   \n",
              "3  From: kelleyb@austin.ibm.com (Kelley Boylan)\\n...   \n",
              "4  From: cramer@optilink.COM (Clayton Cramer)\\nSu...   \n",
              "\n",
              "                                        cleaned_text  \n",
              "0  [from, jca2, cec1, wustl, edu, joseph, charl, ...  \n",
              "1  [from, moselei, washington, edu, steve, mosele...  \n",
              "2  [from, geb, pitt, edu, gordon, bank, subject, ...  \n",
              "3  [from, kelleyb, austin, ibm, com, kellei, boyl...  \n",
              "4  [from, cramer, optilink, com, clayton, cramer,...  "
            ],
            "text/html": [
              "\n",
              "  <div id=\"df-cc089405-bfce-4c7f-a887-c9cbfa25f2ed\" class=\"colab-df-container\">\n",
              "    <div>\n",
              "<style scoped>\n",
              "    .dataframe tbody tr th:only-of-type {\n",
              "        vertical-align: middle;\n",
              "    }\n",
              "\n",
              "    .dataframe tbody tr th {\n",
              "        vertical-align: top;\n",
              "    }\n",
              "\n",
              "    .dataframe thead th {\n",
              "        text-align: right;\n",
              "    }\n",
              "</style>\n",
              "<table border=\"1\" class=\"dataframe\">\n",
              "  <thead>\n",
              "    <tr style=\"text-align: right;\">\n",
              "      <th></th>\n",
              "      <th>text</th>\n",
              "      <th>cleaned_text</th>\n",
              "    </tr>\n",
              "  </thead>\n",
              "  <tbody>\n",
              "    <tr>\n",
              "      <th>0</th>\n",
              "      <td>From: jca2@cec1.wustl.edu (Joseph Charles Achk...</td>\n",
              "      <td>[from, jca2, cec1, wustl, edu, joseph, charl, ...</td>\n",
              "    </tr>\n",
              "    <tr>\n",
              "      <th>1</th>\n",
              "      <td>From: moseley@u.washington.edu (Steve L. Mosel...</td>\n",
              "      <td>[from, moselei, washington, edu, steve, mosele...</td>\n",
              "    </tr>\n",
              "    <tr>\n",
              "      <th>2</th>\n",
              "      <td>From: geb@cs.pitt.edu (Gordon Banks)\\nSubject:...</td>\n",
              "      <td>[from, geb, pitt, edu, gordon, bank, subject, ...</td>\n",
              "    </tr>\n",
              "    <tr>\n",
              "      <th>3</th>\n",
              "      <td>From: kelleyb@austin.ibm.com (Kelley Boylan)\\n...</td>\n",
              "      <td>[from, kelleyb, austin, ibm, com, kellei, boyl...</td>\n",
              "    </tr>\n",
              "    <tr>\n",
              "      <th>4</th>\n",
              "      <td>From: cramer@optilink.COM (Clayton Cramer)\\nSu...</td>\n",
              "      <td>[from, cramer, optilink, com, clayton, cramer,...</td>\n",
              "    </tr>\n",
              "  </tbody>\n",
              "</table>\n",
              "</div>\n",
              "    <div class=\"colab-df-buttons\">\n",
              "\n",
              "  <div class=\"colab-df-container\">\n",
              "    <button class=\"colab-df-convert\" onclick=\"convertToInteractive('df-cc089405-bfce-4c7f-a887-c9cbfa25f2ed')\"\n",
              "            title=\"Convert this dataframe to an interactive table.\"\n",
              "            style=\"display:none;\">\n",
              "\n",
              "  <svg xmlns=\"http://www.w3.org/2000/svg\" height=\"24px\" viewBox=\"0 -960 960 960\">\n",
              "    <path d=\"M120-120v-720h720v720H120Zm60-500h600v-160H180v160Zm220 220h160v-160H400v160Zm0 220h160v-160H400v160ZM180-400h160v-160H180v160Zm440 0h160v-160H620v160ZM180-180h160v-160H180v160Zm440 0h160v-160H620v160Z\"/>\n",
              "  </svg>\n",
              "    </button>\n",
              "\n",
              "  <style>\n",
              "    .colab-df-container {\n",
              "      display:flex;\n",
              "      gap: 12px;\n",
              "    }\n",
              "\n",
              "    .colab-df-convert {\n",
              "      background-color: #E8F0FE;\n",
              "      border: none;\n",
              "      border-radius: 50%;\n",
              "      cursor: pointer;\n",
              "      display: none;\n",
              "      fill: #1967D2;\n",
              "      height: 32px;\n",
              "      padding: 0 0 0 0;\n",
              "      width: 32px;\n",
              "    }\n",
              "\n",
              "    .colab-df-convert:hover {\n",
              "      background-color: #E2EBFA;\n",
              "      box-shadow: 0px 1px 2px rgba(60, 64, 67, 0.3), 0px 1px 3px 1px rgba(60, 64, 67, 0.15);\n",
              "      fill: #174EA6;\n",
              "    }\n",
              "\n",
              "    .colab-df-buttons div {\n",
              "      margin-bottom: 4px;\n",
              "    }\n",
              "\n",
              "    [theme=dark] .colab-df-convert {\n",
              "      background-color: #3B4455;\n",
              "      fill: #D2E3FC;\n",
              "    }\n",
              "\n",
              "    [theme=dark] .colab-df-convert:hover {\n",
              "      background-color: #434B5C;\n",
              "      box-shadow: 0px 1px 3px 1px rgba(0, 0, 0, 0.15);\n",
              "      filter: drop-shadow(0px 1px 2px rgba(0, 0, 0, 0.3));\n",
              "      fill: #FFFFFF;\n",
              "    }\n",
              "  </style>\n",
              "\n",
              "    <script>\n",
              "      const buttonEl =\n",
              "        document.querySelector('#df-cc089405-bfce-4c7f-a887-c9cbfa25f2ed button.colab-df-convert');\n",
              "      buttonEl.style.display =\n",
              "        google.colab.kernel.accessAllowed ? 'block' : 'none';\n",
              "\n",
              "      async function convertToInteractive(key) {\n",
              "        const element = document.querySelector('#df-cc089405-bfce-4c7f-a887-c9cbfa25f2ed');\n",
              "        const dataTable =\n",
              "          await google.colab.kernel.invokeFunction('convertToInteractive',\n",
              "                                                    [key], {});\n",
              "        if (!dataTable) return;\n",
              "\n",
              "        const docLinkHtml = 'Like what you see? Visit the ' +\n",
              "          '<a target=\"_blank\" href=https://colab.research.google.com/notebooks/data_table.ipynb>data table notebook</a>'\n",
              "          + ' to learn more about interactive tables.';\n",
              "        element.innerHTML = '';\n",
              "        dataTable['output_type'] = 'display_data';\n",
              "        await google.colab.output.renderOutput(dataTable, element);\n",
              "        const docLink = document.createElement('div');\n",
              "        docLink.innerHTML = docLinkHtml;\n",
              "        element.appendChild(docLink);\n",
              "      }\n",
              "    </script>\n",
              "  </div>\n",
              "\n",
              "\n",
              "<div id=\"df-c43fd0ea-f67a-4397-b450-b9abeaac1f4d\">\n",
              "  <button class=\"colab-df-quickchart\" onclick=\"quickchart('df-c43fd0ea-f67a-4397-b450-b9abeaac1f4d')\"\n",
              "            title=\"Suggest charts\"\n",
              "            style=\"display:none;\">\n",
              "\n",
              "<svg xmlns=\"http://www.w3.org/2000/svg\" height=\"24px\"viewBox=\"0 0 24 24\"\n",
              "     width=\"24px\">\n",
              "    <g>\n",
              "        <path d=\"M19 3H5c-1.1 0-2 .9-2 2v14c0 1.1.9 2 2 2h14c1.1 0 2-.9 2-2V5c0-1.1-.9-2-2-2zM9 17H7v-7h2v7zm4 0h-2V7h2v10zm4 0h-2v-4h2v4z\"/>\n",
              "    </g>\n",
              "</svg>\n",
              "  </button>\n",
              "\n",
              "<style>\n",
              "  .colab-df-quickchart {\n",
              "      --bg-color: #E8F0FE;\n",
              "      --fill-color: #1967D2;\n",
              "      --hover-bg-color: #E2EBFA;\n",
              "      --hover-fill-color: #174EA6;\n",
              "      --disabled-fill-color: #AAA;\n",
              "      --disabled-bg-color: #DDD;\n",
              "  }\n",
              "\n",
              "  [theme=dark] .colab-df-quickchart {\n",
              "      --bg-color: #3B4455;\n",
              "      --fill-color: #D2E3FC;\n",
              "      --hover-bg-color: #434B5C;\n",
              "      --hover-fill-color: #FFFFFF;\n",
              "      --disabled-bg-color: #3B4455;\n",
              "      --disabled-fill-color: #666;\n",
              "  }\n",
              "\n",
              "  .colab-df-quickchart {\n",
              "    background-color: var(--bg-color);\n",
              "    border: none;\n",
              "    border-radius: 50%;\n",
              "    cursor: pointer;\n",
              "    display: none;\n",
              "    fill: var(--fill-color);\n",
              "    height: 32px;\n",
              "    padding: 0;\n",
              "    width: 32px;\n",
              "  }\n",
              "\n",
              "  .colab-df-quickchart:hover {\n",
              "    background-color: var(--hover-bg-color);\n",
              "    box-shadow: 0 1px 2px rgba(60, 64, 67, 0.3), 0 1px 3px 1px rgba(60, 64, 67, 0.15);\n",
              "    fill: var(--button-hover-fill-color);\n",
              "  }\n",
              "\n",
              "  .colab-df-quickchart-complete:disabled,\n",
              "  .colab-df-quickchart-complete:disabled:hover {\n",
              "    background-color: var(--disabled-bg-color);\n",
              "    fill: var(--disabled-fill-color);\n",
              "    box-shadow: none;\n",
              "  }\n",
              "\n",
              "  .colab-df-spinner {\n",
              "    border: 2px solid var(--fill-color);\n",
              "    border-color: transparent;\n",
              "    border-bottom-color: var(--fill-color);\n",
              "    animation:\n",
              "      spin 1s steps(1) infinite;\n",
              "  }\n",
              "\n",
              "  @keyframes spin {\n",
              "    0% {\n",
              "      border-color: transparent;\n",
              "      border-bottom-color: var(--fill-color);\n",
              "      border-left-color: var(--fill-color);\n",
              "    }\n",
              "    20% {\n",
              "      border-color: transparent;\n",
              "      border-left-color: var(--fill-color);\n",
              "      border-top-color: var(--fill-color);\n",
              "    }\n",
              "    30% {\n",
              "      border-color: transparent;\n",
              "      border-left-color: var(--fill-color);\n",
              "      border-top-color: var(--fill-color);\n",
              "      border-right-color: var(--fill-color);\n",
              "    }\n",
              "    40% {\n",
              "      border-color: transparent;\n",
              "      border-right-color: var(--fill-color);\n",
              "      border-top-color: var(--fill-color);\n",
              "    }\n",
              "    60% {\n",
              "      border-color: transparent;\n",
              "      border-right-color: var(--fill-color);\n",
              "    }\n",
              "    80% {\n",
              "      border-color: transparent;\n",
              "      border-right-color: var(--fill-color);\n",
              "      border-bottom-color: var(--fill-color);\n",
              "    }\n",
              "    90% {\n",
              "      border-color: transparent;\n",
              "      border-bottom-color: var(--fill-color);\n",
              "    }\n",
              "  }\n",
              "</style>\n",
              "\n",
              "  <script>\n",
              "    async function quickchart(key) {\n",
              "      const quickchartButtonEl =\n",
              "        document.querySelector('#' + key + ' button');\n",
              "      quickchartButtonEl.disabled = true;  // To prevent multiple clicks.\n",
              "      quickchartButtonEl.classList.add('colab-df-spinner');\n",
              "      try {\n",
              "        const charts = await google.colab.kernel.invokeFunction(\n",
              "            'suggestCharts', [key], {});\n",
              "      } catch (error) {\n",
              "        console.error('Error during call to suggestCharts:', error);\n",
              "      }\n",
              "      quickchartButtonEl.classList.remove('colab-df-spinner');\n",
              "      quickchartButtonEl.classList.add('colab-df-quickchart-complete');\n",
              "    }\n",
              "    (() => {\n",
              "      let quickchartButtonEl =\n",
              "        document.querySelector('#df-c43fd0ea-f67a-4397-b450-b9abeaac1f4d button');\n",
              "      quickchartButtonEl.style.display =\n",
              "        google.colab.kernel.accessAllowed ? 'block' : 'none';\n",
              "    })();\n",
              "  </script>\n",
              "</div>\n",
              "\n",
              "    </div>\n",
              "  </div>\n"
            ],
            "application/vnd.google.colaboratory.intrinsic+json": {
              "type": "dataframe",
              "variable_name": "df",
              "summary": "{\n  \"name\": \"df\",\n  \"rows\": 2000,\n  \"fields\": [\n    {\n      \"column\": \"text\",\n      \"properties\": {\n        \"dtype\": \"string\",\n        \"num_unique_values\": 2000,\n        \"samples\": [\n          \"From: 18084TM@msu.edu (Tom)\\nSubject: Nasa (dis)incentives\\nX-Added: Forwarded by Space Digest\\nOrganization: [via International Space University]\\nOriginal-Sender: isu@VACATION.VENARI.CS.CMU.EDU\\nDistribution: sci\\nLines: 23\\n\\n[questions and issues WRT congress raised and discussed}\\n\\nDennis Replies;\\n>Now black when it is white is just white. Except that when black is called\\n>white money is put into the system in a study to find out just when it is\\n>justified to call black, white.  It is also apparant that when white is called\\n>black, just the opposite occurs. Now white is a color, but when white is\\n>called black, it calls into question the validity of the color spectrum.\\n...\\n>It is a given however that NASA nor the military, whose competence in\\n>differentating black from white is well known (remember the black and\\n>white paint on the Saturn V rocket?) That nothing will occur here either.\\n>When black and white are used by congress, who cares nothing for results,\\n>just more money for pork barrel jobs brought about by the black/white\\n>controversy....\\n\\nDennis, why must you always see things in black and white terms? :-)\\n\\n-Tommy Mac\\n-------------------------------------------------------------------------\\nTom McWilliams 517-355-2178 wk   \\\\\\\\ As the radius of vision increases,\\n18084tm@ibm.cl.msu.edu 336-9591 hm \\\\\\\\ the circumference of mystery grows.\\n-------------------------------------------------------------------------\\n\",\n          \"From: hsieh1@carson.u.washington.edu (Darrell Kirk)\\nSubject: For Sale: Complete Communicator card for IBM-voicemail, modem, Fax\\nOrganization: University of Washington, Seattle\\nLines: 8\\nDistribution: usa\\nNNTP-Posting-Host: carson.u.washington.edu\\n\\nComplete Communicator, latest vers.\\nNew in box\\nWorks in DOS or Windows\\nOne card you get fax, voicemail and modem.  Auto switch, one line handles\\nall fax, voicemail and modem communications\\n$500 new\\n\\n250 dollars, and you pay shipping\\n\",\n          \"From: \\\"Mohammad Al-Ansari\\\" <alansari@mango.ucs.indiana.edu>\\nSubject: Re: 17\\\" Monitors\\nOrganization: Indiana University Computer Science, Bloomington\\nLines: 30\\n\\nIn article <1993Apr10.082253.19597@uxmail.ust.hk> cs_ngfo@uxmail.ust.hk (Forrest Normandy) writes:\\n>I want to buy a 17\\\" monitor, any comment on Nanno T560i, NEC 5FG,\\n>SII 17\\\" ???\\n>\\n>Thanks a lot.\\n>\\n>--\\n>________________________________________________________________________\\n> Forrest Normandy                 |     The Hong Kong University of\\n> Internet : cs_ngfo@stu.ust.hk    |       Science and Technology\\n> E-mail   : cs_ngfo@uxmail.ust.hk |    Department of Computer Science\\n> Phone    : (852) 358-8631 Rm 608 |------------------------------------\\n> Paging   : 1128635 a/c 4860      | Rm 608, UG Hall 4, HKUST, Hong Kong\\n>------------------------------------------------------------------------\\n\\n\\nWindows Sources Magazine reviewed a number of 17\\\" monitors recently\\nand they too said that the Nanao T560i was the best monitor to get if\\nyou had the money. But they also said that the Mitsubishi Diamond Pro\\n17 is the next best choice and that it has superb picture quality.\\nThis monitor can be had for around $1070.\\n\\nHas anyone actually seen any of these? I am also thinking of buying a\\n17\\\" monitor and was going to consider the Mitsubishi. If I remember\\ncorrectly, I think its viewing area is 16\\\" measured diagonally.\\n\\nThanks.\\n\\n--\\nMohammad Al-Ansari\\t\\t\\talansari@cs.indiana.edu\\n\"\n        ],\n        \"semantic_type\": \"\",\n        \"description\": \"\"\n      }\n    },\n    {\n      \"column\": \"cleaned_text\",\n      \"properties\": {\n        \"dtype\": \"object\",\n        \"semantic_type\": \"\",\n        \"description\": \"\"\n      }\n    }\n  ]\n}"
            }
          },
          "metadata": {},
          "execution_count": 11
        }
      ]
    },
    {
      "cell_type": "markdown",
      "source": [
        "## Latent Semantic Analysis (LSA)"
      ],
      "metadata": {
        "id": "lAGhGEU7Tg1D"
      }
    },
    {
      "cell_type": "code",
      "source": [
        "# Coherence score in topic modeling to measure how interpretable the topics are to humans.\n",
        "# find the coherence score with a different number of topics\n",
        "\n",
        "#Store the best model for future comparison/usage\n",
        "\n",
        "#data = df['cleaned_text']\n",
        "def lsa_model_k_finder(data, max_topics):\n",
        "    # create a dictionary with the corpus\n",
        "    corpus = data\n",
        "    dictionary = corpora.Dictionary(corpus)\n",
        "\n",
        "    # convert corpus into a bag of words\n",
        "    bow = [dictionary.doc2bow(text) for text in corpus]\n",
        "\n",
        "    #Initiate placeholder values for best model return\n",
        "    lsi = LsiModel(bow, num_topics=1, id2word=dictionary)\n",
        "    best_model = CoherenceModel(model = lsi, texts = data, dictionary = dictionary, coherence='c_v')\n",
        "    best_coh_score = best_model.get_coherence()\n",
        "    num_topics = 2\n",
        "\n",
        "    #Iterate through K (topics)\n",
        "    for i in range(2,(max_topics + 1)):\n",
        "        lsi = LsiModel(bow, num_topics=i, id2word=dictionary)\n",
        "        coherence_model = CoherenceModel(model = lsi, texts = data, dictionary = dictionary, coherence='c_v')\n",
        "        coherence_score = coherence_model.get_coherence()\n",
        "        print(f\"Coherence score with {i} clusters: {coherence_score}\")\n",
        "        if coherence_score > best_coh_score:\n",
        "            best_coh_score = coherence_score\n",
        "            best_model = CoherenceModel(model = lsi, texts = data, dictionary = dictionary, coherence='c_v')\n",
        "            num_topics = i\n",
        "            print(f\"Model with {i} topics and {coherence_score} is currently the best.\")\n",
        "        else:\n",
        "            continue\n",
        "\n",
        "    print(f\"Returning Model with {best_coh_score} coherence score given {num_topics} topics.\")\n",
        "\n",
        "    return best_model, best_coh_score"
      ],
      "metadata": {
        "id": "vSA9pwYwSBm4"
      },
      "execution_count": 12,
      "outputs": []
    },
    {
      "cell_type": "code",
      "source": [
        "lsa_model, lsa_score = lsa_model_k_finder(df['cleaned_text'],10)"
      ],
      "metadata": {
        "colab": {
          "base_uri": "https://localhost:8080/"
        },
        "id": "5nmnsiAHTrF0",
        "outputId": "68ce9208-91e5-41c2-cc07-1216c0c3a663"
      },
      "execution_count": 13,
      "outputs": [
        {
          "output_type": "stream",
          "name": "stdout",
          "text": [
            "Coherence score with 2 clusters: 0.71263927355711\n",
            "Coherence score with 3 clusters: 0.6718766409766381\n",
            "Coherence score with 4 clusters: 0.5431805626087168\n",
            "Coherence score with 5 clusters: 0.6016064986319238\n",
            "Coherence score with 6 clusters: 0.6149346855179965\n",
            "Coherence score with 7 clusters: 0.537367080277414\n",
            "Coherence score with 8 clusters: 0.6705683850103464\n",
            "Coherence score with 9 clusters: 0.624852892946269\n",
            "Coherence score with 10 clusters: 0.5975935588882545\n",
            "Returning Model with 0.9262328602282258 coherence score given 2 topics.\n"
          ]
        }
      ]
    },
    {
      "cell_type": "markdown",
      "source": [
        "##LDA"
      ],
      "metadata": {
        "id": "yD3q40jcQ9D8"
      }
    },
    {
      "cell_type": "code",
      "source": [
        "#Import stop words, and extend using common found e-mail terms\n",
        "stop_words = stopwords.words('english')\n",
        "stop_words.extend(['from', 'subject', 're', 'edu', 'use'])\n",
        "\n",
        "#Changes sentences to words\n",
        "def sent_to_words(sentences):\n",
        "    for sentence in sentences:\n",
        "        # deacc=True removes punctuations\n",
        "        yield(gensim.utils.simple_preprocess(str(sentence), deacc=True))\n",
        "\n",
        "#Removes stopwords from word list\n",
        "def remove_stopwords(texts):\n",
        "    return [[word for word in simple_preprocess(str(doc))\n",
        "             if word not in stop_words] for doc in texts]\n",
        "\n",
        "#Extract and clean data\n",
        "data = df['cleaned_text'].values.tolist()\n",
        "data_words = list(sent_to_words(data))\n",
        "# remove stop words\n",
        "data_words = remove_stopwords(data_words)\n",
        "print(data_words[:1][0][:30])"
      ],
      "metadata": {
        "colab": {
          "base_uri": "https://localhost:8080/"
        },
        "id": "BJldhS_8U49a",
        "outputId": "b97e98c4-3153-4fee-8e48-8a4760c984da"
      },
      "execution_count": 15,
      "outputs": [
        {
          "output_type": "stream",
          "name": "stdout",
          "text": [
            "['jca', 'cec', 'wustl', 'joseph', 'charl', 'achkar', 'blue', 'steal', 'game', 'hawk', 'keyword', 'blue', 'hull', 'shanahan', 'joseph', 'blackhawk', 'belfour', 'nntp', 'post', 'host', 'cec', 'organ', 'washington', 'univers', 'loui', 'line', 'blue', 'score', 'power', 'plai']\n"
          ]
        }
      ]
    },
    {
      "cell_type": "code",
      "source": [
        "# Create Dictionary\n",
        "id2word = corpora.Dictionary(data_words)\n",
        "# Create Corpus\n",
        "texts = data_words\n",
        "# Term Document Frequency\n",
        "corpus = [id2word.doc2bow(text) for text in texts]"
      ],
      "metadata": {
        "id": "edHxfpF_UoUm"
      },
      "execution_count": 17,
      "outputs": []
    },
    {
      "cell_type": "code",
      "source": [
        "# number of topics\n",
        "num_topics = 10\n",
        "# Build LDA model\n",
        "lda_model = gensim.models.LdaMulticore(corpus=corpus,\n",
        "                                       id2word=id2word,\n",
        "                                       num_topics=num_topics)\n",
        "# Print the Keyword in the 10 topics\n",
        "pprint(lda_model.print_topics())\n",
        "doc_lda = lda_model[corpus]"
      ],
      "metadata": {
        "colab": {
          "base_uri": "https://localhost:8080/"
        },
        "id": "FBzErtm9Q-34",
        "outputId": "c4e6344f-f26d-438d-b393-35cb2ed31eab"
      },
      "execution_count": 18,
      "outputs": [
        {
          "output_type": "stream",
          "name": "stderr",
          "text": [
            "WARNING:gensim.models.ldamulticore:too few updates, training might not converge; consider increasing the number of passes or iterations to improve accuracy\n"
          ]
        },
        {
          "output_type": "stream",
          "name": "stdout",
          "text": [
            "[(0,\n",
            "  '0.005*\"line\" + 0.005*\"organ\" + 0.005*\"com\" + 0.005*\"time\" + 0.004*\"write\" + '\n",
            "  '0.004*\"new\" + 0.004*\"think\" + 0.004*\"peopl\" + 0.003*\"know\" + '\n",
            "  '0.003*\"articl\"'),\n",
            " (1,\n",
            "  '0.052*\"max\" + 0.006*\"ei\" + 0.006*\"line\" + 0.005*\"peopl\" + 0.004*\"organ\" + '\n",
            "  '0.003*\"com\" + 0.003*\"like\" + 0.003*\"univers\" + 0.003*\"post\" + 0.003*\"us\"'),\n",
            " (2,\n",
            "  '0.008*\"organ\" + 0.008*\"line\" + 0.005*\"post\" + 0.005*\"articl\" + '\n",
            "  '0.005*\"write\" + 0.005*\"com\" + 0.004*\"peopl\" + 0.004*\"univers\" + '\n",
            "  '0.004*\"like\" + 0.003*\"apr\"'),\n",
            " (3,\n",
            "  '0.007*\"line\" + 0.006*\"com\" + 0.005*\"univers\" + 0.004*\"organ\" + 0.004*\"like\" '\n",
            "  '+ 0.004*\"write\" + 0.004*\"articl\" + 0.004*\"time\" + 0.004*\"peopl\" + '\n",
            "  '0.003*\"new\"'),\n",
            " (4,\n",
            "  '0.010*\"com\" + 0.008*\"organ\" + 0.008*\"line\" + 0.006*\"write\" + 0.006*\"post\" + '\n",
            "  '0.005*\"articl\" + 0.004*\"host\" + 0.004*\"peopl\" + 0.004*\"univers\" + '\n",
            "  '0.004*\"nntp\"'),\n",
            " (5,\n",
            "  '0.010*\"com\" + 0.007*\"line\" + 0.006*\"organ\" + 0.006*\"write\" + 0.005*\"like\" + '\n",
            "  '0.005*\"work\" + 0.005*\"articl\" + 0.004*\"peopl\" + 0.004*\"know\" + '\n",
            "  '0.004*\"univers\"'),\n",
            " (6,\n",
            "  '0.009*\"com\" + 0.008*\"line\" + 0.008*\"organ\" + 0.005*\"post\" + 0.005*\"write\" + '\n",
            "  '0.004*\"articl\" + 0.004*\"know\" + 0.004*\"nntp\" + 0.003*\"like\" + 0.003*\"host\"'),\n",
            " (7,\n",
            "  '0.009*\"line\" + 0.009*\"com\" + 0.008*\"organ\" + 0.006*\"post\" + 0.004*\"univers\" '\n",
            "  '+ 0.004*\"host\" + 0.004*\"know\" + 0.004*\"nntp\" + 0.003*\"like\" + 0.003*\"new\"'),\n",
            " (8,\n",
            "  '0.009*\"line\" + 0.007*\"com\" + 0.007*\"organ\" + 0.006*\"articl\" + 0.005*\"write\" '\n",
            "  '+ 0.005*\"post\" + 0.004*\"host\" + 0.004*\"new\" + 0.004*\"univers\" + '\n",
            "  '0.004*\"nntp\"'),\n",
            " (9,\n",
            "  '0.009*\"com\" + 0.007*\"line\" + 0.006*\"organ\" + 0.006*\"write\" + 0.005*\"like\" + '\n",
            "  '0.005*\"articl\" + 0.004*\"know\" + 0.004*\"time\" + 0.004*\"think\" + '\n",
            "  '0.003*\"work\"')]\n"
          ]
        }
      ]
    },
    {
      "cell_type": "code",
      "source": [
        "#import pyLDAvis.gensim\n",
        "\n",
        "pyLDAvis.enable_notebook()\n",
        "\n",
        "LDAvis_prepared = pyLDAvis.gensim_models.prepare(lda_model, corpus, id2word)\n",
        "\n",
        "pyLDAvis.display(LDAvis_prepared)"
      ],
      "metadata": {
        "colab": {
          "base_uri": "https://localhost:8080/",
          "height": 861
        },
        "id": "xLnrYk3WQ_5-",
        "outputId": "237dd14a-a534-4798-e683-398cfa314039"
      },
      "execution_count": 20,
      "outputs": [
        {
          "output_type": "execute_result",
          "data": {
            "text/plain": [
              "<IPython.core.display.HTML object>"
            ],
            "text/html": [
              "\n",
              "<link rel=\"stylesheet\" type=\"text/css\" href=\"https://cdn.jsdelivr.net/gh/bmabey/pyLDAvis@3.4.0/pyLDAvis/js/ldavis.v1.0.0.css\">\n",
              "\n",
              "\n",
              "<div id=\"ldavis_el424691391186915668649890436929\" style=\"background-color:white;\"></div>\n",
              "<script type=\"text/javascript\">\n",
              "\n",
              "var ldavis_el424691391186915668649890436929_data = {\"mdsDat\": {\"x\": [0.0075085939329554395, -0.008002928212757332, -0.012350270699569012, -0.008640462138307204, -0.012453140281257317, -0.01413947782976169, -0.008309939794682674, -0.02140354015339888, 0.00014535396276245754, 0.07764581121401615], \"y\": [-0.021692742497615342, -0.005554664659783237, -0.005792873976377637, -0.0025958539006453235, 0.001844623288287135, 0.001878505448857195, -0.006892093909205274, 0.038212414206012534, -0.01017511910081668, 0.01076780510128664], \"topics\": [1, 2, 3, 4, 5, 6, 7, 8, 9, 10], \"cluster\": [1, 1, 1, 1, 1, 1, 1, 1, 1, 1], \"Freq\": [14.085513768567642, 13.83821957031462, 12.139929394331723, 11.752710100605759, 10.612681172924095, 10.184090298378479, 9.1302789639748, 7.206920071833273, 6.06208190271431, 4.987574756355306]}, \"tinfo\": {\"Term\": [\"max\", \"ei\", \"giz\", \"post\", \"line\", \"com\", \"qax\", \"tm\", \"organ\", \"bhj\", \"host\", \"window\", \"bxn\", \"peopl\", \"new\", \"nntp\", \"time\", \"think\", \"appl\", \"write\", \"us\", \"thank\", \"stephanopoulo\", \"moral\", \"ex\", \"said\", \"articl\", \"fyn\", \"car\", \"question\", \"lorn\", \"kng\", \"actrix\", \"broder\", \"palli\", \"genoa\", \"coupler\", \"gravensted\", \"hollomb\", \"walru\", \"pchurch\", \"ander\", \"polymath\", \"yigal\", \"udac\", \"adl\", \"mvh\", \"bredel\", \"parkinson\", \"snd\", \"bankrupt\", \"ktodd\", \"holthau\", \"dolven\", \"stelth\", \"hun\", \"coke\", \"dwinnel\", \"tae\", \"blitz\", \"telecomwa\", \"tromblei\", \"perth\", \"bradski\", \"honeywel\", \"canrem\", \"umcc\", \"src\", \"reid\", \"cyt\", \"brian\", \"hci\", \"dma\", \"mitchel\", \"mat\", \"tower\", \"infant\", \"god\", \"jesu\", \"law\", \"armenian\", \"time\", \"univers\", \"real\", \"like\", \"turk\", \"line\", \"right\", \"peopl\", \"look\", \"believ\", \"year\", \"said\", \"good\", \"dai\", \"system\", \"new\", \"articl\", \"turkish\", \"thing\", \"write\", \"church\", \"plai\", \"com\", \"thi\", \"think\", \"possibl\", \"well\", \"know\", \"organ\", \"want\", \"post\", \"world\", \"work\", \"us\", \"sai\", \"apr\", \"williamson\", \"oehler\", \"geigel\", \"toontown\", \"ufr\", \"cervi\", \"ctd\", \"parikh\", \"subleas\", \"bdai\", \"tttddd\", \"kimgh\", \"lambda\", \"cjkuo\", \"amertum\", \"sibl\", \"salerno\", \"ibp\", \"cadenc\", \"joachim\", \"mcclari\", \"gunsmith\", \"kiria\", \"dabl\", \"oc\", \"mccreari\", \"nlm\", \"snll\", \"ekalenda\", \"bst\", \"kheta\", \"spoof\", \"nthu\", \"wong\", \"ocsmd\", \"rickert\", \"stephanopoulo\", \"work\", \"cramer\", \"com\", \"vector\", \"gov\", \"salvat\", \"homosexu\", \"like\", \"nasa\", \"write\", \"come\", \"number\", \"textedit\", \"articl\", \"organ\", \"new\", \"know\", \"space\", \"peopl\", \"line\", \"job\", \"look\", \"run\", \"window\", \"us\", \"need\", \"univers\", \"program\", \"help\", \"sai\", \"tell\", \"netcom\", \"read\", \"time\", \"state\", \"distribut\", \"apr\", \"think\", \"nntp\", \"year\", \"wai\", \"post\", \"good\", \"host\", \"want\", \"murli\", \"ahold\", \"emmen\", \"kde\", \"srini\", \"sundar\", \"daughterboard\", \"jhunter\", \"jamal\", \"tisl\", \"heijn\", \"zaandam\", \"sexi\", \"passthrough\", \"zeo\", \"skidmor\", \"diablo\", \"cboesel\", \"boesel\", \"eylerken\", \"rupin\", \"eyl\", \"jge\", \"rdrc\", \"chenmin\", \"dermatologist\", \"alcor\", \"lims\", \"uqv\", \"seetharam\", \"qtr\", \"mta\", \"rrn\", \"concordia\", \"nodin\", \"mirski\", \"card\", \"mckai\", \"erc\", \"wrap\", \"wscrawl\", \"organ\", \"john\", \"apr\", \"post\", \"articl\", \"line\", \"want\", \"write\", \"mit\", \"read\", \"problem\", \"peopl\", \"dai\", \"univers\", \"year\", \"ohio\", \"larg\", \"ibm\", \"good\", \"sure\", \"like\", \"distribut\", \"state\", \"time\", \"god\", \"us\", \"thank\", \"wai\", \"know\", \"question\", \"think\", \"work\", \"com\", \"nntp\", \"new\", \"host\", \"need\", \"jorgensen\", \"reev\", \"xylog\", \"malei\", \"pww\", \"tpeng\", \"yvon\", \"xman\", \"jlong\", \"kimd\", \"lavalle\", \"pvconwai\", \"balsamo\", \"noam\", \"iw\", \"picasso\", \"holger\", \"spacsun\", \"tianiti\", \"livi\", \"pps\", \"lavoi\", \"lperez\", \"zazula\", \"externel\", \"dlmqc\", \"msoe\", \"cudnvr\", \"lar\", \"narlochn\", \"rein\", \"stargl\", \"srihari\", \"whalei\", \"kosman\", \"ohlwein\", \"ctpm\", \"creed\", \"saturn\", \"disk\", \"hydro\", \"gorman\", \"com\", \"think\", \"like\", \"know\", \"line\", \"write\", \"time\", \"work\", \"game\", \"articl\", \"nhl\", \"organ\", \"car\", \"world\", \"need\", \"bui\", \"price\", \"drive\", \"author\", \"look\", \"right\", \"thing\", \"host\", \"question\", \"post\", \"team\", \"point\", \"univers\", \"repli\", \"fact\", \"peopl\", \"mail\", \"god\", \"nntp\", \"wai\", \"us\", \"new\", \"apr\", \"good\", \"want\", \"gak\", \"qcwin\", \"matteo\", \"fourd\", \"umeist\", \"wr\", \"rvesterm\", \"vesterman\", \"horton\", \"melido\", \"unmesh\", \"stueven\", \"passman\", \"mareds\", \"millitello\", \"millit\", \"paxton\", \"mmatteo\", \"eeeee\", \"vccsouth\", \"vma\", \"opec\", \"assat\", \"notr\", \"strokeadjust\", \"wangr\", \"dame\", \"vasili\", \"mondrian\", \"banz\", \"goo\", \"libxmu\", \"breaker\", \"coach\", \"ohio\", \"upenn\", \"com\", \"organ\", \"host\", \"xmu\", \"post\", \"write\", \"stratu\", \"sa\", \"displai\", \"line\", \"articl\", \"good\", \"nntp\", \"us\", \"peopl\", \"program\", \"univers\", \"apr\", \"rutger\", \"cours\", \"win\", \"access\", \"new\", \"moral\", \"distribut\", \"softwar\", \"window\", \"team\", \"know\", \"mail\", \"list\", \"year\", \"like\", \"christian\", \"system\", \"time\", \"thing\", \"state\", \"sai\", \"need\", \"right\", \"think\", \"question\", \"work\", \"chad\", \"cipiti\", \"volkmar\", \"spigot\", \"macplu\", \"teac\", \"interlink\", \"pburri\", \"reynold\", \"wireless\", \"hdr\", \"cowen\", \"saeid\", \"kellei\", \"mnhcc\", \"montasmm\", \"domet\", \"dnbf\", \"grote\", \"uct\", \"ccmb\", \"stollmann\", \"burri\", \"schunix\", \"tosspot\", \"umassd\", \"smucs\", \"acsddc\", \"longstaff\", \"cgtwo\", \"passau\", \"toshiba\", \"jae\", \"kelleyb\", \"cg\", \"medi\", \"nuet\", \"umiac\", \"bram\", \"emm\", \"mpc\", \"chevrolet\", \"satam\", \"window\", \"thank\", \"post\", \"line\", \"organ\", \"austin\", \"com\", \"host\", \"kei\", \"send\", \"problem\", \"nntp\", \"cleveland\", \"univers\", \"object\", \"info\", \"know\", \"work\", \"new\", \"drive\", \"memori\", \"time\", \"think\", \"year\", \"like\", \"thing\", \"peopl\", \"repli\", \"file\", \"want\", \"us\", \"question\", \"write\", \"articl\", \"wai\", \"need\", \"state\", \"right\", \"lotto\", \"cerkonei\", \"callowai\", \"mic\", \"jcav\", \"angmar\", \"cavallino\", \"hathawai\", \"jamesl\", \"reb\", \"phydeaux\", \"rodc\", \"soderberg\", \"qualm\", \"khalsa\", \"grissom\", \"libman\", \"jwaterma\", \"grok\", \"talluri\", \"mubashir\", \"wigg\", \"iteb\", \"cheema\", \"skcla\", \"epcot\", \"reseach\", \"johnc\", \"caton\", \"peterbak\", \"serpukhov\", \"paula\", \"tichauer\", \"zisfein\", \"pcb\", \"isreal\", \"com\", \"organ\", \"ncr\", \"line\", \"request\", \"msg\", \"uchicago\", \"alaska\", \"post\", \"nntp\", \"car\", \"wai\", \"synopt\", \"know\", \"write\", \"israel\", \"repli\", \"articl\", \"good\", \"host\", \"question\", \"like\", \"law\", \"thank\", \"thing\", \"right\", \"us\", \"research\", \"think\", \"engin\", \"univers\", \"christian\", \"apr\", \"peopl\", \"state\", \"system\", \"time\", \"want\", \"distribut\", \"new\", \"window\", \"year\", \"need\", \"gifford\", \"ungsgard\", \"odu\", \"forestri\", \"lte\", \"zmed\", \"technik\", \"pfc\", \"alsi\", \"prakash\", \"gke\", \"flashflood\", \"biosci\", \"norden\", \"enni\", \"nynashamn\", \"duvvuri\", \"trc\", \"rubenstein\", \"dominik\", \"jpw\", \"cardhu\", \"wetstein\", \"wynblatt\", \"cbi\", \"bon\", \"gsnow\", \"wchutt\", \"bauer\", \"ulm\", \"sm\", \"gpb\", \"olmstead\", \"noah\", \"quicktim\", \"appl\", \"gibson\", \"ksu\", \"telesoft\", \"line\", \"screen\", \"host\", \"research\", \"post\", \"compani\", \"articl\", \"nntp\", \"window\", \"organ\", \"driver\", \"new\", \"com\", \"write\", \"berkelei\", \"gld\", \"apr\", \"univers\", \"david\", \"us\", \"run\", \"john\", \"toronto\", \"want\", \"inform\", \"space\", \"student\", \"think\", \"peopl\", \"thank\", \"good\", \"thi\", \"like\", \"thing\", \"time\", \"know\", \"protec\", \"girish\", \"ugxk\", \"thssgkg\", \"kolin\", \"kjetilk\", \"kjetil\", \"tromso\", \"stud\", \"garg\", \"iitmax\", \"wrl\", \"sloan\", \"gulshan\", \"fombaron\", \"gypsi\", \"beibg\", \"almserv\", \"fnma\", \"kumthekar\", \"wha\", \"kumthek\", \"krueger\", \"kdai\", \"mufti\", \"ufrima\", \"fanni\", \"bledso\", \"disolv\", \"rpao\", \"uab\", \"elliott\", \"birmingham\", \"pmafir\", \"vpnet\", \"wolverin\", \"lwb\", \"brendan\", \"stl\", \"iivx\", \"inel\", \"african\", \"appear\", \"emerson\", \"hobgoblin\", \"hulk\", \"elia\", \"time\", \"edg\", \"art\", \"new\", \"think\", \"rai\", \"sabretooth\", \"dai\", \"blue\", \"claim\", \"bu\", \"said\", \"look\", \"peopl\", \"write\", \"know\", \"bit\", \"organ\", \"line\", \"com\", \"point\", \"fact\", \"state\", \"want\", \"reason\", \"team\", \"right\", \"univers\", \"number\", \"year\", \"articl\", \"question\", \"post\", \"us\", \"good\", \"like\", \"mail\", \"god\", \"work\", \"wai\", \"qax\", \"max\", \"wwiz\", \"bhj\", \"tct\", \"bxn\", \"nrhj\", \"pmf\", \"klj\", \"bs\", \"mfq\", \"pnei\", \"kn\", \"gizw\", \"bxom\", \"tbxn\", \"ghj\", \"bhjn\", \"yf\", \"wwhj\", \"nriz\", \"tq\", \"eq\", \"fq\", \"pmfq\", \"nei\", \"wmbs\", \"eqtm\", \"nrizwt\", \"wmbxn\", \"giz\", \"ei\", \"wm\", \"tm\", \"mf\", \"nui\", \"tg\", \"okz\", \"fyn\", \"chz\", \"ez\", \"rlk\", \"ex\", \"peopl\", \"line\", \"us\", \"um\", \"di\", \"like\", \"univers\", \"organ\", \"think\", \"post\", \"time\", \"com\", \"know\", \"said\", \"write\", \"good\", \"question\", \"new\", \"go\", \"nntp\", \"right\", \"moral\", \"articl\", \"look\", \"work\", \"need\"], \"Freq\": [812.0, 120.0, 51.0, 1197.0, 2120.0, 2120.0, 36.0, 48.0, 1910.0, 36.0, 801.0, 518.0, 30.0, 1041.0, 888.0, 763.0, 888.0, 787.0, 147.0, 1411.0, 760.0, 357.0, 126.0, 192.0, 38.0, 445.0, 1258.0, 22.0, 355.0, 473.0, 6.769874450335182, 4.086560853051175, 4.016783614891752, 3.891032089345732, 2.8553565602645334, 2.8546218079784493, 2.799611718764652, 2.7497650377496052, 3.6718391643087793, 3.687525848296584, 2.7488393724738116, 2.689656345663839, 4.472198086283271, 2.6651123498507006, 4.330469128526587, 2.5805326409233973, 3.4583199164400154, 5.10244857185645, 2.5181881650636466, 2.422012243506804, 2.323249509322574, 2.32025547403365, 3.823186166690772, 1.4951985706159407, 1.4949844503132619, 1.4948395140756612, 1.494474327301767, 1.4943315804333146, 1.4938318204357874, 1.4937772321650293, 2.211489074338169, 2.942562928337719, 2.198940194213344, 3.580921669571713, 6.270336892713381, 2.1993541309402675, 2.1890754806640227, 8.972285232522008, 4.868656641424441, 6.919179501091764, 48.20534541083105, 8.404107741034222, 15.429096241976287, 6.165150257532898, 7.897350519709826, 17.51870138434743, 12.452466145863204, 121.85912378733484, 52.134762103912095, 68.95175608051655, 45.986154135830056, 164.78770422240558, 185.73910056285254, 51.50795097131255, 176.14893974301387, 21.41418343946554, 272.8689026020242, 104.45231492991041, 162.22577567283872, 107.65273124753305, 80.55547328366337, 108.41579470394441, 87.36787462416197, 118.31505941758076, 80.84163492411663, 78.68555819908373, 136.40235456547, 171.82759444551692, 35.83981882192086, 94.52012210428745, 173.89970214965686, 40.52544478640045, 58.69567674060829, 221.7425020415341, 72.62613637261649, 115.15379252331581, 59.62225045864053, 70.06970985367661, 117.31606253579471, 176.95373082389168, 84.3660638636875, 114.89414151600242, 70.34631066501831, 87.19114641120463, 83.3837038520995, 70.00819266743895, 70.30476519606499, 4.3901495159909665, 4.389821427285711, 3.3201931692443183, 3.3180241702252244, 3.231194232499863, 5.631507260431446, 3.220884102295391, 2.250032340638539, 2.2494904493722983, 2.2489408147537486, 2.2475784149335443, 2.247111949654613, 2.2449241658363985, 2.1924873311608586, 2.1871667877518637, 4.395930358676127, 2.8509916190397417, 2.1421503789152814, 2.1096027748325183, 2.1064596907719926, 3.4652339013505506, 2.0942950276894337, 4.061520210028481, 2.0288804779388547, 5.523356719099385, 1.9910173492865568, 1.9932791251379496, 2.683797729558143, 1.967542086202077, 1.9023199730959262, 2.506155476693809, 3.3710710089882445, 5.417306060197286, 6.548604670356866, 4.369892045977256, 6.357842884353901, 46.10243292616203, 193.2071894317659, 21.761346042840874, 401.17056988953055, 6.079499768660743, 59.01404959872552, 13.358853200174735, 21.657298331069455, 201.5380361902128, 52.77022786391747, 233.2189423356958, 93.21381892241443, 89.4801602793065, 5.408593354895148, 192.38980345631867, 255.00377540004504, 144.3858922881358, 149.59344470023277, 69.07366686928574, 159.00492846937834, 260.4113196740977, 45.65352039296206, 102.40923218872021, 80.47284508580928, 90.53659673292105, 116.51172367694802, 90.85828885558685, 144.53628080877954, 62.52767773126448, 67.01375160887272, 72.76174183130273, 52.964217767460944, 43.74598512869038, 66.25090177694933, 108.00393845032445, 74.9819938125412, 70.74819950033454, 83.38615348348964, 89.06493304939711, 85.3284110866797, 78.07609973575653, 73.87264559864282, 94.1585033155006, 79.06866213654381, 81.49888630049223, 75.16562712576635, 5.878020671808557, 3.952768487876617, 3.837348238170755, 3.8380124477362605, 5.33460264768088, 2.989748902061992, 2.9894799475068687, 2.98919463930714, 2.9891020525192213, 2.7993366248707026, 2.0251650272422412, 2.024924628666544, 2.023424118875379, 2.021962480439469, 4.007533824525208, 2.6842462155968017, 4.63365021666537, 2.6653393896768747, 2.6626973954922635, 2.6203802015226563, 1.989038568336584, 1.9765728140403338, 1.966748047550565, 2.4615790161642486, 2.6829014428211853, 1.9225886784148094, 3.8703768135991132, 2.3750664750407546, 1.9094990954755018, 1.8922306531504884, 4.448188816682421, 3.103307855417244, 3.05475816169131, 8.782508967140219, 6.083091349645862, 4.955165385549891, 67.82484599025254, 4.5739624329906, 3.852030037108283, 8.499900879933314, 5.423726991645099, 285.8413708105116, 63.62393786610623, 117.31491554249153, 187.93190532152832, 187.81246031408784, 268.5190590769794, 105.19491855469941, 183.2960929014516, 41.988736301196, 72.48780646675209, 78.73318786313699, 140.10970221788628, 72.4989249323274, 139.16349744945478, 93.66083491393351, 30.881799793737915, 32.026208722028784, 37.732006394959605, 97.41301513216186, 59.46479040882389, 129.07694785511387, 71.53688379764924, 74.46488863392325, 109.70981262975398, 74.55076891798684, 94.50943710584838, 58.65866139948871, 72.94730261865628, 103.79527200519112, 68.73156048088035, 91.89374763278758, 89.06654968099471, 159.69784613152123, 88.8557577434909, 95.96319459462653, 88.10667427205135, 73.02806245079671, 4.636175149226398, 3.724677101753908, 3.723355249599326, 3.7222545586307323, 2.817650748349222, 2.816081185923549, 2.8155234115668155, 2.8154980803296534, 2.8146261012042797, 2.814096580919765, 2.8139940381231776, 2.7994753421161134, 6.249372579467233, 2.6324876860631816, 2.6117043802503583, 2.5430864430318953, 5.232370172785845, 1.909028770572937, 1.9089017490327465, 1.9081240313379646, 1.9078307735539002, 1.906631558686923, 1.906597580729384, 1.906258410077964, 1.9062435523330903, 1.9041263236885895, 3.041407899007819, 1.8961212873911097, 5.731415030438405, 2.9936970009529307, 7.482414390838893, 3.0595129136299684, 2.456071451255159, 4.464145846269524, 5.3074782652486405, 3.9492670168341957, 2.427259361110017, 11.73090469808898, 16.773711967549467, 45.46570087163796, 5.882320517298302, 3.8452771733240625, 288.4007648566982, 133.38696832030845, 165.14800613097037, 148.24683322369333, 250.8747427678277, 187.75675104170736, 133.83462194343005, 116.11007470922226, 67.67092696861586, 159.47455725252394, 24.195020107266693, 207.2550070904311, 64.7226398638191, 72.2022722028228, 84.66217775523991, 38.83251766806262, 37.79809906155422, 55.65533911024181, 33.9670300330124, 82.71135293048934, 79.59066921979685, 78.31846434149486, 95.73461740315587, 68.31490937108086, 113.99776909323597, 47.58006026639106, 61.67625072316519, 102.45306165390407, 60.74938854964536, 47.102769095790286, 95.46717409831604, 57.52714606350151, 64.82331399452653, 78.73335882929625, 65.10269026062622, 77.2407565992338, 76.70355510418891, 67.96611772093128, 66.8322759571199, 64.57300629734823, 4.679819703283783, 3.716604384364236, 3.711095251963416, 3.693124148873102, 2.8430481717923812, 2.8376078815522714, 4.2779006938480855, 3.426129396081261, 3.309969796891426, 1.927966499846238, 1.927633066249957, 1.926446033849477, 1.9249688966247922, 1.9248356111634821, 1.9226944660053065, 1.918263494217263, 1.9025987134822264, 1.8890128340348198, 3.0744897975802568, 2.4423837172598404, 4.2325260119352, 1.7868738316426875, 4.107782697071188, 2.4105988737684605, 2.7220458675082773, 2.866519169677286, 2.3440417009425065, 2.800104299975866, 2.830092209112619, 2.9273327508585973, 3.823723226314543, 7.938543659674513, 10.035269128466897, 12.9390789748913, 35.98814083743302, 16.117497341127635, 288.303628234481, 250.33990301657616, 129.0835434466345, 6.861262818920138, 173.46293223302501, 192.61948237463582, 18.754152976081237, 15.739622940935087, 31.476068145327254, 232.87524596927167, 160.16892947067515, 103.69905197147217, 109.63304387708344, 105.25876811721588, 129.01140214084288, 56.271369259281, 121.98091165443196, 83.51911582316546, 22.304816081342306, 42.69127519269002, 42.80355521720651, 37.74384555602812, 94.83640457776745, 36.660575227349, 60.93576919833783, 39.44749240454636, 62.35707257142804, 42.96018982797655, 85.93087357662971, 53.067992640556824, 40.62630597479831, 64.9834665455188, 87.67154123182736, 44.19530528853876, 50.61895718698279, 65.390519464588, 53.810664509609154, 50.834624500418904, 49.10189238885833, 50.337226032881965, 50.62314842089488, 53.57688093069912, 47.25817527719744, 47.265382369600424, 4.254120811170436, 3.4225333923280497, 3.419723963963817, 3.418477439741808, 4.0931148798183274, 2.588368922901388, 2.5878718750614236, 2.5870873626108297, 2.5568235865069346, 4.483630276841699, 2.5248253139491847, 2.4774533833604298, 2.4859348557379137, 3.6067441762139416, 2.4286316771399483, 3.5558540755851156, 2.3415978616498716, 1.7539435825064904, 1.753617915917503, 1.7535101694536805, 1.7534239511765572, 1.7532929880408044, 1.7532750478852217, 1.7528430067266623, 1.752865590216631, 1.7528555648355701, 1.7526690927478383, 1.7522596350792474, 1.7515767483335127, 1.7209258869903417, 3.4184793392876935, 3.4157239424508625, 3.3585043438718465, 3.2482221973532805, 8.31532627496631, 2.7968491492593994, 3.3991005942880403, 3.2571032075486213, 2.738320552504817, 3.18554773617389, 8.944698169780125, 2.8379118437207405, 4.079681291318089, 98.36854930839776, 73.99735196229942, 180.52073786867084, 260.66035334234584, 241.41540391242125, 21.53013352257207, 251.8769072006403, 123.55725717196512, 67.29392376127109, 51.229047154157904, 72.2733342477899, 103.96180522378596, 22.112439735805957, 124.96349521200267, 41.223732051791124, 34.37867033259072, 105.73948299894624, 90.97393630096549, 100.66813111461256, 49.629308706613145, 28.56004216246926, 93.81288782946741, 85.70530855614741, 70.98662070030576, 101.02845386297241, 66.98661269523319, 96.73342021040492, 57.30656738782444, 47.66201403997764, 65.62260029386005, 71.88091677215347, 54.625138023521146, 92.54399793208489, 85.78515364576522, 56.957469689282284, 54.62537441145353, 52.32660645512021, 52.53509385754045, 3.2193039661987037, 2.5018612232022255, 2.5002206780702245, 4.440169648741759, 4.316419563939187, 4.19589758755091, 2.9186005584430763, 2.2830321815660586, 1.6954996095050578, 1.6954222181603074, 1.694256617466752, 1.6934265054143773, 2.2952085459540927, 1.683246042993165, 3.3525502906776996, 2.7927512570667536, 1.636709056861182, 1.637881091065059, 2.1884020566878393, 2.6492915457313697, 1.5909639601614278, 1.5987269364688634, 2.102610628887001, 1.5609062214972595, 2.043016265894712, 2.039729309783064, 2.0471333340587345, 1.5361262319474822, 2.0155417708455468, 1.4599613224070798, 2.007244434739637, 4.945990016987582, 2.8366128490094216, 6.131292389798339, 2.7146172203157204, 3.847124882881414, 235.92082589234957, 212.9924369435319, 9.942867586851664, 217.57888493801346, 32.714914666019446, 20.651076157927477, 15.027087628166758, 12.290331374288266, 131.88336488151486, 95.91559170855189, 54.650311732558784, 67.36348519429059, 5.117008994331662, 96.68615973069141, 124.34088086735436, 27.466157219788368, 55.23920347828566, 109.35677817073851, 73.38551727829767, 80.15272242699612, 54.26669286533695, 88.97326186759884, 37.03754029676825, 44.77525788579789, 58.41704271357826, 58.31071571005186, 69.9963561510306, 34.455447144787485, 67.49413540813393, 34.15511574530516, 77.86885351064647, 37.64139714438667, 56.70662511818372, 73.47080897372324, 47.71361007781176, 42.437265739321774, 56.18749987215111, 47.87879537506131, 42.449348628589256, 51.133667192293714, 43.906746102522746, 43.740607131978464, 42.65150314679726, 3.7348843982628783, 2.824185074905883, 2.8217364645931347, 5.39587800971056, 2.6553788298755467, 2.642962221816536, 2.6256316647951343, 3.7995812411975023, 1.9132827711039073, 1.9132735107745555, 1.9122835516948375, 1.9121335941034017, 1.9116156131003144, 1.9109833715818403, 1.9104338755869272, 1.9101090172588666, 1.9097208302268527, 1.8426900855753192, 1.8165590791067134, 1.8166358502242412, 1.8060705612347998, 1.8161726843965096, 1.7909950437706679, 1.776699933094636, 1.7788547519906972, 1.7766926144472452, 2.404295902797445, 1.768624328459422, 2.9654158514489124, 2.956756547344245, 4.647003539213687, 4.586409320902131, 2.2777207923345575, 6.287120783659202, 4.7454644391252145, 41.706721518826264, 5.765484041520167, 5.045343476840459, 2.944171461035095, 183.7674147527534, 21.39658960239712, 91.65271294150513, 39.38385333497925, 110.78503611395469, 28.43208838341183, 112.90381858770411, 78.2124214755993, 60.71377334556955, 141.18550010434637, 32.66644149022718, 84.65790703486444, 144.7348899492061, 111.22263984803232, 22.355818727242326, 9.469134245040944, 58.6958818613857, 80.37062547011887, 34.48618343414813, 62.491551061512595, 42.86617210794671, 32.70995667401134, 21.922698187452085, 48.45639993568299, 34.8624921520865, 33.53147573978893, 15.379405627015764, 49.218495169290954, 55.68481945680025, 32.73819410668713, 43.86439498609007, 33.1103589766008, 46.15188034764545, 36.53060367088226, 38.60779710935267, 37.78244964418893, 1.682867959648656, 2.1977630411294142, 1.4518421700913706, 1.385056571433835, 0.8824121770641624, 0.8823284420705767, 0.8821926946428656, 0.881700837928855, 0.8812087299470466, 1.3117956759955005, 1.3100873062388931, 1.2892940165413773, 4.27111736518713, 1.2697206320017274, 2.902436293031532, 2.744760975882464, 0.7964986916723106, 0.7659109832201901, 0.7523906399272928, 0.7507729778456576, 1.127207818837468, 0.745934627949968, 2.6366869270718754, 1.5308729279684423, 1.8184078401587587, 1.4806833160816322, 0.731058192352848, 1.771321636841423, 1.0513310999911085, 1.325744305249589, 3.757578250376695, 2.3551865879451808, 3.302761173693694, 2.5534062256643937, 1.4114718524711378, 9.117159573235615, 1.6583452276636794, 4.104939648299264, 4.218660689595511, 2.698671175016934, 2.3859143781945225, 3.4884943094736736, 30.13420525475159, 2.856882195110713, 5.357376196666246, 4.105291171948256, 3.0837245014700816, 79.37781297954896, 10.464231363520645, 15.791623271350963, 73.47349412704516, 63.56908440160132, 16.07144715173136, 4.640324739245706, 38.244651350834864, 13.091008037383173, 22.775723271509, 14.282975231357469, 36.80126459340412, 43.96015752942999, 61.59892777220411, 73.67217660004775, 56.188774282236366, 28.104120250530148, 82.37208086841173, 85.22735143186796, 81.21908732000412, 32.01473566577804, 24.64581099286277, 33.887141081297855, 37.954973752499605, 25.688244700137087, 24.0719615761756, 34.80847376078948, 49.58150461858373, 29.22693955164677, 35.364434920422326, 50.24541846468086, 29.723820616540447, 45.648548480906136, 37.04312492476461, 34.16275170324631, 37.44800780327717, 26.90562109888667, 28.467915818761718, 29.732976815088875, 27.233141637698928, 34.28565650757893, 741.9919330203514, 14.609642616448758, 32.55065548718304, 13.479215703466721, 26.289534360115766, 11.911262810431124, 7.107187824119572, 6.139000901671609, 10.856165166056954, 7.04759405050972, 5.601975555616888, 11.23282225907973, 7.477882810939413, 7.397958337869727, 6.44824526197193, 9.24565060779734, 4.5852202079645865, 11.48365658433185, 4.576955951460821, 6.837379778087094, 10.429198150511755, 10.063170310350635, 11.78711952084329, 4.993000983825938, 4.070288558654673, 3.1342660001349376, 3.1320484025885125, 3.1282530382410885, 7.177138793317744, 40.15833277131512, 87.44451979646186, 7.953491847729458, 33.56985314838186, 13.692468913517057, 9.616497748229017, 9.402533385427706, 13.195031621881116, 14.233049196404847, 10.635106641103771, 11.707658950905346, 9.775071580947456, 15.556330812389502, 68.57954254094588, 87.23068443346189, 42.570724979293814, 8.436065219948231, 17.09733267000678, 46.63304118484134, 46.199942544123495, 56.72963402064416, 38.57171459933186, 44.26083737651074, 38.291368261836105, 47.58275426073914, 36.556211780141176, 29.14924495614457, 38.881873121685906, 31.631105210988206, 28.34462027219441, 30.411276474147044, 23.94881311868645, 28.150105110210447, 26.237689670726127, 21.148728546217832, 28.95669786805284, 25.387246903489928, 26.197903155074517, 24.725912883486686], \"Total\": [812.0, 120.0, 51.0, 1197.0, 2120.0, 2120.0, 36.0, 48.0, 1910.0, 36.0, 801.0, 518.0, 30.0, 1041.0, 888.0, 763.0, 888.0, 787.0, 147.0, 1411.0, 760.0, 357.0, 126.0, 192.0, 38.0, 445.0, 1258.0, 22.0, 355.0, 473.0, 7.6510958966319205, 4.936869495975676, 4.945080096823899, 4.853706253394784, 3.631776906581895, 3.6310464642513685, 3.6119796169351504, 3.587174570483196, 4.797549641119203, 4.832229244970905, 3.606949541816007, 3.5718375298196063, 5.9558496273185, 3.5700055946727405, 5.913033752040501, 3.5406393589930514, 4.760817820028547, 7.07308423791333, 3.5299816770717594, 3.5027351148014145, 3.4254526100645286, 3.467910759524626, 5.762660155299421, 2.2716127922281997, 2.271398518268246, 2.2712514375159567, 2.2708869621221695, 2.2707463249697257, 2.2702446502727227, 2.270193780582898, 3.3813195779381706, 4.530161103126709, 3.375216233678605, 5.587741236505636, 10.021813369933497, 3.411752972845611, 3.40023194156583, 15.34748465607456, 8.024501956278991, 11.806329274649523, 105.46922995756051, 15.08540410849189, 30.745251840749148, 11.068666527909178, 15.013970794281478, 40.75421360646265, 26.87265297954899, 510.10129728065687, 173.73645772432397, 261.01241076873686, 154.99593021285082, 888.0039627628582, 1072.8572734848983, 197.89554075113867, 1079.8181162174737, 60.18755299125014, 2120.0139589886435, 554.5392708965722, 1041.8865015533406, 588.2912868633908, 393.348684028678, 603.4987898095739, 445.5611837663617, 697.2288226013753, 410.696118243001, 395.38222777565187, 888.6358770731517, 1258.921211676064, 129.58870764778078, 555.1893814034673, 1411.4525391723528, 156.98329433228747, 275.8981471807417, 2120.6497757767042, 382.7806035436766, 787.6350605910135, 288.2429700213106, 376.90128105402323, 937.8355644777457, 1910.088842990811, 597.9558144127328, 1197.5437762008498, 421.8879912337534, 748.6976057655199, 760.8870632401007, 434.19718818030776, 629.126496531863, 5.195447706750719, 5.1951264957833105, 4.125497387849271, 4.123320817264906, 4.104180515617121, 7.16205437146621, 4.100110230849441, 3.055327643192726, 3.0548871416062005, 3.054235611309715, 3.0528730405767113, 3.0526106580160097, 3.0502219912421804, 3.024242910206093, 3.039233491034204, 6.108677736027857, 4.01206988062773, 3.026195818708132, 3.019592486631037, 3.0179878461080882, 4.973710028049994, 3.014640537948505, 5.920199041526034, 3.0001258051965665, 8.183010127837752, 2.975042537447822, 2.9901366199228443, 4.0690377990342395, 3.010854376817671, 2.960892471928831, 3.923915701674458, 5.355869139818563, 8.914083677252712, 11.08700274464855, 7.122870251271514, 10.847169315002734, 126.67012381069966, 748.6976057655199, 53.29536644386501, 2120.6497757767042, 11.285882000771073, 205.03272954916486, 30.722995960175005, 58.511283671360154, 1079.8181162174737, 192.49754110607674, 1411.4525391723528, 424.7528594793224, 411.699541344597, 9.790323106085406, 1258.921211676064, 1910.088842990811, 888.6358770731517, 937.8355644777457, 321.7563058791518, 1041.8865015533406, 2120.0139589886435, 181.6838737324604, 588.2912868633908, 431.3053251892364, 518.8464695595586, 760.8870632401007, 533.7384507470833, 1072.8572734848983, 318.24654475299207, 370.4148910066813, 434.19718818030776, 267.30461127919955, 197.41650254873042, 390.2043793873027, 888.0039627628582, 480.793295925463, 451.1286066946718, 629.126496531863, 787.6350605910135, 763.692611291818, 603.4987898095739, 519.568676289289, 1197.5437762008498, 697.2288226013753, 801.493082391349, 597.9558144127328, 6.694058254607455, 4.768796854690421, 4.7627681485448585, 4.764307478531703, 6.667197356392067, 3.805773989626255, 3.805502981701729, 3.8052238265120035, 3.805132003495311, 3.795797787681873, 2.841184801296133, 2.840944099312891, 2.8394447273520194, 2.8379882545251536, 5.643442219696509, 3.7913574609835496, 6.583811896270886, 3.789775891736554, 3.7887341599483273, 3.7314071189709908, 2.838012413592527, 2.832881010320031, 2.833044912748115, 3.5580125582769995, 3.9266572050245436, 2.8317722950945226, 5.726095579867131, 3.5360676354744687, 2.848463575179031, 2.8338431095829906, 6.708041541329413, 4.720207526619894, 4.725090338472668, 15.952045267280846, 10.453358923162202, 8.640768964447561, 230.5281260447241, 8.1643171795407, 6.534788201757902, 18.34583195245026, 10.255094272531334, 1910.088842990811, 273.6867921781872, 629.126496531863, 1197.5437762008498, 1258.921211676064, 2120.0139589886435, 597.9558144127328, 1411.4525391723528, 177.85352876360977, 390.2043793873027, 447.5354779862101, 1041.8865015533406, 410.696118243001, 1072.8572734848983, 603.4987898095739, 119.98037030823751, 128.92212094932836, 165.96596171830555, 697.2288226013753, 330.7760143877059, 1079.8181162174737, 451.1286066946718, 480.793295925463, 888.0039627628582, 510.10129728065687, 760.8870632401007, 357.39351394025783, 519.568676289289, 937.8355644777457, 473.32427455234966, 787.6350605910135, 748.6976057655199, 2120.6497757767042, 763.692611291818, 888.6358770731517, 801.493082391349, 533.7384507470833, 5.457790535422759, 4.5463043166862525, 4.544985321847539, 4.543948065652392, 3.639260616941854, 3.6376958394077294, 3.637137562038884, 3.637113111258509, 3.636242586164679, 3.635712441258609, 3.6356132001102517, 3.6287672758475793, 8.230077671142901, 3.6541744984671345, 3.6720898232965373, 3.614763799497723, 7.457783349486306, 2.730634806186997, 2.7305074625005323, 2.7297325394888903, 2.7294406799719964, 2.72824073462344, 2.728212666471144, 2.7278675821199343, 2.7278521696294735, 2.7257385012457394, 4.358380849127494, 2.724115055868544, 8.253607978942357, 4.328171009345499, 12.223853568490128, 4.585407347479181, 3.629152657044445, 7.199132194993572, 8.84867724170433, 6.565890173958556, 3.6601793845024253, 25.84426023042194, 41.503676722947944, 147.12028223836649, 11.188630975478516, 6.563357874806623, 2120.6497757767042, 787.6350605910135, 1079.8181162174737, 937.8355644777457, 2120.0139589886435, 1411.4525391723528, 888.0039627628582, 748.6976057655199, 353.9434538974124, 1258.921211676064, 82.3775688847605, 1910.088842990811, 355.7763516310964, 421.8879912337534, 533.7384507470833, 170.98784852929717, 169.5510618976161, 302.17531219249094, 148.4771351850787, 588.2912868633908, 554.5392708965722, 555.1893814034673, 801.493082391349, 473.32427455234966, 1197.5437762008498, 275.32848590511753, 431.664133495322, 1072.8572734848983, 429.01548835138965, 276.04665769199966, 1041.8865015533406, 402.55566418590166, 510.10129728065687, 763.692611291818, 519.568676289289, 760.8870632401007, 888.6358770731517, 629.126496531863, 697.2288226013753, 597.9558144127328, 5.500544177112793, 4.575037417600753, 4.578995116084245, 4.58887264276757, 3.6637682033604744, 3.658330590464176, 5.566033383977744, 4.661044082142122, 4.580504906890479, 2.7486780538434736, 2.74834868295825, 2.7471598941558883, 2.745705047373518, 2.745552099760327, 2.748697021241966, 2.746567194555273, 2.7514202156564287, 2.743324290421071, 4.594218007369747, 3.663165341943175, 6.436773880051654, 2.7367517416819456, 6.338389005211066, 3.7539952532723566, 4.324577262651208, 4.586209817860286, 3.7817197430261196, 4.533218376312451, 4.603241218547046, 4.777292059036914, 6.441193327454075, 15.984646575575812, 21.559742278322542, 30.870419956232425, 119.98037030823751, 43.20075721379784, 2120.6497757767042, 1910.088842990811, 801.493082391349, 15.204437675911143, 1197.5437762008498, 1411.4525391723528, 60.3627628270527, 48.211394551637355, 127.0202197094749, 2120.0139589886435, 1258.921211676064, 697.2288226013753, 763.692611291818, 760.8870632401007, 1041.8865015533406, 318.24654475299207, 1072.8572734848983, 629.126496531863, 82.93192392132774, 226.5752618903736, 230.96855514909683, 194.58871286341687, 888.6358770731517, 192.61129515900205, 451.1286066946718, 230.6705936223804, 518.8464695595586, 275.32848590511753, 937.8355644777457, 402.55566418590166, 250.58755821347427, 603.4987898095739, 1079.8181162174737, 294.7228100710529, 395.38222777565187, 888.0039627628582, 555.1893814034673, 480.793295925463, 434.19718818030776, 533.7384507470833, 554.5392708965722, 787.6350605910135, 473.32427455234966, 748.6976057655199, 5.083141916684563, 4.251548371594161, 4.248744641867363, 4.247513011113668, 5.108552152737475, 3.4173823543491375, 3.416889367864773, 3.4161009434826872, 3.4186703038849773, 5.9965120459653045, 3.4182516114145702, 3.414323058298384, 3.445823946339229, 5.08819322689573, 3.448099075717121, 5.16942265013442, 3.4092889242433437, 2.582953701673907, 2.5826279273349746, 2.5825237570833752, 2.5824412884531207, 2.5823034950132633, 2.58228477749955, 2.5818549922985845, 2.5818893419033406, 2.5818776785601836, 2.5816899821853267, 2.581281940074294, 2.5805875137316185, 2.5846974880426186, 5.165401210988537, 5.1748850115146015, 5.15197487855313, 5.0155606045566605, 13.989322307757513, 4.327185808374274, 5.410401976402852, 5.286355753229352, 4.342502038433846, 5.2115561414823155, 17.722123329738217, 4.583219294937122, 7.200227005350186, 518.8464695595586, 357.39351394025783, 1197.5437762008498, 2120.0139589886435, 1910.088842990811, 70.19247668882701, 2120.6497757767042, 801.493082391349, 344.9097993193469, 252.21184759742627, 447.5354779862101, 763.692611291818, 81.10725858733257, 1072.8572734848983, 211.26439846361347, 167.7088140964888, 937.8355644777457, 748.6976057655199, 888.6358770731517, 302.17531219249094, 131.2102887033269, 888.0039627628582, 787.6350605910135, 603.4987898095739, 1079.8181162174737, 555.1893814034673, 1041.8865015533406, 429.01548835138965, 319.5455320153727, 597.9558144127328, 760.8870632401007, 473.32427455234966, 1411.4525391723528, 1258.921211676064, 519.568676289289, 533.7384507470833, 480.793295925463, 554.5392708965722, 4.1528390259831, 3.3336778925853405, 3.332061739811361, 6.037996823126304, 5.928292352513011, 5.861793557483678, 4.240234704181574, 3.341096753817699, 2.527311567845997, 2.5272284210694864, 2.5260638434023455, 2.525237629733958, 3.4404213987818304, 2.5352534172615733, 5.092977937881579, 4.244486767942588, 2.512022342089252, 2.5349725656361217, 3.427769557326315, 4.207952478527395, 2.541170067394, 2.5891690726065093, 3.4085859245381185, 2.542818067906739, 3.3906621512057806, 3.3910991042435943, 3.410446242918219, 2.5684515941237636, 3.397408956652554, 2.4764242412500646, 3.4064525198238087, 8.584493034554832, 4.99063002750663, 13.168168584120705, 5.078644061656349, 8.129292650669624, 2120.6497757767042, 1910.088842990811, 29.915305095769696, 2120.0139589886435, 156.9621183737598, 83.05383408464415, 53.76288328301123, 41.26056041017146, 1197.5437762008498, 763.692611291818, 355.7763516310964, 519.568676289289, 12.41044643435416, 937.8355644777457, 1411.4525391723528, 148.41449995352963, 429.01548835138965, 1258.921211676064, 697.2288226013753, 801.493082391349, 473.32427455234966, 1079.8181162174737, 261.01241076873686, 357.39351394025783, 555.1893814034673, 554.5392708965722, 760.8870632401007, 237.35870908600927, 787.6350605910135, 241.2951555329703, 1072.8572734848983, 294.7228100710529, 629.126496531863, 1041.8865015533406, 480.793295925463, 395.38222777565187, 888.0039627628582, 597.9558144127328, 451.1286066946718, 888.6358770731517, 518.8464695595586, 603.4987898095739, 533.7384507470833, 4.556253415405275, 3.645544418237484, 3.6431021993597588, 7.166154697284282, 3.626429853500607, 3.629847921990302, 3.624782093501632, 5.368782697410932, 2.734638592604785, 2.734630745552104, 2.733646342163372, 2.7334921339481424, 2.7329800970569536, 2.7323415860732103, 2.7317980853917714, 2.731467755197218, 2.7310810006251547, 2.730208253034095, 2.7335611882645905, 2.738856992444332, 2.7234666646570043, 2.7395462210029153, 2.720306829571692, 2.7183357959643883, 2.724044858376243, 2.724134087516377, 3.701139806866325, 2.723008274204942, 4.574612114773313, 4.608920181097202, 7.324238474276615, 7.491664333187515, 3.5810034021818904, 11.800205628219436, 9.179308967128012, 147.48015081359944, 13.90868642235671, 11.67520104397753, 5.441533189523194, 2120.0139589886435, 95.38288210747763, 801.493082391349, 237.35870908600927, 1197.5437762008498, 154.687602325195, 1258.921211676064, 763.692611291818, 518.8464695595586, 1910.088842990811, 203.7699880148406, 888.6358770731517, 2120.6497757767042, 1411.4525391723528, 116.97220290649491, 30.9428445440013, 629.126496531863, 1072.8572734848983, 276.21229069076827, 760.8870632401007, 431.3053251892364, 273.6867921781872, 139.636165994195, 597.9558144127328, 333.7553044194502, 321.7563058791518, 75.11283939117816, 787.6350605910135, 1041.8865015533406, 357.39351394025783, 697.2288226013753, 382.7806035436766, 1079.8181162174737, 555.1893814034673, 888.0039627628582, 937.8355644777457, 2.5152103610781795, 3.3759520049860727, 2.563532305764995, 2.5772772483098505, 1.7147388070892535, 1.7146551994148567, 1.7145200254451562, 1.7140289919905582, 1.7135406999564313, 2.5912394188320134, 2.590312196088576, 2.57245188105201, 8.567029095942782, 2.5971454228908577, 6.143599957087695, 5.848059474498617, 1.731916920687366, 1.7375997823893141, 1.739618069941152, 1.7399596817129914, 2.627073469078478, 1.7412543624734813, 6.18091324809871, 3.617183365305772, 4.330749887291721, 3.5322422117412353, 1.743986277134031, 4.226243834200622, 2.545034073308888, 3.2196543123571217, 9.467581390158694, 5.927533392113632, 8.85537397798328, 6.682440549031432, 3.507782809606458, 29.007312825656975, 4.231571135534894, 13.0943405492348, 13.769100205326877, 7.858156667296816, 6.772510902096088, 11.116342221082354, 194.1306767800414, 8.559762278765799, 20.422181126760613, 14.116583517184612, 9.594501037239809, 888.0039627628582, 53.01478696829326, 98.26550079577055, 888.6358770731517, 787.6350605910135, 107.03263109585697, 17.551770489534313, 410.696118243001, 85.28954644710751, 205.02495101889755, 100.81419475851803, 445.5611837663617, 588.2912868633908, 1041.8865015533406, 1411.4525391723528, 937.8355644777457, 317.20736316640625, 1910.088842990811, 2120.0139589886435, 2120.6497757767042, 431.664133495322, 276.04665769199966, 480.793295925463, 597.9558144127328, 301.78191029166686, 275.32848590511753, 554.5392708965722, 1072.8572734848983, 411.699541344597, 603.4987898095739, 1258.921211676064, 473.32427455234966, 1197.5437762008498, 760.8870632401007, 697.2288226013753, 1079.8181162174737, 402.55566418590166, 510.10129728065687, 748.6976057655199, 519.568676289289, 36.6841823054391, 812.6542553310683, 16.18148986700377, 36.41964247746843, 15.31942580586962, 30.334536720214057, 13.76475009234349, 8.275368513797495, 7.171274355798525, 12.77016337039476, 8.331884810569049, 6.66059295884789, 13.443545906885994, 8.95963450415389, 9.023023225145792, 7.894713012121625, 11.336245986149939, 5.626639343408934, 14.148578709148579, 5.65574265377749, 8.540002822248356, 13.048896933413424, 12.60467637083806, 14.791476117140215, 6.27884490891971, 5.1207359663836485, 3.9987572572904995, 4.00322107430335, 4.002261644454077, 9.248986952583943, 51.79174722981972, 120.74336138045643, 10.487602071914209, 48.35517018128144, 19.080275384022663, 12.96466229369065, 13.037935220014095, 19.963858268345753, 22.14848696810538, 16.462764186934113, 19.12186517112369, 15.07631565165267, 38.19377213944146, 1041.8865015533406, 2120.0139589886435, 760.8870632401007, 12.159505735873942, 76.4744720498471, 1079.8181162174737, 1072.8572734848983, 1910.088842990811, 787.6350605910135, 1197.5437762008498, 888.0039627628582, 2120.6497757767042, 937.8355644777457, 445.5611837663617, 1411.4525391723528, 697.2288226013753, 473.32427455234966, 888.6358770731517, 334.68958592821525, 763.692611291818, 554.5392708965722, 192.61129515900205, 1258.921211676064, 588.2912868633908, 748.6976057655199, 533.7384507470833], \"Category\": [\"Default\", \"Default\", \"Default\", \"Default\", \"Default\", \"Default\", \"Default\", \"Default\", \"Default\", \"Default\", \"Default\", \"Default\", \"Default\", \"Default\", \"Default\", \"Default\", \"Default\", \"Default\", \"Default\", \"Default\", \"Default\", \"Default\", \"Default\", \"Default\", \"Default\", \"Default\", \"Default\", \"Default\", \"Default\", \"Default\", \"Topic1\", \"Topic1\", \"Topic1\", \"Topic1\", \"Topic1\", \"Topic1\", \"Topic1\", \"Topic1\", \"Topic1\", \"Topic1\", \"Topic1\", \"Topic1\", \"Topic1\", \"Topic1\", \"Topic1\", \"Topic1\", \"Topic1\", \"Topic1\", \"Topic1\", \"Topic1\", \"Topic1\", \"Topic1\", \"Topic1\", \"Topic1\", \"Topic1\", \"Topic1\", \"Topic1\", \"Topic1\", \"Topic1\", \"Topic1\", \"Topic1\", \"Topic1\", \"Topic1\", \"Topic1\", \"Topic1\", \"Topic1\", \"Topic1\", \"Topic1\", \"Topic1\", \"Topic1\", \"Topic1\", \"Topic1\", \"Topic1\", \"Topic1\", \"Topic1\", \"Topic1\", \"Topic1\", \"Topic1\", \"Topic1\", \"Topic1\", \"Topic1\", \"Topic1\", \"Topic1\", \"Topic1\", \"Topic1\", \"Topic1\", \"Topic1\", \"Topic1\", \"Topic1\", \"Topic1\", \"Topic1\", \"Topic1\", \"Topic1\", \"Topic1\", \"Topic1\", \"Topic1\", \"Topic1\", \"Topic1\", \"Topic1\", \"Topic1\", \"Topic1\", \"Topic1\", \"Topic1\", \"Topic1\", \"Topic1\", \"Topic1\", \"Topic1\", \"Topic1\", \"Topic1\", \"Topic1\", \"Topic1\", \"Topic1\", \"Topic1\", \"Topic1\", \"Topic1\", \"Topic1\", \"Topic1\", \"Topic2\", \"Topic2\", \"Topic2\", \"Topic2\", \"Topic2\", \"Topic2\", \"Topic2\", \"Topic2\", \"Topic2\", \"Topic2\", \"Topic2\", \"Topic2\", \"Topic2\", \"Topic2\", \"Topic2\", \"Topic2\", \"Topic2\", \"Topic2\", \"Topic2\", \"Topic2\", \"Topic2\", \"Topic2\", \"Topic2\", \"Topic2\", \"Topic2\", \"Topic2\", \"Topic2\", \"Topic2\", \"Topic2\", \"Topic2\", \"Topic2\", \"Topic2\", \"Topic2\", \"Topic2\", \"Topic2\", \"Topic2\", \"Topic2\", \"Topic2\", \"Topic2\", \"Topic2\", \"Topic2\", \"Topic2\", \"Topic2\", \"Topic2\", \"Topic2\", \"Topic2\", \"Topic2\", \"Topic2\", \"Topic2\", \"Topic2\", \"Topic2\", \"Topic2\", \"Topic2\", \"Topic2\", \"Topic2\", \"Topic2\", \"Topic2\", \"Topic2\", \"Topic2\", \"Topic2\", \"Topic2\", \"Topic2\", \"Topic2\", \"Topic2\", \"Topic2\", \"Topic2\", \"Topic2\", \"Topic2\", \"Topic2\", \"Topic2\", \"Topic2\", \"Topic2\", \"Topic2\", \"Topic2\", \"Topic2\", \"Topic2\", \"Topic2\", \"Topic2\", \"Topic2\", \"Topic2\", \"Topic2\", \"Topic2\", \"Topic3\", \"Topic3\", \"Topic3\", \"Topic3\", \"Topic3\", \"Topic3\", \"Topic3\", \"Topic3\", \"Topic3\", \"Topic3\", \"Topic3\", \"Topic3\", \"Topic3\", \"Topic3\", \"Topic3\", \"Topic3\", \"Topic3\", \"Topic3\", \"Topic3\", \"Topic3\", \"Topic3\", \"Topic3\", \"Topic3\", \"Topic3\", \"Topic3\", \"Topic3\", \"Topic3\", \"Topic3\", \"Topic3\", \"Topic3\", \"Topic3\", \"Topic3\", \"Topic3\", \"Topic3\", \"Topic3\", \"Topic3\", \"Topic3\", \"Topic3\", \"Topic3\", \"Topic3\", \"Topic3\", \"Topic3\", \"Topic3\", \"Topic3\", \"Topic3\", \"Topic3\", \"Topic3\", \"Topic3\", \"Topic3\", \"Topic3\", \"Topic3\", \"Topic3\", \"Topic3\", \"Topic3\", \"Topic3\", \"Topic3\", \"Topic3\", \"Topic3\", \"Topic3\", \"Topic3\", \"Topic3\", \"Topic3\", \"Topic3\", \"Topic3\", \"Topic3\", \"Topic3\", \"Topic3\", \"Topic3\", \"Topic3\", \"Topic3\", \"Topic3\", \"Topic3\", \"Topic3\", \"Topic3\", \"Topic3\", \"Topic3\", \"Topic3\", \"Topic3\", \"Topic4\", \"Topic4\", \"Topic4\", \"Topic4\", \"Topic4\", \"Topic4\", \"Topic4\", \"Topic4\", \"Topic4\", \"Topic4\", \"Topic4\", \"Topic4\", \"Topic4\", \"Topic4\", \"Topic4\", \"Topic4\", \"Topic4\", \"Topic4\", \"Topic4\", \"Topic4\", \"Topic4\", \"Topic4\", \"Topic4\", \"Topic4\", \"Topic4\", \"Topic4\", \"Topic4\", \"Topic4\", \"Topic4\", \"Topic4\", \"Topic4\", \"Topic4\", \"Topic4\", \"Topic4\", \"Topic4\", \"Topic4\", \"Topic4\", \"Topic4\", \"Topic4\", \"Topic4\", \"Topic4\", \"Topic4\", \"Topic4\", \"Topic4\", \"Topic4\", \"Topic4\", \"Topic4\", \"Topic4\", \"Topic4\", \"Topic4\", \"Topic4\", \"Topic4\", \"Topic4\", \"Topic4\", \"Topic4\", \"Topic4\", \"Topic4\", \"Topic4\", \"Topic4\", \"Topic4\", \"Topic4\", \"Topic4\", \"Topic4\", \"Topic4\", \"Topic4\", \"Topic4\", \"Topic4\", \"Topic4\", \"Topic4\", \"Topic4\", \"Topic4\", \"Topic4\", \"Topic4\", \"Topic4\", \"Topic4\", \"Topic4\", \"Topic4\", \"Topic4\", \"Topic4\", \"Topic4\", \"Topic4\", \"Topic4\", \"Topic5\", \"Topic5\", \"Topic5\", \"Topic5\", \"Topic5\", \"Topic5\", \"Topic5\", \"Topic5\", \"Topic5\", \"Topic5\", \"Topic5\", \"Topic5\", \"Topic5\", \"Topic5\", \"Topic5\", \"Topic5\", \"Topic5\", \"Topic5\", \"Topic5\", \"Topic5\", \"Topic5\", \"Topic5\", \"Topic5\", \"Topic5\", \"Topic5\", \"Topic5\", \"Topic5\", \"Topic5\", \"Topic5\", \"Topic5\", \"Topic5\", \"Topic5\", \"Topic5\", \"Topic5\", \"Topic5\", \"Topic5\", \"Topic5\", \"Topic5\", \"Topic5\", \"Topic5\", \"Topic5\", \"Topic5\", \"Topic5\", \"Topic5\", \"Topic5\", \"Topic5\", \"Topic5\", \"Topic5\", \"Topic5\", \"Topic5\", \"Topic5\", \"Topic5\", \"Topic5\", \"Topic5\", \"Topic5\", \"Topic5\", \"Topic5\", \"Topic5\", \"Topic5\", \"Topic5\", \"Topic5\", \"Topic5\", \"Topic5\", \"Topic5\", \"Topic5\", \"Topic5\", \"Topic5\", \"Topic5\", \"Topic5\", \"Topic5\", \"Topic5\", \"Topic5\", \"Topic5\", \"Topic5\", \"Topic5\", \"Topic5\", \"Topic5\", \"Topic5\", \"Topic5\", \"Topic5\", \"Topic6\", \"Topic6\", \"Topic6\", \"Topic6\", \"Topic6\", \"Topic6\", \"Topic6\", \"Topic6\", \"Topic6\", \"Topic6\", \"Topic6\", \"Topic6\", \"Topic6\", \"Topic6\", \"Topic6\", \"Topic6\", \"Topic6\", \"Topic6\", \"Topic6\", \"Topic6\", \"Topic6\", \"Topic6\", \"Topic6\", \"Topic6\", \"Topic6\", \"Topic6\", \"Topic6\", \"Topic6\", \"Topic6\", \"Topic6\", \"Topic6\", \"Topic6\", \"Topic6\", \"Topic6\", \"Topic6\", \"Topic6\", \"Topic6\", \"Topic6\", \"Topic6\", \"Topic6\", \"Topic6\", \"Topic6\", \"Topic6\", \"Topic6\", \"Topic6\", \"Topic6\", \"Topic6\", \"Topic6\", \"Topic6\", \"Topic6\", \"Topic6\", \"Topic6\", \"Topic6\", \"Topic6\", \"Topic6\", \"Topic6\", \"Topic6\", \"Topic6\", \"Topic6\", \"Topic6\", \"Topic6\", \"Topic6\", \"Topic6\", \"Topic6\", \"Topic6\", \"Topic6\", \"Topic6\", \"Topic6\", \"Topic6\", \"Topic6\", \"Topic6\", \"Topic6\", \"Topic6\", \"Topic6\", \"Topic6\", \"Topic6\", \"Topic6\", \"Topic6\", \"Topic6\", \"Topic6\", \"Topic6\", \"Topic7\", \"Topic7\", \"Topic7\", \"Topic7\", \"Topic7\", \"Topic7\", \"Topic7\", \"Topic7\", \"Topic7\", \"Topic7\", \"Topic7\", \"Topic7\", \"Topic7\", \"Topic7\", \"Topic7\", \"Topic7\", \"Topic7\", \"Topic7\", \"Topic7\", \"Topic7\", \"Topic7\", \"Topic7\", \"Topic7\", \"Topic7\", \"Topic7\", \"Topic7\", \"Topic7\", \"Topic7\", \"Topic7\", \"Topic7\", \"Topic7\", \"Topic7\", \"Topic7\", \"Topic7\", \"Topic7\", \"Topic7\", \"Topic7\", \"Topic7\", \"Topic7\", \"Topic7\", \"Topic7\", \"Topic7\", \"Topic7\", \"Topic7\", \"Topic7\", \"Topic7\", \"Topic7\", \"Topic7\", \"Topic7\", \"Topic7\", \"Topic7\", \"Topic7\", \"Topic7\", \"Topic7\", \"Topic7\", \"Topic7\", \"Topic7\", \"Topic7\", \"Topic7\", \"Topic7\", \"Topic7\", \"Topic7\", \"Topic7\", \"Topic7\", \"Topic7\", \"Topic7\", \"Topic7\", \"Topic7\", \"Topic7\", \"Topic7\", \"Topic7\", \"Topic7\", \"Topic7\", \"Topic7\", \"Topic7\", \"Topic7\", \"Topic7\", \"Topic7\", \"Topic7\", \"Topic8\", \"Topic8\", \"Topic8\", \"Topic8\", \"Topic8\", \"Topic8\", \"Topic8\", \"Topic8\", \"Topic8\", \"Topic8\", \"Topic8\", \"Topic8\", \"Topic8\", \"Topic8\", \"Topic8\", \"Topic8\", \"Topic8\", \"Topic8\", \"Topic8\", \"Topic8\", \"Topic8\", \"Topic8\", \"Topic8\", \"Topic8\", \"Topic8\", \"Topic8\", \"Topic8\", \"Topic8\", \"Topic8\", \"Topic8\", \"Topic8\", \"Topic8\", \"Topic8\", \"Topic8\", \"Topic8\", \"Topic8\", \"Topic8\", \"Topic8\", \"Topic8\", \"Topic8\", \"Topic8\", \"Topic8\", \"Topic8\", \"Topic8\", \"Topic8\", \"Topic8\", \"Topic8\", \"Topic8\", \"Topic8\", \"Topic8\", \"Topic8\", \"Topic8\", \"Topic8\", \"Topic8\", \"Topic8\", \"Topic8\", \"Topic8\", \"Topic8\", \"Topic8\", \"Topic8\", \"Topic8\", \"Topic8\", \"Topic8\", \"Topic8\", \"Topic8\", \"Topic8\", \"Topic8\", \"Topic8\", \"Topic8\", \"Topic8\", \"Topic8\", \"Topic8\", \"Topic8\", \"Topic8\", \"Topic8\", \"Topic9\", \"Topic9\", \"Topic9\", \"Topic9\", \"Topic9\", \"Topic9\", \"Topic9\", \"Topic9\", \"Topic9\", \"Topic9\", \"Topic9\", \"Topic9\", \"Topic9\", \"Topic9\", \"Topic9\", \"Topic9\", \"Topic9\", \"Topic9\", \"Topic9\", \"Topic9\", \"Topic9\", \"Topic9\", \"Topic9\", \"Topic9\", \"Topic9\", \"Topic9\", \"Topic9\", \"Topic9\", \"Topic9\", \"Topic9\", \"Topic9\", \"Topic9\", \"Topic9\", \"Topic9\", \"Topic9\", \"Topic9\", \"Topic9\", \"Topic9\", \"Topic9\", \"Topic9\", \"Topic9\", \"Topic9\", \"Topic9\", \"Topic9\", \"Topic9\", \"Topic9\", \"Topic9\", \"Topic9\", \"Topic9\", \"Topic9\", \"Topic9\", \"Topic9\", \"Topic9\", \"Topic9\", \"Topic9\", \"Topic9\", \"Topic9\", \"Topic9\", \"Topic9\", \"Topic9\", \"Topic9\", \"Topic9\", \"Topic9\", \"Topic9\", \"Topic9\", \"Topic9\", \"Topic9\", \"Topic9\", \"Topic9\", \"Topic9\", \"Topic9\", \"Topic9\", \"Topic9\", \"Topic9\", \"Topic9\", \"Topic9\", \"Topic9\", \"Topic9\", \"Topic9\", \"Topic9\", \"Topic9\", \"Topic9\", \"Topic9\", \"Topic9\", \"Topic9\", \"Topic9\", \"Topic9\", \"Topic10\", \"Topic10\", \"Topic10\", \"Topic10\", \"Topic10\", \"Topic10\", \"Topic10\", \"Topic10\", \"Topic10\", \"Topic10\", \"Topic10\", \"Topic10\", \"Topic10\", \"Topic10\", \"Topic10\", \"Topic10\", \"Topic10\", \"Topic10\", \"Topic10\", \"Topic10\", \"Topic10\", \"Topic10\", \"Topic10\", \"Topic10\", \"Topic10\", \"Topic10\", \"Topic10\", \"Topic10\", \"Topic10\", \"Topic10\", \"Topic10\", \"Topic10\", \"Topic10\", \"Topic10\", \"Topic10\", \"Topic10\", \"Topic10\", \"Topic10\", \"Topic10\", \"Topic10\", \"Topic10\", \"Topic10\", \"Topic10\", \"Topic10\", \"Topic10\", \"Topic10\", \"Topic10\", \"Topic10\", \"Topic10\", \"Topic10\", \"Topic10\", \"Topic10\", \"Topic10\", \"Topic10\", \"Topic10\", \"Topic10\", \"Topic10\", \"Topic10\", \"Topic10\", \"Topic10\", \"Topic10\", \"Topic10\", \"Topic10\", \"Topic10\", \"Topic10\", \"Topic10\", \"Topic10\", \"Topic10\", \"Topic10\"], \"logprob\": [30.0, 29.0, 28.0, 27.0, 26.0, 25.0, 24.0, 23.0, 22.0, 21.0, 20.0, 19.0, 18.0, 17.0, 16.0, 15.0, 14.0, 13.0, 12.0, 11.0, 10.0, 9.0, 8.0, 7.0, 6.0, 5.0, 4.0, 3.0, 2.0, 1.0, -8.6872, -9.1919, -9.2092, -9.241, -9.5504, -9.5507, -9.5702, -9.5881, -9.299, -9.2947, -9.5885, -9.6102, -9.1018, -9.6194, -9.134, -9.6516, -9.3589, -8.9699, -9.6761, -9.715, -9.7567, -9.758, -9.2586, -10.1974, -10.1975, -10.1976, -10.1979, -10.198, -10.1983, -10.1983, -9.806, -9.5204, -9.8117, -9.324, -8.7638, -9.8115, -9.8162, -8.4055, -9.0168, -8.6653, -6.7242, -8.4709, -7.8634, -8.7807, -8.5331, -7.7364, -8.0777, -5.7968, -6.6458, -6.3662, -6.7713, -5.495, -5.3753, -6.6579, -5.4283, -7.5356, -4.9907, -5.9509, -5.5107, -5.9207, -6.2107, -5.9137, -6.1295, -5.8263, -6.2072, -6.2342, -5.684, -5.4532, -7.0206, -6.0508, -5.4412, -6.8977, -6.5273, -5.1981, -6.3143, -5.8534, -6.5116, -6.3502, -5.8348, -5.4238, -6.1645, -5.8556, -6.3462, -6.1315, -6.1762, -6.351, -6.3468, -9.1026, -9.1026, -9.3819, -9.3826, -9.4091, -8.8536, -9.4123, -9.771, -9.7712, -9.7715, -9.7721, -9.7723, -9.7733, -9.7969, -9.7993, -9.1013, -9.5343, -9.8201, -9.8354, -9.8369, -9.3392, -9.8427, -9.1804, -9.8744, -8.8729, -9.8933, -9.8922, -9.5947, -9.9051, -9.9389, -9.6632, -9.3667, -8.8923, -8.7027, -9.1072, -8.7322, -6.7511, -5.3182, -7.5018, -4.5875, -8.777, -6.5042, -7.9898, -7.5066, -5.276, -6.616, -5.13, -6.047, -6.0879, -8.8939, -5.3224, -5.0407, -5.6094, -5.574, -6.3468, -5.513, -5.0197, -6.7609, -5.953, -6.194, -6.0762, -5.8239, -6.0726, -5.6084, -6.4463, -6.377, -6.2947, -6.6123, -6.8035, -6.3885, -5.8998, -6.2647, -6.3228, -6.1585, -6.0926, -6.1354, -6.2242, -6.2796, -6.037, -6.2116, -6.1813, -6.2622, -8.6798, -9.0766, -9.1062, -9.106, -8.7768, -9.3558, -9.3559, -9.356, -9.356, -9.4216, -9.7453, -9.7455, -9.7462, -9.7469, -9.0628, -9.4636, -8.9177, -9.4707, -9.4717, -9.4877, -9.7633, -9.7696, -9.7746, -9.5502, -9.4641, -9.7973, -9.0976, -9.586, -9.8042, -9.8132, -8.9585, -9.3185, -9.3343, -8.2782, -8.6455, -8.8506, -6.2341, -8.9306, -9.1024, -8.3109, -8.7602, -4.7956, -6.298, -5.6861, -5.2149, -5.2156, -4.8581, -5.7952, -5.2399, -6.7136, -6.1676, -6.0849, -5.5086, -6.1674, -5.5153, -5.9113, -7.0208, -6.9844, -6.8205, -5.872, -6.3656, -5.5906, -6.1808, -6.1407, -5.7532, -6.1395, -5.9023, -6.3793, -6.1613, -5.8086, -6.2208, -5.9304, -5.9616, -5.3777, -5.964, -5.887, -5.9725, -6.1602, -8.8847, -9.1036, -9.104, -9.1043, -9.3827, -9.3832, -9.3834, -9.3834, -9.3838, -9.3839, -9.384, -9.3892, -8.5861, -9.4507, -9.4586, -9.4852, -8.7637, -9.772, -9.7721, -9.7725, -9.7726, -9.7732, -9.7733, -9.7734, -9.7734, -9.7746, -9.3063, -9.7788, -8.6726, -9.3221, -8.406, -9.3003, -9.52, -8.9225, -8.7495, -9.0451, -9.5318, -7.9564, -7.5988, -6.6016, -8.6466, -9.0717, -4.7542, -5.5253, -5.3117, -5.4197, -4.8936, -5.1834, -5.522, -5.664, -6.2039, -5.3467, -7.2324, -5.0846, -6.2485, -6.1391, -5.9799, -6.7593, -6.7863, -6.3994, -6.8932, -6.0032, -6.0417, -6.0578, -5.857, -6.1945, -5.6824, -6.5562, -6.2967, -5.7892, -6.3118, -6.5663, -5.8598, -6.3663, -6.2469, -6.0525, -6.2426, -6.0717, -6.0786, -6.1996, -6.2164, -6.2508, -8.7733, -9.0037, -9.0052, -9.0101, -9.2717, -9.2736, -8.8631, -9.0851, -9.1196, -9.6601, -9.6603, -9.6609, -9.6616, -9.6617, -9.6628, -9.6651, -9.6733, -9.6805, -9.1934, -9.4236, -8.8737, -9.7361, -8.9037, -9.4367, -9.3152, -9.2634, -9.4647, -9.2869, -9.2762, -9.2425, -8.9753, -8.2448, -8.0104, -7.7563, -6.7334, -7.5366, -4.6525, -4.7937, -5.4561, -8.3907, -5.1606, -5.0558, -7.3851, -7.5604, -6.8673, -4.866, -5.2403, -5.6751, -5.6194, -5.6601, -5.4566, -6.2864, -5.5127, -5.8915, -7.2117, -6.5626, -6.5599, -6.6857, -5.7644, -6.7148, -6.2067, -6.6416, -6.1837, -6.5563, -5.863, -6.345, -6.6121, -6.1424, -5.843, -6.5279, -6.3922, -6.1362, -6.3311, -6.388, -6.4227, -6.3978, -6.3921, -6.3354, -6.4609, -6.4608, -8.8274, -9.0449, -9.0458, -9.0461, -8.866, -9.3243, -9.3245, -9.3248, -9.3366, -8.7749, -9.3492, -9.3681, -9.3647, -8.9925, -9.388, -9.0067, -9.4245, -9.7135, -9.7136, -9.7137, -9.7138, -9.7138, -9.7138, -9.7141, -9.7141, -9.7141, -9.7142, -9.7144, -9.7148, -9.7325, -9.0461, -9.0469, -9.0638, -9.0972, -8.1572, -9.2468, -9.0518, -9.0945, -9.268, -9.1167, -8.0843, -9.2323, -8.8693, -5.6866, -5.9713, -5.0795, -4.7121, -4.7888, -7.2059, -4.7464, -5.4586, -6.0663, -6.339, -5.9949, -5.6313, -7.1792, -5.4473, -6.5563, -6.7379, -5.6143, -5.7648, -5.6635, -6.3707, -6.9233, -5.734, -5.8244, -6.0128, -5.6599, -6.0708, -5.7034, -6.2269, -6.4112, -6.0914, -6.0003, -6.2748, -5.7476, -5.8235, -6.233, -6.2748, -6.3178, -6.3138, -8.9969, -9.2491, -9.2497, -8.6754, -8.7037, -8.732, -9.095, -9.3406, -9.6381, -9.6382, -9.6389, -9.6393, -9.3353, -9.6454, -8.9564, -9.1391, -9.6734, -9.6727, -9.3829, -9.1918, -9.7018, -9.6969, -9.4229, -9.7208, -9.4517, -9.4533, -9.4497, -9.7368, -9.4652, -9.7877, -9.4693, -8.5675, -9.1235, -8.3527, -9.1674, -8.8188, -4.7026, -4.8048, -7.8692, -4.7835, -6.6783, -7.1383, -7.4562, -7.6573, -5.2842, -5.6026, -6.1651, -5.956, -8.5335, -5.5946, -5.3431, -6.8531, -6.1544, -5.4715, -5.8704, -5.7822, -6.1722, -5.6778, -6.5542, -6.3644, -6.0985, -6.1003, -5.9177, -6.6264, -5.9541, -6.6352, -5.8111, -6.538, -6.1282, -5.8692, -6.3009, -6.4181, -6.1374, -6.2974, -6.4178, -6.2317, -6.384, -6.3878, -6.413, -8.6118, -8.8913, -8.8922, -8.2439, -8.953, -8.9576, -8.9642, -8.5946, -9.2807, -9.2807, -9.2812, -9.2813, -9.2816, -9.2819, -9.2822, -9.2824, -9.2826, -9.3183, -9.3326, -9.3326, -9.3384, -9.3328, -9.3468, -9.3548, -9.3536, -9.3548, -9.0523, -9.3593, -8.8425, -8.8454, -8.3933, -8.4064, -9.1064, -8.091, -8.3724, -6.1989, -8.1777, -8.3111, -8.8497, -4.7159, -6.8663, -5.4115, -6.2562, -5.2219, -6.582, -5.203, -5.5701, -5.8234, -4.9795, -6.4432, -5.4909, -4.9546, -5.218, -6.8225, -7.6815, -5.8572, -5.5429, -6.389, -5.7945, -6.1715, -6.4419, -6.842, -6.0489, -6.3781, -6.4171, -7.1965, -6.0333, -5.9098, -6.441, -6.1484, -6.4297, -6.0976, -6.3314, -6.2761, -6.2977, -9.2361, -8.9691, -9.3837, -9.4308, -9.8816, -9.8817, -9.8819, -9.8825, -9.883, -9.4852, -9.4865, -9.5025, -8.3047, -9.5178, -8.691, -8.7469, -9.9841, -10.0232, -10.0411, -10.0432, -9.6368, -10.0497, -8.787, -9.3307, -9.1586, -9.364, -10.0698, -9.1848, -9.7065, -9.4746, -8.4328, -8.8999, -8.5618, -8.8191, -9.4119, -7.5464, -9.2507, -8.3444, -8.317, -8.7638, -8.887, -8.5071, -6.3509, -8.7068, -8.0781, -8.3443, -8.6304, -5.3823, -7.4086, -6.9971, -5.4596, -5.6044, -6.9795, -8.2218, -6.1125, -7.1846, -6.6309, -7.0975, -6.151, -5.9733, -5.6359, -5.4569, -5.7278, -6.4206, -5.3453, -5.3112, -5.3594, -6.2904, -6.5519, -6.2335, -6.1202, -6.5105, -6.5755, -6.2067, -5.8529, -6.3815, -6.1908, -5.8396, -6.3646, -5.9356, -6.1445, -6.2254, -6.1336, -6.4642, -6.4078, -6.3643, -6.4521, -6.0267, -2.9521, -6.8798, -6.0787, -6.9603, -6.2923, -7.084, -7.6003, -7.7468, -7.1767, -7.6088, -7.8383, -7.1426, -7.5495, -7.5602, -7.6976, -7.3373, -8.0386, -7.1205, -8.0404, -7.639, -7.2168, -7.2526, -7.0944, -7.9534, -8.1577, -8.4191, -8.4198, -8.421, -7.5905, -5.8686, -5.0904, -7.4878, -6.0478, -6.9446, -7.298, -7.3205, -6.9816, -6.9059, -7.1973, -7.1012, -7.2816, -6.817, -5.3335, -5.0929, -5.8103, -7.4289, -6.7225, -5.7191, -5.7285, -5.5232, -5.9089, -5.7713, -5.9162, -5.699, -5.9626, -6.189, -5.9009, -6.1073, -6.217, -6.1466, -6.3855, -6.2239, -6.2943, -6.5099, -6.1956, -6.3272, -6.2958, -6.3536], \"loglift\": [30.0, 29.0, 28.0, 27.0, 26.0, 25.0, 24.0, 23.0, 22.0, 21.0, 20.0, 19.0, 18.0, 17.0, 16.0, 15.0, 14.0, 13.0, 12.0, 11.0, 10.0, 9.0, 8.0, 7.0, 6.0, 5.0, 4.0, 3.0, 2.0, 1.0, 1.8377, 1.771, 1.7521, 1.739, 1.7195, 1.7194, 1.7052, 1.6942, 1.6926, 1.6897, 1.6883, 1.6764, 1.6735, 1.6677, 1.6485, 1.6437, 1.6404, 1.6334, 1.6223, 1.5911, 1.5718, 1.5581, 1.5497, 1.5418, 1.5417, 1.5417, 1.5416, 1.5416, 1.5415, 1.5415, 1.5354, 1.5285, 1.5315, 1.5151, 1.4911, 1.521, 1.5197, 1.4232, 1.4603, 1.4257, 1.1771, 1.375, 1.2705, 1.3748, 1.3176, 1.1157, 1.1908, 0.5283, 0.7563, 0.6289, 0.745, 0.2757, 0.2063, 0.614, 0.1468, 0.9266, -0.0902, 0.2906, 0.1002, 0.2617, 0.3743, 0.2433, 0.3308, 0.1863, 0.3347, 0.3456, 0.0859, -0.0315, 0.6747, 0.1895, -0.1339, 0.6058, 0.4124, -0.2979, 0.2979, 0.0373, 0.3842, 0.2775, -0.1187, -0.419, 0.0017, -0.384, 0.1687, -0.1902, -0.251, 0.1351, -0.2315, 1.8093, 1.8093, 1.7606, 1.7604, 1.7386, 1.7373, 1.7364, 1.6718, 1.6717, 1.6717, 1.6715, 1.6714, 1.6712, 1.6561, 1.6487, 1.6487, 1.6361, 1.6322, 1.6191, 1.6182, 1.6163, 1.6135, 1.6009, 1.5866, 1.5847, 1.5761, 1.5722, 1.5616, 1.5523, 1.5353, 1.5294, 1.5148, 1.4797, 1.4512, 1.4892, 1.4435, 0.967, 0.6232, 1.082, 0.3126, 1.3591, 0.7323, 1.1449, 0.9839, 0.2992, 0.6836, 0.1773, 0.4611, 0.4515, 1.3843, 0.0992, -0.0359, 0.1605, 0.1421, 0.4391, 0.0979, -0.1192, 0.5965, 0.2295, 0.2988, 0.2319, 0.1012, 0.2071, -0.0268, 0.3505, 0.268, 0.1914, 0.359, 0.4708, 0.2045, -0.1291, 0.1195, 0.1251, -0.0431, -0.2019, -0.2139, -0.0673, 0.0271, -0.5653, -0.1991, -0.3082, -0.0961, 1.9787, 1.921, 1.8926, 1.8925, 1.8857, 1.8673, 1.8673, 1.8673, 1.8673, 1.8042, 1.7701, 1.7701, 1.7699, 1.7696, 1.7664, 1.7633, 1.7574, 1.7567, 1.756, 1.7552, 1.7532, 1.7487, 1.7437, 1.7403, 1.7278, 1.7214, 1.717, 1.7107, 1.7087, 1.7048, 1.6979, 1.6893, 1.6725, 1.5118, 1.5673, 1.5526, 0.8852, 1.5293, 1.5801, 1.3393, 1.4717, 0.2092, 0.6497, 0.4292, 0.2567, 0.2061, 0.0424, 0.371, 0.0674, 0.6651, 0.4254, 0.371, 0.1023, 0.3744, 0.0662, 0.2456, 0.7515, 0.716, 0.6274, 0.1405, 0.3926, -0.0155, 0.2671, 0.2436, 0.0175, 0.1855, 0.0229, 0.3016, 0.1454, -0.0925, 0.1791, -0.0397, -0.0203, -0.4775, -0.0425, -0.1171, -0.0993, 0.1196, 1.9779, 1.9418, 1.9417, 1.9416, 1.8852, 1.8851, 1.885, 1.885, 1.885, 1.8849, 1.8849, 1.8816, 1.8658, 1.8131, 1.8003, 1.7894, 1.7867, 1.7831, 1.7831, 1.783, 1.783, 1.7828, 1.7828, 1.7827, 1.7827, 1.7824, 1.7813, 1.7788, 1.7764, 1.7725, 1.6503, 1.7365, 1.7507, 1.6632, 1.6299, 1.6327, 1.7303, 1.3512, 1.2351, 0.9668, 1.4981, 1.6064, 0.146, 0.3653, 0.2634, 0.2964, 0.0069, 0.1239, 0.2487, 0.2773, 0.4866, 0.075, 0.9159, -0.0799, 0.4369, 0.3758, 0.2998, 0.6588, 0.6402, 0.4493, 0.666, 0.1792, 0.1998, 0.1826, 0.0162, 0.2054, -0.2108, 0.3855, 0.1953, -0.2076, 0.1864, 0.3728, -0.2489, 0.1955, 0.0781, -0.131, 0.0641, -0.1465, -0.3087, -0.0842, -0.2038, -0.0846, 2.0815, 2.0353, 2.033, 2.026, 1.9895, 1.9891, 1.9799, 1.9353, 1.9183, 1.8885, 1.8884, 1.8882, 1.888, 1.888, 1.8857, 1.8842, 1.8742, 1.87, 1.8415, 1.8378, 1.8239, 1.8168, 1.8094, 1.8002, 1.7802, 1.7732, 1.7648, 1.7613, 1.7567, 1.7533, 1.7216, 1.5432, 1.4784, 1.3736, 1.039, 1.2572, 0.2477, 0.211, 0.4171, 1.4474, 0.3111, 0.2515, 1.0742, 1.1237, 0.848, 0.0344, 0.1813, 0.3375, 0.3021, 0.2651, 0.1542, 0.5105, 0.0689, 0.2239, 0.9299, 0.574, 0.5575, 0.6031, 0.0056, 0.5841, 0.2412, 0.4771, 0.1244, 0.3854, -0.1469, 0.2169, 0.4237, 0.0145, -0.2678, 0.3457, 0.1876, -0.3655, -0.0907, -0.0037, 0.0635, -0.118, -0.1506, -0.4448, -0.061, -0.5194, 2.1063, 2.0674, 2.0673, 2.0672, 2.0627, 2.0065, 2.0064, 2.0064, 1.9939, 1.9936, 1.9814, 1.9636, 1.9578, 1.9402, 1.9338, 1.9102, 1.9087, 1.8973, 1.8972, 1.8972, 1.8972, 1.8972, 1.8972, 1.8971, 1.8971, 1.8971, 1.897, 1.897, 1.8968, 1.8776, 1.8716, 1.8689, 1.8565, 1.8499, 1.7641, 1.8479, 1.8195, 1.8001, 1.8232, 1.7921, 1.6006, 1.805, 1.7162, 0.6215, 0.7095, 0.3922, 0.1884, 0.216, 1.1026, 0.1538, 0.4146, 0.6501, 0.6904, 0.461, 0.2902, 0.9847, 0.1343, 0.6502, 0.6996, 0.1017, 0.1766, 0.1065, 0.4779, 0.7596, 0.0367, 0.0662, 0.1441, -0.0848, 0.1695, -0.0925, 0.2713, 0.3816, 0.0747, -0.0751, 0.1251, -0.4403, -0.4018, 0.0736, 0.0049, 0.0664, -0.0723, 2.1389, 2.1065, 2.1064, 2.0862, 2.0763, 2.0592, 2.0201, 2.0128, 1.9944, 1.9944, 1.9942, 1.994, 1.9888, 1.984, 1.9754, 1.975, 1.9652, 1.9568, 1.9448, 1.9309, 1.9253, 1.9114, 1.9105, 1.9056, 1.887, 1.8852, 1.8832, 1.8795, 1.8714, 1.8652, 1.8647, 1.8422, 1.8286, 1.6292, 1.7672, 1.6454, 0.1976, 0.1999, 1.2921, 0.117, 0.8254, 1.0019, 1.1188, 1.1825, 0.1875, 0.3189, 0.5202, 0.3507, 1.5076, 0.1215, -0.0358, 0.7065, 0.3438, -0.0498, 0.1422, 0.091, 0.2277, -0.1026, 0.4409, 0.3164, 0.1419, 0.1412, 0.0075, 0.4637, -0.0634, 0.4385, -0.2295, 0.3356, -0.0129, -0.2583, 0.0834, 0.1617, -0.3667, -0.1313, 0.0301, -0.4617, -0.076, -0.2309, -0.1333, 2.4313, 2.3748, 2.3746, 2.3464, 2.3185, 2.3128, 2.3077, 2.2844, 2.2729, 2.2729, 2.2728, 2.2728, 2.2727, 2.2726, 2.2725, 2.2724, 2.2724, 2.237, 2.2215, 2.2196, 2.2194, 2.2191, 2.2122, 2.2049, 2.204, 2.2027, 2.1987, 2.1986, 2.1966, 2.1862, 2.1752, 2.1394, 2.1777, 2.0005, 1.9704, 1.3671, 1.7495, 1.7911, 2.0159, 0.1846, 1.1355, 0.4617, 0.8339, 0.2497, 0.9362, 0.2187, 0.3514, 0.4847, 0.0253, 0.7995, 0.2791, -0.0544, 0.0893, 0.9753, 1.446, 0.2582, 0.0387, 0.5495, 0.1307, 0.3214, 0.5058, 0.7786, 0.1173, 0.3711, 0.3688, 1.0442, -0.1426, -0.299, 0.2398, -0.1359, 0.1825, -0.5225, -0.091, -0.5054, -0.5816, 2.4013, 2.3739, 2.2346, 2.1821, 2.1388, 2.1387, 2.1386, 2.1384, 2.1381, 2.1224, 2.1214, 2.1124, 2.1071, 2.0875, 2.0533, 2.0467, 2.0264, 1.9839, 1.965, 1.9626, 1.957, 1.9554, 1.9512, 1.9433, 1.9353, 1.9337, 1.9337, 1.9335, 1.919, 1.9158, 1.879, 1.8801, 1.8169, 1.8411, 1.8928, 1.6457, 1.8664, 1.6431, 1.6202, 1.7343, 1.7598, 1.6442, 0.9402, 1.7058, 1.465, 1.568, 1.6681, 0.3884, 1.1805, 0.9749, 0.3104, 0.2862, 0.907, 1.4727, 0.4293, 0.929, 0.6057, 0.8489, 0.3093, 0.2092, -0.025, -0.1496, -0.0117, 0.3795, -0.3405, -0.4107, -0.4592, 0.2017, 0.3872, 0.1507, 0.046, 0.3394, 0.3662, 0.0348, -0.2713, 0.1579, -0.0339, -0.418, 0.0353, -0.4639, -0.2193, -0.2129, -0.5585, 0.0976, -0.0827, -0.423, -0.1454, 2.9306, 2.9073, 2.896, 2.8859, 2.8702, 2.8551, 2.8536, 2.846, 2.8428, 2.8358, 2.8308, 2.8251, 2.8186, 2.8174, 2.7996, 2.7958, 2.7944, 2.7935, 2.7895, 2.7866, 2.7759, 2.7741, 2.773, 2.7712, 2.7691, 2.7686, 2.7546, 2.7528, 2.7518, 2.7446, 2.7438, 2.6756, 2.7216, 2.6333, 2.6664, 2.6995, 2.6713, 2.5841, 2.556, 2.5613, 2.5076, 2.5649, 2.1, 0.2774, -0.1924, 0.1149, 2.6326, 1.5002, -0.144, -0.1469, -0.5184, -0.0183, -0.2997, -0.1455, -0.7988, -0.2465, 0.2713, -0.5936, -0.0948, 0.1829, -0.3767, 0.3609, -0.3024, -0.0527, 0.7891, -0.774, -0.1448, -0.3544, -0.0738]}, \"token.table\": {\"Topic\": [1, 2, 3, 4, 5, 6, 7, 8, 9, 10, 6, 1, 1, 1, 2, 3, 5, 6, 7, 9, 10, 3, 1, 2, 3, 4, 5, 6, 7, 8, 9, 3, 9, 8, 2, 1, 3, 7, 1, 2, 3, 4, 5, 6, 7, 8, 9, 10, 1, 2, 3, 4, 5, 6, 7, 8, 9, 10, 1, 2, 3, 4, 5, 6, 7, 8, 9, 10, 1, 2, 3, 4, 5, 6, 7, 8, 9, 10, 1, 2, 3, 4, 5, 6, 7, 8, 9, 10, 1, 2, 3, 4, 5, 6, 7, 8, 9, 10, 3, 5, 7, 1, 2, 3, 4, 5, 6, 7, 8, 9, 10, 1, 2, 3, 4, 5, 6, 7, 8, 9, 10, 2, 4, 1, 5, 10, 8, 9, 2, 9, 1, 2, 3, 4, 5, 6, 7, 8, 9, 10, 1, 2, 3, 4, 5, 6, 7, 8, 9, 10, 1, 10, 10, 8, 1, 3, 4, 5, 9, 1, 2, 3, 4, 5, 6, 7, 8, 9, 10, 2, 4, 9, 1, 1, 2, 3, 4, 5, 6, 7, 8, 9, 10, 3, 8, 1, 3, 6, 1, 2, 3, 4, 5, 6, 8, 1, 4, 1, 3, 4, 6, 7, 8, 9, 1, 2, 3, 4, 5, 6, 7, 8, 9, 10, 1, 1, 10, 2, 1, 2, 3, 4, 5, 6, 7, 8, 9, 10, 1, 2, 3, 4, 5, 6, 7, 8, 9, 10, 6, 1, 10, 1, 10, 2, 7, 1, 4, 1, 2, 3, 4, 5, 6, 7, 8, 9, 10, 1, 2, 3, 4, 5, 6, 7, 8, 9, 10, 8, 5, 7, 7, 8, 3, 6, 7, 2, 1, 2, 3, 4, 5, 6, 6, 6, 7, 1, 3, 1, 6, 1, 2, 3, 4, 5, 6, 7, 8, 9, 10, 1, 2, 3, 4, 5, 6, 7, 8, 9, 10, 1, 5, 10, 6, 2, 1, 2, 3, 4, 5, 6, 7, 8, 9, 10, 1, 2, 3, 4, 5, 6, 7, 8, 9, 10, 1, 2, 3, 4, 5, 6, 7, 8, 9, 10, 1, 1, 2, 3, 4, 5, 6, 7, 8, 9, 10, 1, 2, 3, 4, 5, 6, 7, 8, 9, 10, 1, 2, 3, 4, 5, 6, 7, 8, 9, 10, 1, 2, 3, 5, 7, 8, 10, 1, 1, 2, 3, 4, 5, 6, 7, 8, 9, 10, 6, 1, 2, 3, 4, 5, 6, 7, 8, 9, 1, 2, 3, 4, 6, 7, 8, 9, 10, 2, 3, 4, 4, 1, 3, 4, 7, 9, 10, 2, 1, 2, 3, 4, 5, 6, 7, 8, 9, 10, 1, 5, 3, 1, 2, 3, 4, 5, 6, 7, 8, 9, 10, 3, 1, 2, 3, 4, 5, 6, 7, 8, 9, 10, 3, 5, 1, 2, 3, 4, 5, 6, 7, 8, 9, 10, 9, 1, 2, 3, 4, 5, 6, 7, 8, 9, 10, 1, 2, 3, 4, 5, 6, 7, 8, 9, 10, 4, 1, 3, 4, 6, 8, 9, 6, 1, 6, 8, 1, 2, 3, 4, 5, 6, 7, 8, 9, 10, 1, 2, 3, 4, 5, 6, 7, 8, 9, 10, 8, 1, 1, 2, 3, 4, 5, 6, 7, 8, 9, 10, 5, 1, 2, 3, 4, 5, 6, 7, 8, 10, 2, 1, 2, 3, 4, 7, 9, 4, 5, 8, 9, 3, 4, 5, 7, 8, 9, 2, 6, 3, 1, 2, 3, 4, 5, 6, 7, 8, 9, 10, 8, 7, 8, 1, 10, 10, 3, 6, 1, 2, 3, 4, 5, 6, 7, 8, 9, 10, 4, 3, 3, 1, 3, 4, 6, 10, 1, 2, 3, 4, 5, 6, 7, 8, 9, 10, 9, 1, 2, 3, 4, 5, 6, 7, 8, 9, 10, 8, 9, 2, 3, 9, 7, 8, 5, 1, 6, 10, 1, 5, 6, 7, 10, 5, 1, 2, 3, 4, 5, 6, 7, 8, 9, 10, 3, 9, 2, 1, 1, 10, 1, 2, 3, 4, 5, 6, 7, 8, 9, 8, 9, 1, 3, 5, 6, 7, 8, 10, 1, 10, 8, 1, 2, 3, 4, 5, 6, 7, 8, 9, 10, 1, 2, 3, 4, 5, 6, 7, 8, 9, 10, 1, 2, 3, 4, 5, 6, 7, 8, 9, 10, 2, 5, 1, 2, 3, 4, 5, 6, 7, 8, 9, 10, 1, 4, 1, 2, 3, 4, 5, 6, 7, 8, 9, 10, 2, 5, 8, 1, 7, 7, 6, 8, 3, 9, 2, 3, 4, 7, 9, 7, 1, 3, 4, 5, 7, 9, 6, 3, 1, 2, 3, 4, 5, 6, 7, 8, 9, 10, 1, 2, 3, 4, 5, 6, 7, 8, 9, 10, 1, 4, 8, 1, 1, 8, 1, 2, 3, 4, 5, 6, 7, 8, 9, 10, 1, 3, 5, 5, 1, 2, 3, 4, 5, 6, 7, 8, 9, 10, 1, 2, 3, 4, 5, 6, 7, 8, 9, 1, 1, 2, 3, 4, 7, 8, 1, 2, 3, 4, 5, 6, 7, 8, 9, 10, 2, 3, 9, 3, 4, 6, 9, 3, 4, 5, 9, 1, 2, 3, 4, 5, 6, 7, 8, 9, 10, 1, 2, 3, 4, 5, 6, 7, 8, 9, 10, 1, 2, 3, 4, 5, 6, 7, 8, 9, 10, 6, 1, 2, 3, 4, 5, 6, 7, 8, 9, 10, 1, 2, 3, 6, 7, 7, 4, 6, 3, 7, 2, 7, 1, 2, 3, 4, 5, 6, 7, 8, 9, 10, 3, 3, 4, 2, 1, 2, 3, 4, 5, 6, 7, 8, 9, 10, 1, 2, 3, 4, 5, 6, 7, 8, 9, 10, 7, 4, 8, 7, 2, 9, 3, 1, 2, 3, 4, 5, 6, 7, 8, 9, 10, 2, 6, 2, 6, 5, 7, 2, 7, 4, 2, 2, 7, 9, 9, 10, 1, 10, 1, 1, 2, 3, 4, 5, 6, 7, 8, 9, 10, 9, 1, 2, 4, 3, 4, 9, 5, 6, 7, 8, 1, 9, 9, 2, 1, 4, 1, 2, 3, 4, 5, 6, 7, 8, 9, 10, 4, 4, 1, 2, 3, 4, 5, 6, 7, 8, 9, 10, 7, 3, 4, 5, 7, 1, 2, 3, 4, 5, 6, 7, 8, 9, 10, 3, 1, 2, 3, 4, 5, 6, 7, 8, 9, 10, 1, 2, 3, 4, 5, 6, 7, 8, 9, 10, 4, 6, 1, 2, 3, 4, 5, 6, 7, 8, 9, 10, 1, 7, 4, 8, 2, 4, 9, 6, 1, 2, 3, 4, 5, 6, 7, 8, 9, 10, 4, 5, 1, 2, 3, 4, 5, 7, 8, 5, 1, 2, 3, 4, 5, 6, 7, 8, 9, 10, 2, 2, 3, 9, 6, 8, 5, 1, 2, 3, 4, 5, 6, 7, 8, 9, 10, 1, 2, 4, 10, 10, 1, 7, 5, 5, 2, 3, 4, 8, 1, 2, 3, 4, 5, 6, 7, 8, 9, 10, 1, 2, 3, 4, 5, 6, 5, 6, 4, 5, 6, 8, 1, 2, 3, 4, 5, 6, 7, 8, 9, 10, 1, 2, 4, 5, 6, 9, 1, 2, 3, 4, 5, 6, 7, 8, 9, 10, 4, 3, 7, 5, 9, 3, 1, 3, 4, 1, 2, 3, 4, 5, 6, 7, 8, 9, 10, 1, 2, 3, 4, 5, 6, 7, 8, 9, 1, 2, 3, 4, 5, 6, 7, 8, 9, 10, 10, 1, 2, 3, 4, 5, 6, 7, 8, 9, 10, 1, 2, 3, 4, 5, 6, 7, 8, 9, 10, 1, 2, 3, 4, 5, 6, 7, 8, 9, 10, 2, 1, 2, 3, 4, 5, 6, 7, 8, 9, 10, 3, 4, 5, 6, 8, 4, 2, 3, 4, 5, 7, 8, 5, 1, 10, 1, 10, 10, 2, 4, 8, 9, 1, 6, 1, 10, 1, 2, 3, 4, 5, 6, 7, 8, 9, 10, 8, 1, 2, 3, 4, 5, 6, 7, 8, 9, 10, 2, 3, 4, 2, 4, 5, 8, 2, 1, 2, 3, 4, 5, 6, 7, 8, 9, 10, 1, 4, 8, 1, 3, 5, 7, 8, 10, 7, 8, 5, 1, 2, 3, 4, 5, 6, 7, 8, 9, 10, 1, 2, 1, 4, 5, 6, 5, 3, 2, 5, 7, 5, 6, 7, 8, 1, 1, 2, 3, 4, 5, 6, 7, 8, 9, 10, 1, 7, 7, 8, 7, 4, 1, 2, 3, 4, 5, 6, 7, 8, 9, 10, 3, 5, 6, 9, 10, 10, 10, 1, 2, 3, 4, 5, 6, 7, 8, 9, 10, 1, 4, 1, 2, 3, 4, 5, 6, 7, 8, 9, 10, 1, 2, 3, 4, 5, 6, 7, 8, 9, 10, 4, 8, 1, 2, 3, 4, 5, 6, 7, 8, 9, 10, 1, 2, 3, 4, 5, 6, 7, 8, 9, 10, 1, 2, 3, 4, 5, 6, 7, 8, 9, 10, 9, 4, 4, 1, 10, 5, 2, 3, 4, 7, 1, 2, 3, 4, 5, 6, 7, 8, 9, 10, 3, 4, 8, 1, 2, 3, 4, 5, 6, 7, 8, 9, 10, 3, 1, 2, 3, 4, 5, 6, 7, 8, 9, 10, 1, 2, 3, 4, 5, 6, 7, 8, 9, 10, 1, 2, 3, 4, 5, 6, 7, 8, 9, 10, 7, 4, 1, 2, 4, 4, 5, 8, 10, 1, 2, 3, 4, 5, 6, 7, 8, 9, 10, 1, 2, 3, 4, 5, 6, 7, 8, 9, 10, 7, 1, 2, 3, 4, 5, 6, 7, 8, 9, 10, 6, 2, 3, 10, 1, 2, 3, 4, 5, 6, 7, 8, 9, 10, 1, 5, 10, 7, 8, 9, 3, 5, 8, 1, 2, 3, 4, 5, 6, 7, 8, 9, 10, 3, 1, 2, 3, 4, 5, 6, 7, 8, 9, 10, 5, 1, 2, 3, 4, 5, 6, 7, 8, 9, 10, 1, 2, 3, 4, 5, 6, 7, 8, 9, 10, 6, 1, 2, 3, 4, 5, 6, 7, 8, 9, 10, 1, 2, 3, 4, 5, 6, 7, 8, 9, 10, 2, 1, 2, 3, 4, 5, 6, 7, 8, 9, 10, 1, 6, 8, 1, 2, 3, 4, 5, 6, 7, 8, 9, 10, 6, 1, 2, 3, 4, 5, 6, 7, 8, 9, 10, 3, 1, 2, 3, 4, 5, 6, 7, 8, 9, 10, 7, 3, 2, 5, 7, 8, 3, 3, 4, 5, 9, 3, 4, 5, 8, 6, 1, 2, 4, 7, 1, 2, 3, 4, 5, 6, 7, 8, 9, 10, 1, 2, 3, 4, 5, 6, 7, 8, 9, 10, 4, 6, 1, 2, 1, 2, 3, 4, 5, 8, 10, 4, 3, 2, 4, 1, 2, 3, 4, 5, 6, 7, 8, 9, 10, 1, 1, 2, 3, 4, 5, 6, 7, 8, 9, 10, 3, 4, 5, 6, 7, 8, 9, 6, 1, 2, 3, 4, 5, 6, 7, 8, 9, 10, 5, 9, 1, 2, 3, 4, 5, 6, 7, 8, 9, 10, 5, 2, 3, 1, 2, 3, 4, 5, 6, 7, 8, 9, 10, 1, 5, 7, 1, 2, 3, 4, 5, 6, 7, 8, 9, 10, 1, 7, 10, 1, 10, 6, 1, 2, 3, 4, 5, 6, 7, 8, 9, 10, 8, 1, 8, 1, 2, 3, 4, 5, 6, 7, 8, 9, 10, 2, 4, 6, 1, 2, 3, 6, 10, 1, 2, 3, 4, 5, 6, 7, 8, 9, 10, 1, 2, 3, 4, 5, 6, 7, 8, 9, 10, 1, 2, 3, 4, 5, 6, 7, 8, 9, 10, 1, 2, 3, 4, 5, 6, 7, 8, 9, 10, 9, 4, 6, 7, 1, 2, 3, 4, 5, 6, 7, 8, 9, 10, 3, 1, 2, 3, 4, 5, 6, 7, 8, 10, 2, 1, 2, 3, 4, 5, 6, 7, 8, 9, 10, 6, 8, 6, 1, 2, 3, 4, 5, 6, 7, 9, 4, 1, 6, 10, 8, 1, 9, 2, 1, 2, 3, 4, 5, 6, 7, 8, 9, 10, 1, 2, 3, 4, 5, 6, 7, 8, 9, 10, 3, 4, 5, 6, 9, 1, 2, 3, 4, 5, 6, 7, 8, 9, 10, 6, 1, 4, 2, 3, 9, 9, 8, 1, 10, 6, 1, 5, 2, 6, 8, 1, 2, 3, 4, 5, 6, 7, 8, 9, 10, 5, 1, 2, 3, 4, 5, 6, 7, 8, 9, 10, 3, 1, 2, 3, 4, 5, 6, 7, 8, 9, 10, 5, 5, 2, 4, 6, 7, 10, 5, 1, 5, 6, 6, 3, 9, 1, 2, 3, 4, 5, 6, 7, 8, 9, 10, 1, 4, 5, 1, 2, 3, 4, 5, 6, 7, 8, 9, 10, 8, 1, 2, 3, 4, 5, 6, 7, 8, 9, 10, 8, 3, 9, 3, 4, 5, 7, 7, 2, 1, 2, 3, 4, 5, 6, 7, 8, 9, 10, 1, 2, 3, 4, 5, 6, 7, 8, 9, 10, 6, 1, 10, 10, 1, 10, 1, 2, 3, 4, 5, 6, 7, 8, 9, 10, 1, 2, 3, 4, 7, 8, 1, 2, 3, 4, 5, 6, 7, 8, 9, 10, 1, 2, 3, 4, 5, 6, 7, 8, 9, 10, 5, 1, 2, 3, 4, 5, 6, 7, 8, 9, 10, 1, 2, 3, 4, 5, 6, 7, 8, 9, 10, 5, 9, 2, 3, 6, 7, 10, 1, 10, 8, 4, 2, 3, 4, 5, 7, 8, 4, 1, 2, 3, 4, 5, 6, 7, 8, 9, 10, 1, 10, 1, 4, 3, 4, 3, 2, 4, 5, 7, 8], \"Freq\": [0.0668075748521179, 0.18500559189817264, 0.11305897282666107, 0.12333706126544842, 0.19528368033696, 0.09250279594908632, 0.0668075748521179, 0.041112353755149475, 0.07194661907151158, 0.04625139797454316, 0.7748088145467892, 0.8088847747014452, 0.8473045955330486, 0.0899576479485744, 0.0899576479485744, 0.0899576479485744, 0.0899576479485744, 0.0899576479485744, 0.0899576479485744, 0.2698729438457232, 0.1799152958971488, 0.8387859919144471, 0.09694487811692275, 0.1696535367046148, 0.048472439058461374, 0.024236219529230687, 0.14541731717538411, 0.07270865858769206, 0.29083463435076823, 0.12118109764615344, 0.024236219529230687, 0.6985562752504415, 0.5755065177465286, 0.7313580688170459, 0.6580606609857511, 0.8399038239993837, 0.17059625013973967, 0.6823850005589587, 0.11847689598311148, 0.12362806537368154, 0.09272104903026115, 0.1339304041548217, 0.07726754085855096, 0.11332572659254142, 0.09272104903026115, 0.05666286329627071, 0.15453508171710192, 0.04120935512456052, 0.04746401438690769, 0.05424458787075165, 0.1084891757415033, 0.2034172045153187, 0.09492802877381538, 0.08814745528997144, 0.040683440903063736, 0.28478408632144614, 0.05424458787075165, 0.027122293935375824, 0.111265382058908, 0.1319289530127052, 0.1859721385841748, 0.1080863711429392, 0.1335184584706896, 0.071527745609298, 0.0906018111051108, 0.0937808220210796, 0.0429166473655788, 0.0302006037017036, 0.29678198606137407, 0.18064990455909727, 0.03871069383409227, 0.06451782305682045, 0.04516247613977432, 0.09677673458523067, 0.07742138766818454, 0.0580660407511384, 0.10968029919659476, 0.04516247613977432, 0.12211813813415677, 0.11194162662297703, 0.08141209208943785, 0.10176511511179731, 0.11194162662297703, 0.09158860360061757, 0.12211813813415677, 0.08141209208943785, 0.1628241841788757, 0.030529534533539193, 0.1366249121904999, 0.15251152988706965, 0.1493342063477557, 0.12629861068772957, 0.12709294157255804, 0.06831245609524995, 0.08658206644630517, 0.08975938998561912, 0.039716544241424394, 0.023035595660026147, 0.1577687956952242, 0.6310751827808968, 0.1577687956952242, 0.042739623126555513, 0.21369811563277757, 0.07123270521092585, 0.0997257872952962, 0.042739623126555513, 0.31342390292807376, 0.05698616416874069, 0.08547924625311103, 0.042739623126555513, 0.028493082084370343, 0.10102565611400235, 0.12796583107773632, 0.08755556863213537, 0.22899148719173865, 0.09429061237306886, 0.07408548115026839, 0.10102565611400235, 0.0673504374093349, 0.0673504374093349, 0.053880349927467916, 0.12150553615141413, 0.7290332169084848, 0.583864448780777, 0.6279708175524001, 0.20932360585080004, 0.6557933054721209, 0.21859776849070697, 0.6548283284348064, 0.5773949016001982, 0.20592416674792918, 0.15253641981328087, 0.1093177675328513, 0.13728277783195278, 0.09152185188796853, 0.07881048357019511, 0.10169094654218726, 0.038134104953320216, 0.04576092594398427, 0.0406763786168749, 0.08549039644909301, 0.051294237869455805, 0.11113751538382091, 0.11968655502873021, 0.07694135680418371, 0.21372599112273252, 0.11968655502873021, 0.18807887218800462, 0.017098079289818602, 0.008549039644909301, 0.05491542101868053, 0.9061044468082288, 0.8886299076298569, 0.7318018898687653, 0.11292577845794602, 0.11292577845794602, 0.11292577845794602, 0.11292577845794602, 0.33877733537383803, 0.13240550150144811, 0.13555801344195878, 0.1134904298583841, 0.10403289403685209, 0.07250777463174539, 0.10718540597736276, 0.11979545373940544, 0.06620275075072406, 0.08827033433429875, 0.06620275075072406, 0.236616730891758, 0.236616730891758, 0.473233461783516, 0.44049103144985213, 0.12897242930963027, 0.05862383150437739, 0.08207336410612835, 0.08207336410612835, 0.15242196191138122, 0.08207336410612835, 0.1055228967078793, 0.12897242930963027, 0.15242196191138122, 0.023449532601750957, 0.7918211923427522, 0.7341782510505648, 0.7158527624485078, 0.17896319061212695, 0.6908459624078774, 0.09276548736906377, 0.09276548736906377, 0.04638274368453189, 0.18553097473812755, 0.46382743684531885, 0.04638274368453189, 0.04638274368453189, 0.7069051960669251, 0.14138103921338502, 0.07636887067660979, 0.15273774135321957, 0.15273774135321957, 0.07636887067660979, 0.07636887067660979, 0.07636887067660979, 0.30547548270643915, 0.4551090400424332, 0.0663700683395215, 0.132740136679043, 0.0663700683395215, 0.07585150667373886, 0.04740719167108679, 0.08533294500795621, 0.028444315002652074, 0.018962876668434714, 0.018962876668434714, 0.8241125010814809, 0.07830753381889485, 0.8613828720078434, 0.6754720135774227, 0.16862704741847506, 0.10911161891783681, 0.10911161891783681, 0.06943466658407797, 0.01983847616687942, 0.21822323783567363, 0.07935390466751768, 0.06943466658407797, 0.13886933316815595, 0.01983847616687942, 0.12281574498202921, 0.08772553213002086, 0.1403608514080334, 0.22808638353805424, 0.1403608514080334, 0.05848368808668058, 0.07602879451268475, 0.05848368808668058, 0.04678695046934446, 0.040938581660676404, 0.774507915403745, 0.06593145029530838, 0.8571088538390089, 0.1108275990261393, 0.775793193182975, 0.6623410307367013, 0.9003434612738718, 0.5862089125203802, 0.2931044562601901, 0.08713339112584925, 0.11524093665031675, 0.07589037291606225, 0.18269904590903877, 0.10961942754542325, 0.089944145678296, 0.15459150038457126, 0.08151188202095576, 0.05340433649648825, 0.0505935819440415, 0.07808157862918588, 0.1865282156141663, 0.2949748525991467, 0.11712236794377882, 0.03904078931459294, 0.09543304054678275, 0.060730116711589024, 0.06506798219098824, 0.04337865479399216, 0.017351461917596865, 0.7300479125582425, 0.294341956696698, 0.588683913393396, 0.7075080058755951, 0.7342022998814219, 0.7916035369113443, 0.7744609757219293, 0.8999069786173715, 0.8377484571890628, 0.0714830910318986, 0.0714830910318986, 0.0714830910318986, 0.0714830910318986, 0.0714830910318986, 0.5718647282551887, 0.7737849435968587, 0.7869148777591018, 0.786528940171646, 0.25466954403873143, 0.7640086321161942, 0.2181872469215373, 0.6545617407646119, 0.10857659776074108, 0.13572074720092636, 0.12893470984088004, 0.09839754172067161, 0.14929282192101898, 0.09500452304064845, 0.12893470984088004, 0.037323205480254744, 0.05089528020034738, 0.06446735492044002, 0.26117428720291125, 0.10192167305479465, 0.1465124050162673, 0.08281135935702065, 0.15288250958219196, 0.02548041826369866, 0.06370104565924666, 0.04459073196147265, 0.06370104565924666, 0.057330941093321985, 0.18222942185984714, 0.06074314061994905, 0.6681745468194396, 0.7056252776150632, 0.6613225390230661, 0.10730401295387806, 0.1902207502364202, 0.131691288625214, 0.11705892322241244, 0.0975491026853437, 0.09267164755107651, 0.07803928214827496, 0.0341421859398703, 0.11218146808814526, 0.04877455134267185, 0.0616467636446648, 0.09863482183146367, 0.19726964366292735, 0.03698805818679888, 0.13562288001826256, 0.2712457600365251, 0.07397611637359776, 0.0616467636446648, 0.02465870545786592, 0.02465870545786592, 0.06478693852676987, 0.03239346926338493, 0.09718040779015481, 0.09718040779015481, 0.4211151004240042, 0.06478693852676987, 0.06478693852676987, 0.09718040779015481, 0.03239346926338493, 0.03239346926338493, 0.44035657286326957, 0.10468489542017413, 0.18909298677247668, 0.07544857327580118, 0.13580743189644212, 0.13580743189644212, 0.11883150290938685, 0.11128664558180673, 0.06837526953119481, 0.03819584022087434, 0.022634571982740354, 0.14832154414976206, 0.218950850887744, 0.09888102943317471, 0.1059439601069729, 0.09888102943317471, 0.11065258055617169, 0.06827499651338254, 0.05885775561498494, 0.040023273818189764, 0.04708620449198796, 0.10989891720127268, 0.14868677033113362, 0.15515141251944378, 0.122828201577893, 0.08404034844803204, 0.058181779694791415, 0.051717137506481256, 0.18100998127268442, 0.038787853129860946, 0.045252495318171104, 0.06268788630202138, 0.12537577260404276, 0.5641909767181924, 0.06268788630202138, 0.06268788630202138, 0.06268788630202138, 0.06268788630202138, 0.8305694710828879, 0.13681987936970397, 0.14123342386550086, 0.11916570138651635, 0.11033861239492254, 0.1897824133192668, 0.07944380092434424, 0.08827088991593804, 0.04413544495796902, 0.04413544495796902, 0.03972190046217212, 0.5857676516986509, 0.0562900717299663, 0.41279385935308616, 0.1125801434599326, 0.0750534289732884, 0.13134350070325468, 0.0375267144866442, 0.0750534289732884, 0.0375267144866442, 0.0375267144866442, 0.03869331105182397, 0.07738662210364794, 0.03869331105182397, 0.46431973262188764, 0.11607993315547191, 0.11607993315547191, 0.03869331105182397, 0.07738662210364794, 0.11607993315547191, 0.7316876452315465, 0.2732106530718419, 0.5464213061436838, 0.7341833802839615, 0.5929023185072736, 0.1694006624306496, 0.0847003312153248, 0.0847003312153248, 0.0847003312153248, 0.0847003312153248, 0.6666387111286359, 0.197226115373396, 0.13148407691559733, 0.17531210255412977, 0.07791649002405768, 0.08278627065056128, 0.06817692877105047, 0.08522116096381308, 0.051132696578287846, 0.09252583190356849, 0.03652335469877704, 0.26442995989962054, 0.5288599197992411, 0.7883320587121108, 0.16653857033284233, 0.13395493700685143, 0.14481614811551508, 0.0941304962750848, 0.08688968886930903, 0.06878767035486966, 0.06878767035486966, 0.1230937258981878, 0.06516726665198178, 0.054306055543318146, 0.706271476511229, 0.183067625375362, 0.104610071643064, 0.078457553732298, 0.065381294776915, 0.078457553732298, 0.104610071643064, 0.078457553732298, 0.039228776866149, 0.039228776866149, 0.222296402241511, 0.7594384649464291, 0.1518876929892858, 0.04078295601879495, 0.1359431867293165, 0.07476875270112407, 0.30587217014096213, 0.09516023071052154, 0.18352330208457726, 0.04078295601879495, 0.07476875270112407, 0.020391478009397473, 0.020391478009397473, 0.3929220478765005, 0.031491049292379905, 0.21256458272356438, 0.11021867252332967, 0.07872762323094977, 0.2440556320159443, 0.1023459102002347, 0.05510933626166484, 0.0708548609078548, 0.039363811615474885, 0.039363811615474885, 0.09088317475674779, 0.15738305872509983, 0.1595997215240449, 0.130783105137759, 0.13521643073564915, 0.08644984915885766, 0.09309983755569286, 0.06649988396835205, 0.03768326758206616, 0.042116593179956294, 0.733746101867785, 0.48788021245346563, 0.06505069499379541, 0.06505069499379541, 0.16262673748448855, 0.13010138998759083, 0.06505069499379541, 0.7743073360950611, 0.4402158692807462, 0.5866325924382837, 0.7302316278350377, 0.11582680181928427, 0.0992801158451008, 0.0992801158451008, 0.18532288291085483, 0.12244547620895765, 0.16546685974183467, 0.0992801158451008, 0.06287740670189718, 0.026474697558693548, 0.023165360363856854, 0.04416744628431017, 0.16685479707406065, 0.08833489256862034, 0.16685479707406065, 0.09814988063180038, 0.13740983288452052, 0.06379742241067025, 0.16194730304247063, 0.04907494031590019, 0.024537470157950096, 0.732310758832196, 0.44038384605261105, 0.05658798557078463, 0.09431330928464106, 0.11317597114156926, 0.24521460414006674, 0.09431330928464106, 0.09431330928464106, 0.03772532371385642, 0.03772532371385642, 0.18862661856928212, 0.03772532371385642, 0.6529946979415417, 0.0993843459615853, 0.024846086490396324, 0.01656405766026422, 0.03312811532052844, 0.024846086490396324, 0.01656405766026422, 0.04969217298079265, 0.01656405766026422, 0.7205365082214934, 0.6642632786889894, 0.10422636842902304, 0.10422636842902304, 0.10422636842902304, 0.10422636842902304, 0.10422636842902304, 0.3126791052870691, 0.16870423730222486, 0.16870423730222486, 0.16870423730222486, 0.3374084746044497, 0.11682567429246252, 0.11682567429246252, 0.11682567429246252, 0.11682567429246252, 0.11682567429246252, 0.3504770228773876, 0.19188126786936452, 0.5756438036080935, 0.8398477262056305, 0.09531894641315045, 0.14919487264667028, 0.11604045650296577, 0.09117464439518738, 0.07045313430537208, 0.10775185246703964, 0.14090626861074415, 0.08703034237722432, 0.07045313430537208, 0.07874173834129819, 0.7321185305367022, 0.5897792835064053, 0.29488964175320265, 0.07933563469456312, 0.7933563469456312, 0.7493965345199096, 0.6121085912048341, 0.15302714780120852, 0.02618227904667559, 0.07854683714002678, 0.05236455809335118, 0.02618227904667559, 0.13091139523337794, 0.13091139523337794, 0.02618227904667559, 0.10472911618670236, 0.02618227904667559, 0.41891646474680944, 0.7331775608176236, 0.7059950604046231, 0.8039862454963931, 0.10459230739793311, 0.10459230739793311, 0.052296153698966556, 0.052296153698966556, 0.6275538443875986, 0.1086772803222006, 0.1449030404296008, 0.15214819245108085, 0.17026107250478095, 0.09780955228998055, 0.04709348813962026, 0.0905644002685005, 0.04709348813962026, 0.0905644002685005, 0.050716064150360285, 0.5733990072693369, 0.059459445044238474, 0.17211944618069033, 0.15960166827664013, 0.1032716677084142, 0.1283072235165146, 0.15021333484860247, 0.09388333428037654, 0.07197722294828868, 0.03442388923613807, 0.02816500028411296, 0.7316648089677446, 0.574838820818772, 0.16277101487480947, 0.32554202974961893, 0.48831304462442837, 0.13954485246864187, 0.6977242623432094, 0.8716737881807026, 0.06760650472478605, 0.06760650472478605, 0.8112780566974326, 0.18059924390140708, 0.04514981097535177, 0.04514981097535177, 0.04514981097535177, 0.6320973536549248, 0.9090009713592507, 0.1045364721188604, 0.1073617821761269, 0.14126550286332487, 0.1921210838941218, 0.09888585200432741, 0.12713895257699237, 0.06215682125986294, 0.05368089108806345, 0.06780744137439593, 0.04237965085899746, 0.3859157099619704, 0.3859157099619704, 0.7271850441199716, 0.8262080999336717, 0.08821262358118818, 0.7939136122306937, 0.14379503133992697, 0.07189751566996348, 0.07189751566996348, 0.07189751566996348, 0.07189751566996348, 0.07189751566996348, 0.07189751566996348, 0.4313850940197809, 0.07189751566996348, 0.8779142938967109, 0.5924254838475558, 0.11584857281172063, 0.019308095468620105, 0.019308095468620105, 0.019308095468620105, 0.019308095468620105, 0.019308095468620105, 0.7723238187448042, 0.11161169571553141, 0.7812818700087198, 0.731623534892676, 0.06463529870875197, 0.032317649354375984, 0.06463529870875197, 0.06463529870875197, 0.12927059741750394, 0.1939058961262559, 0.06463529870875197, 0.29085884418938385, 0.032317649354375984, 0.032317649354375984, 0.11652588440073179, 0.17030706181645416, 0.09561098207239531, 0.11951372759049414, 0.0836596093133459, 0.11055019802120708, 0.11055019802120708, 0.053781177415722366, 0.06573255017477178, 0.07170823655429649, 0.2391681821833827, 0.13330685564319691, 0.14702962019470248, 0.12742567083540882, 0.09017816705275085, 0.05881184807788099, 0.08233658730903338, 0.03724750378265796, 0.05489105820602226, 0.03136631897486986, 0.1552507352539373, 0.6210029410157492, 0.1692414257341507, 0.11330570027964328, 0.1391221889509544, 0.09609470783210251, 0.14916193454535318, 0.0702782191607914, 0.1047002040558729, 0.06310697230764942, 0.04876447860136546, 0.04589597986010867, 0.15236103517050154, 0.6094441406820061, 0.058527241120898785, 0.28775893551108567, 0.15607264298906343, 0.08291359158793994, 0.1072999420549811, 0.08779086168134817, 0.08291359158793994, 0.058527241120898785, 0.05364997102749055, 0.02438635046704116, 0.13348168785006484, 0.13348168785006484, 0.6674084392503242, 0.8363127974549333, 0.7067992348705512, 0.5834697947314796, 0.7744050077177819, 0.5403740751131898, 0.3850381234666904, 0.3850381234666904, 0.6634290141142405, 0.17099689296264123, 0.17099689296264123, 0.17099689296264123, 0.5129906788879237, 0.598605831368009, 0.53031393408259, 0.06628924176032375, 0.06628924176032375, 0.06628924176032375, 0.06628924176032375, 0.06628924176032375, 0.8776416545763037, 0.7039316833905386, 0.08638961547424077, 0.1808782573991916, 0.14038312514564125, 0.12418507224422111, 0.08908929095781079, 0.12688474772779113, 0.09178896644138082, 0.04859415870426043, 0.0566931851549705, 0.051293834187830456, 0.146899098650579, 0.09793273243371933, 0.048966366216859666, 0.09793273243371933, 0.048966366216859666, 0.09793273243371933, 0.09793273243371933, 0.09793273243371933, 0.24483183108429835, 0.048966366216859666, 0.13408810006111002, 0.6704405003055501, 0.13408810006111002, 0.8337589601400882, 0.6941238754677466, 0.17353096886693664, 0.08545360289962974, 0.37599585275837083, 0.05127216173977784, 0.017090720579925948, 0.27345152927881516, 0.05127216173977784, 0.08545360289962974, 0.017090720579925948, 0.017090720579925948, 0.017090720579925948, 0.5986940465286089, 0.09978234108810148, 0.09978234108810148, 0.6549496313140247, 0.07610795568939824, 0.1010613837842829, 0.10979508361749253, 0.1197764548554464, 0.1609496112120061, 0.15471125418828494, 0.09981371237953866, 0.11478576923646946, 0.0336871279280943, 0.0299441137138616, 0.1416773398156381, 0.07083866990781905, 0.07083866990781905, 0.07083866990781905, 0.07083866990781905, 0.07083866990781905, 0.07083866990781905, 0.07083866990781905, 0.2833546796312762, 0.44028590735585366, 0.08937643954757674, 0.08937643954757674, 0.17875287909515347, 0.5362586372854604, 0.08937643954757674, 0.08937643954757674, 0.07230398255015466, 0.19281062013374575, 0.22896261140882307, 0.0783293144293342, 0.09640531006687288, 0.15063329697948885, 0.03615199127507733, 0.060253318791795546, 0.03615199127507733, 0.04820265503343644, 0.6608957647868902, 0.3860538515434627, 0.3860538515434627, 0.12725630734262228, 0.25451261468524455, 0.12725630734262228, 0.38176892202786683, 0.14765572391924842, 0.14765572391924842, 0.14765572391924842, 0.29531144783849683, 0.44655062561677145, 0.07442510426946192, 0.03721255213473096, 0.07442510426946192, 0.03721255213473096, 0.07442510426946192, 0.07442510426946192, 0.07442510426946192, 0.07442510426946192, 0.03721255213473096, 0.06558987408778236, 0.17291875895869896, 0.14906789565405082, 0.0894407373924305, 0.08347802156626846, 0.20273233808950913, 0.08347802156626846, 0.0894407373924305, 0.029813579130810165, 0.023850863304648133, 0.1558027672112995, 0.09587862597618431, 0.10486724716145158, 0.09587862597618431, 0.12883690365549766, 0.11385586834671886, 0.08089759066740551, 0.10486724716145158, 0.06891276242038247, 0.047939312988092155, 0.8779915522622587, 0.12801983637683062, 0.17518503925250506, 0.16170926700231236, 0.06737886125096348, 0.06737886125096348, 0.04716520287567444, 0.1819229253776014, 0.07411674737605983, 0.053903089000770794, 0.03368943062548174, 0.12301193264553321, 0.12301193264553321, 0.12301193264553321, 0.12301193264553321, 0.49204773058213286, 0.5867535817718929, 0.8169734795067776, 0.5823009759788491, 0.7884089164960021, 0.7913547444823277, 0.16868263920487975, 0.674730556819519, 0.2993039036315044, 0.08633766450908781, 0.1266285746133288, 0.10936104171151122, 0.0748259759078761, 0.08058182020848195, 0.10936104171151122, 0.04604675440484683, 0.03453506580363512, 0.040290910104240976, 0.7059542159040312, 0.788389891574368, 0.8250274641781381, 0.6626931922801291, 0.17062604051281527, 0.25318702785772584, 0.09356911899089869, 0.10457725063688678, 0.07155285569892253, 0.09907318481389273, 0.06054472405293445, 0.027520329114970203, 0.03852846076095828, 0.0825609873449106, 0.10230672725255317, 0.13153722075328264, 0.2338439480058358, 0.12422959737810027, 0.06576861037664132, 0.06576861037664132, 0.08769148050218843, 0.12057578569050909, 0.036538116875911845, 0.03288430518832066, 0.7786792651945256, 0.9161216370522914, 0.7343581715004694, 0.788963173452776, 0.2764581993800767, 0.5529163987601534, 0.8395763745359163, 0.13626751136891704, 0.12467027635879643, 0.11887165885373614, 0.11887165885373614, 0.08118064507084419, 0.19425368641952004, 0.07248271881325374, 0.08697926257590449, 0.040590322535422094, 0.0231944700202412, 0.19653341675667704, 0.7861336670267082, 0.19937950686738692, 0.5981385206021608, 0.1963487790830583, 0.5890463372491749, 0.7645424183602634, 0.25484747278675446, 0.8251477663512523, 0.655176903988098, 0.6756529589533751, 0.16891323973834377, 0.5832536133489377, 0.5832076328472687, 0.8366713783790102, 0.0743851366987771, 0.8182365036865481, 0.8102300462389431, 0.12475534564010057, 0.15994275082064177, 0.1108936405689783, 0.15781018080969988, 0.09170051047050128, 0.11302621057992018, 0.10342964553068168, 0.040518830207895914, 0.05971196030637293, 0.03945254520242497, 0.5831791966599781, 0.22602248283776064, 0.11301124141888032, 0.5650562070944016, 0.1617883894920555, 0.1617883894920555, 0.4853651684761665, 0.25695489000144484, 0.08565163000048161, 0.08565163000048161, 0.428258150002408, 0.5767161091175702, 0.5742986329576129, 0.5747259609001396, 0.6556899811693754, 0.12115913459317741, 0.7269548075590644, 0.10859269066402165, 0.13186255294916915, 0.24821186437490664, 0.07756620761715832, 0.08532282837887416, 0.07756620761715832, 0.09307944914058999, 0.06980958685544249, 0.06205296609372666, 0.054296345332010824, 0.8251702903678046, 0.7330731392646134, 0.2643552457784685, 0.08811841525948949, 0.1340932406122666, 0.06896223802916568, 0.08811841525948949, 0.04980606079884188, 0.14175571150439614, 0.053637296244906645, 0.0574685316909714, 0.053637296244906645, 0.7961712626873364, 0.06256003192012878, 0.18768009576038633, 0.5004802553610302, 0.2502401276805151, 0.16299041232658285, 0.1870685414202826, 0.11946456358027947, 0.15280351155617142, 0.08149520616329142, 0.0935342707101413, 0.08242128805151064, 0.04259976685808415, 0.03426502986411117, 0.04352584874630337, 0.5656000411122342, 0.12877273701076722, 0.12264070191501639, 0.12688595698130542, 0.11839544684872735, 0.1099049367161493, 0.12311239692238184, 0.10282951160566758, 0.08679188135524236, 0.04009407562606305, 0.04103746564079395, 0.15164360222396991, 0.09976552777892758, 0.1197186333347131, 0.1276998755570273, 0.16361546555744125, 0.10375614889008469, 0.08779366444545628, 0.05985931666735655, 0.055868695556199444, 0.031924968889256826, 0.7326725131739376, 0.7750173126692111, 0.1835825252075832, 0.17338349602938413, 0.11048948276382321, 0.14108657029842042, 0.076492718836493, 0.07989239522922602, 0.06799352785466044, 0.049295307694628816, 0.07479288064012649, 0.042495954909162775, 0.9149016160000637, 0.7223973723108159, 0.7330806812017833, 0.8272599005614539, 0.23631884422370567, 0.23631884422370567, 0.47263768844741133, 0.7830007173082407, 0.1043333971835613, 0.12172229671415485, 0.1415953247491189, 0.14407945325348942, 0.13165881073163688, 0.1043333971835613, 0.08197624064422673, 0.07203972662674471, 0.06707146961800368, 0.03229367055681659, 0.8802917511834952, 0.7284509371264853, 0.5328370562068124, 0.06660463202585155, 0.06660463202585155, 0.06660463202585155, 0.06660463202585155, 0.06660463202585155, 0.06660463202585155, 0.8735541092737884, 0.04552981757897339, 0.004922142440970096, 0.004922142440970096, 0.002461071220485048, 0.008613749271697668, 0.00615267805121262, 0.00615267805121262, 0.00615267805121262, 0.001230535610242524, 0.9130574227999528, 0.6031714722171264, 0.6722592953967392, 0.6124210867909086, 0.2449684347163634, 0.6932912365801785, 0.2310970788600595, 0.7276225010067665, 0.07621353553005668, 0.17529113171913036, 0.10669894974207936, 0.09145624263606801, 0.09907759618907368, 0.22101925303716438, 0.05334947487103968, 0.10669894974207936, 0.05334947487103968, 0.022864060659017003, 0.10482029005067449, 0.052410145025337244, 0.052410145025337244, 0.7337420303547214, 0.8401460364790996, 0.16561784136253127, 0.6624713654501251, 0.7281817113248679, 0.7276174800438078, 0.23146088134389414, 0.5786522033597353, 0.11573044067194707, 0.11573044067194707, 0.08433906318461036, 0.1180746884584545, 0.236149376916909, 0.10682948003383978, 0.11245208424614714, 0.061848646335380925, 0.12369729267076185, 0.08433906318461036, 0.0393582294861515, 0.0393582294861515, 0.5420707169080622, 0.09034511948467704, 0.09034511948467704, 0.09034511948467704, 0.09034511948467704, 0.09034511948467704, 0.729042500364775, 0.5800297369889374, 0.21723823552215177, 0.6517147065664552, 0.773780801207266, 0.1934452003018165, 0.2076721407588257, 0.08826065982250093, 0.05710983870867707, 0.06749344574661835, 0.19209673020191378, 0.12460328445529542, 0.07787705278455964, 0.031150821113823855, 0.04153442815176514, 0.1090278738983835, 0.05642664715700133, 0.11285329431400266, 0.05642664715700133, 0.11285329431400266, 0.507839824413012, 0.11285329431400266, 0.024080766674319982, 0.19264613339455985, 0.036121150011479974, 0.08428268336011994, 0.12040383337159992, 0.07224230002295995, 0.2528480500803598, 0.1444846000459199, 0.048161533348639964, 0.036121150011479974, 0.6883290157170572, 0.6355652761200264, 0.787039020198685, 0.46181378561455566, 0.46181378561455566, 0.8963172670136622, 0.6301438352417382, 0.21004794508057942, 0.6931334259950271, 0.0727282017191338, 0.2753281922224351, 0.1610410180923677, 0.0623384586164004, 0.0987025594759673, 0.1142871741300674, 0.0935076879246006, 0.0467538439623003, 0.0623384586164004, 0.0207794862054668, 0.13371082083885005, 0.2674216416777001, 0.03342770520971251, 0.03342770520971251, 0.03342770520971251, 0.03342770520971251, 0.33427705209712516, 0.06685541041942503, 0.03342770520971251, 0.121782494607646, 0.1704954924507044, 0.13677110932858702, 0.1592540314099986, 0.09367884200588153, 0.10304672620646968, 0.08056380412505812, 0.050586574683176025, 0.039345113642470245, 0.046839421002940765, 0.7811377165819523, 0.12157038388457836, 0.222879037121727, 0.13676668187015065, 0.09117778791343377, 0.14689754719386552, 0.08611235525157634, 0.0810469225897189, 0.06078519194228918, 0.020261730647429727, 0.025327163309287158, 0.15304356205821362, 0.1620461245322262, 0.1080307496881508, 0.08664966381237095, 0.10690542937889923, 0.11365735123440865, 0.057391335771830115, 0.09565222628638352, 0.08214838257536468, 0.03375960927754713, 0.16994917657238534, 0.08497458828619267, 0.08497458828619267, 0.29134144555266056, 0.07283536138816514, 0.08497458828619267, 0.03641768069408257, 0.03641768069408257, 0.0971138151842202, 0.0485569075921101, 0.6688657590674257, 0.09035048785306907, 0.11130132561609957, 0.1165390350568572, 0.10344476145496313, 0.14403700962083474, 0.1361804454596983, 0.12570502657818305, 0.10213533409477372, 0.03404511136492457, 0.03666396608530339, 0.0847442859477435, 0.0847442859477435, 0.0847442859477435, 0.0847442859477435, 0.5084657156864609, 0.820978856170785, 0.09566303112239201, 0.5739781867343521, 0.09566303112239201, 0.09566303112239201, 0.09566303112239201, 0.7319729019951359, 0.532765724265794, 0.07264933931174242, 0.871792071740909, 0.11709598003818066, 0.8196718602672647, 0.7495761812966656, 0.5609101485954394, 0.11218202971908789, 0.22436405943817578, 0.11218202971908789, 0.1848291502852174, 0.5544874508556522, 0.07713274571653575, 0.7713274571653576, 0.16759795207604142, 0.21617706861982156, 0.10444510056912726, 0.10444510056912726, 0.07286867481567018, 0.05100807237096913, 0.09958718891474926, 0.07529763064285919, 0.07043971898848118, 0.03643433740783509, 0.73220706932914, 0.16093577643587637, 0.11833512973226203, 0.08520129340722866, 0.08993469859651915, 0.08993469859651915, 0.19406961276090973, 0.06626767265006674, 0.08520129340722866, 0.061534267460776254, 0.047334051892904815, 0.733226515214569, 0.12220441920242817, 0.12220441920242817, 0.5615713692504724, 0.1403928423126181, 0.1403928423126181, 0.8234740163279586, 0.7699523781079537, 0.07501227056457989, 0.050008180376386595, 0.25837559861133075, 0.07501227056457989, 0.30004908225831955, 0.08334696729397766, 0.06667757383518212, 0.03333878691759106, 0.03333878691759106, 0.01666939345879553, 0.1523022733408139, 0.6092090933632556, 0.1523022733408139, 0.15027155370846992, 0.0500905179028233, 0.0500905179028233, 0.0500905179028233, 0.0500905179028233, 0.651176732736703, 0.27925134038987626, 0.5585026807797525, 0.7307933597114824, 0.09266584674818265, 0.13350164362026315, 0.14973125519762848, 0.10837192246821362, 0.1308839643335913, 0.12617214161758203, 0.1115131376122198, 0.0738185558841455, 0.04292994030141795, 0.02984154386805882, 0.8260419285565364, 0.6545942804059011, 0.8498627682647358, 0.19359580391793485, 0.19359580391793485, 0.5807874117538045, 0.7284103592675246, 0.7047245515590184, 0.11648911542880147, 0.23297823085760294, 0.5824455771440074, 0.7268973269220688, 0.8781941897014098, 0.5907088513349329, 0.19690295044497763, 0.8317277425759543, 0.1554871857524552, 0.15260779342370606, 0.13437164200829463, 0.09118075707705707, 0.12381387013621434, 0.09310035196288985, 0.07006521333289649, 0.053748656803317856, 0.0595074414608162, 0.06622602356123093, 0.5925546280690365, 0.40380803230031936, 0.18626196222883912, 0.7450478489153565, 0.791745626391694, 0.8299297454558039, 0.21384703233019148, 0.05436788957547241, 0.09423767526415218, 0.14498103886792643, 0.12685840900943562, 0.13048293498113378, 0.039869785688679764, 0.09786220123585034, 0.06161694151886873, 0.03624525971698161, 0.14964592541641725, 0.14964592541641725, 0.14964592541641725, 0.4489377762492518, 0.8458837800792705, 0.7963248133262559, 0.9008206982577486, 0.1274138751224186, 0.15521326605821906, 0.12509725921110193, 0.14363018650163553, 0.1065643319205683, 0.12046402738846852, 0.07413170916213448, 0.023166159113167023, 0.07413170916213448, 0.05328216596028415, 0.671608628541033, 0.16790215713525825, 0.20815772192315404, 0.12142533778850652, 0.09714027023080522, 0.14224110998082193, 0.08673238413464751, 0.06591661194233212, 0.10060956559619112, 0.05897802121156031, 0.06938590730771801, 0.04857013511540261, 0.09602989242266531, 0.07849399902374382, 0.15698799804748764, 0.09519484987985953, 0.14446235990540088, 0.15114270024784715, 0.11022561565036366, 0.09268972225144217, 0.03841195696906613, 0.036741871883454555, 0.7327508579598512, 0.7313601674569826, 0.09436685220916897, 0.08846892394609591, 0.12975442178760735, 0.2241212739967763, 0.14155027831375347, 0.10026478047224203, 0.0766730674199498, 0.08257099568302285, 0.04128549784151143, 0.029489641315365304, 0.08490946945924786, 0.13853650280193072, 0.1765223180863311, 0.12289528474364822, 0.08490946945924786, 0.1608811000280486, 0.0804405500140243, 0.06033041251051822, 0.04245473472962393, 0.04692365417484751, 0.08798210212064447, 0.19795972977145007, 0.10055097385216512, 0.10683540971792543, 0.17596420424128895, 0.1099776276508056, 0.06598657659048336, 0.06912879452336351, 0.03770661519456192, 0.05027548692608256, 0.795162118822806, 0.8267270320605731, 0.8243432707276024, 0.027259705332227938, 0.9268299812957499, 0.8743097891640162, 0.14907480728001246, 0.5962992291200498, 0.14907480728001246, 0.7888757732788222, 0.08873409258319119, 0.11619940695417894, 0.14577743781524266, 0.1436647213251667, 0.09929767503357109, 0.11619940695417894, 0.11408669046410296, 0.05281791225189952, 0.06338149470227943, 0.05915606172212746, 0.10894066248135847, 0.21788132496271695, 0.5447033124067924, 0.08408650621640537, 0.14014417702734228, 0.14014417702734228, 0.11211534162187382, 0.11211534162187382, 0.08408650621640537, 0.09342945135156153, 0.05605767081093691, 0.14948712216249843, 0.028028835405468456, 0.5621115629137966, 0.1255752179843281, 0.16914213034623785, 0.1845186876504413, 0.08200830562241836, 0.07175726741961606, 0.11276142023082524, 0.09482210337592122, 0.05638071011541262, 0.05638071011541262, 0.04356691236190975, 0.2627648900153441, 0.11622293212217143, 0.12632927404583852, 0.11622293212217143, 0.09601024827483727, 0.07579756442750311, 0.08085073538933665, 0.050531709618335405, 0.045478538656501866, 0.03537219673283478, 0.15574160808570445, 0.10603683954771367, 0.12591874696290997, 0.12591874696290997, 0.11597779325531182, 0.0762139784249192, 0.08615493213251736, 0.0695866759531871, 0.08615493213251736, 0.05633207100972289, 0.7913807803544838, 0.8798355150399507, 0.6230916295169713, 0.12461832590339425, 0.12461832590339425, 0.5726508388520094, 0.1636145253862884, 0.0818072626931442, 0.0818072626931442, 0.13053141791033104, 0.12353866337942045, 0.12586958155639064, 0.14218600879518203, 0.10489131796365887, 0.13286233608730125, 0.12820049973336084, 0.04661836353940394, 0.037294690831523154, 0.027971018123642364, 0.10830638740182791, 0.15927409912033516, 0.057338675683320656, 0.12104831533145471, 0.06370963964813406, 0.18475795497958877, 0.2102418108388424, 0.03185481982406703, 0.03185481982406703, 0.03185481982406703, 0.5864335214645279, 0.0926867191210923, 0.15588220943092795, 0.08426065374644755, 0.1095388498703818, 0.08004762105912516, 0.07583458837180279, 0.14324311136896084, 0.16430827480557272, 0.05898245762251328, 0.02949122881125664, 0.8775341677700829, 0.5531397017746733, 0.0921899502957789, 0.27656985088733665, 0.18754307486979974, 0.11541112299679983, 0.10819792780949984, 0.1442639037459998, 0.09196823863807486, 0.09557483623172486, 0.10459133021584985, 0.043279171123799934, 0.0631154578888749, 0.046885768717449934, 0.19898760873125781, 0.06632920291041927, 0.6632920291041927, 0.7920046717388362, 0.3105923502911392, 0.3105923502911392, 0.6349084959441677, 0.21163616531472257, 0.7316463258939179, 0.1367940448546829, 0.1854834506504175, 0.11824569978964115, 0.10665298412399006, 0.08346755279268787, 0.08810463905894832, 0.08810463905894832, 0.09969735472459941, 0.04173377639634394, 0.048689405795734594, 0.704718552470417, 0.16881315828728288, 0.15675507555247695, 0.09646466187844735, 0.07234849640883552, 0.2652778201657302, 0.07234849640883552, 0.0602904136740296, 0.03617424820441776, 0.03617424820441776, 0.012058082734805919, 0.7186446296772686, 0.062225953592502214, 0.062225953592502214, 0.062225953592502214, 0.22816182983917477, 0.3318717524933451, 0.02074198453083407, 0.062225953592502214, 0.10370992265417035, 0.04148396906166814, 0.02074198453083407, 0.11394861852783174, 0.05697430926391587, 0.05697430926391587, 0.11394861852783174, 0.05697430926391587, 0.11394861852783174, 0.11394861852783174, 0.11394861852783174, 0.28487154631957934, 0.05697430926391587, 0.5804127056824124, 0.16121707349917547, 0.16812637664914012, 0.13818606299929326, 0.12436745669936393, 0.11285195144942282, 0.11054885039943461, 0.062183728349681965, 0.05066822309974086, 0.04836512204975264, 0.02533411154987043, 0.19525937889064426, 0.1526165260294691, 0.09875186978377412, 0.10772931249138995, 0.08079698436854246, 0.08079698436854246, 0.08304134504544641, 0.05162029556879102, 0.08304134504544641, 0.06508645963021475, 0.7477437056830671, 0.13019563603709222, 0.42313581712054976, 0.06509781801854611, 0.13019563603709222, 0.06509781801854611, 0.032548909009273055, 0.032548909009273055, 0.032548909009273055, 0.032548909009273055, 0.032548909009273055, 0.13888451006571625, 0.555538040262865, 0.13888451006571625, 0.04818850178866618, 0.09637700357733237, 0.12047125447166546, 0.40960226520366255, 0.09637700357733237, 0.04818850178866618, 0.09637700357733237, 0.02409425089433309, 0.02409425089433309, 0.02409425089433309, 0.7746368428768464, 0.03145218443514418, 0.25161747548115343, 0.06290436887028836, 0.09435655330543254, 0.06290436887028836, 0.1362927992189581, 0.06290436887028836, 0.22016529104600924, 0.06290436887028836, 0.020968122956762786, 0.7057553727080913, 0.10308794074376909, 0.12687746553079274, 0.09912301994593181, 0.07929841595674546, 0.10308794074376909, 0.2022109606897009, 0.11894762393511818, 0.07533349515890818, 0.05947381196755909, 0.031719366382698184, 0.5871210558083592, 0.7043630681499969, 0.6548061909386276, 0.1637015477346569, 0.5898552880854744, 0.2949276440427372, 0.7912733185600873, 0.11672657916775199, 0.11672657916775199, 0.11672657916775199, 0.46690631667100796, 0.13653296564715772, 0.13653296564715772, 0.13653296564715772, 0.6826648282357887, 0.7746863542101431, 0.5709823707618236, 0.7372750385145184, 0.24575834617150613, 0.5813241368363048, 0.07803335361189091, 0.1950833840297273, 0.1257204030413798, 0.10837965779429294, 0.16907226615909698, 0.11705003041783638, 0.06936298098834748, 0.06936298098834748, 0.04768704942948889, 0.026011117870630304, 0.0870223814992347, 0.2144480115516855, 0.1274256300524508, 0.05905090173162354, 0.07148267051722851, 0.13053357224885204, 0.1025620924812409, 0.10567003467764213, 0.07148267051722851, 0.03418736416041363, 0.7324304207462877, 0.7062956586949739, 0.18671105919400344, 0.5601331775820103, 0.5864153118040607, 0.06515725686711786, 0.06515725686711786, 0.06515725686711786, 0.06515725686711786, 0.13031451373423572, 0.06515725686711786, 0.5510928277205029, 0.7499403021580472, 0.21808313290851858, 0.6542493987255558, 0.12063396160372356, 0.15599219172895287, 0.1539122958392335, 0.1019148985962492, 0.10607469037568795, 0.10815458626540733, 0.09983500270652984, 0.058237084912142405, 0.07071646025045863, 0.02495875067663246, 0.4402573973511339, 0.2684137267506804, 0.3631479832509206, 0.03157808550008005, 0.03157808550008005, 0.007894521375020013, 0.0631561710001601, 0.07894521375020012, 0.007894521375020013, 0.10262877787526017, 0.04736712825012008, 0.07262638698882648, 0.14525277397765296, 0.07262638698882648, 0.07262638698882648, 0.07262638698882648, 0.14525277397765296, 0.2905055479553059, 0.7745023014770491, 0.08283252399042207, 0.09939902878850648, 0.03313300959616883, 0.2484975719712662, 0.31476359116360386, 0.016566504798084414, 0.08283252399042207, 0.1159655335865909, 0.016566504798084414, 0.016566504798084414, 0.6937094235566581, 0.5835869553757469, 0.13313303133065263, 0.11981972819758736, 0.07987981879839158, 0.09319312193145683, 0.11981972819758736, 0.06656651566532631, 0.07987981879839158, 0.19969954699597894, 0.03993990939919579, 0.06656651566532631, 0.7280246061594948, 0.6546886700856774, 0.788275921843329, 0.14209010918461223, 0.15720607824680502, 0.17836843493387494, 0.08767262056071819, 0.1088349772477881, 0.08767262056071819, 0.09976539581047242, 0.0574406824363326, 0.051394294811455486, 0.03325513193682414, 0.32230911443502475, 0.08057727860875619, 0.40288639304378093, 0.19980665404320158, 0.15933948360407216, 0.10116792609782359, 0.10875552055516036, 0.12898910577472508, 0.08852193533559563, 0.10622632240271476, 0.042996368591575025, 0.027821179676901484, 0.035408774134238256, 0.44048116130562, 0.7129358079276297, 0.7600022940400161, 0.06527659800518444, 0.8485957740673978, 0.8778648945096954, 0.16707315935283323, 0.08353657967641662, 0.11622480650631876, 0.17433720975947817, 0.15617708374286585, 0.07990455447309415, 0.036320252033224615, 0.06537645365980431, 0.08716860487973908, 0.039952277236547075, 0.8276359578630349, 0.5914850560264231, 0.5513152075918645, 0.1571241131943325, 0.19827566664999102, 0.1271957106811263, 0.1309367609952771, 0.07856205659716625, 0.08604415722546781, 0.06733890565471393, 0.05237470439811084, 0.06359785534056316, 0.04115155345565851, 0.5107083745675495, 0.3064250247405297, 0.1021416749135099, 0.07669926128064616, 0.07669926128064616, 0.07669926128064616, 0.07669926128064616, 0.6902933515258155, 0.06155679703711001, 0.11751752161630094, 0.16508413750861323, 0.09793126801358411, 0.06435483326606956, 0.20705468094300641, 0.12591163030317956, 0.09233519555566502, 0.039172507205433645, 0.030778398518555006, 0.1907097677473369, 0.10188604030337176, 0.10972342801901575, 0.13062312859406636, 0.10449850287525309, 0.10972342801901575, 0.09927357773149043, 0.08621126487208379, 0.033962013434457254, 0.03657447600633858, 0.1711127827406367, 0.12428191588530456, 0.09546292089740785, 0.14049260056599647, 0.0972641080841514, 0.12067954151181748, 0.10446885683112557, 0.06664392590951114, 0.04502967966858861, 0.03602374373487089, 0.14600670507697824, 0.11299649349435709, 0.1168053640615826, 0.16885992848033138, 0.06855967021005935, 0.10918762292713156, 0.08506477600136994, 0.06221155259801682, 0.08125590543414442, 0.04951531737393176, 0.3880063740351523, 0.732464579374725, 0.2003755025895218, 0.6011265077685654, 0.18580998162061502, 0.12162107887894802, 0.12387332108041002, 0.150900227497954, 0.07319787154751502, 0.10585538346871401, 0.06306278164093601, 0.043918722928509006, 0.08896356695774901, 0.042792601827778005, 0.7903476865220807, 0.08272124749027195, 0.04136062374513597, 0.06204093561770396, 0.020680311872567986, 0.06204093561770396, 0.020680311872567986, 0.020680311872567986, 0.020680311872567986, 0.7031306036673115, 0.7275689020943001, 0.12890643245495798, 0.22200552256131653, 0.042968810818319325, 0.22200552256131653, 0.0572917477577591, 0.05013027928803922, 0.07161468469719888, 0.15755230633383754, 0.021484405409159663, 0.021484405409159663, 0.5797230263715465, 0.1932410087905155, 0.7746265370635993, 0.4416721219016634, 0.049074680211295935, 0.049074680211295935, 0.1472240406338878, 0.024537340105647967, 0.024537340105647967, 0.17176138073953576, 0.0736120203169439, 0.8246978671225146, 0.07663483013950152, 0.07663483013950152, 0.7663483013950152, 0.7325448517626408, 0.6622281044109901, 0.5834207033094971, 0.6551205940821517, 0.348909350128471, 0.11630311670949034, 0.0830736547924931, 0.04984419287549586, 0.04984419287549586, 0.06645892383399449, 0.11630311670949034, 0.033229461916997244, 0.06645892383399449, 0.06645892383399449, 0.2778019833166884, 0.16976787869353177, 0.06173377407037519, 0.04630033055278139, 0.07716721758796899, 0.0694504958291721, 0.10803410462315657, 0.030866887035187595, 0.10803410462315657, 0.05401705231157829, 0.10562359686070132, 0.10562359686070132, 0.10562359686070132, 0.21124719372140263, 0.42249438744280526, 0.05580057870423001, 0.11160115740846002, 0.11160115740846002, 0.07440077160564001, 0.13020135030987004, 0.09300096450705002, 0.27900289352115004, 0.11160115740846002, 0.03720038580282001, 0.018600192901410004, 0.7744362445899587, 0.6764717009470238, 0.16911792523675595, 0.7309620004735362, 0.28310629341215116, 0.28310629341215116, 0.39008675558765216, 0.6509116847594915, 0.16448036979820987, 0.6579214791928395, 0.7746300363521966, 0.5881951685563505, 0.8188290943865788, 0.1891662322175566, 0.5674986966526698, 0.8229223555724535, 0.17336882043575777, 0.13515311270529504, 0.12956057011059316, 0.09507322410993167, 0.11371503275893789, 0.11651130405628882, 0.07270305373112422, 0.07456723459602485, 0.04660452162251553, 0.04287615989271429, 0.7277097016115338, 0.04629548482453966, 0.06944322723680948, 0.06944322723680948, 0.11573871206134913, 0.37036387859631725, 0.04629548482453966, 0.09259096964907931, 0.13888645447361897, 0.04629548482453966, 0.02314774241226983, 0.7021329033053535, 0.10908320565546144, 0.15376789230950588, 0.12485427153335948, 0.10119767271651242, 0.13799682643160785, 0.09462639526738824, 0.09199788428773857, 0.08148384036913987, 0.04862745312351895, 0.056512986062467976, 0.6617814874474129, 0.5459759015243012, 0.5316376690443927, 0.08860627817406545, 0.08860627817406545, 0.08860627817406545, 0.08860627817406545, 0.643632616883825, 0.1553573294067579, 0.6214293176270316, 0.1553573294067579, 0.7060909169352837, 0.285080363944252, 0.285080363944252, 0.11932974951992528, 0.14242583007216889, 0.14050115669281527, 0.1251037696579862, 0.08661030207091351, 0.10970638262315711, 0.12895311641669346, 0.04811683448384084, 0.05196618124254811, 0.046192161104487206, 0.8277752973253413, 0.2180449738923096, 0.6541349216769288, 0.14047860724040032, 0.12542732789321456, 0.17559825905050042, 0.1087036841741193, 0.0786011254797478, 0.11037604854602882, 0.08027348985165733, 0.08027348985165733, 0.06354984613256205, 0.036792016182009606, 0.7344817931498778, 0.18572502540782432, 0.12204787383942742, 0.12735430313679383, 0.10878180059601139, 0.09286251270391216, 0.12470108848811062, 0.08224965410917934, 0.04510464902761448, 0.05306429297366409, 0.0557175076223473, 0.7352111821573072, 0.3806517068404558, 0.3806517068404558, 0.13890563097249709, 0.5556225238899883, 0.13890563097249709, 0.13890563097249709, 0.7724485902292219, 0.7699047754445857, 0.09525106127887568, 0.11689902975134743, 0.10823984236235873, 0.14720618561280788, 0.18617252886325703, 0.1385469982238192, 0.04762553063943784, 0.09525106127887568, 0.03896634325044914, 0.021647968472471746, 0.038547048449568744, 0.17538907044553778, 0.1291326123060553, 0.10407703081383561, 0.1194958501936631, 0.18888053740288685, 0.08480350658905124, 0.11756849777118467, 0.025055581492219682, 0.017346171802305934, 0.6670544425390359, 0.09535068103680243, 0.7628054482944194, 0.7502330866747228, 0.10811994925786161, 0.7568396448050313, 0.10342219625895506, 0.06894813083930337, 0.06894813083930337, 0.06894813083930337, 0.03447406541965169, 0.06894813083930337, 0.06894813083930337, 0.10342219625895506, 0.3102665887768652, 0.03447406541965169, 0.09019570239420006, 0.6313699167594005, 0.09019570239420006, 0.09019570239420006, 0.09019570239420006, 0.09019570239420006, 0.1162017873839001, 0.2577809766102611, 0.11887309284100124, 0.1549357165118668, 0.06277567824187706, 0.1215443982981024, 0.05342610914202303, 0.0387339291279667, 0.040069581856517274, 0.03472697094231497, 0.16592081655440022, 0.10903367945003442, 0.09718219255329155, 0.17066141131309737, 0.09955248993264013, 0.111403976829383, 0.0924415977945944, 0.06636832662176008, 0.04266535282827434, 0.04266535282827434, 0.8200461729237417, 0.1090165878104471, 0.05450829390522355, 0.4360663512417884, 0.05450829390522355, 0.05450829390522355, 0.1090165878104471, 0.05450829390522355, 0.05450829390522355, 0.05450829390522355, 0.05450829390522355, 0.123277258831551, 0.16507816843535278, 0.12965366877111398, 0.13319611873753787, 0.13673856870396173, 0.06588956937548415, 0.08785275916731221, 0.07864238925461012, 0.052428259503073414, 0.027631109738106258, 0.38873419066289694, 0.38873419066289694, 0.09751251167710263, 0.48756255838551316, 0.19502502335420527, 0.09751251167710263, 0.8840571974505387, 0.061799006656311314, 0.9269850998446697, 0.7357442752176454, 0.8248299979216055, 0.06577027189794271, 0.06577027189794271, 0.19731081569382813, 0.460391903285599, 0.19731081569382813, 0.06577027189794271, 0.8800908510687989, 0.1789564483370016, 0.1292463237989456, 0.15575839021924215, 0.09776324492484348, 0.10770526983245468, 0.11764729474006588, 0.07290818265581547, 0.04805312038678747, 0.05799514529439867, 0.03314008302537067, 0.07067847736206835, 0.7774632509827518, 0.8403348175354912, 0.8248244529740246, 0.7039913247443759, 0.7331734183540245, 0.7087872692378004, 0.15188140911347153, 0.15188140911347153, 0.07594070455673577, 0.4556442273404146, 0.826480906217981], \"Term\": [\"access\", \"access\", \"access\", \"access\", \"access\", \"access\", \"access\", \"access\", \"access\", \"access\", \"acsddc\", \"actrix\", \"adl\", \"african\", \"african\", \"african\", \"african\", \"african\", \"african\", \"african\", \"african\", \"ahold\", \"alaska\", \"alaska\", \"alaska\", \"alaska\", \"alaska\", \"alaska\", \"alaska\", \"alaska\", \"alaska\", \"alcor\", \"almserv\", \"alsi\", \"amertum\", \"ander\", \"angmar\", \"angmar\", \"appear\", \"appear\", \"appear\", \"appear\", \"appear\", \"appear\", \"appear\", \"appear\", \"appear\", \"appear\", \"appl\", \"appl\", \"appl\", \"appl\", \"appl\", \"appl\", \"appl\", \"appl\", \"appl\", \"appl\", \"apr\", \"apr\", \"apr\", \"apr\", \"apr\", \"apr\", \"apr\", \"apr\", \"apr\", \"apr\", \"armenian\", \"armenian\", \"armenian\", \"armenian\", \"armenian\", \"armenian\", \"armenian\", \"armenian\", \"armenian\", \"armenian\", \"art\", \"art\", \"art\", \"art\", \"art\", \"art\", \"art\", \"art\", \"art\", \"art\", \"articl\", \"articl\", \"articl\", \"articl\", \"articl\", \"articl\", \"articl\", \"articl\", \"articl\", \"articl\", \"assat\", \"assat\", \"assat\", \"austin\", \"austin\", \"austin\", \"austin\", \"austin\", \"austin\", \"austin\", \"austin\", \"austin\", \"austin\", \"author\", \"author\", \"author\", \"author\", \"author\", \"author\", \"author\", \"author\", \"author\", \"author\", \"balsamo\", \"balsamo\", \"bankrupt\", \"banz\", \"banz\", \"bauer\", \"bauer\", \"bdai\", \"beibg\", \"believ\", \"believ\", \"believ\", \"believ\", \"believ\", \"believ\", \"believ\", \"believ\", \"believ\", \"believ\", \"berkelei\", \"berkelei\", \"berkelei\", \"berkelei\", \"berkelei\", \"berkelei\", \"berkelei\", \"berkelei\", \"berkelei\", \"berkelei\", \"bhj\", \"bhj\", \"bhjn\", \"biosci\", \"birmingham\", \"birmingham\", \"birmingham\", \"birmingham\", \"birmingham\", \"bit\", \"bit\", \"bit\", \"bit\", \"bit\", \"bit\", \"bit\", \"bit\", \"bit\", \"bit\", \"bledso\", \"bledso\", \"bledso\", \"blitz\", \"blue\", \"blue\", \"blue\", \"blue\", \"blue\", \"blue\", \"blue\", \"blue\", \"blue\", \"blue\", \"boesel\", \"bon\", \"bradski\", \"bradski\", \"bram\", \"breaker\", \"breaker\", \"breaker\", \"breaker\", \"breaker\", \"breaker\", \"breaker\", \"bredel\", \"bredel\", \"brendan\", \"brendan\", \"brendan\", \"brendan\", \"brendan\", \"brendan\", \"brendan\", \"brian\", \"brian\", \"brian\", \"brian\", \"brian\", \"brian\", \"brian\", \"brian\", \"brian\", \"brian\", \"broder\", \"bs\", \"bs\", \"bst\", \"bu\", \"bu\", \"bu\", \"bu\", \"bu\", \"bu\", \"bu\", \"bu\", \"bu\", \"bu\", \"bui\", \"bui\", \"bui\", \"bui\", \"bui\", \"bui\", \"bui\", \"bui\", \"bui\", \"bui\", \"burri\", \"bxn\", \"bxn\", \"bxom\", \"bxom\", \"cadenc\", \"callowai\", \"canrem\", \"canrem\", \"car\", \"car\", \"car\", \"car\", \"car\", \"car\", \"car\", \"car\", \"car\", \"car\", \"card\", \"card\", \"card\", \"card\", \"card\", \"card\", \"card\", \"card\", \"card\", \"card\", \"cardhu\", \"caton\", \"caton\", \"cavallino\", \"cbi\", \"cboesel\", \"ccmb\", \"cerkonei\", \"cervi\", \"cg\", \"cg\", \"cg\", \"cg\", \"cg\", \"cg\", \"cgtwo\", \"chad\", \"cheema\", \"chenmin\", \"chenmin\", \"chevrolet\", \"chevrolet\", \"christian\", \"christian\", \"christian\", \"christian\", \"christian\", \"christian\", \"christian\", \"christian\", \"christian\", \"christian\", \"church\", \"church\", \"church\", \"church\", \"church\", \"church\", \"church\", \"church\", \"church\", \"church\", \"chz\", \"chz\", \"chz\", \"cipiti\", \"cjkuo\", \"claim\", \"claim\", \"claim\", \"claim\", \"claim\", \"claim\", \"claim\", \"claim\", \"claim\", \"claim\", \"cleveland\", \"cleveland\", \"cleveland\", \"cleveland\", \"cleveland\", \"cleveland\", \"cleveland\", \"cleveland\", \"cleveland\", \"cleveland\", \"coach\", \"coach\", \"coach\", \"coach\", \"coach\", \"coach\", \"coach\", \"coach\", \"coach\", \"coach\", \"coke\", \"com\", \"com\", \"com\", \"com\", \"com\", \"com\", \"com\", \"com\", \"com\", \"com\", \"come\", \"come\", \"come\", \"come\", \"come\", \"come\", \"come\", \"come\", \"come\", \"come\", \"compani\", \"compani\", \"compani\", \"compani\", \"compani\", \"compani\", \"compani\", \"compani\", \"compani\", \"compani\", \"concordia\", \"concordia\", \"concordia\", \"concordia\", \"concordia\", \"concordia\", \"concordia\", \"coupler\", \"cours\", \"cours\", \"cours\", \"cours\", \"cours\", \"cours\", \"cours\", \"cours\", \"cours\", \"cours\", \"cowen\", \"cramer\", \"cramer\", \"cramer\", \"cramer\", \"cramer\", \"cramer\", \"cramer\", \"cramer\", \"cramer\", \"creed\", \"creed\", \"creed\", \"creed\", \"creed\", \"creed\", \"creed\", \"creed\", \"creed\", \"ctd\", \"ctpm\", \"ctpm\", \"cudnvr\", \"cyt\", \"cyt\", \"cyt\", \"cyt\", \"cyt\", \"cyt\", \"dabl\", \"dai\", \"dai\", \"dai\", \"dai\", \"dai\", \"dai\", \"dai\", \"dai\", \"dai\", \"dai\", \"dame\", \"dame\", \"daughterboard\", \"david\", \"david\", \"david\", \"david\", \"david\", \"david\", \"david\", \"david\", \"david\", \"david\", \"dermatologist\", \"di\", \"di\", \"di\", \"di\", \"di\", \"di\", \"di\", \"di\", \"di\", \"di\", \"diablo\", \"diablo\", \"disk\", \"disk\", \"disk\", \"disk\", \"disk\", \"disk\", \"disk\", \"disk\", \"disk\", \"disk\", \"disolv\", \"displai\", \"displai\", \"displai\", \"displai\", \"displai\", \"displai\", \"displai\", \"displai\", \"displai\", \"displai\", \"distribut\", \"distribut\", \"distribut\", \"distribut\", \"distribut\", \"distribut\", \"distribut\", \"distribut\", \"distribut\", \"distribut\", \"dlmqc\", \"dma\", \"dma\", \"dma\", \"dma\", \"dma\", \"dma\", \"dnbf\", \"dolven\", \"domet\", \"dominik\", \"drive\", \"drive\", \"drive\", \"drive\", \"drive\", \"drive\", \"drive\", \"drive\", \"drive\", \"drive\", \"driver\", \"driver\", \"driver\", \"driver\", \"driver\", \"driver\", \"driver\", \"driver\", \"driver\", \"driver\", \"duvvuri\", \"dwinnel\", \"edg\", \"edg\", \"edg\", \"edg\", \"edg\", \"edg\", \"edg\", \"edg\", \"edg\", \"edg\", \"eeeee\", \"ei\", \"ei\", \"ei\", \"ei\", \"ei\", \"ei\", \"ei\", \"ei\", \"ei\", \"ekalenda\", \"elia\", \"elia\", \"elia\", \"elia\", \"elia\", \"elia\", \"elliott\", \"elliott\", \"elliott\", \"elliott\", \"emerson\", \"emerson\", \"emerson\", \"emerson\", \"emerson\", \"emerson\", \"emm\", \"emm\", \"emmen\", \"engin\", \"engin\", \"engin\", \"engin\", \"engin\", \"engin\", \"engin\", \"engin\", \"engin\", \"engin\", \"enni\", \"epcot\", \"epcot\", \"eq\", \"eq\", \"eqtm\", \"erc\", \"erc\", \"ex\", \"ex\", \"ex\", \"ex\", \"ex\", \"ex\", \"ex\", \"ex\", \"ex\", \"ex\", \"externel\", \"eyl\", \"eylerken\", \"ez\", \"ez\", \"ez\", \"ez\", \"ez\", \"fact\", \"fact\", \"fact\", \"fact\", \"fact\", \"fact\", \"fact\", \"fact\", \"fact\", \"fact\", \"fanni\", \"file\", \"file\", \"file\", \"file\", \"file\", \"file\", \"file\", \"file\", \"file\", \"file\", \"flashflood\", \"fnma\", \"fombaron\", \"fombaron\", \"fombaron\", \"forestri\", \"forestri\", \"fourd\", \"fq\", \"fq\", \"fq\", \"fyn\", \"fyn\", \"fyn\", \"fyn\", \"fyn\", \"gak\", \"game\", \"game\", \"game\", \"game\", \"game\", \"game\", \"game\", \"game\", \"game\", \"game\", \"garg\", \"garg\", \"geigel\", \"genoa\", \"ghj\", \"ghj\", \"gibson\", \"gibson\", \"gibson\", \"gibson\", \"gibson\", \"gibson\", \"gibson\", \"gibson\", \"gibson\", \"gifford\", \"girish\", \"giz\", \"giz\", \"giz\", \"giz\", \"giz\", \"giz\", \"giz\", \"gizw\", \"gizw\", \"gke\", \"gld\", \"gld\", \"gld\", \"gld\", \"gld\", \"gld\", \"gld\", \"gld\", \"gld\", \"gld\", \"go\", \"go\", \"go\", \"go\", \"go\", \"go\", \"go\", \"go\", \"go\", \"go\", \"god\", \"god\", \"god\", \"god\", \"god\", \"god\", \"god\", \"god\", \"god\", \"god\", \"goo\", \"goo\", \"good\", \"good\", \"good\", \"good\", \"good\", \"good\", \"good\", \"good\", \"good\", \"good\", \"gorman\", \"gorman\", \"gov\", \"gov\", \"gov\", \"gov\", \"gov\", \"gov\", \"gov\", \"gov\", \"gov\", \"gov\", \"gpb\", \"gpb\", \"gpb\", \"gravensted\", \"grissom\", \"grok\", \"grote\", \"gsnow\", \"gulshan\", \"gulshan\", \"gunsmith\", \"gypsi\", \"gypsi\", \"gypsi\", \"gypsi\", \"hathawai\", \"hci\", \"hci\", \"hci\", \"hci\", \"hci\", \"hci\", \"hdr\", \"heijn\", \"help\", \"help\", \"help\", \"help\", \"help\", \"help\", \"help\", \"help\", \"help\", \"help\", \"hobgoblin\", \"hobgoblin\", \"hobgoblin\", \"hobgoblin\", \"hobgoblin\", \"hobgoblin\", \"hobgoblin\", \"hobgoblin\", \"hobgoblin\", \"hobgoblin\", \"holger\", \"holger\", \"holger\", \"hollomb\", \"holthau\", \"holthau\", \"homosexu\", \"homosexu\", \"homosexu\", \"homosexu\", \"homosexu\", \"homosexu\", \"homosexu\", \"homosexu\", \"homosexu\", \"homosexu\", \"honeywel\", \"honeywel\", \"honeywel\", \"horton\", \"host\", \"host\", \"host\", \"host\", \"host\", \"host\", \"host\", \"host\", \"host\", \"host\", \"hulk\", \"hulk\", \"hulk\", \"hulk\", \"hulk\", \"hulk\", \"hulk\", \"hulk\", \"hulk\", \"hun\", \"hydro\", \"hydro\", \"hydro\", \"hydro\", \"hydro\", \"hydro\", \"ibm\", \"ibm\", \"ibm\", \"ibm\", \"ibm\", \"ibm\", \"ibm\", \"ibm\", \"ibm\", \"ibm\", \"ibp\", \"iitmax\", \"iitmax\", \"iivx\", \"iivx\", \"iivx\", \"iivx\", \"inel\", \"inel\", \"inel\", \"inel\", \"infant\", \"infant\", \"infant\", \"infant\", \"infant\", \"infant\", \"infant\", \"infant\", \"infant\", \"infant\", \"info\", \"info\", \"info\", \"info\", \"info\", \"info\", \"info\", \"info\", \"info\", \"info\", \"inform\", \"inform\", \"inform\", \"inform\", \"inform\", \"inform\", \"inform\", \"inform\", \"inform\", \"inform\", \"interlink\", \"israel\", \"israel\", \"israel\", \"israel\", \"israel\", \"israel\", \"israel\", \"israel\", \"israel\", \"israel\", \"isreal\", \"isreal\", \"isreal\", \"isreal\", \"isreal\", \"iteb\", \"iw\", \"jae\", \"jamal\", \"jamesl\", \"jcav\", \"jcav\", \"jesu\", \"jesu\", \"jesu\", \"jesu\", \"jesu\", \"jesu\", \"jesu\", \"jesu\", \"jesu\", \"jesu\", \"jge\", \"jhunter\", \"jlong\", \"joachim\", \"job\", \"job\", \"job\", \"job\", \"job\", \"job\", \"job\", \"job\", \"job\", \"job\", \"john\", \"john\", \"john\", \"john\", \"john\", \"john\", \"john\", \"john\", \"john\", \"john\", \"johnc\", \"jorgensen\", \"jpw\", \"jwaterma\", \"kdai\", \"kdai\", \"kde\", \"kei\", \"kei\", \"kei\", \"kei\", \"kei\", \"kei\", \"kei\", \"kei\", \"kei\", \"kei\", \"kellei\", \"kellei\", \"kelleyb\", \"kelleyb\", \"khalsa\", \"khalsa\", \"kheta\", \"kheta\", \"kimd\", \"kimgh\", \"kiria\", \"kiria\", \"kjetil\", \"kjetilk\", \"klj\", \"kn\", \"kn\", \"kng\", \"know\", \"know\", \"know\", \"know\", \"know\", \"know\", \"know\", \"know\", \"know\", \"know\", \"kolin\", \"kosman\", \"kosman\", \"kosman\", \"krueger\", \"krueger\", \"krueger\", \"ksu\", \"ksu\", \"ksu\", \"ksu\", \"ktodd\", \"kumthek\", \"kumthekar\", \"lambda\", \"lar\", \"lar\", \"larg\", \"larg\", \"larg\", \"larg\", \"larg\", \"larg\", \"larg\", \"larg\", \"larg\", \"larg\", \"lavalle\", \"lavoi\", \"law\", \"law\", \"law\", \"law\", \"law\", \"law\", \"law\", \"law\", \"law\", \"law\", \"libman\", \"libxmu\", \"libxmu\", \"libxmu\", \"libxmu\", \"like\", \"like\", \"like\", \"like\", \"like\", \"like\", \"like\", \"like\", \"like\", \"like\", \"lims\", \"line\", \"line\", \"line\", \"line\", \"line\", \"line\", \"line\", \"line\", \"line\", \"line\", \"list\", \"list\", \"list\", \"list\", \"list\", \"list\", \"list\", \"list\", \"list\", \"list\", \"livi\", \"longstaff\", \"look\", \"look\", \"look\", \"look\", \"look\", \"look\", \"look\", \"look\", \"look\", \"look\", \"lorn\", \"lotto\", \"lperez\", \"lte\", \"lwb\", \"lwb\", \"lwb\", \"macplu\", \"mail\", \"mail\", \"mail\", \"mail\", \"mail\", \"mail\", \"mail\", \"mail\", \"mail\", \"mail\", \"malei\", \"mareds\", \"mat\", \"mat\", \"mat\", \"mat\", \"mat\", \"mat\", \"mat\", \"matteo\", \"max\", \"max\", \"max\", \"max\", \"max\", \"max\", \"max\", \"max\", \"max\", \"max\", \"mcclari\", \"mccreari\", \"mckai\", \"mckai\", \"medi\", \"medi\", \"melido\", \"memori\", \"memori\", \"memori\", \"memori\", \"memori\", \"memori\", \"memori\", \"memori\", \"memori\", \"memori\", \"mf\", \"mf\", \"mf\", \"mf\", \"mfq\", \"mic\", \"mic\", \"millit\", \"millitello\", \"mirski\", \"mirski\", \"mirski\", \"mirski\", \"mit\", \"mit\", \"mit\", \"mit\", \"mit\", \"mit\", \"mit\", \"mit\", \"mit\", \"mit\", \"mitchel\", \"mitchel\", \"mitchel\", \"mitchel\", \"mitchel\", \"mitchel\", \"mmatteo\", \"mnhcc\", \"mondrian\", \"mondrian\", \"montasmm\", \"montasmm\", \"moral\", \"moral\", \"moral\", \"moral\", \"moral\", \"moral\", \"moral\", \"moral\", \"moral\", \"moral\", \"mpc\", \"mpc\", \"mpc\", \"mpc\", \"mpc\", \"mpc\", \"msg\", \"msg\", \"msg\", \"msg\", \"msg\", \"msg\", \"msg\", \"msg\", \"msg\", \"msg\", \"msoe\", \"mta\", \"mubashir\", \"mufti\", \"mufti\", \"murli\", \"mvh\", \"mvh\", \"narlochn\", \"nasa\", \"nasa\", \"nasa\", \"nasa\", \"nasa\", \"nasa\", \"nasa\", \"nasa\", \"nasa\", \"nasa\", \"ncr\", \"ncr\", \"ncr\", \"ncr\", \"ncr\", \"ncr\", \"ncr\", \"ncr\", \"ncr\", \"need\", \"need\", \"need\", \"need\", \"need\", \"need\", \"need\", \"need\", \"need\", \"need\", \"nei\", \"netcom\", \"netcom\", \"netcom\", \"netcom\", \"netcom\", \"netcom\", \"netcom\", \"netcom\", \"netcom\", \"netcom\", \"new\", \"new\", \"new\", \"new\", \"new\", \"new\", \"new\", \"new\", \"new\", \"new\", \"nhl\", \"nhl\", \"nhl\", \"nhl\", \"nhl\", \"nhl\", \"nhl\", \"nhl\", \"nhl\", \"nhl\", \"nlm\", \"nntp\", \"nntp\", \"nntp\", \"nntp\", \"nntp\", \"nntp\", \"nntp\", \"nntp\", \"nntp\", \"nntp\", \"noah\", \"noah\", \"noah\", \"noah\", \"noah\", \"noam\", \"nodin\", \"nodin\", \"nodin\", \"nodin\", \"nodin\", \"norden\", \"notr\", \"nrhj\", \"nrhj\", \"nriz\", \"nriz\", \"nrizwt\", \"nthu\", \"nthu\", \"nthu\", \"nthu\", \"nuet\", \"nuet\", \"nui\", \"nui\", \"number\", \"number\", \"number\", \"number\", \"number\", \"number\", \"number\", \"number\", \"number\", \"number\", \"nynashamn\", \"object\", \"object\", \"object\", \"object\", \"object\", \"object\", \"object\", \"object\", \"object\", \"object\", \"oc\", \"oc\", \"oc\", \"ocsmd\", \"ocsmd\", \"ocsmd\", \"odu\", \"oehler\", \"ohio\", \"ohio\", \"ohio\", \"ohio\", \"ohio\", \"ohio\", \"ohio\", \"ohio\", \"ohio\", \"ohio\", \"ohlwein\", \"ohlwein\", \"ohlwein\", \"okz\", \"okz\", \"okz\", \"okz\", \"okz\", \"okz\", \"olmstead\", \"olmstead\", \"opec\", \"organ\", \"organ\", \"organ\", \"organ\", \"organ\", \"organ\", \"organ\", \"organ\", \"organ\", \"organ\", \"palli\", \"parikh\", \"parkinson\", \"passau\", \"passau\", \"passau\", \"passman\", \"passthrough\", \"paula\", \"paula\", \"paula\", \"paxton\", \"pburri\", \"pcb\", \"pcb\", \"pchurch\", \"peopl\", \"peopl\", \"peopl\", \"peopl\", \"peopl\", \"peopl\", \"peopl\", \"peopl\", \"peopl\", \"peopl\", \"perth\", \"peterbak\", \"pfc\", \"pfc\", \"phydeaux\", \"picasso\", \"plai\", \"plai\", \"plai\", \"plai\", \"plai\", \"plai\", \"plai\", \"plai\", \"plai\", \"plai\", \"pmafir\", \"pmafir\", \"pmafir\", \"pmafir\", \"pmf\", \"pmfq\", \"pnei\", \"point\", \"point\", \"point\", \"point\", \"point\", \"point\", \"point\", \"point\", \"point\", \"point\", \"polymath\", \"polymath\", \"possibl\", \"possibl\", \"possibl\", \"possibl\", \"possibl\", \"possibl\", \"possibl\", \"possibl\", \"possibl\", \"possibl\", \"post\", \"post\", \"post\", \"post\", \"post\", \"post\", \"post\", \"post\", \"post\", \"post\", \"pps\", \"prakash\", \"price\", \"price\", \"price\", \"price\", \"price\", \"price\", \"price\", \"price\", \"price\", \"price\", \"problem\", \"problem\", \"problem\", \"problem\", \"problem\", \"problem\", \"problem\", \"problem\", \"problem\", \"problem\", \"program\", \"program\", \"program\", \"program\", \"program\", \"program\", \"program\", \"program\", \"program\", \"program\", \"protec\", \"pvconwai\", \"pww\", \"qax\", \"qax\", \"qcwin\", \"qtr\", \"qtr\", \"qtr\", \"qualm\", \"question\", \"question\", \"question\", \"question\", \"question\", \"question\", \"question\", \"question\", \"question\", \"question\", \"quicktim\", \"quicktim\", \"quicktim\", \"rai\", \"rai\", \"rai\", \"rai\", \"rai\", \"rai\", \"rai\", \"rai\", \"rai\", \"rai\", \"rdrc\", \"read\", \"read\", \"read\", \"read\", \"read\", \"read\", \"read\", \"read\", \"read\", \"read\", \"real\", \"real\", \"real\", \"real\", \"real\", \"real\", \"real\", \"real\", \"real\", \"real\", \"reason\", \"reason\", \"reason\", \"reason\", \"reason\", \"reason\", \"reason\", \"reason\", \"reason\", \"reason\", \"reb\", \"reev\", \"reid\", \"reid\", \"reid\", \"rein\", \"rein\", \"rein\", \"rein\", \"repli\", \"repli\", \"repli\", \"repli\", \"repli\", \"repli\", \"repli\", \"repli\", \"repli\", \"repli\", \"request\", \"request\", \"request\", \"request\", \"request\", \"request\", \"request\", \"request\", \"request\", \"request\", \"reseach\", \"research\", \"research\", \"research\", \"research\", \"research\", \"research\", \"research\", \"research\", \"research\", \"research\", \"reynold\", \"rickert\", \"rickert\", \"rickert\", \"right\", \"right\", \"right\", \"right\", \"right\", \"right\", \"right\", \"right\", \"right\", \"right\", \"rlk\", \"rlk\", \"rlk\", \"rodc\", \"rpao\", \"rpao\", \"rrn\", \"rrn\", \"rubenstein\", \"run\", \"run\", \"run\", \"run\", \"run\", \"run\", \"run\", \"run\", \"run\", \"run\", \"rupin\", \"rutger\", \"rutger\", \"rutger\", \"rutger\", \"rutger\", \"rutger\", \"rutger\", \"rutger\", \"rutger\", \"rutger\", \"rvesterm\", \"sa\", \"sa\", \"sa\", \"sa\", \"sa\", \"sa\", \"sa\", \"sa\", \"sa\", \"sa\", \"sabretooth\", \"sabretooth\", \"sabretooth\", \"sabretooth\", \"sabretooth\", \"sabretooth\", \"sabretooth\", \"sabretooth\", \"sabretooth\", \"sabretooth\", \"saeid\", \"sai\", \"sai\", \"sai\", \"sai\", \"sai\", \"sai\", \"sai\", \"sai\", \"sai\", \"sai\", \"said\", \"said\", \"said\", \"said\", \"said\", \"said\", \"said\", \"said\", \"said\", \"said\", \"salerno\", \"salvat\", \"salvat\", \"salvat\", \"salvat\", \"salvat\", \"salvat\", \"salvat\", \"salvat\", \"salvat\", \"salvat\", \"satam\", \"satam\", \"satam\", \"saturn\", \"saturn\", \"saturn\", \"saturn\", \"saturn\", \"saturn\", \"saturn\", \"saturn\", \"saturn\", \"saturn\", \"schunix\", \"screen\", \"screen\", \"screen\", \"screen\", \"screen\", \"screen\", \"screen\", \"screen\", \"screen\", \"screen\", \"seetharam\", \"send\", \"send\", \"send\", \"send\", \"send\", \"send\", \"send\", \"send\", \"send\", \"send\", \"serpukhov\", \"sexi\", \"sibl\", \"sibl\", \"skcla\", \"skcla\", \"skidmor\", \"sloan\", \"sloan\", \"sloan\", \"sloan\", \"sm\", \"sm\", \"sm\", \"sm\", \"smucs\", \"snd\", \"snll\", \"snll\", \"soderberg\", \"softwar\", \"softwar\", \"softwar\", \"softwar\", \"softwar\", \"softwar\", \"softwar\", \"softwar\", \"softwar\", \"softwar\", \"space\", \"space\", \"space\", \"space\", \"space\", \"space\", \"space\", \"space\", \"space\", \"space\", \"spacsun\", \"spigot\", \"spoof\", \"spoof\", \"src\", \"src\", \"src\", \"src\", \"src\", \"src\", \"src\", \"srihari\", \"srini\", \"stargl\", \"stargl\", \"state\", \"state\", \"state\", \"state\", \"state\", \"state\", \"state\", \"state\", \"state\", \"state\", \"stelth\", \"stephanopoulo\", \"stephanopoulo\", \"stephanopoulo\", \"stephanopoulo\", \"stephanopoulo\", \"stephanopoulo\", \"stephanopoulo\", \"stephanopoulo\", \"stephanopoulo\", \"stephanopoulo\", \"stl\", \"stl\", \"stl\", \"stl\", \"stl\", \"stl\", \"stl\", \"stollmann\", \"stratu\", \"stratu\", \"stratu\", \"stratu\", \"stratu\", \"stratu\", \"stratu\", \"stratu\", \"stratu\", \"stratu\", \"strokeadjust\", \"stud\", \"student\", \"student\", \"student\", \"student\", \"student\", \"student\", \"student\", \"student\", \"student\", \"student\", \"stueven\", \"subleas\", \"sundar\", \"sure\", \"sure\", \"sure\", \"sure\", \"sure\", \"sure\", \"sure\", \"sure\", \"sure\", \"sure\", \"synopt\", \"synopt\", \"synopt\", \"system\", \"system\", \"system\", \"system\", \"system\", \"system\", \"system\", \"system\", \"system\", \"system\", \"tae\", \"talluri\", \"tbxn\", \"tct\", \"tct\", \"teac\", \"team\", \"team\", \"team\", \"team\", \"team\", \"team\", \"team\", \"team\", \"team\", \"team\", \"technik\", \"telecomwa\", \"telesoft\", \"tell\", \"tell\", \"tell\", \"tell\", \"tell\", \"tell\", \"tell\", \"tell\", \"tell\", \"tell\", \"textedit\", \"textedit\", \"textedit\", \"tg\", \"tg\", \"tg\", \"tg\", \"tg\", \"thank\", \"thank\", \"thank\", \"thank\", \"thank\", \"thank\", \"thank\", \"thank\", \"thank\", \"thank\", \"thi\", \"thi\", \"thi\", \"thi\", \"thi\", \"thi\", \"thi\", \"thi\", \"thi\", \"thi\", \"thing\", \"thing\", \"thing\", \"thing\", \"thing\", \"thing\", \"thing\", \"thing\", \"thing\", \"thing\", \"think\", \"think\", \"think\", \"think\", \"think\", \"think\", \"think\", \"think\", \"think\", \"think\", \"thssgkg\", \"tianiti\", \"tichauer\", \"tichauer\", \"time\", \"time\", \"time\", \"time\", \"time\", \"time\", \"time\", \"time\", \"time\", \"time\", \"tisl\", \"tm\", \"tm\", \"tm\", \"tm\", \"tm\", \"tm\", \"tm\", \"tm\", \"tm\", \"toontown\", \"toronto\", \"toronto\", \"toronto\", \"toronto\", \"toronto\", \"toronto\", \"toronto\", \"toronto\", \"toronto\", \"toronto\", \"toshiba\", \"toshiba\", \"tosspot\", \"tower\", \"tower\", \"tower\", \"tower\", \"tower\", \"tower\", \"tower\", \"tower\", \"tpeng\", \"tq\", \"tq\", \"tq\", \"trc\", \"tromblei\", \"tromso\", \"tttddd\", \"turk\", \"turk\", \"turk\", \"turk\", \"turk\", \"turk\", \"turk\", \"turk\", \"turk\", \"turk\", \"turkish\", \"turkish\", \"turkish\", \"turkish\", \"turkish\", \"turkish\", \"turkish\", \"turkish\", \"turkish\", \"turkish\", \"uab\", \"uab\", \"uab\", \"uab\", \"uab\", \"uchicago\", \"uchicago\", \"uchicago\", \"uchicago\", \"uchicago\", \"uchicago\", \"uchicago\", \"uchicago\", \"uchicago\", \"uchicago\", \"uct\", \"udac\", \"udac\", \"ufr\", \"ufrima\", \"ufrima\", \"ugxk\", \"ulm\", \"um\", \"um\", \"umassd\", \"umcc\", \"umeist\", \"umiac\", \"umiac\", \"ungsgard\", \"univers\", \"univers\", \"univers\", \"univers\", \"univers\", \"univers\", \"univers\", \"univers\", \"univers\", \"univers\", \"unmesh\", \"upenn\", \"upenn\", \"upenn\", \"upenn\", \"upenn\", \"upenn\", \"upenn\", \"upenn\", \"upenn\", \"upenn\", \"uqv\", \"us\", \"us\", \"us\", \"us\", \"us\", \"us\", \"us\", \"us\", \"us\", \"us\", \"vasili\", \"vccsouth\", \"vector\", \"vector\", \"vector\", \"vector\", \"vector\", \"vesterman\", \"vma\", \"vma\", \"vma\", \"volkmar\", \"vpnet\", \"vpnet\", \"wai\", \"wai\", \"wai\", \"wai\", \"wai\", \"wai\", \"wai\", \"wai\", \"wai\", \"wai\", \"walru\", \"wangr\", \"wangr\", \"want\", \"want\", \"want\", \"want\", \"want\", \"want\", \"want\", \"want\", \"want\", \"want\", \"wchutt\", \"well\", \"well\", \"well\", \"well\", \"well\", \"well\", \"well\", \"well\", \"well\", \"well\", \"wetstein\", \"wha\", \"wha\", \"whalei\", \"whalei\", \"whalei\", \"whalei\", \"wigg\", \"williamson\", \"win\", \"win\", \"win\", \"win\", \"win\", \"win\", \"win\", \"win\", \"win\", \"win\", \"window\", \"window\", \"window\", \"window\", \"window\", \"window\", \"window\", \"window\", \"window\", \"window\", \"wireless\", \"wm\", \"wm\", \"wmbs\", \"wmbxn\", \"wmbxn\", \"wolverin\", \"wolverin\", \"wolverin\", \"wolverin\", \"wolverin\", \"wolverin\", \"wolverin\", \"wolverin\", \"wolverin\", \"wolverin\", \"wong\", \"wong\", \"wong\", \"wong\", \"wong\", \"wong\", \"work\", \"work\", \"work\", \"work\", \"work\", \"work\", \"work\", \"work\", \"work\", \"work\", \"world\", \"world\", \"world\", \"world\", \"world\", \"world\", \"world\", \"world\", \"world\", \"world\", \"wr\", \"wrap\", \"wrap\", \"wrap\", \"wrap\", \"wrap\", \"wrap\", \"wrap\", \"wrap\", \"wrap\", \"wrap\", \"write\", \"write\", \"write\", \"write\", \"write\", \"write\", \"write\", \"write\", \"write\", \"write\", \"wrl\", \"wrl\", \"wscrawl\", \"wscrawl\", \"wscrawl\", \"wscrawl\", \"wwhj\", \"wwiz\", \"wwiz\", \"wynblatt\", \"xman\", \"xmu\", \"xmu\", \"xmu\", \"xmu\", \"xmu\", \"xmu\", \"xylog\", \"year\", \"year\", \"year\", \"year\", \"year\", \"year\", \"year\", \"year\", \"year\", \"year\", \"yf\", \"yf\", \"yigal\", \"yvon\", \"zaandam\", \"zazula\", \"zeo\", \"zisfein\", \"zisfein\", \"zisfein\", \"zisfein\", \"zmed\"]}, \"R\": 30, \"lambda.step\": 0.01, \"plot.opts\": {\"xlab\": \"PC1\", \"ylab\": \"PC2\"}, \"topic.order\": [4, 6, 3, 10, 5, 8, 7, 9, 1, 2]};\n",
              "\n",
              "function LDAvis_load_lib(url, callback){\n",
              "  var s = document.createElement('script');\n",
              "  s.src = url;\n",
              "  s.async = true;\n",
              "  s.onreadystatechange = s.onload = callback;\n",
              "  s.onerror = function(){console.warn(\"failed to load library \" + url);};\n",
              "  document.getElementsByTagName(\"head\")[0].appendChild(s);\n",
              "}\n",
              "\n",
              "if(typeof(LDAvis) !== \"undefined\"){\n",
              "   // already loaded: just create the visualization\n",
              "   !function(LDAvis){\n",
              "       new LDAvis(\"#\" + \"ldavis_el424691391186915668649890436929\", ldavis_el424691391186915668649890436929_data);\n",
              "   }(LDAvis);\n",
              "}else if(typeof define === \"function\" && define.amd){\n",
              "   // require.js is available: use it to load d3/LDAvis\n",
              "   require.config({paths: {d3: \"https://d3js.org/d3.v5\"}});\n",
              "   require([\"d3\"], function(d3){\n",
              "      window.d3 = d3;\n",
              "      LDAvis_load_lib(\"https://cdn.jsdelivr.net/gh/bmabey/pyLDAvis@3.4.0/pyLDAvis/js/ldavis.v3.0.0.js\", function(){\n",
              "        new LDAvis(\"#\" + \"ldavis_el424691391186915668649890436929\", ldavis_el424691391186915668649890436929_data);\n",
              "      });\n",
              "    });\n",
              "}else{\n",
              "    // require.js not available: dynamically load d3 & LDAvis\n",
              "    LDAvis_load_lib(\"https://d3js.org/d3.v5.js\", function(){\n",
              "         LDAvis_load_lib(\"https://cdn.jsdelivr.net/gh/bmabey/pyLDAvis@3.4.0/pyLDAvis/js/ldavis.v3.0.0.js\", function(){\n",
              "                 new LDAvis(\"#\" + \"ldavis_el424691391186915668649890436929\", ldavis_el424691391186915668649890436929_data);\n",
              "            })\n",
              "         });\n",
              "}\n",
              "</script>"
            ]
          },
          "metadata": {},
          "execution_count": 20
        }
      ]
    },
    {
      "cell_type": "markdown",
      "source": [
        "# **BERTopic**"
      ],
      "metadata": {
        "id": "nJc0d1D-8FDk"
      }
    },
    {
      "cell_type": "markdown",
      "source": [
        "The following question is designed to help you develop a feel for the way topic modeling works, the connection to the human meanings of documents.\n",
        "\n",
        "Dataset from **assignment-3** (text dataset) .\n",
        "\n",
        "> Dont use any custom datasets.\n",
        "\n",
        "\n",
        "> Dataset must have 1000+ rows, no duplicates and null values\n",
        "\n"
      ],
      "metadata": {
        "id": "a4kaHgnnJqQh"
      }
    },
    {
      "cell_type": "markdown",
      "source": [
        "# **Question 2 (20 Points)**"
      ],
      "metadata": {
        "id": "KfXGIvg36_P_"
      }
    },
    {
      "cell_type": "markdown",
      "source": [
        "\n",
        "\n",
        "Q2) **Generate K=10 topics by using BERTopic and then find optimal K value by the coherence score. Interpret each topic and visualize with suitable style.**"
      ],
      "metadata": {
        "id": "38D2s1f77Ebc"
      }
    },
    {
      "cell_type": "code",
      "source": [
        "semantic_df = pd.read_csv(\"semantic_scholar_10000.csv\")"
      ],
      "metadata": {
        "id": "NjUfA8LE7OLN"
      },
      "execution_count": 21,
      "outputs": []
    },
    {
      "cell_type": "code",
      "source": [
        "semantic_df.dropna(axis = 0, inplace = True)"
      ],
      "metadata": {
        "id": "MTW5XgOFXdbX"
      },
      "execution_count": 22,
      "outputs": []
    },
    {
      "cell_type": "code",
      "source": [
        "semantic_df.reset_index()"
      ],
      "metadata": {
        "colab": {
          "base_uri": "https://localhost:8080/",
          "height": 423
        },
        "id": "CT8SgQzUX7zn",
        "outputId": "baee6548-7e71-412a-d251-d96b06730562"
      },
      "execution_count": 23,
      "outputs": [
        {
          "output_type": "execute_result",
          "data": {
            "text/plain": [
              "      index                                   paperId  \\\n",
              "0         0  00000c33779acab142af6c7a6dae8b36fac0805d   \n",
              "1         1  0000238f07f151172cf2602588ba762b55c8464b   \n",
              "2         3  0000315635be19f6278dbc72597b3065fac405f0   \n",
              "3         4  00005d68c6c7eb4d3c27da8242a30b9a498f991e   \n",
              "4         5  00005f1b7e976068ca4b5a1b546d9945158b3bfc   \n",
              "...     ...                                       ...   \n",
              "7865   9991  032afbb7d1b11d069627b0b2ddcb53dadc3441ba   \n",
              "7866   9993  032b14ee53946228b132f2e3d9789edef40413f6   \n",
              "7867   9994  032b1d12a2d8a669a5ea97f30edd5c41d2cbe5df   \n",
              "7868   9996  032b3905a76c716fba857c7878209840b9e46ada   \n",
              "7869   9998  032b423054d52846f9306f23bdd07eccee35a5c8   \n",
              "\n",
              "                                                    url  \\\n",
              "0     https://www.semanticscholar.org/paper/00000c33...   \n",
              "1     https://www.semanticscholar.org/paper/0000238f...   \n",
              "2     https://www.semanticscholar.org/paper/00003156...   \n",
              "3     https://www.semanticscholar.org/paper/00005d68...   \n",
              "4     https://www.semanticscholar.org/paper/00005f1b...   \n",
              "...                                                 ...   \n",
              "7865  https://www.semanticscholar.org/paper/032afbb7...   \n",
              "7866  https://www.semanticscholar.org/paper/032b14ee...   \n",
              "7867  https://www.semanticscholar.org/paper/032b1d12...   \n",
              "7868  https://www.semanticscholar.org/paper/032b3905...   \n",
              "7869  https://www.semanticscholar.org/paper/032b4230...   \n",
              "\n",
              "                                               abstract  \\\n",
              "0     In the era of burgeoning electric vehicle (EV)...   \n",
              "1     Background Meditation apps have surged in popu...   \n",
              "2     Background Humans must be able to cope with th...   \n",
              "3     The growing number of cloud-based services has...   \n",
              "4     Diffusion generative models, a class of machin...   \n",
              "...                                                 ...   \n",
              "7865  Backgrounds Freezing of gait (FoG) is a common...   \n",
              "7866  Speaker recognition depends on identifying the...   \n",
              "7867  The latest technologies and communication prot...   \n",
              "7868  In the context of increasing negative environm...   \n",
              "7869  Some of the simplest tasks for a human to acco...   \n",
              "\n",
              "                                                authors  \\\n",
              "0     ['Ahmad Almaghrebi', 'Kevin James', 'Fares al ...   \n",
              "1     ['Christian A. Webb', 'M. Hirshberg', 'R. Davi...   \n",
              "2     ['Nida Shafiq', 'Isma Hamid', 'Muhammad Asif',...   \n",
              "3                  ['Iehab Alrassan', 'Asma Alqahtani']   \n",
              "4     ['Lasse Kreimendahl', 'Mikhail Karnaukh', 'M. ...   \n",
              "...                                                 ...   \n",
              "7865  ['Jae-Min Park', 'Chang-Won Moon', 'Byung Chan...   \n",
              "7866         ['Venkata Subba Reddy Gade', 'M. Sumathi']   \n",
              "7867    ['Bilal Muhammad Khan', 'Muhammad Bilal Kadri']   \n",
              "7868  ['Son Vu Hong Pham', 'Khoi Van Tien Nguyen', '...   \n",
              "7869  ['Eshani Akanksha Bisht', 'Purnendu Prabhat', ...   \n",
              "\n",
              "                                     processed abstract  \n",
              "0     ['era', 'burgeon', 'electr', 'vehicl', 'ev', '...  \n",
              "1     ['background', 'medit', 'app', 'surg', 'popula...  \n",
              "2     ['background', 'human', 'must', 'abl', 'cope',...  \n",
              "3     ['grow', 'number', 'cloudbas', 'servic', 'led'...  \n",
              "4     ['diffus', 'gener', 'model', 'class', 'machin'...  \n",
              "...                                                 ...  \n",
              "7865  ['background', 'freez', 'gait', 'fog', 'common...  \n",
              "7866  ['speaker', 'recognit', 'depend', 'identifi', ...  \n",
              "7867  ['latest', 'technolog', 'commun', 'protocol', ...  \n",
              "7868  ['context', 'increas', 'neg', 'environment', '...  \n",
              "7869  ['simplest', 'task', 'human', 'accomplish', 'd...  \n",
              "\n",
              "[7870 rows x 6 columns]"
            ],
            "text/html": [
              "\n",
              "  <div id=\"df-78faf6fe-5310-40da-b359-ea328ee7185e\" class=\"colab-df-container\">\n",
              "    <div>\n",
              "<style scoped>\n",
              "    .dataframe tbody tr th:only-of-type {\n",
              "        vertical-align: middle;\n",
              "    }\n",
              "\n",
              "    .dataframe tbody tr th {\n",
              "        vertical-align: top;\n",
              "    }\n",
              "\n",
              "    .dataframe thead th {\n",
              "        text-align: right;\n",
              "    }\n",
              "</style>\n",
              "<table border=\"1\" class=\"dataframe\">\n",
              "  <thead>\n",
              "    <tr style=\"text-align: right;\">\n",
              "      <th></th>\n",
              "      <th>index</th>\n",
              "      <th>paperId</th>\n",
              "      <th>url</th>\n",
              "      <th>abstract</th>\n",
              "      <th>authors</th>\n",
              "      <th>processed abstract</th>\n",
              "    </tr>\n",
              "  </thead>\n",
              "  <tbody>\n",
              "    <tr>\n",
              "      <th>0</th>\n",
              "      <td>0</td>\n",
              "      <td>00000c33779acab142af6c7a6dae8b36fac0805d</td>\n",
              "      <td>https://www.semanticscholar.org/paper/00000c33...</td>\n",
              "      <td>In the era of burgeoning electric vehicle (EV)...</td>\n",
              "      <td>['Ahmad Almaghrebi', 'Kevin James', 'Fares al ...</td>\n",
              "      <td>['era', 'burgeon', 'electr', 'vehicl', 'ev', '...</td>\n",
              "    </tr>\n",
              "    <tr>\n",
              "      <th>1</th>\n",
              "      <td>1</td>\n",
              "      <td>0000238f07f151172cf2602588ba762b55c8464b</td>\n",
              "      <td>https://www.semanticscholar.org/paper/0000238f...</td>\n",
              "      <td>Background Meditation apps have surged in popu...</td>\n",
              "      <td>['Christian A. Webb', 'M. Hirshberg', 'R. Davi...</td>\n",
              "      <td>['background', 'medit', 'app', 'surg', 'popula...</td>\n",
              "    </tr>\n",
              "    <tr>\n",
              "      <th>2</th>\n",
              "      <td>3</td>\n",
              "      <td>0000315635be19f6278dbc72597b3065fac405f0</td>\n",
              "      <td>https://www.semanticscholar.org/paper/00003156...</td>\n",
              "      <td>Background Humans must be able to cope with th...</td>\n",
              "      <td>['Nida Shafiq', 'Isma Hamid', 'Muhammad Asif',...</td>\n",
              "      <td>['background', 'human', 'must', 'abl', 'cope',...</td>\n",
              "    </tr>\n",
              "    <tr>\n",
              "      <th>3</th>\n",
              "      <td>4</td>\n",
              "      <td>00005d68c6c7eb4d3c27da8242a30b9a498f991e</td>\n",
              "      <td>https://www.semanticscholar.org/paper/00005d68...</td>\n",
              "      <td>The growing number of cloud-based services has...</td>\n",
              "      <td>['Iehab Alrassan', 'Asma Alqahtani']</td>\n",
              "      <td>['grow', 'number', 'cloudbas', 'servic', 'led'...</td>\n",
              "    </tr>\n",
              "    <tr>\n",
              "      <th>4</th>\n",
              "      <td>5</td>\n",
              "      <td>00005f1b7e976068ca4b5a1b546d9945158b3bfc</td>\n",
              "      <td>https://www.semanticscholar.org/paper/00005f1b...</td>\n",
              "      <td>Diffusion generative models, a class of machin...</td>\n",
              "      <td>['Lasse Kreimendahl', 'Mikhail Karnaukh', 'M. ...</td>\n",
              "      <td>['diffus', 'gener', 'model', 'class', 'machin'...</td>\n",
              "    </tr>\n",
              "    <tr>\n",
              "      <th>...</th>\n",
              "      <td>...</td>\n",
              "      <td>...</td>\n",
              "      <td>...</td>\n",
              "      <td>...</td>\n",
              "      <td>...</td>\n",
              "      <td>...</td>\n",
              "    </tr>\n",
              "    <tr>\n",
              "      <th>7865</th>\n",
              "      <td>9991</td>\n",
              "      <td>032afbb7d1b11d069627b0b2ddcb53dadc3441ba</td>\n",
              "      <td>https://www.semanticscholar.org/paper/032afbb7...</td>\n",
              "      <td>Backgrounds Freezing of gait (FoG) is a common...</td>\n",
              "      <td>['Jae-Min Park', 'Chang-Won Moon', 'Byung Chan...</td>\n",
              "      <td>['background', 'freez', 'gait', 'fog', 'common...</td>\n",
              "    </tr>\n",
              "    <tr>\n",
              "      <th>7866</th>\n",
              "      <td>9993</td>\n",
              "      <td>032b14ee53946228b132f2e3d9789edef40413f6</td>\n",
              "      <td>https://www.semanticscholar.org/paper/032b14ee...</td>\n",
              "      <td>Speaker recognition depends on identifying the...</td>\n",
              "      <td>['Venkata Subba Reddy Gade', 'M. Sumathi']</td>\n",
              "      <td>['speaker', 'recognit', 'depend', 'identifi', ...</td>\n",
              "    </tr>\n",
              "    <tr>\n",
              "      <th>7867</th>\n",
              "      <td>9994</td>\n",
              "      <td>032b1d12a2d8a669a5ea97f30edd5c41d2cbe5df</td>\n",
              "      <td>https://www.semanticscholar.org/paper/032b1d12...</td>\n",
              "      <td>The latest technologies and communication prot...</td>\n",
              "      <td>['Bilal Muhammad Khan', 'Muhammad Bilal Kadri']</td>\n",
              "      <td>['latest', 'technolog', 'commun', 'protocol', ...</td>\n",
              "    </tr>\n",
              "    <tr>\n",
              "      <th>7868</th>\n",
              "      <td>9996</td>\n",
              "      <td>032b3905a76c716fba857c7878209840b9e46ada</td>\n",
              "      <td>https://www.semanticscholar.org/paper/032b3905...</td>\n",
              "      <td>In the context of increasing negative environm...</td>\n",
              "      <td>['Son Vu Hong Pham', 'Khoi Van Tien Nguyen', '...</td>\n",
              "      <td>['context', 'increas', 'neg', 'environment', '...</td>\n",
              "    </tr>\n",
              "    <tr>\n",
              "      <th>7869</th>\n",
              "      <td>9998</td>\n",
              "      <td>032b423054d52846f9306f23bdd07eccee35a5c8</td>\n",
              "      <td>https://www.semanticscholar.org/paper/032b4230...</td>\n",
              "      <td>Some of the simplest tasks for a human to acco...</td>\n",
              "      <td>['Eshani Akanksha Bisht', 'Purnendu Prabhat', ...</td>\n",
              "      <td>['simplest', 'task', 'human', 'accomplish', 'd...</td>\n",
              "    </tr>\n",
              "  </tbody>\n",
              "</table>\n",
              "<p>7870 rows × 6 columns</p>\n",
              "</div>\n",
              "    <div class=\"colab-df-buttons\">\n",
              "\n",
              "  <div class=\"colab-df-container\">\n",
              "    <button class=\"colab-df-convert\" onclick=\"convertToInteractive('df-78faf6fe-5310-40da-b359-ea328ee7185e')\"\n",
              "            title=\"Convert this dataframe to an interactive table.\"\n",
              "            style=\"display:none;\">\n",
              "\n",
              "  <svg xmlns=\"http://www.w3.org/2000/svg\" height=\"24px\" viewBox=\"0 -960 960 960\">\n",
              "    <path d=\"M120-120v-720h720v720H120Zm60-500h600v-160H180v160Zm220 220h160v-160H400v160Zm0 220h160v-160H400v160ZM180-400h160v-160H180v160Zm440 0h160v-160H620v160ZM180-180h160v-160H180v160Zm440 0h160v-160H620v160Z\"/>\n",
              "  </svg>\n",
              "    </button>\n",
              "\n",
              "  <style>\n",
              "    .colab-df-container {\n",
              "      display:flex;\n",
              "      gap: 12px;\n",
              "    }\n",
              "\n",
              "    .colab-df-convert {\n",
              "      background-color: #E8F0FE;\n",
              "      border: none;\n",
              "      border-radius: 50%;\n",
              "      cursor: pointer;\n",
              "      display: none;\n",
              "      fill: #1967D2;\n",
              "      height: 32px;\n",
              "      padding: 0 0 0 0;\n",
              "      width: 32px;\n",
              "    }\n",
              "\n",
              "    .colab-df-convert:hover {\n",
              "      background-color: #E2EBFA;\n",
              "      box-shadow: 0px 1px 2px rgba(60, 64, 67, 0.3), 0px 1px 3px 1px rgba(60, 64, 67, 0.15);\n",
              "      fill: #174EA6;\n",
              "    }\n",
              "\n",
              "    .colab-df-buttons div {\n",
              "      margin-bottom: 4px;\n",
              "    }\n",
              "\n",
              "    [theme=dark] .colab-df-convert {\n",
              "      background-color: #3B4455;\n",
              "      fill: #D2E3FC;\n",
              "    }\n",
              "\n",
              "    [theme=dark] .colab-df-convert:hover {\n",
              "      background-color: #434B5C;\n",
              "      box-shadow: 0px 1px 3px 1px rgba(0, 0, 0, 0.15);\n",
              "      filter: drop-shadow(0px 1px 2px rgba(0, 0, 0, 0.3));\n",
              "      fill: #FFFFFF;\n",
              "    }\n",
              "  </style>\n",
              "\n",
              "    <script>\n",
              "      const buttonEl =\n",
              "        document.querySelector('#df-78faf6fe-5310-40da-b359-ea328ee7185e button.colab-df-convert');\n",
              "      buttonEl.style.display =\n",
              "        google.colab.kernel.accessAllowed ? 'block' : 'none';\n",
              "\n",
              "      async function convertToInteractive(key) {\n",
              "        const element = document.querySelector('#df-78faf6fe-5310-40da-b359-ea328ee7185e');\n",
              "        const dataTable =\n",
              "          await google.colab.kernel.invokeFunction('convertToInteractive',\n",
              "                                                    [key], {});\n",
              "        if (!dataTable) return;\n",
              "\n",
              "        const docLinkHtml = 'Like what you see? Visit the ' +\n",
              "          '<a target=\"_blank\" href=https://colab.research.google.com/notebooks/data_table.ipynb>data table notebook</a>'\n",
              "          + ' to learn more about interactive tables.';\n",
              "        element.innerHTML = '';\n",
              "        dataTable['output_type'] = 'display_data';\n",
              "        await google.colab.output.renderOutput(dataTable, element);\n",
              "        const docLink = document.createElement('div');\n",
              "        docLink.innerHTML = docLinkHtml;\n",
              "        element.appendChild(docLink);\n",
              "      }\n",
              "    </script>\n",
              "  </div>\n",
              "\n",
              "\n",
              "<div id=\"df-af7d4d5c-5a99-4cc5-9073-18e25f09aa5d\">\n",
              "  <button class=\"colab-df-quickchart\" onclick=\"quickchart('df-af7d4d5c-5a99-4cc5-9073-18e25f09aa5d')\"\n",
              "            title=\"Suggest charts\"\n",
              "            style=\"display:none;\">\n",
              "\n",
              "<svg xmlns=\"http://www.w3.org/2000/svg\" height=\"24px\"viewBox=\"0 0 24 24\"\n",
              "     width=\"24px\">\n",
              "    <g>\n",
              "        <path d=\"M19 3H5c-1.1 0-2 .9-2 2v14c0 1.1.9 2 2 2h14c1.1 0 2-.9 2-2V5c0-1.1-.9-2-2-2zM9 17H7v-7h2v7zm4 0h-2V7h2v10zm4 0h-2v-4h2v4z\"/>\n",
              "    </g>\n",
              "</svg>\n",
              "  </button>\n",
              "\n",
              "<style>\n",
              "  .colab-df-quickchart {\n",
              "      --bg-color: #E8F0FE;\n",
              "      --fill-color: #1967D2;\n",
              "      --hover-bg-color: #E2EBFA;\n",
              "      --hover-fill-color: #174EA6;\n",
              "      --disabled-fill-color: #AAA;\n",
              "      --disabled-bg-color: #DDD;\n",
              "  }\n",
              "\n",
              "  [theme=dark] .colab-df-quickchart {\n",
              "      --bg-color: #3B4455;\n",
              "      --fill-color: #D2E3FC;\n",
              "      --hover-bg-color: #434B5C;\n",
              "      --hover-fill-color: #FFFFFF;\n",
              "      --disabled-bg-color: #3B4455;\n",
              "      --disabled-fill-color: #666;\n",
              "  }\n",
              "\n",
              "  .colab-df-quickchart {\n",
              "    background-color: var(--bg-color);\n",
              "    border: none;\n",
              "    border-radius: 50%;\n",
              "    cursor: pointer;\n",
              "    display: none;\n",
              "    fill: var(--fill-color);\n",
              "    height: 32px;\n",
              "    padding: 0;\n",
              "    width: 32px;\n",
              "  }\n",
              "\n",
              "  .colab-df-quickchart:hover {\n",
              "    background-color: var(--hover-bg-color);\n",
              "    box-shadow: 0 1px 2px rgba(60, 64, 67, 0.3), 0 1px 3px 1px rgba(60, 64, 67, 0.15);\n",
              "    fill: var(--button-hover-fill-color);\n",
              "  }\n",
              "\n",
              "  .colab-df-quickchart-complete:disabled,\n",
              "  .colab-df-quickchart-complete:disabled:hover {\n",
              "    background-color: var(--disabled-bg-color);\n",
              "    fill: var(--disabled-fill-color);\n",
              "    box-shadow: none;\n",
              "  }\n",
              "\n",
              "  .colab-df-spinner {\n",
              "    border: 2px solid var(--fill-color);\n",
              "    border-color: transparent;\n",
              "    border-bottom-color: var(--fill-color);\n",
              "    animation:\n",
              "      spin 1s steps(1) infinite;\n",
              "  }\n",
              "\n",
              "  @keyframes spin {\n",
              "    0% {\n",
              "      border-color: transparent;\n",
              "      border-bottom-color: var(--fill-color);\n",
              "      border-left-color: var(--fill-color);\n",
              "    }\n",
              "    20% {\n",
              "      border-color: transparent;\n",
              "      border-left-color: var(--fill-color);\n",
              "      border-top-color: var(--fill-color);\n",
              "    }\n",
              "    30% {\n",
              "      border-color: transparent;\n",
              "      border-left-color: var(--fill-color);\n",
              "      border-top-color: var(--fill-color);\n",
              "      border-right-color: var(--fill-color);\n",
              "    }\n",
              "    40% {\n",
              "      border-color: transparent;\n",
              "      border-right-color: var(--fill-color);\n",
              "      border-top-color: var(--fill-color);\n",
              "    }\n",
              "    60% {\n",
              "      border-color: transparent;\n",
              "      border-right-color: var(--fill-color);\n",
              "    }\n",
              "    80% {\n",
              "      border-color: transparent;\n",
              "      border-right-color: var(--fill-color);\n",
              "      border-bottom-color: var(--fill-color);\n",
              "    }\n",
              "    90% {\n",
              "      border-color: transparent;\n",
              "      border-bottom-color: var(--fill-color);\n",
              "    }\n",
              "  }\n",
              "</style>\n",
              "\n",
              "  <script>\n",
              "    async function quickchart(key) {\n",
              "      const quickchartButtonEl =\n",
              "        document.querySelector('#' + key + ' button');\n",
              "      quickchartButtonEl.disabled = true;  // To prevent multiple clicks.\n",
              "      quickchartButtonEl.classList.add('colab-df-spinner');\n",
              "      try {\n",
              "        const charts = await google.colab.kernel.invokeFunction(\n",
              "            'suggestCharts', [key], {});\n",
              "      } catch (error) {\n",
              "        console.error('Error during call to suggestCharts:', error);\n",
              "      }\n",
              "      quickchartButtonEl.classList.remove('colab-df-spinner');\n",
              "      quickchartButtonEl.classList.add('colab-df-quickchart-complete');\n",
              "    }\n",
              "    (() => {\n",
              "      let quickchartButtonEl =\n",
              "        document.querySelector('#df-af7d4d5c-5a99-4cc5-9073-18e25f09aa5d button');\n",
              "      quickchartButtonEl.style.display =\n",
              "        google.colab.kernel.accessAllowed ? 'block' : 'none';\n",
              "    })();\n",
              "  </script>\n",
              "</div>\n",
              "\n",
              "    </div>\n",
              "  </div>\n"
            ],
            "application/vnd.google.colaboratory.intrinsic+json": {
              "type": "dataframe",
              "summary": "{\n  \"name\": \"semantic_df\",\n  \"rows\": 7870,\n  \"fields\": [\n    {\n      \"column\": \"index\",\n      \"properties\": {\n        \"dtype\": \"number\",\n        \"std\": 2889,\n        \"min\": 0,\n        \"max\": 9998,\n        \"num_unique_values\": 7870,\n        \"samples\": [\n          8946,\n          645,\n          8280\n        ],\n        \"semantic_type\": \"\",\n        \"description\": \"\"\n      }\n    },\n    {\n      \"column\": \"paperId\",\n      \"properties\": {\n        \"dtype\": \"string\",\n        \"num_unique_values\": 7870,\n        \"samples\": [\n          \"02d7a8eaeb3f237e3ab824f5a3be808dc9b39744\",\n          \"0033c0015f6957123e46f10772de5228f4e3a5cf\",\n          \"029fecedced2ab59d4ebd02eed4df2581b5c3d63\"\n        ],\n        \"semantic_type\": \"\",\n        \"description\": \"\"\n      }\n    },\n    {\n      \"column\": \"url\",\n      \"properties\": {\n        \"dtype\": \"string\",\n        \"num_unique_values\": 7870,\n        \"samples\": [\n          \"https://www.semanticscholar.org/paper/02d7a8eaeb3f237e3ab824f5a3be808dc9b39744\",\n          \"https://www.semanticscholar.org/paper/0033c0015f6957123e46f10772de5228f4e3a5cf\",\n          \"https://www.semanticscholar.org/paper/029fecedced2ab59d4ebd02eed4df2581b5c3d63\"\n        ],\n        \"semantic_type\": \"\",\n        \"description\": \"\"\n      }\n    },\n    {\n      \"column\": \"abstract\",\n      \"properties\": {\n        \"dtype\": \"string\",\n        \"num_unique_values\": 7855,\n        \"samples\": [\n          \"Computer virus is a rapidly evolving threat to the computing community. These viruses fall into different categories. It is generally believed that metamorphic viruses are extremely difficult to detect. Metamorphic virus generating kits are readily available using which potentially dangerous viruses can be created with very little knowledge or skill. Classification of computer virus is very important for effective defection of any malware using anti virus software. It is also necessary for building and applying right software patch to overcome the security vulnerability. Recent research work on Hidden Markov Model(HMM) analysis has shown that it is more effective tool than other techniques like machine learning in detecting of computer viruses and their classification. In this paper, we present a classification technique based on Hidden Markov Model for computer virus classification. We trained multiple HMMs with 500 malware files belonging to different virus families as well as compilers. Once trained the model was used to classify new malware of its kind efficiently.\",\n          \"Wheat crop classification and prediction are important tasks for the optimization of crop yield and resource utilization. In this study, we propose an Artificial Neural Network (ANN) model integrated with Genetic Algorithm (GA) to predict and classify the wheat crop images of different ages. The dataset of 19,300 images was used, and the model was trained and tested using various performance evaluation metrics. The results show that the proposed ANN+GA model achieved the highest accuracy of 99.29% during the training phase and 98.65% during the testing phase. The model was also compared with other state-of-the-art machine learning models, and the proposed model was found to be superior in terms of accuracy, specificity, sensitivity, precision, and F-measure. The graph of training and testing accurateness and loss values in contradiction ofindividual epoch demonstrating the speediness of model convergence. Our proposed model is feasible and robust, giving better classification and crop forecast outcomes for numerous wheat crop age groups with least resource necessities. These findings could be useful for farmers and agricultural researchers in improving crop yield and resource management.\",\n          \"We apply a Dense Neural Network (DNN) approach to reconstruct jet momentum within a quark-gluon plasma (QGP) background, using simulated data from PYTHIA and Linear Boltzmann Transport (LBT) Models for comparative analysis. We find that medium response particles from the LBT simulation, scattered out of the QGP background but belonging to medium-modified jets, can inevitably lead to oversubtraction of the background if the DNN model is trained on vacuum jets from PYTHIA simulation. By training the DNN model on quenched jets generated using the LBT model, we significantly reduce this prediction bias and achieve more accurate background subtraction compared to conventional Area-based and Constituent Subtraction methods widely adopted in experimental measurements. Additionally, we develop a matching procedure to pair reconstructed jets inside a background to their counterparts reconstructed without the background, further improving the reliability of ML models in background subtraction, and therefore enabling an accurate capture of the jet quenching effect and a precise estimation of the nuclear modification factor of jets in high-energy nuclear collisions.\"\n        ],\n        \"semantic_type\": \"\",\n        \"description\": \"\"\n      }\n    },\n    {\n      \"column\": \"authors\",\n      \"properties\": {\n        \"dtype\": \"string\",\n        \"num_unique_values\": 7774,\n        \"samples\": [\n          \"['M. S. Lee']\",\n          \"['Rongqiang Yang', 'Quanxinxin Jiang']\",\n          \"['Qiaochu An', 'Yong Zhou', 'Zhibin Wang', 'Hangguan Shan', 'Yuanming Shi', 'M. Bennis']\"\n        ],\n        \"semantic_type\": \"\",\n        \"description\": \"\"\n      }\n    },\n    {\n      \"column\": \"processed abstract\",\n      \"properties\": {\n        \"dtype\": \"string\",\n        \"num_unique_values\": 7850,\n        \"samples\": [\n          \"['order', 'improv', 'resolut', 'infrar', 'imag', 'singlemolecul', 'reconstruct', 'composit', 'materi', 'paper', 'propos', 'imag', 'superresolut', 'reconstruct', 'method', 'base', 'deep', 'machin', 'learn', 'srgan', 'replac', 'residu', 'block', 'gener', 'network', 'srgan', 'residu', 'den', 'block', 'effect', 'acquir', 'util', 'imag', 'featur', 'variou', 'network', 'layer', 'especi', 'contain', 'highfrequ', 'inform', 'therebi', 'ensur', 'detail', 'textur', 'preserv', 'magnif', 'infrar', 'imag', 'se', 'attent', 'mechan', 'incorpor', 'gener', 'network', 'assign', 'weight', 'channel', 'strengthen', 'focu', 'import', 'featur', 'reduc', 'relianc', 'irrelev', 'inform', 'superresolut', 'reconstruct', 'experi', 'conduct', 'cfrp', 'composit', 'materi', 'infrar', 'imag', 'demonstr', 'improv', 'algorithm', 'achiev', '06', 'increas', 'peak', 'signaltonois', 'ratio', 'psnr', '03', 'increas', 'structur', 'similar', 'index', 'ssim', 'compar', 'srgan', 'provid', 'valuabl', 'refer', 'superresolut', 'reconstruct', 'infrar', 'imag', 'composit', 'materi']\",\n          \"['studi', 'delv', 'integr', 'artifici', 'intellig', 'ai', 'machin', 'learn', 'ml', 'financi', 'forecast', 'within', 'unit', 'state', 'aim', 'uncov', 'advanc', 'challeng', 'broader', 'implic', 'stakehold', 'financi', 'market', 'employ', 'systemat', 'literatur', 'review', 'content', 'analysi', 'research', 'meticul', 'examin', 'peerreview', 'journal', 'confer', 'proceed', 'reput', 'institut', 'report', '2010', '2024', 'methodolog', 'focus', 'identifi', 'empir', 'evid', 'highlight', 'role', 'ai', 'ml', 'technolog', 'enhanc', 'accuraci', 'effici', 'financi', 'predict', 'also', 'consid', 'ethic', 'regulatori', 'challeng', 'pose', 'advanc', 'key', 'find', 'indic', 'ai', 'ml', 'significantli', 'revolution', 'financi', 'forecast', 'offer', 'improv', 'precis', 'market', 'trend', 'analysi', 'asset', 'price', 'predict', 'innov', 'deep', 'learn', 'reinforc', 'learn', 'hybrid', 'model', 'despit', 'advanc', 'challeng', 'relat', 'data', 'qualiti', 'model', 'interpret', 'ethic', 'consider', 'persist', 'underscor', 'need', 'robust', 'regulatori', 'framework', 'ensur', 'respons', 'use', 'ai', 'financ', 'studi', 'conclud', 'ai', 'ml', 'present', 'substanti', 'opportun', 'transform', 'financi', 'forecast', 'decisionmak', 'process', 'address', 'associ', 'challeng', 'crucial', 'ethic', 'effect', 'integr', 'strateg', 'recommend', 'financi', 'leader', 'policymak', 'emphas', 'import', 'foster', 'innov', 'enhanc', 'ai', 'literaci', 'develop', 'intern', 'standard', 'ai', 'use', 'financ', 'futur', 'research', 'direct', 'includ', 'explor', 'impact', 'emerg', 'technolog', 'financi', 'forecast', 'develop', 'adapt', 'regulatori', 'framework', 'accommod', 'technolog', 'advanc']\",\n          \"['invent', 'propos', 'music', 'recommend', 'model', 'base', 'machin', 'learn', 'collabor', 'filter', 'mainli', 'provid', 'friendlier', 'individu', 'music', 'recommend', 'user', 'enabl', 'user', 'obtain', 'better', 'novel', 'product', 'use', 'experi', 'recommend', 'model', 'construct', 'method', 'propos', 'invent', 'firstli', 'start', 'angl', 'app', 'type', 'invent', 'music', 'recommend', 'solut', 'base', 'model', 'learn', 'start', 'user', 'prefer', 'combin', 'social', 'relat', 'propos', 'music', 'recommend', 'scheme', 'base', 'collabor', 'filter', 'final', 'combin', 'two', 'scheme', 'recommend', 'music', 'user', 'rank', 'list', 'mode', 'simultan', 'provid', 'feedback', 'mechan', 'user', 'model', 'optim', 'recommend', 'system', 'automat']\"\n        ],\n        \"semantic_type\": \"\",\n        \"description\": \"\"\n      }\n    }\n  ]\n}"
            }
          },
          "metadata": {},
          "execution_count": 23
        }
      ]
    },
    {
      "cell_type": "code",
      "source": [
        "#Text stored as string in CSV, convert back to list\n",
        "def back_to_list(text):\n",
        "    return re.sub(r\"['\\[\\]]\", \"\", text)\n",
        "\n",
        "semantic_df['processed abstract'] = semantic_df['processed abstract'].apply(back_to_list)"
      ],
      "metadata": {
        "id": "B689_csR6vHj"
      },
      "execution_count": 24,
      "outputs": []
    },
    {
      "cell_type": "code",
      "source": [
        "semantic_df = semantic_df.sample(2000)"
      ],
      "metadata": {
        "id": "nCqg-oIrtwG8"
      },
      "execution_count": 25,
      "outputs": []
    },
    {
      "cell_type": "code",
      "source": [
        "#abstracts = semantic_df['processed abstract'].to_string()"
      ],
      "metadata": {
        "id": "vBq5_aOKsXrK"
      },
      "execution_count": 132,
      "outputs": []
    },
    {
      "cell_type": "code",
      "source": [
        "topic_model = BERTopic(language=\"english\")\n",
        "topics, probs = topic_model.fit_transform(semantic_df['processed abstract'])"
      ],
      "metadata": {
        "id": "5OlSQsGOsplN"
      },
      "execution_count": 26,
      "outputs": []
    },
    {
      "cell_type": "code",
      "source": [
        "topic_model.get_topic_info()"
      ],
      "metadata": {
        "colab": {
          "base_uri": "https://localhost:8080/",
          "height": 958
        },
        "id": "ue-oQkYGsvUP",
        "outputId": "2234e813-0ccf-48dd-91f5-d844d3c57204"
      },
      "execution_count": 27,
      "outputs": [
        {
          "output_type": "execute_result",
          "data": {
            "text/plain": [
              "    Topic  Count                                   Name  \\\n",
              "0      -1    867                -1_learn_data_model_use   \n",
              "1       0    435            0_patient_predict_use_model   \n",
              "2       1     62          1_attack_detect_secur_network   \n",
              "3       2     52       2_sentiment_social_opinion_tweet   \n",
              "4       3     47           3_text_languag_word_translat   \n",
              "5       4     37      4_optim_algorithm_problem_converg   \n",
              "6       5     36         5_problem_algorithm_learn_game   \n",
              "7       6     34          6_model_predict_random_forest   \n",
              "8       7     30                7_cnn_imag_deep_network   \n",
              "9       8     29     8_quantum_molecular_topolog_comput   \n",
              "10      9     28           9_model_paramet_vector_learn   \n",
              "11     10     27        10_channel_signal_radio_antenna   \n",
              "12     11     26        11_crop_growth_plant_agricultur   \n",
              "13     12     25              12_season_co_water_pollut   \n",
              "14     13     25          13_stock_market_price_financi   \n",
              "15     14     24            14_power_pv_forecast_energi   \n",
              "16     15     24           15_speech_languag_sign_music   \n",
              "17     16     23     16_materi_thermal_properti_conduct   \n",
              "18     17     22             17_fl_feder_client_privaci   \n",
              "19     18     22    18_design_optim_circuit_architectur   \n",
              "20     19     18           19_imag_segment_region_color   \n",
              "21     20     17  20_neural_riemannian_manifold_network   \n",
              "22     21     17          21_student_educ_teacher_cours   \n",
              "23     22     15            22_task_learn_model_languag   \n",
              "24     23     12         23_featur_select_page_classifi   \n",
              "25     24     12           24_fraud_card_credit_banknot   \n",
              "26     25     12            25_ai_erp_profession_integr   \n",
              "27     26     11        26_commun_attack_implement_data   \n",
              "28     27     11        27_vehicl_detect_yolov5_monitor   \n",
              "\n",
              "                                       Representation  \\\n",
              "0   [learn, data, model, use, machin, system, meth...   \n",
              "1   [patient, predict, use, model, diseas, studi, ...   \n",
              "2   [attack, detect, secur, network, threat, iot, ...   \n",
              "3   [sentiment, social, opinion, tweet, news, twit...   \n",
              "4   [text, languag, word, translat, approach, port...   \n",
              "5   [optim, algorithm, problem, converg, bound, st...   \n",
              "6   [problem, algorithm, learn, game, solv, solut,...   \n",
              "7   [model, predict, random, forest, classif, scre...   \n",
              "8   [cnn, imag, deep, network, convolut, neural, o...   \n",
              "9   [quantum, molecular, topolog, comput, simul, p...   \n",
              "10  [model, paramet, vector, learn, set, space, st...   \n",
              "11  [channel, signal, radio, antenna, wifi, wirele...   \n",
              "12  [crop, growth, plant, agricultur, stage, use, ...   \n",
              "13  [season, co, water, pollut, model, wind, ocean...   \n",
              "14  [stock, market, price, financi, predict, retai...   \n",
              "15  [power, pv, forecast, energi, fault, renew, tr...   \n",
              "16  [speech, languag, sign, music, speaker, system...   \n",
              "17  [materi, thermal, properti, conduct, mechan, s...   \n",
              "18  [fl, feder, client, privaci, updat, commun, tr...   \n",
              "19  [design, optim, circuit, architectur, hardwar,...   \n",
              "20  [imag, segment, region, color, method, detect,...   \n",
              "21  [neural, riemannian, manifold, network, field,...   \n",
              "22  [student, educ, teacher, cours, learn, teach, ...   \n",
              "23  [task, learn, model, languag, convers, onlin, ...   \n",
              "24  [featur, select, page, classifi, coresearch, t...   \n",
              "25  [fraud, card, credit, banknot, financi, detect...   \n",
              "26  [ai, erp, profession, integr, skill, arbitr, s...   \n",
              "27  [commun, attack, implement, data, log, workloa...   \n",
              "28  [vehicl, detect, yolov5, monitor, autonom, dev...   \n",
              "\n",
              "                                  Representative_Docs  \n",
              "0   [problem, despit, rather, success, applic, art...  \n",
              "1   [abstract, object, provid, focus, evalu, predi...  \n",
              "2   [rais, threat, distribut, denial, servic, ddo,...  \n",
              "3   [sentiment, analysi, process, analyz, peopl, s...  \n",
              "4   [recent, grow, interest, short, text, classif,...  \n",
              "5   [largescal, nonconvex, nonsmooth, problem, att...  \n",
              "6   [studi, discus, implement, decis, tree, algori...  \n",
              "7   [variou, featur, variabl, screen, approach, pr...  \n",
              "8   [evid, paradigm, shift, steganalysi, techniqu,...  \n",
              "9   [quantum, machin, learn, qml, gather, signific...  \n",
              "10  [nowaday, grow, amount, collect, data, enabl, ...  \n",
              "11  [explos, 5g, network, internet, thing, result,...  \n",
              "12  [aboveground, biomass, agb, import, indic, mon...  \n",
              "13  [air, pollut, becom, major, issu, larg, citi, ...  \n",
              "14  [stock, market, predict, alway, pivot, critic,...  \n",
              "15  [paper, present, comprehens, review, machin, l...  \n",
              "16  [indian, sign, languag, primari, mode, commun,...  \n",
              "17  [thermal, energi, storag, util, wide, concern,...  \n",
              "18  [feder, learn, fl, repres, breakthrough, priva...  \n",
              "19  [modern, fpga, equip, heterogen, block, hblock...  \n",
              "20  [manmad, object, recognit, remot, sen, imageri...  \n",
              "21  [recent, method, geometr, deep, learn, introdu...  \n",
              "22  [one, import, qualiti, develop, civil, educ, s...  \n",
              "23  [deep, learn, encompass, inher, properti, scat...  \n",
              "24  [order, classifi, web, page, benign, malici, d...  \n",
              "25  [credit, card, fraud, drastic, increas, recent...  \n",
              "26  [articl, discus, increas, role, artifici, inte...  \n",
              "27  [secur, reliabl, network, protocol, implement,...  \n",
              "28  [human, activ, recognit, pose, signific, chall...  "
            ],
            "text/html": [
              "\n",
              "  <div id=\"df-5d99bdfc-62d8-40de-8f33-82b90c3f2648\" class=\"colab-df-container\">\n",
              "    <div>\n",
              "<style scoped>\n",
              "    .dataframe tbody tr th:only-of-type {\n",
              "        vertical-align: middle;\n",
              "    }\n",
              "\n",
              "    .dataframe tbody tr th {\n",
              "        vertical-align: top;\n",
              "    }\n",
              "\n",
              "    .dataframe thead th {\n",
              "        text-align: right;\n",
              "    }\n",
              "</style>\n",
              "<table border=\"1\" class=\"dataframe\">\n",
              "  <thead>\n",
              "    <tr style=\"text-align: right;\">\n",
              "      <th></th>\n",
              "      <th>Topic</th>\n",
              "      <th>Count</th>\n",
              "      <th>Name</th>\n",
              "      <th>Representation</th>\n",
              "      <th>Representative_Docs</th>\n",
              "    </tr>\n",
              "  </thead>\n",
              "  <tbody>\n",
              "    <tr>\n",
              "      <th>0</th>\n",
              "      <td>-1</td>\n",
              "      <td>867</td>\n",
              "      <td>-1_learn_data_model_use</td>\n",
              "      <td>[learn, data, model, use, machin, system, meth...</td>\n",
              "      <td>[problem, despit, rather, success, applic, art...</td>\n",
              "    </tr>\n",
              "    <tr>\n",
              "      <th>1</th>\n",
              "      <td>0</td>\n",
              "      <td>435</td>\n",
              "      <td>0_patient_predict_use_model</td>\n",
              "      <td>[patient, predict, use, model, diseas, studi, ...</td>\n",
              "      <td>[abstract, object, provid, focus, evalu, predi...</td>\n",
              "    </tr>\n",
              "    <tr>\n",
              "      <th>2</th>\n",
              "      <td>1</td>\n",
              "      <td>62</td>\n",
              "      <td>1_attack_detect_secur_network</td>\n",
              "      <td>[attack, detect, secur, network, threat, iot, ...</td>\n",
              "      <td>[rais, threat, distribut, denial, servic, ddo,...</td>\n",
              "    </tr>\n",
              "    <tr>\n",
              "      <th>3</th>\n",
              "      <td>2</td>\n",
              "      <td>52</td>\n",
              "      <td>2_sentiment_social_opinion_tweet</td>\n",
              "      <td>[sentiment, social, opinion, tweet, news, twit...</td>\n",
              "      <td>[sentiment, analysi, process, analyz, peopl, s...</td>\n",
              "    </tr>\n",
              "    <tr>\n",
              "      <th>4</th>\n",
              "      <td>3</td>\n",
              "      <td>47</td>\n",
              "      <td>3_text_languag_word_translat</td>\n",
              "      <td>[text, languag, word, translat, approach, port...</td>\n",
              "      <td>[recent, grow, interest, short, text, classif,...</td>\n",
              "    </tr>\n",
              "    <tr>\n",
              "      <th>5</th>\n",
              "      <td>4</td>\n",
              "      <td>37</td>\n",
              "      <td>4_optim_algorithm_problem_converg</td>\n",
              "      <td>[optim, algorithm, problem, converg, bound, st...</td>\n",
              "      <td>[largescal, nonconvex, nonsmooth, problem, att...</td>\n",
              "    </tr>\n",
              "    <tr>\n",
              "      <th>6</th>\n",
              "      <td>5</td>\n",
              "      <td>36</td>\n",
              "      <td>5_problem_algorithm_learn_game</td>\n",
              "      <td>[problem, algorithm, learn, game, solv, solut,...</td>\n",
              "      <td>[studi, discus, implement, decis, tree, algori...</td>\n",
              "    </tr>\n",
              "    <tr>\n",
              "      <th>7</th>\n",
              "      <td>6</td>\n",
              "      <td>34</td>\n",
              "      <td>6_model_predict_random_forest</td>\n",
              "      <td>[model, predict, random, forest, classif, scre...</td>\n",
              "      <td>[variou, featur, variabl, screen, approach, pr...</td>\n",
              "    </tr>\n",
              "    <tr>\n",
              "      <th>8</th>\n",
              "      <td>7</td>\n",
              "      <td>30</td>\n",
              "      <td>7_cnn_imag_deep_network</td>\n",
              "      <td>[cnn, imag, deep, network, convolut, neural, o...</td>\n",
              "      <td>[evid, paradigm, shift, steganalysi, techniqu,...</td>\n",
              "    </tr>\n",
              "    <tr>\n",
              "      <th>9</th>\n",
              "      <td>8</td>\n",
              "      <td>29</td>\n",
              "      <td>8_quantum_molecular_topolog_comput</td>\n",
              "      <td>[quantum, molecular, topolog, comput, simul, p...</td>\n",
              "      <td>[quantum, machin, learn, qml, gather, signific...</td>\n",
              "    </tr>\n",
              "    <tr>\n",
              "      <th>10</th>\n",
              "      <td>9</td>\n",
              "      <td>28</td>\n",
              "      <td>9_model_paramet_vector_learn</td>\n",
              "      <td>[model, paramet, vector, learn, set, space, st...</td>\n",
              "      <td>[nowaday, grow, amount, collect, data, enabl, ...</td>\n",
              "    </tr>\n",
              "    <tr>\n",
              "      <th>11</th>\n",
              "      <td>10</td>\n",
              "      <td>27</td>\n",
              "      <td>10_channel_signal_radio_antenna</td>\n",
              "      <td>[channel, signal, radio, antenna, wifi, wirele...</td>\n",
              "      <td>[explos, 5g, network, internet, thing, result,...</td>\n",
              "    </tr>\n",
              "    <tr>\n",
              "      <th>12</th>\n",
              "      <td>11</td>\n",
              "      <td>26</td>\n",
              "      <td>11_crop_growth_plant_agricultur</td>\n",
              "      <td>[crop, growth, plant, agricultur, stage, use, ...</td>\n",
              "      <td>[aboveground, biomass, agb, import, indic, mon...</td>\n",
              "    </tr>\n",
              "    <tr>\n",
              "      <th>13</th>\n",
              "      <td>12</td>\n",
              "      <td>25</td>\n",
              "      <td>12_season_co_water_pollut</td>\n",
              "      <td>[season, co, water, pollut, model, wind, ocean...</td>\n",
              "      <td>[air, pollut, becom, major, issu, larg, citi, ...</td>\n",
              "    </tr>\n",
              "    <tr>\n",
              "      <th>14</th>\n",
              "      <td>13</td>\n",
              "      <td>25</td>\n",
              "      <td>13_stock_market_price_financi</td>\n",
              "      <td>[stock, market, price, financi, predict, retai...</td>\n",
              "      <td>[stock, market, predict, alway, pivot, critic,...</td>\n",
              "    </tr>\n",
              "    <tr>\n",
              "      <th>15</th>\n",
              "      <td>14</td>\n",
              "      <td>24</td>\n",
              "      <td>14_power_pv_forecast_energi</td>\n",
              "      <td>[power, pv, forecast, energi, fault, renew, tr...</td>\n",
              "      <td>[paper, present, comprehens, review, machin, l...</td>\n",
              "    </tr>\n",
              "    <tr>\n",
              "      <th>16</th>\n",
              "      <td>15</td>\n",
              "      <td>24</td>\n",
              "      <td>15_speech_languag_sign_music</td>\n",
              "      <td>[speech, languag, sign, music, speaker, system...</td>\n",
              "      <td>[indian, sign, languag, primari, mode, commun,...</td>\n",
              "    </tr>\n",
              "    <tr>\n",
              "      <th>17</th>\n",
              "      <td>16</td>\n",
              "      <td>23</td>\n",
              "      <td>16_materi_thermal_properti_conduct</td>\n",
              "      <td>[materi, thermal, properti, conduct, mechan, s...</td>\n",
              "      <td>[thermal, energi, storag, util, wide, concern,...</td>\n",
              "    </tr>\n",
              "    <tr>\n",
              "      <th>18</th>\n",
              "      <td>17</td>\n",
              "      <td>22</td>\n",
              "      <td>17_fl_feder_client_privaci</td>\n",
              "      <td>[fl, feder, client, privaci, updat, commun, tr...</td>\n",
              "      <td>[feder, learn, fl, repres, breakthrough, priva...</td>\n",
              "    </tr>\n",
              "    <tr>\n",
              "      <th>19</th>\n",
              "      <td>18</td>\n",
              "      <td>22</td>\n",
              "      <td>18_design_optim_circuit_architectur</td>\n",
              "      <td>[design, optim, circuit, architectur, hardwar,...</td>\n",
              "      <td>[modern, fpga, equip, heterogen, block, hblock...</td>\n",
              "    </tr>\n",
              "    <tr>\n",
              "      <th>20</th>\n",
              "      <td>19</td>\n",
              "      <td>18</td>\n",
              "      <td>19_imag_segment_region_color</td>\n",
              "      <td>[imag, segment, region, color, method, detect,...</td>\n",
              "      <td>[manmad, object, recognit, remot, sen, imageri...</td>\n",
              "    </tr>\n",
              "    <tr>\n",
              "      <th>21</th>\n",
              "      <td>20</td>\n",
              "      <td>17</td>\n",
              "      <td>20_neural_riemannian_manifold_network</td>\n",
              "      <td>[neural, riemannian, manifold, network, field,...</td>\n",
              "      <td>[recent, method, geometr, deep, learn, introdu...</td>\n",
              "    </tr>\n",
              "    <tr>\n",
              "      <th>22</th>\n",
              "      <td>21</td>\n",
              "      <td>17</td>\n",
              "      <td>21_student_educ_teacher_cours</td>\n",
              "      <td>[student, educ, teacher, cours, learn, teach, ...</td>\n",
              "      <td>[one, import, qualiti, develop, civil, educ, s...</td>\n",
              "    </tr>\n",
              "    <tr>\n",
              "      <th>23</th>\n",
              "      <td>22</td>\n",
              "      <td>15</td>\n",
              "      <td>22_task_learn_model_languag</td>\n",
              "      <td>[task, learn, model, languag, convers, onlin, ...</td>\n",
              "      <td>[deep, learn, encompass, inher, properti, scat...</td>\n",
              "    </tr>\n",
              "    <tr>\n",
              "      <th>24</th>\n",
              "      <td>23</td>\n",
              "      <td>12</td>\n",
              "      <td>23_featur_select_page_classifi</td>\n",
              "      <td>[featur, select, page, classifi, coresearch, t...</td>\n",
              "      <td>[order, classifi, web, page, benign, malici, d...</td>\n",
              "    </tr>\n",
              "    <tr>\n",
              "      <th>25</th>\n",
              "      <td>24</td>\n",
              "      <td>12</td>\n",
              "      <td>24_fraud_card_credit_banknot</td>\n",
              "      <td>[fraud, card, credit, banknot, financi, detect...</td>\n",
              "      <td>[credit, card, fraud, drastic, increas, recent...</td>\n",
              "    </tr>\n",
              "    <tr>\n",
              "      <th>26</th>\n",
              "      <td>25</td>\n",
              "      <td>12</td>\n",
              "      <td>25_ai_erp_profession_integr</td>\n",
              "      <td>[ai, erp, profession, integr, skill, arbitr, s...</td>\n",
              "      <td>[articl, discus, increas, role, artifici, inte...</td>\n",
              "    </tr>\n",
              "    <tr>\n",
              "      <th>27</th>\n",
              "      <td>26</td>\n",
              "      <td>11</td>\n",
              "      <td>26_commun_attack_implement_data</td>\n",
              "      <td>[commun, attack, implement, data, log, workloa...</td>\n",
              "      <td>[secur, reliabl, network, protocol, implement,...</td>\n",
              "    </tr>\n",
              "    <tr>\n",
              "      <th>28</th>\n",
              "      <td>27</td>\n",
              "      <td>11</td>\n",
              "      <td>27_vehicl_detect_yolov5_monitor</td>\n",
              "      <td>[vehicl, detect, yolov5, monitor, autonom, dev...</td>\n",
              "      <td>[human, activ, recognit, pose, signific, chall...</td>\n",
              "    </tr>\n",
              "  </tbody>\n",
              "</table>\n",
              "</div>\n",
              "    <div class=\"colab-df-buttons\">\n",
              "\n",
              "  <div class=\"colab-df-container\">\n",
              "    <button class=\"colab-df-convert\" onclick=\"convertToInteractive('df-5d99bdfc-62d8-40de-8f33-82b90c3f2648')\"\n",
              "            title=\"Convert this dataframe to an interactive table.\"\n",
              "            style=\"display:none;\">\n",
              "\n",
              "  <svg xmlns=\"http://www.w3.org/2000/svg\" height=\"24px\" viewBox=\"0 -960 960 960\">\n",
              "    <path d=\"M120-120v-720h720v720H120Zm60-500h600v-160H180v160Zm220 220h160v-160H400v160Zm0 220h160v-160H400v160ZM180-400h160v-160H180v160Zm440 0h160v-160H620v160ZM180-180h160v-160H180v160Zm440 0h160v-160H620v160Z\"/>\n",
              "  </svg>\n",
              "    </button>\n",
              "\n",
              "  <style>\n",
              "    .colab-df-container {\n",
              "      display:flex;\n",
              "      gap: 12px;\n",
              "    }\n",
              "\n",
              "    .colab-df-convert {\n",
              "      background-color: #E8F0FE;\n",
              "      border: none;\n",
              "      border-radius: 50%;\n",
              "      cursor: pointer;\n",
              "      display: none;\n",
              "      fill: #1967D2;\n",
              "      height: 32px;\n",
              "      padding: 0 0 0 0;\n",
              "      width: 32px;\n",
              "    }\n",
              "\n",
              "    .colab-df-convert:hover {\n",
              "      background-color: #E2EBFA;\n",
              "      box-shadow: 0px 1px 2px rgba(60, 64, 67, 0.3), 0px 1px 3px 1px rgba(60, 64, 67, 0.15);\n",
              "      fill: #174EA6;\n",
              "    }\n",
              "\n",
              "    .colab-df-buttons div {\n",
              "      margin-bottom: 4px;\n",
              "    }\n",
              "\n",
              "    [theme=dark] .colab-df-convert {\n",
              "      background-color: #3B4455;\n",
              "      fill: #D2E3FC;\n",
              "    }\n",
              "\n",
              "    [theme=dark] .colab-df-convert:hover {\n",
              "      background-color: #434B5C;\n",
              "      box-shadow: 0px 1px 3px 1px rgba(0, 0, 0, 0.15);\n",
              "      filter: drop-shadow(0px 1px 2px rgba(0, 0, 0, 0.3));\n",
              "      fill: #FFFFFF;\n",
              "    }\n",
              "  </style>\n",
              "\n",
              "    <script>\n",
              "      const buttonEl =\n",
              "        document.querySelector('#df-5d99bdfc-62d8-40de-8f33-82b90c3f2648 button.colab-df-convert');\n",
              "      buttonEl.style.display =\n",
              "        google.colab.kernel.accessAllowed ? 'block' : 'none';\n",
              "\n",
              "      async function convertToInteractive(key) {\n",
              "        const element = document.querySelector('#df-5d99bdfc-62d8-40de-8f33-82b90c3f2648');\n",
              "        const dataTable =\n",
              "          await google.colab.kernel.invokeFunction('convertToInteractive',\n",
              "                                                    [key], {});\n",
              "        if (!dataTable) return;\n",
              "\n",
              "        const docLinkHtml = 'Like what you see? Visit the ' +\n",
              "          '<a target=\"_blank\" href=https://colab.research.google.com/notebooks/data_table.ipynb>data table notebook</a>'\n",
              "          + ' to learn more about interactive tables.';\n",
              "        element.innerHTML = '';\n",
              "        dataTable['output_type'] = 'display_data';\n",
              "        await google.colab.output.renderOutput(dataTable, element);\n",
              "        const docLink = document.createElement('div');\n",
              "        docLink.innerHTML = docLinkHtml;\n",
              "        element.appendChild(docLink);\n",
              "      }\n",
              "    </script>\n",
              "  </div>\n",
              "\n",
              "\n",
              "<div id=\"df-c4c188b3-9ca1-419f-8c3f-f31716b23415\">\n",
              "  <button class=\"colab-df-quickchart\" onclick=\"quickchart('df-c4c188b3-9ca1-419f-8c3f-f31716b23415')\"\n",
              "            title=\"Suggest charts\"\n",
              "            style=\"display:none;\">\n",
              "\n",
              "<svg xmlns=\"http://www.w3.org/2000/svg\" height=\"24px\"viewBox=\"0 0 24 24\"\n",
              "     width=\"24px\">\n",
              "    <g>\n",
              "        <path d=\"M19 3H5c-1.1 0-2 .9-2 2v14c0 1.1.9 2 2 2h14c1.1 0 2-.9 2-2V5c0-1.1-.9-2-2-2zM9 17H7v-7h2v7zm4 0h-2V7h2v10zm4 0h-2v-4h2v4z\"/>\n",
              "    </g>\n",
              "</svg>\n",
              "  </button>\n",
              "\n",
              "<style>\n",
              "  .colab-df-quickchart {\n",
              "      --bg-color: #E8F0FE;\n",
              "      --fill-color: #1967D2;\n",
              "      --hover-bg-color: #E2EBFA;\n",
              "      --hover-fill-color: #174EA6;\n",
              "      --disabled-fill-color: #AAA;\n",
              "      --disabled-bg-color: #DDD;\n",
              "  }\n",
              "\n",
              "  [theme=dark] .colab-df-quickchart {\n",
              "      --bg-color: #3B4455;\n",
              "      --fill-color: #D2E3FC;\n",
              "      --hover-bg-color: #434B5C;\n",
              "      --hover-fill-color: #FFFFFF;\n",
              "      --disabled-bg-color: #3B4455;\n",
              "      --disabled-fill-color: #666;\n",
              "  }\n",
              "\n",
              "  .colab-df-quickchart {\n",
              "    background-color: var(--bg-color);\n",
              "    border: none;\n",
              "    border-radius: 50%;\n",
              "    cursor: pointer;\n",
              "    display: none;\n",
              "    fill: var(--fill-color);\n",
              "    height: 32px;\n",
              "    padding: 0;\n",
              "    width: 32px;\n",
              "  }\n",
              "\n",
              "  .colab-df-quickchart:hover {\n",
              "    background-color: var(--hover-bg-color);\n",
              "    box-shadow: 0 1px 2px rgba(60, 64, 67, 0.3), 0 1px 3px 1px rgba(60, 64, 67, 0.15);\n",
              "    fill: var(--button-hover-fill-color);\n",
              "  }\n",
              "\n",
              "  .colab-df-quickchart-complete:disabled,\n",
              "  .colab-df-quickchart-complete:disabled:hover {\n",
              "    background-color: var(--disabled-bg-color);\n",
              "    fill: var(--disabled-fill-color);\n",
              "    box-shadow: none;\n",
              "  }\n",
              "\n",
              "  .colab-df-spinner {\n",
              "    border: 2px solid var(--fill-color);\n",
              "    border-color: transparent;\n",
              "    border-bottom-color: var(--fill-color);\n",
              "    animation:\n",
              "      spin 1s steps(1) infinite;\n",
              "  }\n",
              "\n",
              "  @keyframes spin {\n",
              "    0% {\n",
              "      border-color: transparent;\n",
              "      border-bottom-color: var(--fill-color);\n",
              "      border-left-color: var(--fill-color);\n",
              "    }\n",
              "    20% {\n",
              "      border-color: transparent;\n",
              "      border-left-color: var(--fill-color);\n",
              "      border-top-color: var(--fill-color);\n",
              "    }\n",
              "    30% {\n",
              "      border-color: transparent;\n",
              "      border-left-color: var(--fill-color);\n",
              "      border-top-color: var(--fill-color);\n",
              "      border-right-color: var(--fill-color);\n",
              "    }\n",
              "    40% {\n",
              "      border-color: transparent;\n",
              "      border-right-color: var(--fill-color);\n",
              "      border-top-color: var(--fill-color);\n",
              "    }\n",
              "    60% {\n",
              "      border-color: transparent;\n",
              "      border-right-color: var(--fill-color);\n",
              "    }\n",
              "    80% {\n",
              "      border-color: transparent;\n",
              "      border-right-color: var(--fill-color);\n",
              "      border-bottom-color: var(--fill-color);\n",
              "    }\n",
              "    90% {\n",
              "      border-color: transparent;\n",
              "      border-bottom-color: var(--fill-color);\n",
              "    }\n",
              "  }\n",
              "</style>\n",
              "\n",
              "  <script>\n",
              "    async function quickchart(key) {\n",
              "      const quickchartButtonEl =\n",
              "        document.querySelector('#' + key + ' button');\n",
              "      quickchartButtonEl.disabled = true;  // To prevent multiple clicks.\n",
              "      quickchartButtonEl.classList.add('colab-df-spinner');\n",
              "      try {\n",
              "        const charts = await google.colab.kernel.invokeFunction(\n",
              "            'suggestCharts', [key], {});\n",
              "      } catch (error) {\n",
              "        console.error('Error during call to suggestCharts:', error);\n",
              "      }\n",
              "      quickchartButtonEl.classList.remove('colab-df-spinner');\n",
              "      quickchartButtonEl.classList.add('colab-df-quickchart-complete');\n",
              "    }\n",
              "    (() => {\n",
              "      let quickchartButtonEl =\n",
              "        document.querySelector('#df-c4c188b3-9ca1-419f-8c3f-f31716b23415 button');\n",
              "      quickchartButtonEl.style.display =\n",
              "        google.colab.kernel.accessAllowed ? 'block' : 'none';\n",
              "    })();\n",
              "  </script>\n",
              "</div>\n",
              "\n",
              "    </div>\n",
              "  </div>\n"
            ],
            "application/vnd.google.colaboratory.intrinsic+json": {
              "type": "dataframe",
              "summary": "{\n  \"name\": \"topic_model\",\n  \"rows\": 29,\n  \"fields\": [\n    {\n      \"column\": \"Topic\",\n      \"properties\": {\n        \"dtype\": \"number\",\n        \"std\": 8,\n        \"min\": -1,\n        \"max\": 27,\n        \"num_unique_values\": 29,\n        \"samples\": [\n          26,\n          15,\n          11\n        ],\n        \"semantic_type\": \"\",\n        \"description\": \"\"\n      }\n    },\n    {\n      \"column\": \"Count\",\n      \"properties\": {\n        \"dtype\": \"number\",\n        \"std\": 171,\n        \"min\": 11,\n        \"max\": 867,\n        \"num_unique_values\": 22,\n        \"samples\": [\n          867,\n          25,\n          30\n        ],\n        \"semantic_type\": \"\",\n        \"description\": \"\"\n      }\n    },\n    {\n      \"column\": \"Name\",\n      \"properties\": {\n        \"dtype\": \"string\",\n        \"num_unique_values\": 29,\n        \"samples\": [\n          \"26_commun_attack_implement_data\",\n          \"15_speech_languag_sign_music\",\n          \"11_crop_growth_plant_agricultur\"\n        ],\n        \"semantic_type\": \"\",\n        \"description\": \"\"\n      }\n    },\n    {\n      \"column\": \"Representation\",\n      \"properties\": {\n        \"dtype\": \"object\",\n        \"semantic_type\": \"\",\n        \"description\": \"\"\n      }\n    },\n    {\n      \"column\": \"Representative_Docs\",\n      \"properties\": {\n        \"dtype\": \"object\",\n        \"semantic_type\": \"\",\n        \"description\": \"\"\n      }\n    }\n  ]\n}"
            }
          },
          "metadata": {},
          "execution_count": 27
        }
      ]
    },
    {
      "cell_type": "code",
      "source": [
        "topic_model.visualize_topics()"
      ],
      "metadata": {
        "colab": {
          "base_uri": "https://localhost:8080/",
          "height": 667
        },
        "id": "7TY8-iFIsy5Y",
        "outputId": "f1067b00-83c3-4a87-c37a-0af09304faff"
      },
      "execution_count": 28,
      "outputs": [
        {
          "output_type": "display_data",
          "data": {
            "text/html": [
              "<html>\n",
              "<head><meta charset=\"utf-8\" /></head>\n",
              "<body>\n",
              "    <div>            <script src=\"https://cdnjs.cloudflare.com/ajax/libs/mathjax/2.7.5/MathJax.js?config=TeX-AMS-MML_SVG\"></script><script type=\"text/javascript\">if (window.MathJax && window.MathJax.Hub && window.MathJax.Hub.Config) {window.MathJax.Hub.Config({SVG: {font: \"STIX-Web\"}});}</script>                <script type=\"text/javascript\">window.PlotlyConfig = {MathJaxConfig: 'local'};</script>\n",
              "        <script charset=\"utf-8\" src=\"https://cdn.plot.ly/plotly-2.35.2.min.js\"></script>                <div id=\"6f5c0638-a34e-4841-808a-761de676f52b\" class=\"plotly-graph-div\" style=\"height:650px; width:650px;\"></div>            <script type=\"text/javascript\">                                    window.PLOTLYENV=window.PLOTLYENV || {};                                    if (document.getElementById(\"6f5c0638-a34e-4841-808a-761de676f52b\")) {                    Plotly.newPlot(                        \"6f5c0638-a34e-4841-808a-761de676f52b\",                        [{\"customdata\":[[0,\"patient | predict | use | model | diseas\",435],[1,\"attack | detect | secur | network | threat\",62],[2,\"sentiment | social | opinion | tweet | news\",52],[3,\"text | languag | word | translat | approach\",47],[4,\"optim | algorithm | problem | converg | bound\",37],[5,\"problem | algorithm | learn | game | solv\",36],[6,\"model | predict | random | forest | classif\",34],[7,\"cnn | imag | deep | network | convolut\",30],[8,\"quantum | molecular | topolog | comput | simul\",29],[9,\"model | paramet | vector | learn | set\",28],[10,\"channel | signal | radio | antenna | wifi\",27],[11,\"crop | growth | plant | agricultur | stage\",26],[12,\"season | co | water | pollut | model\",25],[13,\"stock | market | price | financi | predict\",25],[14,\"power | pv | forecast | energi | fault\",24],[15,\"speech | languag | sign | music | speaker\",24],[16,\"materi | thermal | properti | conduct | mechan\",23],[17,\"fl | feder | client | privaci | updat\",22],[18,\"design | optim | circuit | architectur | hardwar\",22],[19,\"imag | segment | region | color | method\",18],[20,\"neural | riemannian | manifold | network | field\",17],[21,\"student | educ | teacher | cours | learn\",17],[22,\"task | learn | model | languag | convers\",15],[23,\"featur | select | page | classifi | coresearch\",12],[24,\"fraud | card | credit | banknot | financi\",12],[25,\"ai | erp | profession | integr | skill\",12],[26,\"commun | attack | implement | data | log\",11],[27,\"vehicl | detect | yolov5 | monitor | autonom\",11]],\"hovertemplate\":\"\\u003cb\\u003eTopic %{customdata[0]}\\u003c\\u002fb\\u003e\\u003cbr\\u003e%{customdata[1]}\\u003cbr\\u003eSize: %{customdata[2]}\",\"legendgroup\":\"\",\"marker\":{\"color\":\"#B0BEC5\",\"size\":[435,62,52,47,37,36,34,30,29,28,27,26,25,25,24,24,23,22,22,18,17,17,15,12,12,12,11,11],\"sizemode\":\"area\",\"sizeref\":0.271875,\"symbol\":\"circle\",\"line\":{\"color\":\"DarkSlateGrey\",\"width\":2}},\"mode\":\"markers\",\"name\":\"\",\"orientation\":\"v\",\"showlegend\":false,\"x\":[11.791751,-0.49113676,12.58096,12.455371,11.832219,11.562052,11.941733,11.00486,11.997107,11.720277,-0.5814251,-0.7722932,-1.1110595,11.981864,-0.9140257,12.257248,12.180284,13.250582,-0.6252303,-3.6958907,11.263541,15.035631,12.995728,12.168442,-0.7620687,15.223716,-0.39742455,-3.6256597],\"xaxis\":\"x\",\"y\":[9.141757,-12.503252,7.9694686,7.588126,6.037247,5.8433275,8.996479,5.185848,4.663943,5.143027,-11.550203,-8.367839,-8.03887,5.305646,-8.231478,7.8600082,4.4780035,8.041144,-11.802218,2.7271194,5.0767846,-5.7590294,7.708186,8.657284,-12.444964,-5.570966,-12.133448,2.6575215],\"yaxis\":\"y\",\"type\":\"scatter\"}],                        {\"template\":{\"data\":{\"barpolar\":[{\"marker\":{\"line\":{\"color\":\"white\",\"width\":0.5},\"pattern\":{\"fillmode\":\"overlay\",\"size\":10,\"solidity\":0.2}},\"type\":\"barpolar\"}],\"bar\":[{\"error_x\":{\"color\":\"rgb(36,36,36)\"},\"error_y\":{\"color\":\"rgb(36,36,36)\"},\"marker\":{\"line\":{\"color\":\"white\",\"width\":0.5},\"pattern\":{\"fillmode\":\"overlay\",\"size\":10,\"solidity\":0.2}},\"type\":\"bar\"}],\"carpet\":[{\"aaxis\":{\"endlinecolor\":\"rgb(36,36,36)\",\"gridcolor\":\"white\",\"linecolor\":\"white\",\"minorgridcolor\":\"white\",\"startlinecolor\":\"rgb(36,36,36)\"},\"baxis\":{\"endlinecolor\":\"rgb(36,36,36)\",\"gridcolor\":\"white\",\"linecolor\":\"white\",\"minorgridcolor\":\"white\",\"startlinecolor\":\"rgb(36,36,36)\"},\"type\":\"carpet\"}],\"choropleth\":[{\"colorbar\":{\"outlinewidth\":1,\"tickcolor\":\"rgb(36,36,36)\",\"ticks\":\"outside\"},\"type\":\"choropleth\"}],\"contourcarpet\":[{\"colorbar\":{\"outlinewidth\":1,\"tickcolor\":\"rgb(36,36,36)\",\"ticks\":\"outside\"},\"type\":\"contourcarpet\"}],\"contour\":[{\"colorbar\":{\"outlinewidth\":1,\"tickcolor\":\"rgb(36,36,36)\",\"ticks\":\"outside\"},\"colorscale\":[[0.0,\"#440154\"],[0.1111111111111111,\"#482878\"],[0.2222222222222222,\"#3e4989\"],[0.3333333333333333,\"#31688e\"],[0.4444444444444444,\"#26828e\"],[0.5555555555555556,\"#1f9e89\"],[0.6666666666666666,\"#35b779\"],[0.7777777777777778,\"#6ece58\"],[0.8888888888888888,\"#b5de2b\"],[1.0,\"#fde725\"]],\"type\":\"contour\"}],\"heatmapgl\":[{\"colorbar\":{\"outlinewidth\":1,\"tickcolor\":\"rgb(36,36,36)\",\"ticks\":\"outside\"},\"colorscale\":[[0.0,\"#440154\"],[0.1111111111111111,\"#482878\"],[0.2222222222222222,\"#3e4989\"],[0.3333333333333333,\"#31688e\"],[0.4444444444444444,\"#26828e\"],[0.5555555555555556,\"#1f9e89\"],[0.6666666666666666,\"#35b779\"],[0.7777777777777778,\"#6ece58\"],[0.8888888888888888,\"#b5de2b\"],[1.0,\"#fde725\"]],\"type\":\"heatmapgl\"}],\"heatmap\":[{\"colorbar\":{\"outlinewidth\":1,\"tickcolor\":\"rgb(36,36,36)\",\"ticks\":\"outside\"},\"colorscale\":[[0.0,\"#440154\"],[0.1111111111111111,\"#482878\"],[0.2222222222222222,\"#3e4989\"],[0.3333333333333333,\"#31688e\"],[0.4444444444444444,\"#26828e\"],[0.5555555555555556,\"#1f9e89\"],[0.6666666666666666,\"#35b779\"],[0.7777777777777778,\"#6ece58\"],[0.8888888888888888,\"#b5de2b\"],[1.0,\"#fde725\"]],\"type\":\"heatmap\"}],\"histogram2dcontour\":[{\"colorbar\":{\"outlinewidth\":1,\"tickcolor\":\"rgb(36,36,36)\",\"ticks\":\"outside\"},\"colorscale\":[[0.0,\"#440154\"],[0.1111111111111111,\"#482878\"],[0.2222222222222222,\"#3e4989\"],[0.3333333333333333,\"#31688e\"],[0.4444444444444444,\"#26828e\"],[0.5555555555555556,\"#1f9e89\"],[0.6666666666666666,\"#35b779\"],[0.7777777777777778,\"#6ece58\"],[0.8888888888888888,\"#b5de2b\"],[1.0,\"#fde725\"]],\"type\":\"histogram2dcontour\"}],\"histogram2d\":[{\"colorbar\":{\"outlinewidth\":1,\"tickcolor\":\"rgb(36,36,36)\",\"ticks\":\"outside\"},\"colorscale\":[[0.0,\"#440154\"],[0.1111111111111111,\"#482878\"],[0.2222222222222222,\"#3e4989\"],[0.3333333333333333,\"#31688e\"],[0.4444444444444444,\"#26828e\"],[0.5555555555555556,\"#1f9e89\"],[0.6666666666666666,\"#35b779\"],[0.7777777777777778,\"#6ece58\"],[0.8888888888888888,\"#b5de2b\"],[1.0,\"#fde725\"]],\"type\":\"histogram2d\"}],\"histogram\":[{\"marker\":{\"line\":{\"color\":\"white\",\"width\":0.6}},\"type\":\"histogram\"}],\"mesh3d\":[{\"colorbar\":{\"outlinewidth\":1,\"tickcolor\":\"rgb(36,36,36)\",\"ticks\":\"outside\"},\"type\":\"mesh3d\"}],\"parcoords\":[{\"line\":{\"colorbar\":{\"outlinewidth\":1,\"tickcolor\":\"rgb(36,36,36)\",\"ticks\":\"outside\"}},\"type\":\"parcoords\"}],\"pie\":[{\"automargin\":true,\"type\":\"pie\"}],\"scatter3d\":[{\"line\":{\"colorbar\":{\"outlinewidth\":1,\"tickcolor\":\"rgb(36,36,36)\",\"ticks\":\"outside\"}},\"marker\":{\"colorbar\":{\"outlinewidth\":1,\"tickcolor\":\"rgb(36,36,36)\",\"ticks\":\"outside\"}},\"type\":\"scatter3d\"}],\"scattercarpet\":[{\"marker\":{\"colorbar\":{\"outlinewidth\":1,\"tickcolor\":\"rgb(36,36,36)\",\"ticks\":\"outside\"}},\"type\":\"scattercarpet\"}],\"scattergeo\":[{\"marker\":{\"colorbar\":{\"outlinewidth\":1,\"tickcolor\":\"rgb(36,36,36)\",\"ticks\":\"outside\"}},\"type\":\"scattergeo\"}],\"scattergl\":[{\"marker\":{\"colorbar\":{\"outlinewidth\":1,\"tickcolor\":\"rgb(36,36,36)\",\"ticks\":\"outside\"}},\"type\":\"scattergl\"}],\"scattermapbox\":[{\"marker\":{\"colorbar\":{\"outlinewidth\":1,\"tickcolor\":\"rgb(36,36,36)\",\"ticks\":\"outside\"}},\"type\":\"scattermapbox\"}],\"scatterpolargl\":[{\"marker\":{\"colorbar\":{\"outlinewidth\":1,\"tickcolor\":\"rgb(36,36,36)\",\"ticks\":\"outside\"}},\"type\":\"scatterpolargl\"}],\"scatterpolar\":[{\"marker\":{\"colorbar\":{\"outlinewidth\":1,\"tickcolor\":\"rgb(36,36,36)\",\"ticks\":\"outside\"}},\"type\":\"scatterpolar\"}],\"scatter\":[{\"fillpattern\":{\"fillmode\":\"overlay\",\"size\":10,\"solidity\":0.2},\"type\":\"scatter\"}],\"scatterternary\":[{\"marker\":{\"colorbar\":{\"outlinewidth\":1,\"tickcolor\":\"rgb(36,36,36)\",\"ticks\":\"outside\"}},\"type\":\"scatterternary\"}],\"surface\":[{\"colorbar\":{\"outlinewidth\":1,\"tickcolor\":\"rgb(36,36,36)\",\"ticks\":\"outside\"},\"colorscale\":[[0.0,\"#440154\"],[0.1111111111111111,\"#482878\"],[0.2222222222222222,\"#3e4989\"],[0.3333333333333333,\"#31688e\"],[0.4444444444444444,\"#26828e\"],[0.5555555555555556,\"#1f9e89\"],[0.6666666666666666,\"#35b779\"],[0.7777777777777778,\"#6ece58\"],[0.8888888888888888,\"#b5de2b\"],[1.0,\"#fde725\"]],\"type\":\"surface\"}],\"table\":[{\"cells\":{\"fill\":{\"color\":\"rgb(237,237,237)\"},\"line\":{\"color\":\"white\"}},\"header\":{\"fill\":{\"color\":\"rgb(217,217,217)\"},\"line\":{\"color\":\"white\"}},\"type\":\"table\"}]},\"layout\":{\"annotationdefaults\":{\"arrowhead\":0,\"arrowwidth\":1},\"autotypenumbers\":\"strict\",\"coloraxis\":{\"colorbar\":{\"outlinewidth\":1,\"tickcolor\":\"rgb(36,36,36)\",\"ticks\":\"outside\"}},\"colorscale\":{\"diverging\":[[0.0,\"rgb(103,0,31)\"],[0.1,\"rgb(178,24,43)\"],[0.2,\"rgb(214,96,77)\"],[0.3,\"rgb(244,165,130)\"],[0.4,\"rgb(253,219,199)\"],[0.5,\"rgb(247,247,247)\"],[0.6,\"rgb(209,229,240)\"],[0.7,\"rgb(146,197,222)\"],[0.8,\"rgb(67,147,195)\"],[0.9,\"rgb(33,102,172)\"],[1.0,\"rgb(5,48,97)\"]],\"sequential\":[[0.0,\"#440154\"],[0.1111111111111111,\"#482878\"],[0.2222222222222222,\"#3e4989\"],[0.3333333333333333,\"#31688e\"],[0.4444444444444444,\"#26828e\"],[0.5555555555555556,\"#1f9e89\"],[0.6666666666666666,\"#35b779\"],[0.7777777777777778,\"#6ece58\"],[0.8888888888888888,\"#b5de2b\"],[1.0,\"#fde725\"]],\"sequentialminus\":[[0.0,\"#440154\"],[0.1111111111111111,\"#482878\"],[0.2222222222222222,\"#3e4989\"],[0.3333333333333333,\"#31688e\"],[0.4444444444444444,\"#26828e\"],[0.5555555555555556,\"#1f9e89\"],[0.6666666666666666,\"#35b779\"],[0.7777777777777778,\"#6ece58\"],[0.8888888888888888,\"#b5de2b\"],[1.0,\"#fde725\"]]},\"colorway\":[\"#1F77B4\",\"#FF7F0E\",\"#2CA02C\",\"#D62728\",\"#9467BD\",\"#8C564B\",\"#E377C2\",\"#7F7F7F\",\"#BCBD22\",\"#17BECF\"],\"font\":{\"color\":\"rgb(36,36,36)\"},\"geo\":{\"bgcolor\":\"white\",\"lakecolor\":\"white\",\"landcolor\":\"white\",\"showlakes\":true,\"showland\":true,\"subunitcolor\":\"white\"},\"hoverlabel\":{\"align\":\"left\"},\"hovermode\":\"closest\",\"mapbox\":{\"style\":\"light\"},\"paper_bgcolor\":\"white\",\"plot_bgcolor\":\"white\",\"polar\":{\"angularaxis\":{\"gridcolor\":\"rgb(232,232,232)\",\"linecolor\":\"rgb(36,36,36)\",\"showgrid\":false,\"showline\":true,\"ticks\":\"outside\"},\"bgcolor\":\"white\",\"radialaxis\":{\"gridcolor\":\"rgb(232,232,232)\",\"linecolor\":\"rgb(36,36,36)\",\"showgrid\":false,\"showline\":true,\"ticks\":\"outside\"}},\"scene\":{\"xaxis\":{\"backgroundcolor\":\"white\",\"gridcolor\":\"rgb(232,232,232)\",\"gridwidth\":2,\"linecolor\":\"rgb(36,36,36)\",\"showbackground\":true,\"showgrid\":false,\"showline\":true,\"ticks\":\"outside\",\"zeroline\":false,\"zerolinecolor\":\"rgb(36,36,36)\"},\"yaxis\":{\"backgroundcolor\":\"white\",\"gridcolor\":\"rgb(232,232,232)\",\"gridwidth\":2,\"linecolor\":\"rgb(36,36,36)\",\"showbackground\":true,\"showgrid\":false,\"showline\":true,\"ticks\":\"outside\",\"zeroline\":false,\"zerolinecolor\":\"rgb(36,36,36)\"},\"zaxis\":{\"backgroundcolor\":\"white\",\"gridcolor\":\"rgb(232,232,232)\",\"gridwidth\":2,\"linecolor\":\"rgb(36,36,36)\",\"showbackground\":true,\"showgrid\":false,\"showline\":true,\"ticks\":\"outside\",\"zeroline\":false,\"zerolinecolor\":\"rgb(36,36,36)\"}},\"shapedefaults\":{\"fillcolor\":\"black\",\"line\":{\"width\":0},\"opacity\":0.3},\"ternary\":{\"aaxis\":{\"gridcolor\":\"rgb(232,232,232)\",\"linecolor\":\"rgb(36,36,36)\",\"showgrid\":false,\"showline\":true,\"ticks\":\"outside\"},\"baxis\":{\"gridcolor\":\"rgb(232,232,232)\",\"linecolor\":\"rgb(36,36,36)\",\"showgrid\":false,\"showline\":true,\"ticks\":\"outside\"},\"bgcolor\":\"white\",\"caxis\":{\"gridcolor\":\"rgb(232,232,232)\",\"linecolor\":\"rgb(36,36,36)\",\"showgrid\":false,\"showline\":true,\"ticks\":\"outside\"}},\"title\":{\"x\":0.05},\"xaxis\":{\"automargin\":true,\"gridcolor\":\"rgb(232,232,232)\",\"linecolor\":\"rgb(36,36,36)\",\"showgrid\":false,\"showline\":true,\"ticks\":\"outside\",\"title\":{\"standoff\":15},\"zeroline\":false,\"zerolinecolor\":\"rgb(36,36,36)\"},\"yaxis\":{\"automargin\":true,\"gridcolor\":\"rgb(232,232,232)\",\"linecolor\":\"rgb(36,36,36)\",\"showgrid\":false,\"showline\":true,\"ticks\":\"outside\",\"title\":{\"standoff\":15},\"zeroline\":false,\"zerolinecolor\":\"rgb(36,36,36)\"}}},\"xaxis\":{\"anchor\":\"y\",\"domain\":[0.0,1.0],\"title\":{\"text\":\"\"},\"visible\":false,\"range\":[-4.25027426481247,17.507273149490356]},\"yaxis\":{\"anchor\":\"x\",\"domain\":[0.0,1.0],\"title\":{\"text\":\"\"},\"visible\":false,\"range\":[-14.378739833831787,10.513020563125611]},\"legend\":{\"tracegroupgap\":0,\"itemsizing\":\"constant\"},\"margin\":{\"t\":60},\"title\":{\"font\":{\"size\":22,\"color\":\"Black\"},\"text\":\"\\u003cb\\u003eIntertopic Distance Map\\u003c\\u002fb\\u003e\",\"y\":0.95,\"x\":0.5,\"xanchor\":\"center\",\"yanchor\":\"top\"},\"hoverlabel\":{\"font\":{\"size\":16,\"family\":\"Rockwell\"},\"bgcolor\":\"white\"},\"width\":650,\"height\":650,\"sliders\":[{\"active\":0,\"pad\":{\"t\":50},\"steps\":[{\"args\":[{\"marker.color\":[[\"red\",\"#B0BEC5\",\"#B0BEC5\",\"#B0BEC5\",\"#B0BEC5\",\"#B0BEC5\",\"#B0BEC5\",\"#B0BEC5\",\"#B0BEC5\",\"#B0BEC5\",\"#B0BEC5\",\"#B0BEC5\",\"#B0BEC5\",\"#B0BEC5\",\"#B0BEC5\",\"#B0BEC5\",\"#B0BEC5\",\"#B0BEC5\",\"#B0BEC5\",\"#B0BEC5\",\"#B0BEC5\",\"#B0BEC5\",\"#B0BEC5\",\"#B0BEC5\",\"#B0BEC5\",\"#B0BEC5\",\"#B0BEC5\",\"#B0BEC5\"]]}],\"label\":\"Topic 0\",\"method\":\"update\"},{\"args\":[{\"marker.color\":[[\"#B0BEC5\",\"red\",\"#B0BEC5\",\"#B0BEC5\",\"#B0BEC5\",\"#B0BEC5\",\"#B0BEC5\",\"#B0BEC5\",\"#B0BEC5\",\"#B0BEC5\",\"#B0BEC5\",\"#B0BEC5\",\"#B0BEC5\",\"#B0BEC5\",\"#B0BEC5\",\"#B0BEC5\",\"#B0BEC5\",\"#B0BEC5\",\"#B0BEC5\",\"#B0BEC5\",\"#B0BEC5\",\"#B0BEC5\",\"#B0BEC5\",\"#B0BEC5\",\"#B0BEC5\",\"#B0BEC5\",\"#B0BEC5\",\"#B0BEC5\"]]}],\"label\":\"Topic 1\",\"method\":\"update\"},{\"args\":[{\"marker.color\":[[\"#B0BEC5\",\"#B0BEC5\",\"red\",\"#B0BEC5\",\"#B0BEC5\",\"#B0BEC5\",\"#B0BEC5\",\"#B0BEC5\",\"#B0BEC5\",\"#B0BEC5\",\"#B0BEC5\",\"#B0BEC5\",\"#B0BEC5\",\"#B0BEC5\",\"#B0BEC5\",\"#B0BEC5\",\"#B0BEC5\",\"#B0BEC5\",\"#B0BEC5\",\"#B0BEC5\",\"#B0BEC5\",\"#B0BEC5\",\"#B0BEC5\",\"#B0BEC5\",\"#B0BEC5\",\"#B0BEC5\",\"#B0BEC5\",\"#B0BEC5\"]]}],\"label\":\"Topic 2\",\"method\":\"update\"},{\"args\":[{\"marker.color\":[[\"#B0BEC5\",\"#B0BEC5\",\"#B0BEC5\",\"red\",\"#B0BEC5\",\"#B0BEC5\",\"#B0BEC5\",\"#B0BEC5\",\"#B0BEC5\",\"#B0BEC5\",\"#B0BEC5\",\"#B0BEC5\",\"#B0BEC5\",\"#B0BEC5\",\"#B0BEC5\",\"#B0BEC5\",\"#B0BEC5\",\"#B0BEC5\",\"#B0BEC5\",\"#B0BEC5\",\"#B0BEC5\",\"#B0BEC5\",\"#B0BEC5\",\"#B0BEC5\",\"#B0BEC5\",\"#B0BEC5\",\"#B0BEC5\",\"#B0BEC5\"]]}],\"label\":\"Topic 3\",\"method\":\"update\"},{\"args\":[{\"marker.color\":[[\"#B0BEC5\",\"#B0BEC5\",\"#B0BEC5\",\"#B0BEC5\",\"red\",\"#B0BEC5\",\"#B0BEC5\",\"#B0BEC5\",\"#B0BEC5\",\"#B0BEC5\",\"#B0BEC5\",\"#B0BEC5\",\"#B0BEC5\",\"#B0BEC5\",\"#B0BEC5\",\"#B0BEC5\",\"#B0BEC5\",\"#B0BEC5\",\"#B0BEC5\",\"#B0BEC5\",\"#B0BEC5\",\"#B0BEC5\",\"#B0BEC5\",\"#B0BEC5\",\"#B0BEC5\",\"#B0BEC5\",\"#B0BEC5\",\"#B0BEC5\"]]}],\"label\":\"Topic 4\",\"method\":\"update\"},{\"args\":[{\"marker.color\":[[\"#B0BEC5\",\"#B0BEC5\",\"#B0BEC5\",\"#B0BEC5\",\"#B0BEC5\",\"red\",\"#B0BEC5\",\"#B0BEC5\",\"#B0BEC5\",\"#B0BEC5\",\"#B0BEC5\",\"#B0BEC5\",\"#B0BEC5\",\"#B0BEC5\",\"#B0BEC5\",\"#B0BEC5\",\"#B0BEC5\",\"#B0BEC5\",\"#B0BEC5\",\"#B0BEC5\",\"#B0BEC5\",\"#B0BEC5\",\"#B0BEC5\",\"#B0BEC5\",\"#B0BEC5\",\"#B0BEC5\",\"#B0BEC5\",\"#B0BEC5\"]]}],\"label\":\"Topic 5\",\"method\":\"update\"},{\"args\":[{\"marker.color\":[[\"#B0BEC5\",\"#B0BEC5\",\"#B0BEC5\",\"#B0BEC5\",\"#B0BEC5\",\"#B0BEC5\",\"red\",\"#B0BEC5\",\"#B0BEC5\",\"#B0BEC5\",\"#B0BEC5\",\"#B0BEC5\",\"#B0BEC5\",\"#B0BEC5\",\"#B0BEC5\",\"#B0BEC5\",\"#B0BEC5\",\"#B0BEC5\",\"#B0BEC5\",\"#B0BEC5\",\"#B0BEC5\",\"#B0BEC5\",\"#B0BEC5\",\"#B0BEC5\",\"#B0BEC5\",\"#B0BEC5\",\"#B0BEC5\",\"#B0BEC5\"]]}],\"label\":\"Topic 6\",\"method\":\"update\"},{\"args\":[{\"marker.color\":[[\"#B0BEC5\",\"#B0BEC5\",\"#B0BEC5\",\"#B0BEC5\",\"#B0BEC5\",\"#B0BEC5\",\"#B0BEC5\",\"red\",\"#B0BEC5\",\"#B0BEC5\",\"#B0BEC5\",\"#B0BEC5\",\"#B0BEC5\",\"#B0BEC5\",\"#B0BEC5\",\"#B0BEC5\",\"#B0BEC5\",\"#B0BEC5\",\"#B0BEC5\",\"#B0BEC5\",\"#B0BEC5\",\"#B0BEC5\",\"#B0BEC5\",\"#B0BEC5\",\"#B0BEC5\",\"#B0BEC5\",\"#B0BEC5\",\"#B0BEC5\"]]}],\"label\":\"Topic 7\",\"method\":\"update\"},{\"args\":[{\"marker.color\":[[\"#B0BEC5\",\"#B0BEC5\",\"#B0BEC5\",\"#B0BEC5\",\"#B0BEC5\",\"#B0BEC5\",\"#B0BEC5\",\"#B0BEC5\",\"red\",\"#B0BEC5\",\"#B0BEC5\",\"#B0BEC5\",\"#B0BEC5\",\"#B0BEC5\",\"#B0BEC5\",\"#B0BEC5\",\"#B0BEC5\",\"#B0BEC5\",\"#B0BEC5\",\"#B0BEC5\",\"#B0BEC5\",\"#B0BEC5\",\"#B0BEC5\",\"#B0BEC5\",\"#B0BEC5\",\"#B0BEC5\",\"#B0BEC5\",\"#B0BEC5\"]]}],\"label\":\"Topic 8\",\"method\":\"update\"},{\"args\":[{\"marker.color\":[[\"#B0BEC5\",\"#B0BEC5\",\"#B0BEC5\",\"#B0BEC5\",\"#B0BEC5\",\"#B0BEC5\",\"#B0BEC5\",\"#B0BEC5\",\"#B0BEC5\",\"red\",\"#B0BEC5\",\"#B0BEC5\",\"#B0BEC5\",\"#B0BEC5\",\"#B0BEC5\",\"#B0BEC5\",\"#B0BEC5\",\"#B0BEC5\",\"#B0BEC5\",\"#B0BEC5\",\"#B0BEC5\",\"#B0BEC5\",\"#B0BEC5\",\"#B0BEC5\",\"#B0BEC5\",\"#B0BEC5\",\"#B0BEC5\",\"#B0BEC5\"]]}],\"label\":\"Topic 9\",\"method\":\"update\"},{\"args\":[{\"marker.color\":[[\"#B0BEC5\",\"#B0BEC5\",\"#B0BEC5\",\"#B0BEC5\",\"#B0BEC5\",\"#B0BEC5\",\"#B0BEC5\",\"#B0BEC5\",\"#B0BEC5\",\"#B0BEC5\",\"red\",\"#B0BEC5\",\"#B0BEC5\",\"#B0BEC5\",\"#B0BEC5\",\"#B0BEC5\",\"#B0BEC5\",\"#B0BEC5\",\"#B0BEC5\",\"#B0BEC5\",\"#B0BEC5\",\"#B0BEC5\",\"#B0BEC5\",\"#B0BEC5\",\"#B0BEC5\",\"#B0BEC5\",\"#B0BEC5\",\"#B0BEC5\"]]}],\"label\":\"Topic 10\",\"method\":\"update\"},{\"args\":[{\"marker.color\":[[\"#B0BEC5\",\"#B0BEC5\",\"#B0BEC5\",\"#B0BEC5\",\"#B0BEC5\",\"#B0BEC5\",\"#B0BEC5\",\"#B0BEC5\",\"#B0BEC5\",\"#B0BEC5\",\"#B0BEC5\",\"red\",\"#B0BEC5\",\"#B0BEC5\",\"#B0BEC5\",\"#B0BEC5\",\"#B0BEC5\",\"#B0BEC5\",\"#B0BEC5\",\"#B0BEC5\",\"#B0BEC5\",\"#B0BEC5\",\"#B0BEC5\",\"#B0BEC5\",\"#B0BEC5\",\"#B0BEC5\",\"#B0BEC5\",\"#B0BEC5\"]]}],\"label\":\"Topic 11\",\"method\":\"update\"},{\"args\":[{\"marker.color\":[[\"#B0BEC5\",\"#B0BEC5\",\"#B0BEC5\",\"#B0BEC5\",\"#B0BEC5\",\"#B0BEC5\",\"#B0BEC5\",\"#B0BEC5\",\"#B0BEC5\",\"#B0BEC5\",\"#B0BEC5\",\"#B0BEC5\",\"red\",\"#B0BEC5\",\"#B0BEC5\",\"#B0BEC5\",\"#B0BEC5\",\"#B0BEC5\",\"#B0BEC5\",\"#B0BEC5\",\"#B0BEC5\",\"#B0BEC5\",\"#B0BEC5\",\"#B0BEC5\",\"#B0BEC5\",\"#B0BEC5\",\"#B0BEC5\",\"#B0BEC5\"]]}],\"label\":\"Topic 12\",\"method\":\"update\"},{\"args\":[{\"marker.color\":[[\"#B0BEC5\",\"#B0BEC5\",\"#B0BEC5\",\"#B0BEC5\",\"#B0BEC5\",\"#B0BEC5\",\"#B0BEC5\",\"#B0BEC5\",\"#B0BEC5\",\"#B0BEC5\",\"#B0BEC5\",\"#B0BEC5\",\"#B0BEC5\",\"red\",\"#B0BEC5\",\"#B0BEC5\",\"#B0BEC5\",\"#B0BEC5\",\"#B0BEC5\",\"#B0BEC5\",\"#B0BEC5\",\"#B0BEC5\",\"#B0BEC5\",\"#B0BEC5\",\"#B0BEC5\",\"#B0BEC5\",\"#B0BEC5\",\"#B0BEC5\"]]}],\"label\":\"Topic 13\",\"method\":\"update\"},{\"args\":[{\"marker.color\":[[\"#B0BEC5\",\"#B0BEC5\",\"#B0BEC5\",\"#B0BEC5\",\"#B0BEC5\",\"#B0BEC5\",\"#B0BEC5\",\"#B0BEC5\",\"#B0BEC5\",\"#B0BEC5\",\"#B0BEC5\",\"#B0BEC5\",\"#B0BEC5\",\"#B0BEC5\",\"red\",\"#B0BEC5\",\"#B0BEC5\",\"#B0BEC5\",\"#B0BEC5\",\"#B0BEC5\",\"#B0BEC5\",\"#B0BEC5\",\"#B0BEC5\",\"#B0BEC5\",\"#B0BEC5\",\"#B0BEC5\",\"#B0BEC5\",\"#B0BEC5\"]]}],\"label\":\"Topic 14\",\"method\":\"update\"},{\"args\":[{\"marker.color\":[[\"#B0BEC5\",\"#B0BEC5\",\"#B0BEC5\",\"#B0BEC5\",\"#B0BEC5\",\"#B0BEC5\",\"#B0BEC5\",\"#B0BEC5\",\"#B0BEC5\",\"#B0BEC5\",\"#B0BEC5\",\"#B0BEC5\",\"#B0BEC5\",\"#B0BEC5\",\"#B0BEC5\",\"red\",\"#B0BEC5\",\"#B0BEC5\",\"#B0BEC5\",\"#B0BEC5\",\"#B0BEC5\",\"#B0BEC5\",\"#B0BEC5\",\"#B0BEC5\",\"#B0BEC5\",\"#B0BEC5\",\"#B0BEC5\",\"#B0BEC5\"]]}],\"label\":\"Topic 15\",\"method\":\"update\"},{\"args\":[{\"marker.color\":[[\"#B0BEC5\",\"#B0BEC5\",\"#B0BEC5\",\"#B0BEC5\",\"#B0BEC5\",\"#B0BEC5\",\"#B0BEC5\",\"#B0BEC5\",\"#B0BEC5\",\"#B0BEC5\",\"#B0BEC5\",\"#B0BEC5\",\"#B0BEC5\",\"#B0BEC5\",\"#B0BEC5\",\"#B0BEC5\",\"red\",\"#B0BEC5\",\"#B0BEC5\",\"#B0BEC5\",\"#B0BEC5\",\"#B0BEC5\",\"#B0BEC5\",\"#B0BEC5\",\"#B0BEC5\",\"#B0BEC5\",\"#B0BEC5\",\"#B0BEC5\"]]}],\"label\":\"Topic 16\",\"method\":\"update\"},{\"args\":[{\"marker.color\":[[\"#B0BEC5\",\"#B0BEC5\",\"#B0BEC5\",\"#B0BEC5\",\"#B0BEC5\",\"#B0BEC5\",\"#B0BEC5\",\"#B0BEC5\",\"#B0BEC5\",\"#B0BEC5\",\"#B0BEC5\",\"#B0BEC5\",\"#B0BEC5\",\"#B0BEC5\",\"#B0BEC5\",\"#B0BEC5\",\"#B0BEC5\",\"red\",\"#B0BEC5\",\"#B0BEC5\",\"#B0BEC5\",\"#B0BEC5\",\"#B0BEC5\",\"#B0BEC5\",\"#B0BEC5\",\"#B0BEC5\",\"#B0BEC5\",\"#B0BEC5\"]]}],\"label\":\"Topic 17\",\"method\":\"update\"},{\"args\":[{\"marker.color\":[[\"#B0BEC5\",\"#B0BEC5\",\"#B0BEC5\",\"#B0BEC5\",\"#B0BEC5\",\"#B0BEC5\",\"#B0BEC5\",\"#B0BEC5\",\"#B0BEC5\",\"#B0BEC5\",\"#B0BEC5\",\"#B0BEC5\",\"#B0BEC5\",\"#B0BEC5\",\"#B0BEC5\",\"#B0BEC5\",\"#B0BEC5\",\"#B0BEC5\",\"red\",\"#B0BEC5\",\"#B0BEC5\",\"#B0BEC5\",\"#B0BEC5\",\"#B0BEC5\",\"#B0BEC5\",\"#B0BEC5\",\"#B0BEC5\",\"#B0BEC5\"]]}],\"label\":\"Topic 18\",\"method\":\"update\"},{\"args\":[{\"marker.color\":[[\"#B0BEC5\",\"#B0BEC5\",\"#B0BEC5\",\"#B0BEC5\",\"#B0BEC5\",\"#B0BEC5\",\"#B0BEC5\",\"#B0BEC5\",\"#B0BEC5\",\"#B0BEC5\",\"#B0BEC5\",\"#B0BEC5\",\"#B0BEC5\",\"#B0BEC5\",\"#B0BEC5\",\"#B0BEC5\",\"#B0BEC5\",\"#B0BEC5\",\"#B0BEC5\",\"red\",\"#B0BEC5\",\"#B0BEC5\",\"#B0BEC5\",\"#B0BEC5\",\"#B0BEC5\",\"#B0BEC5\",\"#B0BEC5\",\"#B0BEC5\"]]}],\"label\":\"Topic 19\",\"method\":\"update\"},{\"args\":[{\"marker.color\":[[\"#B0BEC5\",\"#B0BEC5\",\"#B0BEC5\",\"#B0BEC5\",\"#B0BEC5\",\"#B0BEC5\",\"#B0BEC5\",\"#B0BEC5\",\"#B0BEC5\",\"#B0BEC5\",\"#B0BEC5\",\"#B0BEC5\",\"#B0BEC5\",\"#B0BEC5\",\"#B0BEC5\",\"#B0BEC5\",\"#B0BEC5\",\"#B0BEC5\",\"#B0BEC5\",\"#B0BEC5\",\"red\",\"#B0BEC5\",\"#B0BEC5\",\"#B0BEC5\",\"#B0BEC5\",\"#B0BEC5\",\"#B0BEC5\",\"#B0BEC5\"]]}],\"label\":\"Topic 20\",\"method\":\"update\"},{\"args\":[{\"marker.color\":[[\"#B0BEC5\",\"#B0BEC5\",\"#B0BEC5\",\"#B0BEC5\",\"#B0BEC5\",\"#B0BEC5\",\"#B0BEC5\",\"#B0BEC5\",\"#B0BEC5\",\"#B0BEC5\",\"#B0BEC5\",\"#B0BEC5\",\"#B0BEC5\",\"#B0BEC5\",\"#B0BEC5\",\"#B0BEC5\",\"#B0BEC5\",\"#B0BEC5\",\"#B0BEC5\",\"#B0BEC5\",\"#B0BEC5\",\"red\",\"#B0BEC5\",\"#B0BEC5\",\"#B0BEC5\",\"#B0BEC5\",\"#B0BEC5\",\"#B0BEC5\"]]}],\"label\":\"Topic 21\",\"method\":\"update\"},{\"args\":[{\"marker.color\":[[\"#B0BEC5\",\"#B0BEC5\",\"#B0BEC5\",\"#B0BEC5\",\"#B0BEC5\",\"#B0BEC5\",\"#B0BEC5\",\"#B0BEC5\",\"#B0BEC5\",\"#B0BEC5\",\"#B0BEC5\",\"#B0BEC5\",\"#B0BEC5\",\"#B0BEC5\",\"#B0BEC5\",\"#B0BEC5\",\"#B0BEC5\",\"#B0BEC5\",\"#B0BEC5\",\"#B0BEC5\",\"#B0BEC5\",\"#B0BEC5\",\"red\",\"#B0BEC5\",\"#B0BEC5\",\"#B0BEC5\",\"#B0BEC5\",\"#B0BEC5\"]]}],\"label\":\"Topic 22\",\"method\":\"update\"},{\"args\":[{\"marker.color\":[[\"#B0BEC5\",\"#B0BEC5\",\"#B0BEC5\",\"#B0BEC5\",\"#B0BEC5\",\"#B0BEC5\",\"#B0BEC5\",\"#B0BEC5\",\"#B0BEC5\",\"#B0BEC5\",\"#B0BEC5\",\"#B0BEC5\",\"#B0BEC5\",\"#B0BEC5\",\"#B0BEC5\",\"#B0BEC5\",\"#B0BEC5\",\"#B0BEC5\",\"#B0BEC5\",\"#B0BEC5\",\"#B0BEC5\",\"#B0BEC5\",\"#B0BEC5\",\"red\",\"#B0BEC5\",\"#B0BEC5\",\"#B0BEC5\",\"#B0BEC5\"]]}],\"label\":\"Topic 23\",\"method\":\"update\"},{\"args\":[{\"marker.color\":[[\"#B0BEC5\",\"#B0BEC5\",\"#B0BEC5\",\"#B0BEC5\",\"#B0BEC5\",\"#B0BEC5\",\"#B0BEC5\",\"#B0BEC5\",\"#B0BEC5\",\"#B0BEC5\",\"#B0BEC5\",\"#B0BEC5\",\"#B0BEC5\",\"#B0BEC5\",\"#B0BEC5\",\"#B0BEC5\",\"#B0BEC5\",\"#B0BEC5\",\"#B0BEC5\",\"#B0BEC5\",\"#B0BEC5\",\"#B0BEC5\",\"#B0BEC5\",\"#B0BEC5\",\"red\",\"#B0BEC5\",\"#B0BEC5\",\"#B0BEC5\"]]}],\"label\":\"Topic 24\",\"method\":\"update\"},{\"args\":[{\"marker.color\":[[\"#B0BEC5\",\"#B0BEC5\",\"#B0BEC5\",\"#B0BEC5\",\"#B0BEC5\",\"#B0BEC5\",\"#B0BEC5\",\"#B0BEC5\",\"#B0BEC5\",\"#B0BEC5\",\"#B0BEC5\",\"#B0BEC5\",\"#B0BEC5\",\"#B0BEC5\",\"#B0BEC5\",\"#B0BEC5\",\"#B0BEC5\",\"#B0BEC5\",\"#B0BEC5\",\"#B0BEC5\",\"#B0BEC5\",\"#B0BEC5\",\"#B0BEC5\",\"#B0BEC5\",\"#B0BEC5\",\"red\",\"#B0BEC5\",\"#B0BEC5\"]]}],\"label\":\"Topic 25\",\"method\":\"update\"},{\"args\":[{\"marker.color\":[[\"#B0BEC5\",\"#B0BEC5\",\"#B0BEC5\",\"#B0BEC5\",\"#B0BEC5\",\"#B0BEC5\",\"#B0BEC5\",\"#B0BEC5\",\"#B0BEC5\",\"#B0BEC5\",\"#B0BEC5\",\"#B0BEC5\",\"#B0BEC5\",\"#B0BEC5\",\"#B0BEC5\",\"#B0BEC5\",\"#B0BEC5\",\"#B0BEC5\",\"#B0BEC5\",\"#B0BEC5\",\"#B0BEC5\",\"#B0BEC5\",\"#B0BEC5\",\"#B0BEC5\",\"#B0BEC5\",\"#B0BEC5\",\"red\",\"#B0BEC5\"]]}],\"label\":\"Topic 26\",\"method\":\"update\"},{\"args\":[{\"marker.color\":[[\"#B0BEC5\",\"#B0BEC5\",\"#B0BEC5\",\"#B0BEC5\",\"#B0BEC5\",\"#B0BEC5\",\"#B0BEC5\",\"#B0BEC5\",\"#B0BEC5\",\"#B0BEC5\",\"#B0BEC5\",\"#B0BEC5\",\"#B0BEC5\",\"#B0BEC5\",\"#B0BEC5\",\"#B0BEC5\",\"#B0BEC5\",\"#B0BEC5\",\"#B0BEC5\",\"#B0BEC5\",\"#B0BEC5\",\"#B0BEC5\",\"#B0BEC5\",\"#B0BEC5\",\"#B0BEC5\",\"#B0BEC5\",\"#B0BEC5\",\"red\"]]}],\"label\":\"Topic 27\",\"method\":\"update\"}]}],\"shapes\":[{\"line\":{\"color\":\"#CFD8DC\",\"width\":2},\"type\":\"line\",\"x0\":6.628499442338943,\"x1\":6.628499442338943,\"y0\":-14.378739833831787,\"y1\":10.513020563125611},{\"line\":{\"color\":\"#9E9E9E\",\"width\":2},\"type\":\"line\",\"x0\":-4.25027426481247,\"x1\":17.507273149490356,\"y0\":-1.932859635353088,\"y1\":-1.932859635353088}],\"annotations\":[{\"showarrow\":false,\"text\":\"D1\",\"x\":-4.25027426481247,\"y\":-1.932859635353088,\"yshift\":10},{\"showarrow\":false,\"text\":\"D2\",\"x\":6.628499442338943,\"xshift\":10,\"y\":10.513020563125611}]},                        {\"responsive\": true}                    ).then(function(){\n",
              "                            \n",
              "var gd = document.getElementById('6f5c0638-a34e-4841-808a-761de676f52b');\n",
              "var x = new MutationObserver(function (mutations, observer) {{\n",
              "        var display = window.getComputedStyle(gd).display;\n",
              "        if (!display || display === 'none') {{\n",
              "            console.log([gd, 'removed!']);\n",
              "            Plotly.purge(gd);\n",
              "            observer.disconnect();\n",
              "        }}\n",
              "}});\n",
              "\n",
              "// Listen for the removal of the full notebook cells\n",
              "var notebookContainer = gd.closest('#notebook-container');\n",
              "if (notebookContainer) {{\n",
              "    x.observe(notebookContainer, {childList: true});\n",
              "}}\n",
              "\n",
              "// Listen for the clearing of the current output cell\n",
              "var outputEl = gd.closest('.output');\n",
              "if (outputEl) {{\n",
              "    x.observe(outputEl, {childList: true});\n",
              "}}\n",
              "\n",
              "                        })                };                            </script>        </div>\n",
              "</body>\n",
              "</html>"
            ]
          },
          "metadata": {}
        }
      ]
    },
    {
      "cell_type": "code",
      "source": [
        "topic_model.visualize_barchart(top_n_topics=12, n_words = 10, width = 350, height = 350)"
      ],
      "metadata": {
        "colab": {
          "base_uri": "https://localhost:8080/",
          "height": 1000
        },
        "id": "2ilwdWAas0e-",
        "outputId": "021cac9e-b283-4ac5-b3e2-b61fb7d02463"
      },
      "execution_count": 29,
      "outputs": [
        {
          "output_type": "display_data",
          "data": {
            "text/html": [
              "<html>\n",
              "<head><meta charset=\"utf-8\" /></head>\n",
              "<body>\n",
              "    <div>            <script src=\"https://cdnjs.cloudflare.com/ajax/libs/mathjax/2.7.5/MathJax.js?config=TeX-AMS-MML_SVG\"></script><script type=\"text/javascript\">if (window.MathJax && window.MathJax.Hub && window.MathJax.Hub.Config) {window.MathJax.Hub.Config({SVG: {font: \"STIX-Web\"}});}</script>                <script type=\"text/javascript\">window.PlotlyConfig = {MathJaxConfig: 'local'};</script>\n",
              "        <script charset=\"utf-8\" src=\"https://cdn.plot.ly/plotly-2.35.2.min.js\"></script>                <div id=\"62273062-a526-4bcd-aa3b-e15c9b1ac8d4\" class=\"plotly-graph-div\" style=\"height:1050px; width:1400px;\"></div>            <script type=\"text/javascript\">                                    window.PLOTLYENV=window.PLOTLYENV || {};                                    if (document.getElementById(\"62273062-a526-4bcd-aa3b-e15c9b1ac8d4\")) {                    Plotly.newPlot(                        \"62273062-a526-4bcd-aa3b-e15c9b1ac8d4\",                        [{\"marker\":{\"color\":\"#D55E00\"},\"orientation\":\"h\",\"x\":[0.012567733970851236,0.012593487832787006,0.012902823260313397,0.013161511489047213,0.014052126017855436,0.01410611045113428,0.015101648406130855,0.01734979277926414,0.017807121821375362,0.02318402185582438],\"y\":[\"clinic  \",\"learn  \",\"machin  \",\"cancer  \",\"studi  \",\"diseas  \",\"model  \",\"use  \",\"predict  \",\"patient  \"],\"type\":\"bar\",\"xaxis\":\"x\",\"yaxis\":\"y\"},{\"marker\":{\"color\":\"#0072B2\"},\"orientation\":\"h\",\"x\":[0.01856131289355011,0.018970612558254867,0.020363520059326744,0.021456334625721236,0.02243440559905899,0.023378595469081588,0.026045340767748937,0.035550879636931536,0.04439112934817181,0.07998472023761498],\"y\":[\"botnet  \",\"puf  \",\"phish  \",\"system  \",\"iot  \",\"threat  \",\"network  \",\"secur  \",\"detect  \",\"attack  \"],\"type\":\"bar\",\"xaxis\":\"x2\",\"yaxis\":\"y2\"},{\"marker\":{\"color\":\"#CC79A7\"},\"orientation\":\"h\",\"x\":[0.021804051466929656,0.023778906507741997,0.025624263278737555,0.02794282577323742,0.028543999357706473,0.028676373735450587,0.03349784571596148,0.04210449220767957,0.043026290038922166,0.04548539621380273],\"y\":[\"public  \",\"analysi  \",\"medium  \",\"user  \",\"twitter  \",\"news  \",\"tweet  \",\"opinion  \",\"social  \",\"sentiment  \"],\"type\":\"bar\",\"xaxis\":\"x3\",\"yaxis\":\"y3\"},{\"marker\":{\"color\":\"#E69F00\"},\"orientation\":\"h\",\"x\":[0.01871484958410903,0.020738062803658135,0.0211736634305963,0.023038501436566237,0.024970752092119994,0.02671850734142068,0.028427643957753695,0.030438689653057814,0.04389258764267906,0.0529075009663694],\"y\":[\"problem  \",\"document  \",\"use  \",\"ca  \",\"portugues  \",\"approach  \",\"translat  \",\"word  \",\"languag  \",\"text  \"],\"type\":\"bar\",\"xaxis\":\"x4\",\"yaxis\":\"y4\"},{\"marker\":{\"color\":\"#56B4E9\"},\"orientation\":\"h\",\"x\":[0.02054765720050744,0.02141950135113703,0.022028137598409745,0.02279494187271505,0.024123466172238907,0.025571177777677097,0.04160276864358429,0.042159339446173144,0.04301871435418329,0.043984350340542835],\"y\":[\"method  \",\"function  \",\"coordin  \",\"nonconvex  \",\"stochast  \",\"bound  \",\"converg  \",\"problem  \",\"algorithm  \",\"optim  \"],\"type\":\"bar\",\"xaxis\":\"x5\",\"yaxis\":\"y5\"},{\"marker\":{\"color\":\"#009E73\"},\"orientation\":\"h\",\"x\":[0.02098140799087332,0.02172621472487888,0.02239374480673483,0.02290107203850128,0.02323851640486942,0.024406649657498784,0.028779839581899908,0.03251282262442554,0.033190077358433115,0.036933563010664305],\"y\":[\"queri  \",\"machin  \",\"method  \",\"perhitungan  \",\"solut  \",\"solv  \",\"game  \",\"learn  \",\"algorithm  \",\"problem  \"],\"type\":\"bar\",\"xaxis\":\"x6\",\"yaxis\":\"y6\"},{\"marker\":{\"color\":\"#F0E442\"},\"orientation\":\"h\",\"x\":[0.017322424808234926,0.01875614488213253,0.018942160398783044,0.020254226366095116,0.021094212017779092,0.021647901909620616,0.02356400751512288,0.02556794239250968,0.026236397741826557,0.03664635740821267],\"y\":[\"base  \",\"use  \",\"method  \",\"accuraci  \",\"screen  \",\"classif  \",\"forest  \",\"random  \",\"predict  \",\"model  \"],\"type\":\"bar\",\"xaxis\":\"x7\",\"yaxis\":\"y7\"},{\"marker\":{\"color\":\"#D55E00\"},\"orientation\":\"h\",\"x\":[0.022469821133436475,0.023007956619790715,0.025859933598594707,0.02610301936974704,0.0369913071843046,0.03725579101058398,0.04328314304190164,0.04332017628625065,0.05348123284726231,0.05529479794593339],\"y\":[\"classif  \",\"use  \",\"learn  \",\"object  \",\"neural  \",\"convolut  \",\"network  \",\"deep  \",\"imag  \",\"cnn  \"],\"type\":\"bar\",\"xaxis\":\"x8\",\"yaxis\":\"y8\"},{\"marker\":{\"color\":\"#0072B2\"},\"orientation\":\"h\",\"x\":[0.020739825492739443,0.02204504174968508,0.022717450921788458,0.023443255572649705,0.024316328070245738,0.02582568667730216,0.028839757702429053,0.02937959112594098,0.030896397170552613,0.08063094688762329],\"y\":[\"represent  \",\"homolog  \",\"atom  \",\"spectrum  \",\"persist  \",\"simul  \",\"comput  \",\"topolog  \",\"molecular  \",\"quantum  \"],\"type\":\"bar\",\"xaxis\":\"x9\",\"yaxis\":\"y9\"},{\"marker\":{\"color\":\"#CC79A7\"},\"orientation\":\"h\",\"x\":[0.016796890984481193,0.017202822930611903,0.017351381998011006,0.017817009612588704,0.017820354740892795,0.01978003212653845,0.021105633907632815,0.02157290366951979,0.026279139518844,0.057174555915340444],\"y\":[\"likelihood  \",\"machin  \",\"data  \",\"steel  \",\"space  \",\"set  \",\"learn  \",\"vector  \",\"paramet  \",\"model  \"],\"type\":\"bar\",\"xaxis\":\"x10\",\"yaxis\":\"y10\"},{\"marker\":{\"color\":\"#E69F00\"},\"orientation\":\"h\",\"x\":[0.0229995800619702,0.02441430179482078,0.02549293225106951,0.02682894969311726,0.02773958128908115,0.03166466329264596,0.03529790619378855,0.036967709128053326,0.03797426343404321,0.048227509874949455],\"y\":[\"spectrum  \",\"system  \",\"indoor  \",\"csi  \",\"wireless  \",\"wifi  \",\"antenna  \",\"radio  \",\"signal  \",\"channel  \"],\"type\":\"bar\",\"xaxis\":\"x11\",\"yaxis\":\"y11\"},{\"marker\":{\"color\":\"#56B4E9\"},\"orientation\":\"h\",\"x\":[0.02027391046415305,0.02337419671089025,0.024709399152986943,0.024951514263337814,0.02619659905025122,0.02831444167094336,0.035130983289321155,0.03523953280207472,0.039784900503121313,0.06752872692198596],\"y\":[\"agb  \",\"soil  \",\"model  \",\"estim  \",\"use  \",\"stage  \",\"agricultur  \",\"plant  \",\"growth  \",\"crop  \"],\"type\":\"bar\",\"xaxis\":\"x12\",\"yaxis\":\"y12\"}],                        {\"template\":{\"data\":{\"barpolar\":[{\"marker\":{\"line\":{\"color\":\"white\",\"width\":0.5},\"pattern\":{\"fillmode\":\"overlay\",\"size\":10,\"solidity\":0.2}},\"type\":\"barpolar\"}],\"bar\":[{\"error_x\":{\"color\":\"#2a3f5f\"},\"error_y\":{\"color\":\"#2a3f5f\"},\"marker\":{\"line\":{\"color\":\"white\",\"width\":0.5},\"pattern\":{\"fillmode\":\"overlay\",\"size\":10,\"solidity\":0.2}},\"type\":\"bar\"}],\"carpet\":[{\"aaxis\":{\"endlinecolor\":\"#2a3f5f\",\"gridcolor\":\"#C8D4E3\",\"linecolor\":\"#C8D4E3\",\"minorgridcolor\":\"#C8D4E3\",\"startlinecolor\":\"#2a3f5f\"},\"baxis\":{\"endlinecolor\":\"#2a3f5f\",\"gridcolor\":\"#C8D4E3\",\"linecolor\":\"#C8D4E3\",\"minorgridcolor\":\"#C8D4E3\",\"startlinecolor\":\"#2a3f5f\"},\"type\":\"carpet\"}],\"choropleth\":[{\"colorbar\":{\"outlinewidth\":0,\"ticks\":\"\"},\"type\":\"choropleth\"}],\"contourcarpet\":[{\"colorbar\":{\"outlinewidth\":0,\"ticks\":\"\"},\"type\":\"contourcarpet\"}],\"contour\":[{\"colorbar\":{\"outlinewidth\":0,\"ticks\":\"\"},\"colorscale\":[[0.0,\"#0d0887\"],[0.1111111111111111,\"#46039f\"],[0.2222222222222222,\"#7201a8\"],[0.3333333333333333,\"#9c179e\"],[0.4444444444444444,\"#bd3786\"],[0.5555555555555556,\"#d8576b\"],[0.6666666666666666,\"#ed7953\"],[0.7777777777777778,\"#fb9f3a\"],[0.8888888888888888,\"#fdca26\"],[1.0,\"#f0f921\"]],\"type\":\"contour\"}],\"heatmapgl\":[{\"colorbar\":{\"outlinewidth\":0,\"ticks\":\"\"},\"colorscale\":[[0.0,\"#0d0887\"],[0.1111111111111111,\"#46039f\"],[0.2222222222222222,\"#7201a8\"],[0.3333333333333333,\"#9c179e\"],[0.4444444444444444,\"#bd3786\"],[0.5555555555555556,\"#d8576b\"],[0.6666666666666666,\"#ed7953\"],[0.7777777777777778,\"#fb9f3a\"],[0.8888888888888888,\"#fdca26\"],[1.0,\"#f0f921\"]],\"type\":\"heatmapgl\"}],\"heatmap\":[{\"colorbar\":{\"outlinewidth\":0,\"ticks\":\"\"},\"colorscale\":[[0.0,\"#0d0887\"],[0.1111111111111111,\"#46039f\"],[0.2222222222222222,\"#7201a8\"],[0.3333333333333333,\"#9c179e\"],[0.4444444444444444,\"#bd3786\"],[0.5555555555555556,\"#d8576b\"],[0.6666666666666666,\"#ed7953\"],[0.7777777777777778,\"#fb9f3a\"],[0.8888888888888888,\"#fdca26\"],[1.0,\"#f0f921\"]],\"type\":\"heatmap\"}],\"histogram2dcontour\":[{\"colorbar\":{\"outlinewidth\":0,\"ticks\":\"\"},\"colorscale\":[[0.0,\"#0d0887\"],[0.1111111111111111,\"#46039f\"],[0.2222222222222222,\"#7201a8\"],[0.3333333333333333,\"#9c179e\"],[0.4444444444444444,\"#bd3786\"],[0.5555555555555556,\"#d8576b\"],[0.6666666666666666,\"#ed7953\"],[0.7777777777777778,\"#fb9f3a\"],[0.8888888888888888,\"#fdca26\"],[1.0,\"#f0f921\"]],\"type\":\"histogram2dcontour\"}],\"histogram2d\":[{\"colorbar\":{\"outlinewidth\":0,\"ticks\":\"\"},\"colorscale\":[[0.0,\"#0d0887\"],[0.1111111111111111,\"#46039f\"],[0.2222222222222222,\"#7201a8\"],[0.3333333333333333,\"#9c179e\"],[0.4444444444444444,\"#bd3786\"],[0.5555555555555556,\"#d8576b\"],[0.6666666666666666,\"#ed7953\"],[0.7777777777777778,\"#fb9f3a\"],[0.8888888888888888,\"#fdca26\"],[1.0,\"#f0f921\"]],\"type\":\"histogram2d\"}],\"histogram\":[{\"marker\":{\"pattern\":{\"fillmode\":\"overlay\",\"size\":10,\"solidity\":0.2}},\"type\":\"histogram\"}],\"mesh3d\":[{\"colorbar\":{\"outlinewidth\":0,\"ticks\":\"\"},\"type\":\"mesh3d\"}],\"parcoords\":[{\"line\":{\"colorbar\":{\"outlinewidth\":0,\"ticks\":\"\"}},\"type\":\"parcoords\"}],\"pie\":[{\"automargin\":true,\"type\":\"pie\"}],\"scatter3d\":[{\"line\":{\"colorbar\":{\"outlinewidth\":0,\"ticks\":\"\"}},\"marker\":{\"colorbar\":{\"outlinewidth\":0,\"ticks\":\"\"}},\"type\":\"scatter3d\"}],\"scattercarpet\":[{\"marker\":{\"colorbar\":{\"outlinewidth\":0,\"ticks\":\"\"}},\"type\":\"scattercarpet\"}],\"scattergeo\":[{\"marker\":{\"colorbar\":{\"outlinewidth\":0,\"ticks\":\"\"}},\"type\":\"scattergeo\"}],\"scattergl\":[{\"marker\":{\"colorbar\":{\"outlinewidth\":0,\"ticks\":\"\"}},\"type\":\"scattergl\"}],\"scattermapbox\":[{\"marker\":{\"colorbar\":{\"outlinewidth\":0,\"ticks\":\"\"}},\"type\":\"scattermapbox\"}],\"scatterpolargl\":[{\"marker\":{\"colorbar\":{\"outlinewidth\":0,\"ticks\":\"\"}},\"type\":\"scatterpolargl\"}],\"scatterpolar\":[{\"marker\":{\"colorbar\":{\"outlinewidth\":0,\"ticks\":\"\"}},\"type\":\"scatterpolar\"}],\"scatter\":[{\"fillpattern\":{\"fillmode\":\"overlay\",\"size\":10,\"solidity\":0.2},\"type\":\"scatter\"}],\"scatterternary\":[{\"marker\":{\"colorbar\":{\"outlinewidth\":0,\"ticks\":\"\"}},\"type\":\"scatterternary\"}],\"surface\":[{\"colorbar\":{\"outlinewidth\":0,\"ticks\":\"\"},\"colorscale\":[[0.0,\"#0d0887\"],[0.1111111111111111,\"#46039f\"],[0.2222222222222222,\"#7201a8\"],[0.3333333333333333,\"#9c179e\"],[0.4444444444444444,\"#bd3786\"],[0.5555555555555556,\"#d8576b\"],[0.6666666666666666,\"#ed7953\"],[0.7777777777777778,\"#fb9f3a\"],[0.8888888888888888,\"#fdca26\"],[1.0,\"#f0f921\"]],\"type\":\"surface\"}],\"table\":[{\"cells\":{\"fill\":{\"color\":\"#EBF0F8\"},\"line\":{\"color\":\"white\"}},\"header\":{\"fill\":{\"color\":\"#C8D4E3\"},\"line\":{\"color\":\"white\"}},\"type\":\"table\"}]},\"layout\":{\"annotationdefaults\":{\"arrowcolor\":\"#2a3f5f\",\"arrowhead\":0,\"arrowwidth\":1},\"autotypenumbers\":\"strict\",\"coloraxis\":{\"colorbar\":{\"outlinewidth\":0,\"ticks\":\"\"}},\"colorscale\":{\"diverging\":[[0,\"#8e0152\"],[0.1,\"#c51b7d\"],[0.2,\"#de77ae\"],[0.3,\"#f1b6da\"],[0.4,\"#fde0ef\"],[0.5,\"#f7f7f7\"],[0.6,\"#e6f5d0\"],[0.7,\"#b8e186\"],[0.8,\"#7fbc41\"],[0.9,\"#4d9221\"],[1,\"#276419\"]],\"sequential\":[[0.0,\"#0d0887\"],[0.1111111111111111,\"#46039f\"],[0.2222222222222222,\"#7201a8\"],[0.3333333333333333,\"#9c179e\"],[0.4444444444444444,\"#bd3786\"],[0.5555555555555556,\"#d8576b\"],[0.6666666666666666,\"#ed7953\"],[0.7777777777777778,\"#fb9f3a\"],[0.8888888888888888,\"#fdca26\"],[1.0,\"#f0f921\"]],\"sequentialminus\":[[0.0,\"#0d0887\"],[0.1111111111111111,\"#46039f\"],[0.2222222222222222,\"#7201a8\"],[0.3333333333333333,\"#9c179e\"],[0.4444444444444444,\"#bd3786\"],[0.5555555555555556,\"#d8576b\"],[0.6666666666666666,\"#ed7953\"],[0.7777777777777778,\"#fb9f3a\"],[0.8888888888888888,\"#fdca26\"],[1.0,\"#f0f921\"]]},\"colorway\":[\"#636efa\",\"#EF553B\",\"#00cc96\",\"#ab63fa\",\"#FFA15A\",\"#19d3f3\",\"#FF6692\",\"#B6E880\",\"#FF97FF\",\"#FECB52\"],\"font\":{\"color\":\"#2a3f5f\"},\"geo\":{\"bgcolor\":\"white\",\"lakecolor\":\"white\",\"landcolor\":\"white\",\"showlakes\":true,\"showland\":true,\"subunitcolor\":\"#C8D4E3\"},\"hoverlabel\":{\"align\":\"left\"},\"hovermode\":\"closest\",\"mapbox\":{\"style\":\"light\"},\"paper_bgcolor\":\"white\",\"plot_bgcolor\":\"white\",\"polar\":{\"angularaxis\":{\"gridcolor\":\"#EBF0F8\",\"linecolor\":\"#EBF0F8\",\"ticks\":\"\"},\"bgcolor\":\"white\",\"radialaxis\":{\"gridcolor\":\"#EBF0F8\",\"linecolor\":\"#EBF0F8\",\"ticks\":\"\"}},\"scene\":{\"xaxis\":{\"backgroundcolor\":\"white\",\"gridcolor\":\"#DFE8F3\",\"gridwidth\":2,\"linecolor\":\"#EBF0F8\",\"showbackground\":true,\"ticks\":\"\",\"zerolinecolor\":\"#EBF0F8\"},\"yaxis\":{\"backgroundcolor\":\"white\",\"gridcolor\":\"#DFE8F3\",\"gridwidth\":2,\"linecolor\":\"#EBF0F8\",\"showbackground\":true,\"ticks\":\"\",\"zerolinecolor\":\"#EBF0F8\"},\"zaxis\":{\"backgroundcolor\":\"white\",\"gridcolor\":\"#DFE8F3\",\"gridwidth\":2,\"linecolor\":\"#EBF0F8\",\"showbackground\":true,\"ticks\":\"\",\"zerolinecolor\":\"#EBF0F8\"}},\"shapedefaults\":{\"line\":{\"color\":\"#2a3f5f\"}},\"ternary\":{\"aaxis\":{\"gridcolor\":\"#DFE8F3\",\"linecolor\":\"#A2B1C6\",\"ticks\":\"\"},\"baxis\":{\"gridcolor\":\"#DFE8F3\",\"linecolor\":\"#A2B1C6\",\"ticks\":\"\"},\"bgcolor\":\"white\",\"caxis\":{\"gridcolor\":\"#DFE8F3\",\"linecolor\":\"#A2B1C6\",\"ticks\":\"\"}},\"title\":{\"x\":0.05},\"xaxis\":{\"automargin\":true,\"gridcolor\":\"#EBF0F8\",\"linecolor\":\"#EBF0F8\",\"ticks\":\"\",\"title\":{\"standoff\":15},\"zerolinecolor\":\"#EBF0F8\",\"zerolinewidth\":2},\"yaxis\":{\"automargin\":true,\"gridcolor\":\"#EBF0F8\",\"linecolor\":\"#EBF0F8\",\"ticks\":\"\",\"title\":{\"standoff\":15},\"zerolinecolor\":\"#EBF0F8\",\"zerolinewidth\":2}}},\"xaxis\":{\"anchor\":\"y\",\"domain\":[0.0,0.175],\"showgrid\":true},\"yaxis\":{\"anchor\":\"x\",\"domain\":[0.7555555555555555,1.0],\"showgrid\":true},\"xaxis2\":{\"anchor\":\"y2\",\"domain\":[0.275,0.45],\"showgrid\":true},\"yaxis2\":{\"anchor\":\"x2\",\"domain\":[0.7555555555555555,1.0],\"showgrid\":true},\"xaxis3\":{\"anchor\":\"y3\",\"domain\":[0.55,0.7250000000000001],\"showgrid\":true},\"yaxis3\":{\"anchor\":\"x3\",\"domain\":[0.7555555555555555,1.0],\"showgrid\":true},\"xaxis4\":{\"anchor\":\"y4\",\"domain\":[0.825,1.0],\"showgrid\":true},\"yaxis4\":{\"anchor\":\"x4\",\"domain\":[0.7555555555555555,1.0],\"showgrid\":true},\"xaxis5\":{\"anchor\":\"y5\",\"domain\":[0.0,0.175],\"showgrid\":true},\"yaxis5\":{\"anchor\":\"x5\",\"domain\":[0.37777777777777777,0.6222222222222222],\"showgrid\":true},\"xaxis6\":{\"anchor\":\"y6\",\"domain\":[0.275,0.45],\"showgrid\":true},\"yaxis6\":{\"anchor\":\"x6\",\"domain\":[0.37777777777777777,0.6222222222222222],\"showgrid\":true},\"xaxis7\":{\"anchor\":\"y7\",\"domain\":[0.55,0.7250000000000001],\"showgrid\":true},\"yaxis7\":{\"anchor\":\"x7\",\"domain\":[0.37777777777777777,0.6222222222222222],\"showgrid\":true},\"xaxis8\":{\"anchor\":\"y8\",\"domain\":[0.825,1.0],\"showgrid\":true},\"yaxis8\":{\"anchor\":\"x8\",\"domain\":[0.37777777777777777,0.6222222222222222],\"showgrid\":true},\"xaxis9\":{\"anchor\":\"y9\",\"domain\":[0.0,0.175],\"showgrid\":true},\"yaxis9\":{\"anchor\":\"x9\",\"domain\":[0.0,0.24444444444444446],\"showgrid\":true},\"xaxis10\":{\"anchor\":\"y10\",\"domain\":[0.275,0.45],\"showgrid\":true},\"yaxis10\":{\"anchor\":\"x10\",\"domain\":[0.0,0.24444444444444446],\"showgrid\":true},\"xaxis11\":{\"anchor\":\"y11\",\"domain\":[0.55,0.7250000000000001],\"showgrid\":true},\"yaxis11\":{\"anchor\":\"x11\",\"domain\":[0.0,0.24444444444444446],\"showgrid\":true},\"xaxis12\":{\"anchor\":\"y12\",\"domain\":[0.825,1.0],\"showgrid\":true},\"yaxis12\":{\"anchor\":\"x12\",\"domain\":[0.0,0.24444444444444446],\"showgrid\":true},\"annotations\":[{\"font\":{\"size\":16},\"showarrow\":false,\"text\":\"Topic 0\",\"x\":0.0875,\"xanchor\":\"center\",\"xref\":\"paper\",\"y\":1.0,\"yanchor\":\"bottom\",\"yref\":\"paper\"},{\"font\":{\"size\":16},\"showarrow\":false,\"text\":\"Topic 1\",\"x\":0.36250000000000004,\"xanchor\":\"center\",\"xref\":\"paper\",\"y\":1.0,\"yanchor\":\"bottom\",\"yref\":\"paper\"},{\"font\":{\"size\":16},\"showarrow\":false,\"text\":\"Topic 2\",\"x\":0.6375000000000001,\"xanchor\":\"center\",\"xref\":\"paper\",\"y\":1.0,\"yanchor\":\"bottom\",\"yref\":\"paper\"},{\"font\":{\"size\":16},\"showarrow\":false,\"text\":\"Topic 3\",\"x\":0.9125,\"xanchor\":\"center\",\"xref\":\"paper\",\"y\":1.0,\"yanchor\":\"bottom\",\"yref\":\"paper\"},{\"font\":{\"size\":16},\"showarrow\":false,\"text\":\"Topic 4\",\"x\":0.0875,\"xanchor\":\"center\",\"xref\":\"paper\",\"y\":0.6222222222222222,\"yanchor\":\"bottom\",\"yref\":\"paper\"},{\"font\":{\"size\":16},\"showarrow\":false,\"text\":\"Topic 5\",\"x\":0.36250000000000004,\"xanchor\":\"center\",\"xref\":\"paper\",\"y\":0.6222222222222222,\"yanchor\":\"bottom\",\"yref\":\"paper\"},{\"font\":{\"size\":16},\"showarrow\":false,\"text\":\"Topic 6\",\"x\":0.6375000000000001,\"xanchor\":\"center\",\"xref\":\"paper\",\"y\":0.6222222222222222,\"yanchor\":\"bottom\",\"yref\":\"paper\"},{\"font\":{\"size\":16},\"showarrow\":false,\"text\":\"Topic 7\",\"x\":0.9125,\"xanchor\":\"center\",\"xref\":\"paper\",\"y\":0.6222222222222222,\"yanchor\":\"bottom\",\"yref\":\"paper\"},{\"font\":{\"size\":16},\"showarrow\":false,\"text\":\"Topic 8\",\"x\":0.0875,\"xanchor\":\"center\",\"xref\":\"paper\",\"y\":0.24444444444444446,\"yanchor\":\"bottom\",\"yref\":\"paper\"},{\"font\":{\"size\":16},\"showarrow\":false,\"text\":\"Topic 9\",\"x\":0.36250000000000004,\"xanchor\":\"center\",\"xref\":\"paper\",\"y\":0.24444444444444446,\"yanchor\":\"bottom\",\"yref\":\"paper\"},{\"font\":{\"size\":16},\"showarrow\":false,\"text\":\"Topic 10\",\"x\":0.6375000000000001,\"xanchor\":\"center\",\"xref\":\"paper\",\"y\":0.24444444444444446,\"yanchor\":\"bottom\",\"yref\":\"paper\"},{\"font\":{\"size\":16},\"showarrow\":false,\"text\":\"Topic 11\",\"x\":0.9125,\"xanchor\":\"center\",\"xref\":\"paper\",\"y\":0.24444444444444446,\"yanchor\":\"bottom\",\"yref\":\"paper\"}],\"title\":{\"font\":{\"size\":22,\"color\":\"Black\"},\"text\":\"Topic Word Scores\",\"x\":0.5,\"xanchor\":\"center\",\"yanchor\":\"top\"},\"hoverlabel\":{\"font\":{\"size\":16,\"family\":\"Rockwell\"},\"bgcolor\":\"white\"},\"showlegend\":false,\"width\":1400,\"height\":1050},                        {\"responsive\": true}                    ).then(function(){\n",
              "                            \n",
              "var gd = document.getElementById('62273062-a526-4bcd-aa3b-e15c9b1ac8d4');\n",
              "var x = new MutationObserver(function (mutations, observer) {{\n",
              "        var display = window.getComputedStyle(gd).display;\n",
              "        if (!display || display === 'none') {{\n",
              "            console.log([gd, 'removed!']);\n",
              "            Plotly.purge(gd);\n",
              "            observer.disconnect();\n",
              "        }}\n",
              "}});\n",
              "\n",
              "// Listen for the removal of the full notebook cells\n",
              "var notebookContainer = gd.closest('#notebook-container');\n",
              "if (notebookContainer) {{\n",
              "    x.observe(notebookContainer, {childList: true});\n",
              "}}\n",
              "\n",
              "// Listen for the clearing of the current output cell\n",
              "var outputEl = gd.closest('.output');\n",
              "if (outputEl) {{\n",
              "    x.observe(outputEl, {childList: true});\n",
              "}}\n",
              "\n",
              "                        })                };                            </script>        </div>\n",
              "</body>\n",
              "</html>"
            ]
          },
          "metadata": {}
        }
      ]
    },
    {
      "cell_type": "code",
      "source": [
        "topic_model.visualize_hierarchy(top_n_topics=12, width = 700, height = 700)"
      ],
      "metadata": {
        "colab": {
          "base_uri": "https://localhost:8080/",
          "height": 397
        },
        "id": "7NhJ6RTes3AH",
        "outputId": "3d130564-2f68-4393-fc17-37f1a92d0353"
      },
      "execution_count": 30,
      "outputs": [
        {
          "output_type": "display_data",
          "data": {
            "text/html": [
              "<html>\n",
              "<head><meta charset=\"utf-8\" /></head>\n",
              "<body>\n",
              "    <div>            <script src=\"https://cdnjs.cloudflare.com/ajax/libs/mathjax/2.7.5/MathJax.js?config=TeX-AMS-MML_SVG\"></script><script type=\"text/javascript\">if (window.MathJax && window.MathJax.Hub && window.MathJax.Hub.Config) {window.MathJax.Hub.Config({SVG: {font: \"STIX-Web\"}});}</script>                <script type=\"text/javascript\">window.PlotlyConfig = {MathJaxConfig: 'local'};</script>\n",
              "        <script charset=\"utf-8\" src=\"https://cdn.plot.ly/plotly-2.35.2.min.js\"></script>                <div id=\"79aa3d57-4b1e-4300-b2dd-c387ecb30ffe\" class=\"plotly-graph-div\" style=\"height:380px; width:700px;\"></div>            <script type=\"text/javascript\">                                    window.PLOTLYENV=window.PLOTLYENV || {};                                    if (document.getElementById(\"79aa3d57-4b1e-4300-b2dd-c387ecb30ffe\")) {                    Plotly.newPlot(                        \"79aa3d57-4b1e-4300-b2dd-c387ecb30ffe\",                        [{\"hoverinfo\":\"text\",\"marker\":{\"color\":\"rgb(61,153,112)\"},\"mode\":\"lines\",\"x\":[0.0,0.5091081441708801,0.5091081441708801,0.0],\"xaxis\":\"x\",\"y\":[-5.0,-5.0,-15.0,-15.0],\"yaxis\":\"y\",\"type\":\"scatter\"},{\"hoverinfo\":\"text\",\"marker\":{\"color\":\"rgb(61,153,112)\"},\"mode\":\"lines\",\"x\":[0.5091081441708801,0.6962026030362687,0.6962026030362687,0.0],\"xaxis\":\"x\",\"y\":[-10.0,-10.0,-25.0,-25.0],\"yaxis\":\"y\",\"type\":\"scatter\"},{\"hoverinfo\":\"text\",\"marker\":{\"color\":\"rgb(61,153,112)\"},\"mode\":\"lines\",\"x\":[0.0,0.6009136544086182,0.6009136544086182,0.0],\"xaxis\":\"x\",\"y\":[-35.0,-35.0,-45.0,-45.0],\"yaxis\":\"y\",\"type\":\"scatter\"},{\"hoverinfo\":\"text\",\"marker\":{\"color\":\"rgb(61,153,112)\"},\"mode\":\"lines\",\"x\":[0.0,0.5822535054160658,0.5822535054160658,0.0],\"xaxis\":\"x\",\"y\":[-55.0,-55.0,-65.0,-65.0],\"yaxis\":\"y\",\"type\":\"scatter\"},{\"hoverinfo\":\"text\",\"marker\":{\"color\":\"rgb(61,153,112)\"},\"mode\":\"lines\",\"x\":[0.0,0.40729584374213823,0.40729584374213823,0.0],\"xaxis\":\"x\",\"y\":[-85.0,-85.0,-95.0,-95.0],\"yaxis\":\"y\",\"type\":\"scatter\"},{\"hoverinfo\":\"text\",\"marker\":{\"color\":\"rgb(61,153,112)\"},\"mode\":\"lines\",\"x\":[0.0,0.497340776481987,0.497340776481987,0.40729584374213823],\"xaxis\":\"x\",\"y\":[-75.0,-75.0,-90.0,-90.0],\"yaxis\":\"y\",\"type\":\"scatter\"},{\"hoverinfo\":\"text\",\"marker\":{\"color\":\"rgb(61,153,112)\"},\"mode\":\"lines\",\"x\":[0.497340776481987,0.6294035370390747,0.6294035370390747,0.0],\"xaxis\":\"x\",\"y\":[-82.5,-82.5,-105.0,-105.0],\"yaxis\":\"y\",\"type\":\"scatter\"},{\"hoverinfo\":\"text\",\"marker\":{\"color\":\"rgb(61,153,112)\"},\"mode\":\"lines\",\"x\":[0.5822535054160658,0.6822387882746006,0.6822387882746006,0.6294035370390747],\"xaxis\":\"x\",\"y\":[-60.0,-60.0,-93.75,-93.75],\"yaxis\":\"y\",\"type\":\"scatter\"},{\"hoverinfo\":\"text\",\"marker\":{\"color\":\"rgb(61,153,112)\"},\"mode\":\"lines\",\"x\":[0.6822387882746006,0.7360506341705633,0.7360506341705633,0.0],\"xaxis\":\"x\",\"y\":[-76.875,-76.875,-115.0,-115.0],\"yaxis\":\"y\",\"type\":\"scatter\"},{\"hoverinfo\":\"text\",\"marker\":{\"color\":\"rgb(61,153,112)\"},\"mode\":\"lines\",\"x\":[0.6009136544086182,0.7631118350806737,0.7631118350806737,0.7360506341705633],\"xaxis\":\"x\",\"y\":[-40.0,-40.0,-95.9375,-95.9375],\"yaxis\":\"y\",\"type\":\"scatter\"},{\"hoverinfo\":\"text\",\"marker\":{\"color\":\"rgb(61,153,112)\"},\"mode\":\"lines\",\"x\":[0.6962026030362687,0.8149679203492458,0.8149679203492458,0.7631118350806737],\"xaxis\":\"x\",\"y\":[-17.5,-17.5,-67.96875,-67.96875],\"yaxis\":\"y\",\"type\":\"scatter\"}],                        {\"autosize\":false,\"height\":380,\"hovermode\":\"closest\",\"showlegend\":false,\"width\":700,\"xaxis\":{\"mirror\":\"allticks\",\"rangemode\":\"tozero\",\"showgrid\":false,\"showline\":true,\"showticklabels\":true,\"ticks\":\"outside\",\"type\":\"linear\",\"zeroline\":false},\"yaxis\":{\"mirror\":\"allticks\",\"rangemode\":\"tozero\",\"showgrid\":false,\"showline\":true,\"showticklabels\":true,\"tickmode\":\"array\",\"ticks\":\"outside\",\"ticktext\":[\"4_optim_algorithm_problem\",\"5_problem_algorithm_learn\",\"8_quantum_molecular_topolog\",\"10_channel_signal_radio\",\"1_attack_detect_secur\",\"2_sentiment_social_opinion\",\"3_text_languag_word\",\"9_model_paramet_vector\",\"6_model_predict_random\",\"0_patient_predict_use\",\"7_cnn_imag_deep\",\"11_crop_growth_plant\"],\"tickvals\":[-5.0,-15.0,-25.0,-35.0,-45.0,-55.0,-65.0,-75.0,-85.0,-95.0,-105.0,-115.0],\"type\":\"linear\",\"zeroline\":false,\"range\":[-120.0,0.0]},\"template\":{\"data\":{\"barpolar\":[{\"marker\":{\"line\":{\"color\":\"white\",\"width\":0.5},\"pattern\":{\"fillmode\":\"overlay\",\"size\":10,\"solidity\":0.2}},\"type\":\"barpolar\"}],\"bar\":[{\"error_x\":{\"color\":\"#2a3f5f\"},\"error_y\":{\"color\":\"#2a3f5f\"},\"marker\":{\"line\":{\"color\":\"white\",\"width\":0.5},\"pattern\":{\"fillmode\":\"overlay\",\"size\":10,\"solidity\":0.2}},\"type\":\"bar\"}],\"carpet\":[{\"aaxis\":{\"endlinecolor\":\"#2a3f5f\",\"gridcolor\":\"#C8D4E3\",\"linecolor\":\"#C8D4E3\",\"minorgridcolor\":\"#C8D4E3\",\"startlinecolor\":\"#2a3f5f\"},\"baxis\":{\"endlinecolor\":\"#2a3f5f\",\"gridcolor\":\"#C8D4E3\",\"linecolor\":\"#C8D4E3\",\"minorgridcolor\":\"#C8D4E3\",\"startlinecolor\":\"#2a3f5f\"},\"type\":\"carpet\"}],\"choropleth\":[{\"colorbar\":{\"outlinewidth\":0,\"ticks\":\"\"},\"type\":\"choropleth\"}],\"contourcarpet\":[{\"colorbar\":{\"outlinewidth\":0,\"ticks\":\"\"},\"type\":\"contourcarpet\"}],\"contour\":[{\"colorbar\":{\"outlinewidth\":0,\"ticks\":\"\"},\"colorscale\":[[0.0,\"#0d0887\"],[0.1111111111111111,\"#46039f\"],[0.2222222222222222,\"#7201a8\"],[0.3333333333333333,\"#9c179e\"],[0.4444444444444444,\"#bd3786\"],[0.5555555555555556,\"#d8576b\"],[0.6666666666666666,\"#ed7953\"],[0.7777777777777778,\"#fb9f3a\"],[0.8888888888888888,\"#fdca26\"],[1.0,\"#f0f921\"]],\"type\":\"contour\"}],\"heatmapgl\":[{\"colorbar\":{\"outlinewidth\":0,\"ticks\":\"\"},\"colorscale\":[[0.0,\"#0d0887\"],[0.1111111111111111,\"#46039f\"],[0.2222222222222222,\"#7201a8\"],[0.3333333333333333,\"#9c179e\"],[0.4444444444444444,\"#bd3786\"],[0.5555555555555556,\"#d8576b\"],[0.6666666666666666,\"#ed7953\"],[0.7777777777777778,\"#fb9f3a\"],[0.8888888888888888,\"#fdca26\"],[1.0,\"#f0f921\"]],\"type\":\"heatmapgl\"}],\"heatmap\":[{\"colorbar\":{\"outlinewidth\":0,\"ticks\":\"\"},\"colorscale\":[[0.0,\"#0d0887\"],[0.1111111111111111,\"#46039f\"],[0.2222222222222222,\"#7201a8\"],[0.3333333333333333,\"#9c179e\"],[0.4444444444444444,\"#bd3786\"],[0.5555555555555556,\"#d8576b\"],[0.6666666666666666,\"#ed7953\"],[0.7777777777777778,\"#fb9f3a\"],[0.8888888888888888,\"#fdca26\"],[1.0,\"#f0f921\"]],\"type\":\"heatmap\"}],\"histogram2dcontour\":[{\"colorbar\":{\"outlinewidth\":0,\"ticks\":\"\"},\"colorscale\":[[0.0,\"#0d0887\"],[0.1111111111111111,\"#46039f\"],[0.2222222222222222,\"#7201a8\"],[0.3333333333333333,\"#9c179e\"],[0.4444444444444444,\"#bd3786\"],[0.5555555555555556,\"#d8576b\"],[0.6666666666666666,\"#ed7953\"],[0.7777777777777778,\"#fb9f3a\"],[0.8888888888888888,\"#fdca26\"],[1.0,\"#f0f921\"]],\"type\":\"histogram2dcontour\"}],\"histogram2d\":[{\"colorbar\":{\"outlinewidth\":0,\"ticks\":\"\"},\"colorscale\":[[0.0,\"#0d0887\"],[0.1111111111111111,\"#46039f\"],[0.2222222222222222,\"#7201a8\"],[0.3333333333333333,\"#9c179e\"],[0.4444444444444444,\"#bd3786\"],[0.5555555555555556,\"#d8576b\"],[0.6666666666666666,\"#ed7953\"],[0.7777777777777778,\"#fb9f3a\"],[0.8888888888888888,\"#fdca26\"],[1.0,\"#f0f921\"]],\"type\":\"histogram2d\"}],\"histogram\":[{\"marker\":{\"pattern\":{\"fillmode\":\"overlay\",\"size\":10,\"solidity\":0.2}},\"type\":\"histogram\"}],\"mesh3d\":[{\"colorbar\":{\"outlinewidth\":0,\"ticks\":\"\"},\"type\":\"mesh3d\"}],\"parcoords\":[{\"line\":{\"colorbar\":{\"outlinewidth\":0,\"ticks\":\"\"}},\"type\":\"parcoords\"}],\"pie\":[{\"automargin\":true,\"type\":\"pie\"}],\"scatter3d\":[{\"line\":{\"colorbar\":{\"outlinewidth\":0,\"ticks\":\"\"}},\"marker\":{\"colorbar\":{\"outlinewidth\":0,\"ticks\":\"\"}},\"type\":\"scatter3d\"}],\"scattercarpet\":[{\"marker\":{\"colorbar\":{\"outlinewidth\":0,\"ticks\":\"\"}},\"type\":\"scattercarpet\"}],\"scattergeo\":[{\"marker\":{\"colorbar\":{\"outlinewidth\":0,\"ticks\":\"\"}},\"type\":\"scattergeo\"}],\"scattergl\":[{\"marker\":{\"colorbar\":{\"outlinewidth\":0,\"ticks\":\"\"}},\"type\":\"scattergl\"}],\"scattermapbox\":[{\"marker\":{\"colorbar\":{\"outlinewidth\":0,\"ticks\":\"\"}},\"type\":\"scattermapbox\"}],\"scatterpolargl\":[{\"marker\":{\"colorbar\":{\"outlinewidth\":0,\"ticks\":\"\"}},\"type\":\"scatterpolargl\"}],\"scatterpolar\":[{\"marker\":{\"colorbar\":{\"outlinewidth\":0,\"ticks\":\"\"}},\"type\":\"scatterpolar\"}],\"scatter\":[{\"fillpattern\":{\"fillmode\":\"overlay\",\"size\":10,\"solidity\":0.2},\"type\":\"scatter\"}],\"scatterternary\":[{\"marker\":{\"colorbar\":{\"outlinewidth\":0,\"ticks\":\"\"}},\"type\":\"scatterternary\"}],\"surface\":[{\"colorbar\":{\"outlinewidth\":0,\"ticks\":\"\"},\"colorscale\":[[0.0,\"#0d0887\"],[0.1111111111111111,\"#46039f\"],[0.2222222222222222,\"#7201a8\"],[0.3333333333333333,\"#9c179e\"],[0.4444444444444444,\"#bd3786\"],[0.5555555555555556,\"#d8576b\"],[0.6666666666666666,\"#ed7953\"],[0.7777777777777778,\"#fb9f3a\"],[0.8888888888888888,\"#fdca26\"],[1.0,\"#f0f921\"]],\"type\":\"surface\"}],\"table\":[{\"cells\":{\"fill\":{\"color\":\"#EBF0F8\"},\"line\":{\"color\":\"white\"}},\"header\":{\"fill\":{\"color\":\"#C8D4E3\"},\"line\":{\"color\":\"white\"}},\"type\":\"table\"}]},\"layout\":{\"annotationdefaults\":{\"arrowcolor\":\"#2a3f5f\",\"arrowhead\":0,\"arrowwidth\":1},\"autotypenumbers\":\"strict\",\"coloraxis\":{\"colorbar\":{\"outlinewidth\":0,\"ticks\":\"\"}},\"colorscale\":{\"diverging\":[[0,\"#8e0152\"],[0.1,\"#c51b7d\"],[0.2,\"#de77ae\"],[0.3,\"#f1b6da\"],[0.4,\"#fde0ef\"],[0.5,\"#f7f7f7\"],[0.6,\"#e6f5d0\"],[0.7,\"#b8e186\"],[0.8,\"#7fbc41\"],[0.9,\"#4d9221\"],[1,\"#276419\"]],\"sequential\":[[0.0,\"#0d0887\"],[0.1111111111111111,\"#46039f\"],[0.2222222222222222,\"#7201a8\"],[0.3333333333333333,\"#9c179e\"],[0.4444444444444444,\"#bd3786\"],[0.5555555555555556,\"#d8576b\"],[0.6666666666666666,\"#ed7953\"],[0.7777777777777778,\"#fb9f3a\"],[0.8888888888888888,\"#fdca26\"],[1.0,\"#f0f921\"]],\"sequentialminus\":[[0.0,\"#0d0887\"],[0.1111111111111111,\"#46039f\"],[0.2222222222222222,\"#7201a8\"],[0.3333333333333333,\"#9c179e\"],[0.4444444444444444,\"#bd3786\"],[0.5555555555555556,\"#d8576b\"],[0.6666666666666666,\"#ed7953\"],[0.7777777777777778,\"#fb9f3a\"],[0.8888888888888888,\"#fdca26\"],[1.0,\"#f0f921\"]]},\"colorway\":[\"#636efa\",\"#EF553B\",\"#00cc96\",\"#ab63fa\",\"#FFA15A\",\"#19d3f3\",\"#FF6692\",\"#B6E880\",\"#FF97FF\",\"#FECB52\"],\"font\":{\"color\":\"#2a3f5f\"},\"geo\":{\"bgcolor\":\"white\",\"lakecolor\":\"white\",\"landcolor\":\"white\",\"showlakes\":true,\"showland\":true,\"subunitcolor\":\"#C8D4E3\"},\"hoverlabel\":{\"align\":\"left\"},\"hovermode\":\"closest\",\"mapbox\":{\"style\":\"light\"},\"paper_bgcolor\":\"white\",\"plot_bgcolor\":\"white\",\"polar\":{\"angularaxis\":{\"gridcolor\":\"#EBF0F8\",\"linecolor\":\"#EBF0F8\",\"ticks\":\"\"},\"bgcolor\":\"white\",\"radialaxis\":{\"gridcolor\":\"#EBF0F8\",\"linecolor\":\"#EBF0F8\",\"ticks\":\"\"}},\"scene\":{\"xaxis\":{\"backgroundcolor\":\"white\",\"gridcolor\":\"#DFE8F3\",\"gridwidth\":2,\"linecolor\":\"#EBF0F8\",\"showbackground\":true,\"ticks\":\"\",\"zerolinecolor\":\"#EBF0F8\"},\"yaxis\":{\"backgroundcolor\":\"white\",\"gridcolor\":\"#DFE8F3\",\"gridwidth\":2,\"linecolor\":\"#EBF0F8\",\"showbackground\":true,\"ticks\":\"\",\"zerolinecolor\":\"#EBF0F8\"},\"zaxis\":{\"backgroundcolor\":\"white\",\"gridcolor\":\"#DFE8F3\",\"gridwidth\":2,\"linecolor\":\"#EBF0F8\",\"showbackground\":true,\"ticks\":\"\",\"zerolinecolor\":\"#EBF0F8\"}},\"shapedefaults\":{\"line\":{\"color\":\"#2a3f5f\"}},\"ternary\":{\"aaxis\":{\"gridcolor\":\"#DFE8F3\",\"linecolor\":\"#A2B1C6\",\"ticks\":\"\"},\"baxis\":{\"gridcolor\":\"#DFE8F3\",\"linecolor\":\"#A2B1C6\",\"ticks\":\"\"},\"bgcolor\":\"white\",\"caxis\":{\"gridcolor\":\"#DFE8F3\",\"linecolor\":\"#A2B1C6\",\"ticks\":\"\"}},\"title\":{\"x\":0.05},\"xaxis\":{\"automargin\":true,\"gridcolor\":\"#EBF0F8\",\"linecolor\":\"#EBF0F8\",\"ticks\":\"\",\"title\":{\"standoff\":15},\"zerolinecolor\":\"#EBF0F8\",\"zerolinewidth\":2},\"yaxis\":{\"automargin\":true,\"gridcolor\":\"#EBF0F8\",\"linecolor\":\"#EBF0F8\",\"ticks\":\"\",\"title\":{\"standoff\":15},\"zerolinecolor\":\"#EBF0F8\",\"zerolinewidth\":2}}},\"title\":{\"font\":{\"size\":22,\"color\":\"Black\"},\"text\":\"\\u003cb\\u003eHierarchical Clustering\\u003c\\u002fb\\u003e\",\"x\":0.5,\"xanchor\":\"center\",\"yanchor\":\"top\"},\"hoverlabel\":{\"font\":{\"size\":16,\"family\":\"Rockwell\"},\"bgcolor\":\"white\"},\"plot_bgcolor\":\"#ECEFF1\"},                        {\"responsive\": true}                    ).then(function(){\n",
              "                            \n",
              "var gd = document.getElementById('79aa3d57-4b1e-4300-b2dd-c387ecb30ffe');\n",
              "var x = new MutationObserver(function (mutations, observer) {{\n",
              "        var display = window.getComputedStyle(gd).display;\n",
              "        if (!display || display === 'none') {{\n",
              "            console.log([gd, 'removed!']);\n",
              "            Plotly.purge(gd);\n",
              "            observer.disconnect();\n",
              "        }}\n",
              "}});\n",
              "\n",
              "// Listen for the removal of the full notebook cells\n",
              "var notebookContainer = gd.closest('#notebook-container');\n",
              "if (notebookContainer) {{\n",
              "    x.observe(notebookContainer, {childList: true});\n",
              "}}\n",
              "\n",
              "// Listen for the clearing of the current output cell\n",
              "var outputEl = gd.closest('.output');\n",
              "if (outputEl) {{\n",
              "    x.observe(outputEl, {childList: true});\n",
              "}}\n",
              "\n",
              "                        })                };                            </script>        </div>\n",
              "</body>\n",
              "</html>"
            ]
          },
          "metadata": {}
        }
      ]
    },
    {
      "cell_type": "code",
      "source": [
        "#Extract tokenized texts\n",
        "texts = semantic_df['processed abstract'].apply(lambda x: x.split()).tolist()\n",
        "\n",
        "#Extract the top words per topic from BERTopic\n",
        "topics = topic_model.get_topics()\n",
        "top_words_per_topic = [\n",
        "    [word for word, _ in topic_model.get_topics()[topic_id]]\n",
        "    for topic_id in topic_model.get_topics().keys()\n",
        "    if topic_id != -1\n",
        "]\n",
        "\n",
        "#Create dictionary\n",
        "dictionary = corpora.Dictionary(texts)\n",
        "\n",
        "#Compute Coherence Score\n",
        "coherence_model = CoherenceModel(\n",
        "    topics=top_words_per_topic,\n",
        "    texts=texts,\n",
        "    dictionary=dictionary,\n",
        "    coherence='c_v'\n",
        ")\n",
        "\n",
        "coherence_score = coherence_model.get_coherence()\n",
        "print(f\"Coherence Score: {coherence_score:.4f}\")"
      ],
      "metadata": {
        "colab": {
          "base_uri": "https://localhost:8080/"
        },
        "id": "5dZRd7v3UDDd",
        "outputId": "30ebfc3c-63d8-4e5c-bb69-5c9431c1e4d9"
      },
      "execution_count": 33,
      "outputs": [
        {
          "output_type": "stream",
          "name": "stdout",
          "text": [
            "Coherence Score: 0.2547\n"
          ]
        }
      ]
    },
    {
      "cell_type": "code",
      "source": [
        "#data = semantic_df['processed abstract']\n",
        "def BERTopic_coherence(data,num_topics):\n",
        "\n",
        "    best_model = BERTopic(language=\"english\")\n",
        "    best_score = 0\n",
        "    best_topic_num = 0\n",
        "    best_topics = []\n",
        "    best_probs = []\n",
        "\n",
        "    for i in range(2, num_topics):\n",
        "        topic_model = BERTopic(language=\"english\", nr_topics = i)\n",
        "        topics, probs = topic_model.fit_transform(data)\n",
        "\n",
        "        #Extract tokenized texts\n",
        "        texts = data.apply(lambda x: x.split()).tolist()\n",
        "\n",
        "        #Extract the top words per topic from BERTopic\n",
        "        topics = topic_model.get_topics()\n",
        "        top_words_per_topic = [\n",
        "            [word for word, _ in topic_model.get_topics()[topic_id]]\n",
        "            for topic_id in topic_model.get_topics().keys()\n",
        "            if topic_id != -1\n",
        "        ]\n",
        "\n",
        "        #Create dictionary\n",
        "        dictionary = corpora.Dictionary(texts)\n",
        "\n",
        "        #Compute Coherence Score\n",
        "        coherence_model = CoherenceModel(\n",
        "            topics=top_words_per_topic,\n",
        "            texts=texts,\n",
        "            dictionary=dictionary,\n",
        "            coherence='c_v'\n",
        "        )\n",
        "        coherence_score = coherence_model.get_coherence()\n",
        "\n",
        "        print(f\"Model with {i} topics, coherence score is {coherence_score:}\")\n",
        "\n",
        "        if coherence_score > best_score:\n",
        "            best_topic_num = i\n",
        "            best_model = topic_model\n",
        "            best_score = coherence_score\n",
        "            best_topics = topics\n",
        "            best_probs = probs\n",
        "        else:\n",
        "            continue\n",
        "\n",
        "    print(f\"Model with {best_topic_num} topics with coherence score {best_score}\")\n",
        "    return best_model, best_score, best_topic_num, best_topics, best_probs"
      ],
      "metadata": {
        "id": "KnsRl1o3T0U6"
      },
      "execution_count": 42,
      "outputs": []
    },
    {
      "cell_type": "code",
      "source": [
        "BERTopic_coherence(semantic_df['processed abstract'],10)"
      ],
      "metadata": {
        "colab": {
          "base_uri": "https://localhost:8080/"
        },
        "id": "WPTnpderX5us",
        "outputId": "68a53632-9837-4bb4-d039-e0075c720efd"
      },
      "execution_count": 43,
      "outputs": [
        {
          "output_type": "stream",
          "name": "stdout",
          "text": [
            "Model with 2 topics, coherence score is 0.5046858475621662\n",
            "Model with 3 topics, coherence score is 0.3811601194838713\n",
            "Model with 4 topics, coherence score is 0.3924180719817278\n",
            "Model with 5 topics, coherence score is 0.39972663194490055\n",
            "Model with 6 topics, coherence score is 0.3206102320286227\n",
            "Model with 7 topics, coherence score is 0.28144394674625145\n",
            "Model with 8 topics, coherence score is 0.3797396125440558\n",
            "Model with 9 topics, coherence score is 0.33081392899531975\n",
            "Model with 2 topics with coherence score 0.5046858475621662\n"
          ]
        },
        {
          "output_type": "execute_result",
          "data": {
            "text/plain": [
              "(<bertopic._bertopic.BERTopic at 0x7e8701d73390>,\n",
              " 0.5046858475621662,\n",
              " 2,\n",
              " {-1: [('learn', 0.05488967507294258),\n",
              "   ('use', 0.04849675248303692),\n",
              "   ('model', 0.046821508805114986),\n",
              "   ('data', 0.046028995632614485),\n",
              "   ('machin', 0.04411971968538582),\n",
              "   ('method', 0.03309358139639312),\n",
              "   ('algorithm', 0.029790081296134054),\n",
              "   ('system', 0.02966258075009669),\n",
              "   ('predict', 0.026679038529236136),\n",
              "   ('perform', 0.0262897618636391)],\n",
              "  0: [('model', 0.04960145210542409),\n",
              "   ('use', 0.04957107669097967),\n",
              "   ('learn', 0.04798850314933193),\n",
              "   ('machin', 0.04013376549308432),\n",
              "   ('data', 0.03535920386532845),\n",
              "   ('predict', 0.031135509162081153),\n",
              "   ('method', 0.029409858657700867),\n",
              "   ('studi', 0.024689835502172807),\n",
              "   ('algorithm', 0.023625575068903632),\n",
              "   ('perform', 0.023410085440460162)]},\n",
              " array([0.54672312, 0.        , 0.8700289 , ..., 0.        , 0.        ,\n",
              "        0.        ]))"
            ]
          },
          "metadata": {},
          "execution_count": 43
        }
      ]
    },
    {
      "cell_type": "markdown",
      "source": [
        "# **Question 3 (25 points)**\n"
      ],
      "metadata": {
        "id": "zoxBIMZfK--R"
      }
    },
    {
      "cell_type": "markdown",
      "source": [
        "**Dataset Link**: 20 Newsgroup Dataset (Random 2000 values)\n",
        "\n",
        "Q3) Using a given dataset, Modify the default representation model by integrating OpenAI's GPT model to generate meaningful summaries for each topic. Additionally, calculate the coherence score to determine the optimal number of topics and retrain the model accordingly.\n",
        "\n"
      ],
      "metadata": {
        "id": "4lWF1tj96rF9"
      }
    },
    {
      "cell_type": "markdown",
      "source": [
        "Usefull Link: https://maartengr.github.io/BERTopic/getting_started/representation/llm#truncating-documents"
      ],
      "metadata": {
        "id": "3TbQrsW7e4Qg"
      }
    },
    {
      "cell_type": "code",
      "source": [
        "data_list, news_data = random_sample(newsgroups)\n",
        "print(len(news_data))\n",
        "df = pd.DataFrame(news_data, columns = ['text'])\n",
        "df['text']"
      ],
      "metadata": {
        "id": "e0ZrF3f277gY",
        "colab": {
          "base_uri": "https://localhost:8080/",
          "height": 475
        },
        "outputId": "86d0fa2c-900e-4d65-d07e-ff0e179ee128"
      },
      "execution_count": 44,
      "outputs": [
        {
          "output_type": "stream",
          "name": "stdout",
          "text": [
            "2000\n"
          ]
        },
        {
          "output_type": "execute_result",
          "data": {
            "text/plain": [
              "0       From: bh437292@longs.LANCE.ColoState.Edu (Basi...\n",
              "1       Nntp-Posting-Host: surt.ifi.uio.no\\nFrom: Thom...\n",
              "2       From: lieuwen@allegra.att.com (Dan Lieuwen)\\nS...\n",
              "3       From: goldberg@oasys.dt.navy.mil (Mark Goldber...\n",
              "4       From: johnsd2@rpi.edu (Dan Johnson)\\nSubject: ...\n",
              "                              ...                        \n",
              "1995    From:  (Phil Bowermaster)\\nSubject: C. S. Lewi...\n",
              "1996    From: randy@megatek.com (Randy Davis)\\nSubject...\n",
              "1997    From: jodfishe@silver.ucs.indiana.edu (joseph ...\n",
              "1998    From: un026300@wvnvms.wvnet.edu\\nSubject: Re: ...\n",
              "1999    Subject: Re: Jewish Baseball Players?\\nFrom: f...\n",
              "Name: text, Length: 2000, dtype: object"
            ],
            "text/html": [
              "<div>\n",
              "<style scoped>\n",
              "    .dataframe tbody tr th:only-of-type {\n",
              "        vertical-align: middle;\n",
              "    }\n",
              "\n",
              "    .dataframe tbody tr th {\n",
              "        vertical-align: top;\n",
              "    }\n",
              "\n",
              "    .dataframe thead th {\n",
              "        text-align: right;\n",
              "    }\n",
              "</style>\n",
              "<table border=\"1\" class=\"dataframe\">\n",
              "  <thead>\n",
              "    <tr style=\"text-align: right;\">\n",
              "      <th></th>\n",
              "      <th>text</th>\n",
              "    </tr>\n",
              "  </thead>\n",
              "  <tbody>\n",
              "    <tr>\n",
              "      <th>0</th>\n",
              "      <td>From: bh437292@longs.LANCE.ColoState.Edu (Basi...</td>\n",
              "    </tr>\n",
              "    <tr>\n",
              "      <th>1</th>\n",
              "      <td>Nntp-Posting-Host: surt.ifi.uio.no\\nFrom: Thom...</td>\n",
              "    </tr>\n",
              "    <tr>\n",
              "      <th>2</th>\n",
              "      <td>From: lieuwen@allegra.att.com (Dan Lieuwen)\\nS...</td>\n",
              "    </tr>\n",
              "    <tr>\n",
              "      <th>3</th>\n",
              "      <td>From: goldberg@oasys.dt.navy.mil (Mark Goldber...</td>\n",
              "    </tr>\n",
              "    <tr>\n",
              "      <th>4</th>\n",
              "      <td>From: johnsd2@rpi.edu (Dan Johnson)\\nSubject: ...</td>\n",
              "    </tr>\n",
              "    <tr>\n",
              "      <th>...</th>\n",
              "      <td>...</td>\n",
              "    </tr>\n",
              "    <tr>\n",
              "      <th>1995</th>\n",
              "      <td>From:  (Phil Bowermaster)\\nSubject: C. S. Lewi...</td>\n",
              "    </tr>\n",
              "    <tr>\n",
              "      <th>1996</th>\n",
              "      <td>From: randy@megatek.com (Randy Davis)\\nSubject...</td>\n",
              "    </tr>\n",
              "    <tr>\n",
              "      <th>1997</th>\n",
              "      <td>From: jodfishe@silver.ucs.indiana.edu (joseph ...</td>\n",
              "    </tr>\n",
              "    <tr>\n",
              "      <th>1998</th>\n",
              "      <td>From: un026300@wvnvms.wvnet.edu\\nSubject: Re: ...</td>\n",
              "    </tr>\n",
              "    <tr>\n",
              "      <th>1999</th>\n",
              "      <td>Subject: Re: Jewish Baseball Players?\\nFrom: f...</td>\n",
              "    </tr>\n",
              "  </tbody>\n",
              "</table>\n",
              "<p>2000 rows × 1 columns</p>\n",
              "</div><br><label><b>dtype:</b> object</label>"
            ]
          },
          "metadata": {},
          "execution_count": 44
        }
      ]
    },
    {
      "cell_type": "code",
      "source": [
        "import os\n",
        "import openai\n",
        "import tiktoken\n",
        "from bertopic.representation import OpenAI\n",
        "from bertopic import BERTopic\n",
        "\n",
        "from google.colab import userdata\n",
        "api_key = userdata.get('OpenAI')\n",
        "\n",
        "# Tokenizer\n",
        "tokenizer= tiktoken.encoding_for_model(\"gpt-3.5-turbo\")\n",
        "\n",
        "#Create API model\n",
        "client = openai.OpenAI(api_key=api_key)\n",
        "representation_model = OpenAI(\n",
        "    client,\n",
        "    model=\"gpt-3.5-turbo\",\n",
        "    delay_in_seconds=2,\n",
        "    chat=True,\n",
        "    nr_docs=4,\n",
        "    doc_length=100,\n",
        "    tokenizer=tokenizer\n",
        ")\n",
        "\n",
        "# Use the representation model\n",
        "topic_model = BERTopic(representation_model=representation_model)"
      ],
      "metadata": {
        "id": "hWuUd7r4BVWP"
      },
      "execution_count": 45,
      "outputs": []
    },
    {
      "cell_type": "code",
      "source": [
        "def AI_BERTopic_coherence(data,num_topics):\n",
        "\n",
        "    best_model = topic_model\n",
        "    best_score = 0\n",
        "    best_topic_num = 0\n",
        "    best_topics = []\n",
        "    best_probs = []\n",
        "\n",
        "    for i in range(2, num_topics):\n",
        "        topic_model = BERTopic(representation_model=representation_model, nr_topics = i)\n",
        "        topics, probs = topic_model.fit_transform(data)\n",
        "\n",
        "        #Extract tokenized texts\n",
        "        texts = data.apply(lambda x: x.split()).tolist()\n",
        "\n",
        "        #Extract the top words per topic from BERTopic\n",
        "        topics = topic_model.get_topics()\n",
        "        top_words_per_topic = [\n",
        "            [word for word, _ in topic_model.get_topics()[topic_id]]\n",
        "            for topic_id in topic_model.get_topics().keys()\n",
        "            if topic_id != -1\n",
        "        ]\n",
        "\n",
        "        #Create dictionary\n",
        "        dictionary = corpora.Dictionary(texts)\n",
        "\n",
        "        #Compute Coherence Score\n",
        "        coherence_model = CoherenceModel(\n",
        "            topics=top_words_per_topic,\n",
        "            texts=texts,\n",
        "            dictionary=dictionary,\n",
        "            coherence='c_v'\n",
        "        )\n",
        "        coherence_score = coherence_model.get_coherence()\n",
        "\n",
        "        print(f\"Model with {i} topics, coherence score is {coherence_score:}\")\n",
        "\n",
        "        if coherence_score > best_score:\n",
        "            best_topic_num = i\n",
        "            best_model = topic_model\n",
        "            best_score = coherence_score\n",
        "            best_topics = topics\n",
        "            best_probs = probs\n",
        "        else:\n",
        "            continue\n",
        "\n",
        "    print(f\"Model with {best_topic_num} topics with coherence score {best_score}\")\n",
        "    return best_model, best_score, best_topic_num, best_topics, best_probs"
      ],
      "metadata": {
        "id": "lUtj-nJZljzW"
      },
      "execution_count": 47,
      "outputs": []
    },
    {
      "cell_type": "code",
      "source": [
        "AI_BERTopic_coherence(semantic_df['processed abstract'],10)"
      ],
      "metadata": {
        "colab": {
          "base_uri": "https://localhost:8080/",
          "height": 304
        },
        "id": "O9ialkbBCWDT",
        "outputId": "a2416f7f-ce5f-481a-aa73-0dcf6f9703b7"
      },
      "execution_count": 46,
      "outputs": [
        {
          "output_type": "error",
          "ename": "RateLimitError",
          "evalue": "Error code: 429 - {'error': {'message': 'You exceeded your current quota, please check your plan and billing details. For more information on this error, read the docs: https://platform.openai.com/docs/guides/error-codes/api-errors.', 'type': 'insufficient_quota', 'param': None, 'code': 'insufficient_quota'}}",
          "traceback": [
            "\u001b[0;31m---------------------------------------------------------------------------\u001b[0m",
            "\u001b[0;31mRateLimitError\u001b[0m                            Traceback (most recent call last)",
            "\u001b[0;32m<ipython-input-46-a124813fd0db>\u001b[0m in \u001b[0;36m<cell line: 0>\u001b[0;34m()\u001b[0m\n\u001b[0;32m----> 1\u001b[0;31m \u001b[0mtopics\u001b[0m\u001b[0;34m,\u001b[0m \u001b[0mprobs\u001b[0m \u001b[0;34m=\u001b[0m \u001b[0mtopic_model\u001b[0m\u001b[0;34m.\u001b[0m\u001b[0mfit_transform\u001b[0m\u001b[0;34m(\u001b[0m\u001b[0msemantic_df\u001b[0m\u001b[0;34m[\u001b[0m\u001b[0;34m'processed abstract'\u001b[0m\u001b[0;34m]\u001b[0m\u001b[0;34m)\u001b[0m\u001b[0;34m\u001b[0m\u001b[0;34m\u001b[0m\u001b[0m\n\u001b[0m",
            "\u001b[0;32m/usr/local/lib/python3.11/dist-packages/bertopic/_bertopic.py\u001b[0m in \u001b[0;36mfit_transform\u001b[0;34m(self, documents, embeddings, images, y)\u001b[0m\n\u001b[1;32m    513\u001b[0m         \u001b[0;32melse\u001b[0m\u001b[0;34m:\u001b[0m\u001b[0;34m\u001b[0m\u001b[0;34m\u001b[0m\u001b[0m\n\u001b[1;32m    514\u001b[0m             \u001b[0;31m# Extract topics by calculating c-TF-IDF, reduce topics if needed, and get representations.\u001b[0m\u001b[0;34m\u001b[0m\u001b[0;34m\u001b[0m\u001b[0m\n\u001b[0;32m--> 515\u001b[0;31m             self._extract_topics(\n\u001b[0m\u001b[1;32m    516\u001b[0m                 \u001b[0mdocuments\u001b[0m\u001b[0;34m,\u001b[0m \u001b[0membeddings\u001b[0m\u001b[0;34m=\u001b[0m\u001b[0membeddings\u001b[0m\u001b[0;34m,\u001b[0m \u001b[0mverbose\u001b[0m\u001b[0;34m=\u001b[0m\u001b[0mself\u001b[0m\u001b[0;34m.\u001b[0m\u001b[0mverbose\u001b[0m\u001b[0;34m,\u001b[0m \u001b[0mfine_tune_representation\u001b[0m\u001b[0;34m=\u001b[0m\u001b[0;32mnot\u001b[0m \u001b[0mself\u001b[0m\u001b[0;34m.\u001b[0m\u001b[0mnr_topics\u001b[0m\u001b[0;34m\u001b[0m\u001b[0;34m\u001b[0m\u001b[0m\n\u001b[1;32m    517\u001b[0m             )\n",
            "\u001b[0;32m/usr/local/lib/python3.11/dist-packages/bertopic/_bertopic.py\u001b[0m in \u001b[0;36m_extract_topics\u001b[0;34m(self, documents, embeddings, mappings, verbose, fine_tune_representation)\u001b[0m\n\u001b[1;32m   4029\u001b[0m         \u001b[0mdocuments_per_topic\u001b[0m \u001b[0;34m=\u001b[0m \u001b[0mdocuments\u001b[0m\u001b[0;34m.\u001b[0m\u001b[0mgroupby\u001b[0m\u001b[0;34m(\u001b[0m\u001b[0;34m[\u001b[0m\u001b[0;34m\"Topic\"\u001b[0m\u001b[0;34m]\u001b[0m\u001b[0;34m,\u001b[0m \u001b[0mas_index\u001b[0m\u001b[0;34m=\u001b[0m\u001b[0;32mFalse\u001b[0m\u001b[0;34m)\u001b[0m\u001b[0;34m.\u001b[0m\u001b[0magg\u001b[0m\u001b[0;34m(\u001b[0m\u001b[0;34m{\u001b[0m\u001b[0;34m\"Document\"\u001b[0m\u001b[0;34m:\u001b[0m \u001b[0;34m\" \"\u001b[0m\u001b[0;34m.\u001b[0m\u001b[0mjoin\u001b[0m\u001b[0;34m}\u001b[0m\u001b[0;34m)\u001b[0m\u001b[0;34m\u001b[0m\u001b[0;34m\u001b[0m\u001b[0m\n\u001b[1;32m   4030\u001b[0m         \u001b[0mself\u001b[0m\u001b[0;34m.\u001b[0m\u001b[0mc_tf_idf_\u001b[0m\u001b[0;34m,\u001b[0m \u001b[0mwords\u001b[0m \u001b[0;34m=\u001b[0m \u001b[0mself\u001b[0m\u001b[0;34m.\u001b[0m\u001b[0m_c_tf_idf\u001b[0m\u001b[0;34m(\u001b[0m\u001b[0mdocuments_per_topic\u001b[0m\u001b[0;34m)\u001b[0m\u001b[0;34m\u001b[0m\u001b[0;34m\u001b[0m\u001b[0m\n\u001b[0;32m-> 4031\u001b[0;31m         self.topic_representations_ = self._extract_words_per_topic(\n\u001b[0m\u001b[1;32m   4032\u001b[0m             \u001b[0mwords\u001b[0m\u001b[0;34m,\u001b[0m\u001b[0;34m\u001b[0m\u001b[0;34m\u001b[0m\u001b[0m\n\u001b[1;32m   4033\u001b[0m             \u001b[0mdocuments\u001b[0m\u001b[0;34m,\u001b[0m\u001b[0;34m\u001b[0m\u001b[0;34m\u001b[0m\u001b[0m\n",
            "\u001b[0;32m/usr/local/lib/python3.11/dist-packages/bertopic/_bertopic.py\u001b[0m in \u001b[0;36m_extract_words_per_topic\u001b[0;34m(self, words, documents, c_tf_idf, fine_tune_representation, calculate_aspects)\u001b[0m\n\u001b[1;32m   4345\u001b[0m                 \u001b[0mtopics\u001b[0m \u001b[0;34m=\u001b[0m \u001b[0mtuner\u001b[0m\u001b[0;34m.\u001b[0m\u001b[0mextract_topics\u001b[0m\u001b[0;34m(\u001b[0m\u001b[0mself\u001b[0m\u001b[0;34m,\u001b[0m \u001b[0mdocuments\u001b[0m\u001b[0;34m,\u001b[0m \u001b[0mc_tf_idf\u001b[0m\u001b[0;34m,\u001b[0m \u001b[0mtopics\u001b[0m\u001b[0;34m)\u001b[0m\u001b[0;34m\u001b[0m\u001b[0;34m\u001b[0m\u001b[0m\n\u001b[1;32m   4346\u001b[0m         \u001b[0;32melif\u001b[0m \u001b[0mfine_tune_representation\u001b[0m \u001b[0;32mand\u001b[0m \u001b[0misinstance\u001b[0m\u001b[0;34m(\u001b[0m\u001b[0mself\u001b[0m\u001b[0;34m.\u001b[0m\u001b[0mrepresentation_model\u001b[0m\u001b[0;34m,\u001b[0m \u001b[0mBaseRepresentation\u001b[0m\u001b[0;34m)\u001b[0m\u001b[0;34m:\u001b[0m\u001b[0;34m\u001b[0m\u001b[0;34m\u001b[0m\u001b[0m\n\u001b[0;32m-> 4347\u001b[0;31m             \u001b[0mtopics\u001b[0m \u001b[0;34m=\u001b[0m \u001b[0mself\u001b[0m\u001b[0;34m.\u001b[0m\u001b[0mrepresentation_model\u001b[0m\u001b[0;34m.\u001b[0m\u001b[0mextract_topics\u001b[0m\u001b[0;34m(\u001b[0m\u001b[0mself\u001b[0m\u001b[0;34m,\u001b[0m \u001b[0mdocuments\u001b[0m\u001b[0;34m,\u001b[0m \u001b[0mc_tf_idf\u001b[0m\u001b[0;34m,\u001b[0m \u001b[0mtopics\u001b[0m\u001b[0;34m)\u001b[0m\u001b[0;34m\u001b[0m\u001b[0;34m\u001b[0m\u001b[0m\n\u001b[0m\u001b[1;32m   4348\u001b[0m         \u001b[0;32melif\u001b[0m \u001b[0mfine_tune_representation\u001b[0m \u001b[0;32mand\u001b[0m \u001b[0misinstance\u001b[0m\u001b[0;34m(\u001b[0m\u001b[0mself\u001b[0m\u001b[0;34m.\u001b[0m\u001b[0mrepresentation_model\u001b[0m\u001b[0;34m,\u001b[0m \u001b[0mdict\u001b[0m\u001b[0;34m)\u001b[0m\u001b[0;34m:\u001b[0m\u001b[0;34m\u001b[0m\u001b[0;34m\u001b[0m\u001b[0m\n\u001b[1;32m   4349\u001b[0m             \u001b[0;32mif\u001b[0m \u001b[0mself\u001b[0m\u001b[0;34m.\u001b[0m\u001b[0mrepresentation_model\u001b[0m\u001b[0;34m.\u001b[0m\u001b[0mget\u001b[0m\u001b[0;34m(\u001b[0m\u001b[0;34m\"Main\"\u001b[0m\u001b[0;34m)\u001b[0m\u001b[0;34m:\u001b[0m\u001b[0;34m\u001b[0m\u001b[0;34m\u001b[0m\u001b[0m\n",
            "\u001b[0;32m/usr/local/lib/python3.11/dist-packages/bertopic/representation/_openai.py\u001b[0m in \u001b[0;36mextract_topics\u001b[0;34m(self, topic_model, documents, c_tf_idf, topics)\u001b[0m\n\u001b[1;32m    226\u001b[0m                 \u001b[0mresponse\u001b[0m \u001b[0;34m=\u001b[0m \u001b[0mchat_completions_with_backoff\u001b[0m\u001b[0;34m(\u001b[0m\u001b[0mself\u001b[0m\u001b[0;34m.\u001b[0m\u001b[0mclient\u001b[0m\u001b[0;34m,\u001b[0m \u001b[0;34m**\u001b[0m\u001b[0mkwargs\u001b[0m\u001b[0;34m)\u001b[0m\u001b[0;34m\u001b[0m\u001b[0;34m\u001b[0m\u001b[0m\n\u001b[1;32m    227\u001b[0m             \u001b[0;32melse\u001b[0m\u001b[0;34m:\u001b[0m\u001b[0;34m\u001b[0m\u001b[0;34m\u001b[0m\u001b[0m\n\u001b[0;32m--> 228\u001b[0;31m                 \u001b[0mresponse\u001b[0m \u001b[0;34m=\u001b[0m \u001b[0mself\u001b[0m\u001b[0;34m.\u001b[0m\u001b[0mclient\u001b[0m\u001b[0;34m.\u001b[0m\u001b[0mchat\u001b[0m\u001b[0;34m.\u001b[0m\u001b[0mcompletions\u001b[0m\u001b[0;34m.\u001b[0m\u001b[0mcreate\u001b[0m\u001b[0;34m(\u001b[0m\u001b[0;34m**\u001b[0m\u001b[0mkwargs\u001b[0m\u001b[0;34m)\u001b[0m\u001b[0;34m\u001b[0m\u001b[0;34m\u001b[0m\u001b[0m\n\u001b[0m\u001b[1;32m    229\u001b[0m \u001b[0;34m\u001b[0m\u001b[0m\n\u001b[1;32m    230\u001b[0m             \u001b[0;31m# Check whether content was actually generated\u001b[0m\u001b[0;34m\u001b[0m\u001b[0;34m\u001b[0m\u001b[0m\n",
            "\u001b[0;32m/usr/local/lib/python3.11/dist-packages/openai/_utils/_utils.py\u001b[0m in \u001b[0;36mwrapper\u001b[0;34m(*args, **kwargs)\u001b[0m\n\u001b[1;32m    277\u001b[0m                         \u001b[0mmsg\u001b[0m \u001b[0;34m=\u001b[0m \u001b[0;34mf\"Missing required argument: {quote(missing[0])}\"\u001b[0m\u001b[0;34m\u001b[0m\u001b[0;34m\u001b[0m\u001b[0m\n\u001b[1;32m    278\u001b[0m                 \u001b[0;32mraise\u001b[0m \u001b[0mTypeError\u001b[0m\u001b[0;34m(\u001b[0m\u001b[0mmsg\u001b[0m\u001b[0;34m)\u001b[0m\u001b[0;34m\u001b[0m\u001b[0;34m\u001b[0m\u001b[0m\n\u001b[0;32m--> 279\u001b[0;31m             \u001b[0;32mreturn\u001b[0m \u001b[0mfunc\u001b[0m\u001b[0;34m(\u001b[0m\u001b[0;34m*\u001b[0m\u001b[0margs\u001b[0m\u001b[0;34m,\u001b[0m \u001b[0;34m**\u001b[0m\u001b[0mkwargs\u001b[0m\u001b[0;34m)\u001b[0m\u001b[0;34m\u001b[0m\u001b[0;34m\u001b[0m\u001b[0m\n\u001b[0m\u001b[1;32m    280\u001b[0m \u001b[0;34m\u001b[0m\u001b[0m\n\u001b[1;32m    281\u001b[0m         \u001b[0;32mreturn\u001b[0m \u001b[0mwrapper\u001b[0m  \u001b[0;31m# type: ignore\u001b[0m\u001b[0;34m\u001b[0m\u001b[0;34m\u001b[0m\u001b[0m\n",
            "\u001b[0;32m/usr/local/lib/python3.11/dist-packages/openai/resources/chat/completions/completions.py\u001b[0m in \u001b[0;36mcreate\u001b[0;34m(self, messages, model, audio, frequency_penalty, function_call, functions, logit_bias, logprobs, max_completion_tokens, max_tokens, metadata, modalities, n, parallel_tool_calls, prediction, presence_penalty, reasoning_effort, response_format, seed, service_tier, stop, store, stream, stream_options, temperature, tool_choice, tools, top_logprobs, top_p, user, web_search_options, extra_headers, extra_query, extra_body, timeout)\u001b[0m\n\u001b[1;32m    912\u001b[0m     ) -> ChatCompletion | Stream[ChatCompletionChunk]:\n\u001b[1;32m    913\u001b[0m         \u001b[0mvalidate_response_format\u001b[0m\u001b[0;34m(\u001b[0m\u001b[0mresponse_format\u001b[0m\u001b[0;34m)\u001b[0m\u001b[0;34m\u001b[0m\u001b[0;34m\u001b[0m\u001b[0m\n\u001b[0;32m--> 914\u001b[0;31m         return self._post(\n\u001b[0m\u001b[1;32m    915\u001b[0m             \u001b[0;34m\"/chat/completions\"\u001b[0m\u001b[0;34m,\u001b[0m\u001b[0;34m\u001b[0m\u001b[0;34m\u001b[0m\u001b[0m\n\u001b[1;32m    916\u001b[0m             body=maybe_transform(\n",
            "\u001b[0;32m/usr/local/lib/python3.11/dist-packages/openai/_base_client.py\u001b[0m in \u001b[0;36mpost\u001b[0;34m(self, path, cast_to, body, options, files, stream, stream_cls)\u001b[0m\n\u001b[1;32m   1240\u001b[0m             \u001b[0mmethod\u001b[0m\u001b[0;34m=\u001b[0m\u001b[0;34m\"post\"\u001b[0m\u001b[0;34m,\u001b[0m \u001b[0murl\u001b[0m\u001b[0;34m=\u001b[0m\u001b[0mpath\u001b[0m\u001b[0;34m,\u001b[0m \u001b[0mjson_data\u001b[0m\u001b[0;34m=\u001b[0m\u001b[0mbody\u001b[0m\u001b[0;34m,\u001b[0m \u001b[0mfiles\u001b[0m\u001b[0;34m=\u001b[0m\u001b[0mto_httpx_files\u001b[0m\u001b[0;34m(\u001b[0m\u001b[0mfiles\u001b[0m\u001b[0;34m)\u001b[0m\u001b[0;34m,\u001b[0m \u001b[0;34m**\u001b[0m\u001b[0moptions\u001b[0m\u001b[0;34m\u001b[0m\u001b[0;34m\u001b[0m\u001b[0m\n\u001b[1;32m   1241\u001b[0m         )\n\u001b[0;32m-> 1242\u001b[0;31m         \u001b[0;32mreturn\u001b[0m \u001b[0mcast\u001b[0m\u001b[0;34m(\u001b[0m\u001b[0mResponseT\u001b[0m\u001b[0;34m,\u001b[0m \u001b[0mself\u001b[0m\u001b[0;34m.\u001b[0m\u001b[0mrequest\u001b[0m\u001b[0;34m(\u001b[0m\u001b[0mcast_to\u001b[0m\u001b[0;34m,\u001b[0m \u001b[0mopts\u001b[0m\u001b[0;34m,\u001b[0m \u001b[0mstream\u001b[0m\u001b[0;34m=\u001b[0m\u001b[0mstream\u001b[0m\u001b[0;34m,\u001b[0m \u001b[0mstream_cls\u001b[0m\u001b[0;34m=\u001b[0m\u001b[0mstream_cls\u001b[0m\u001b[0;34m)\u001b[0m\u001b[0;34m)\u001b[0m\u001b[0;34m\u001b[0m\u001b[0;34m\u001b[0m\u001b[0m\n\u001b[0m\u001b[1;32m   1243\u001b[0m \u001b[0;34m\u001b[0m\u001b[0m\n\u001b[1;32m   1244\u001b[0m     def patch(\n",
            "\u001b[0;32m/usr/local/lib/python3.11/dist-packages/openai/_base_client.py\u001b[0m in \u001b[0;36mrequest\u001b[0;34m(self, cast_to, options, remaining_retries, stream, stream_cls)\u001b[0m\n\u001b[1;32m    917\u001b[0m             \u001b[0mretries_taken\u001b[0m \u001b[0;34m=\u001b[0m \u001b[0;36m0\u001b[0m\u001b[0;34m\u001b[0m\u001b[0;34m\u001b[0m\u001b[0m\n\u001b[1;32m    918\u001b[0m \u001b[0;34m\u001b[0m\u001b[0m\n\u001b[0;32m--> 919\u001b[0;31m         return self._request(\n\u001b[0m\u001b[1;32m    920\u001b[0m             \u001b[0mcast_to\u001b[0m\u001b[0;34m=\u001b[0m\u001b[0mcast_to\u001b[0m\u001b[0;34m,\u001b[0m\u001b[0;34m\u001b[0m\u001b[0;34m\u001b[0m\u001b[0m\n\u001b[1;32m    921\u001b[0m             \u001b[0moptions\u001b[0m\u001b[0;34m=\u001b[0m\u001b[0moptions\u001b[0m\u001b[0;34m,\u001b[0m\u001b[0;34m\u001b[0m\u001b[0;34m\u001b[0m\u001b[0m\n",
            "\u001b[0;32m/usr/local/lib/python3.11/dist-packages/openai/_base_client.py\u001b[0m in \u001b[0;36m_request\u001b[0;34m(self, cast_to, options, retries_taken, stream, stream_cls)\u001b[0m\n\u001b[1;32m   1006\u001b[0m             \u001b[0;32mif\u001b[0m \u001b[0mremaining_retries\u001b[0m \u001b[0;34m>\u001b[0m \u001b[0;36m0\u001b[0m \u001b[0;32mand\u001b[0m \u001b[0mself\u001b[0m\u001b[0;34m.\u001b[0m\u001b[0m_should_retry\u001b[0m\u001b[0;34m(\u001b[0m\u001b[0merr\u001b[0m\u001b[0;34m.\u001b[0m\u001b[0mresponse\u001b[0m\u001b[0;34m)\u001b[0m\u001b[0;34m:\u001b[0m\u001b[0;34m\u001b[0m\u001b[0;34m\u001b[0m\u001b[0m\n\u001b[1;32m   1007\u001b[0m                 \u001b[0merr\u001b[0m\u001b[0;34m.\u001b[0m\u001b[0mresponse\u001b[0m\u001b[0;34m.\u001b[0m\u001b[0mclose\u001b[0m\u001b[0;34m(\u001b[0m\u001b[0;34m)\u001b[0m\u001b[0;34m\u001b[0m\u001b[0;34m\u001b[0m\u001b[0m\n\u001b[0;32m-> 1008\u001b[0;31m                 return self._retry_request(\n\u001b[0m\u001b[1;32m   1009\u001b[0m                     \u001b[0minput_options\u001b[0m\u001b[0;34m,\u001b[0m\u001b[0;34m\u001b[0m\u001b[0;34m\u001b[0m\u001b[0m\n\u001b[1;32m   1010\u001b[0m                     \u001b[0mcast_to\u001b[0m\u001b[0;34m,\u001b[0m\u001b[0;34m\u001b[0m\u001b[0;34m\u001b[0m\u001b[0m\n",
            "\u001b[0;32m/usr/local/lib/python3.11/dist-packages/openai/_base_client.py\u001b[0m in \u001b[0;36m_retry_request\u001b[0;34m(self, options, cast_to, retries_taken, response_headers, stream, stream_cls)\u001b[0m\n\u001b[1;32m   1055\u001b[0m         \u001b[0mtime\u001b[0m\u001b[0;34m.\u001b[0m\u001b[0msleep\u001b[0m\u001b[0;34m(\u001b[0m\u001b[0mtimeout\u001b[0m\u001b[0;34m)\u001b[0m\u001b[0;34m\u001b[0m\u001b[0;34m\u001b[0m\u001b[0m\n\u001b[1;32m   1056\u001b[0m \u001b[0;34m\u001b[0m\u001b[0m\n\u001b[0;32m-> 1057\u001b[0;31m         return self._request(\n\u001b[0m\u001b[1;32m   1058\u001b[0m             \u001b[0moptions\u001b[0m\u001b[0;34m=\u001b[0m\u001b[0moptions\u001b[0m\u001b[0;34m,\u001b[0m\u001b[0;34m\u001b[0m\u001b[0;34m\u001b[0m\u001b[0m\n\u001b[1;32m   1059\u001b[0m             \u001b[0mcast_to\u001b[0m\u001b[0;34m=\u001b[0m\u001b[0mcast_to\u001b[0m\u001b[0;34m,\u001b[0m\u001b[0;34m\u001b[0m\u001b[0;34m\u001b[0m\u001b[0m\n",
            "\u001b[0;32m/usr/local/lib/python3.11/dist-packages/openai/_base_client.py\u001b[0m in \u001b[0;36m_request\u001b[0;34m(self, cast_to, options, retries_taken, stream, stream_cls)\u001b[0m\n\u001b[1;32m   1006\u001b[0m             \u001b[0;32mif\u001b[0m \u001b[0mremaining_retries\u001b[0m \u001b[0;34m>\u001b[0m \u001b[0;36m0\u001b[0m \u001b[0;32mand\u001b[0m \u001b[0mself\u001b[0m\u001b[0;34m.\u001b[0m\u001b[0m_should_retry\u001b[0m\u001b[0;34m(\u001b[0m\u001b[0merr\u001b[0m\u001b[0;34m.\u001b[0m\u001b[0mresponse\u001b[0m\u001b[0;34m)\u001b[0m\u001b[0;34m:\u001b[0m\u001b[0;34m\u001b[0m\u001b[0;34m\u001b[0m\u001b[0m\n\u001b[1;32m   1007\u001b[0m                 \u001b[0merr\u001b[0m\u001b[0;34m.\u001b[0m\u001b[0mresponse\u001b[0m\u001b[0;34m.\u001b[0m\u001b[0mclose\u001b[0m\u001b[0;34m(\u001b[0m\u001b[0;34m)\u001b[0m\u001b[0;34m\u001b[0m\u001b[0;34m\u001b[0m\u001b[0m\n\u001b[0;32m-> 1008\u001b[0;31m                 return self._retry_request(\n\u001b[0m\u001b[1;32m   1009\u001b[0m                     \u001b[0minput_options\u001b[0m\u001b[0;34m,\u001b[0m\u001b[0;34m\u001b[0m\u001b[0;34m\u001b[0m\u001b[0m\n\u001b[1;32m   1010\u001b[0m                     \u001b[0mcast_to\u001b[0m\u001b[0;34m,\u001b[0m\u001b[0;34m\u001b[0m\u001b[0;34m\u001b[0m\u001b[0m\n",
            "\u001b[0;32m/usr/local/lib/python3.11/dist-packages/openai/_base_client.py\u001b[0m in \u001b[0;36m_retry_request\u001b[0;34m(self, options, cast_to, retries_taken, response_headers, stream, stream_cls)\u001b[0m\n\u001b[1;32m   1055\u001b[0m         \u001b[0mtime\u001b[0m\u001b[0;34m.\u001b[0m\u001b[0msleep\u001b[0m\u001b[0;34m(\u001b[0m\u001b[0mtimeout\u001b[0m\u001b[0;34m)\u001b[0m\u001b[0;34m\u001b[0m\u001b[0;34m\u001b[0m\u001b[0m\n\u001b[1;32m   1056\u001b[0m \u001b[0;34m\u001b[0m\u001b[0m\n\u001b[0;32m-> 1057\u001b[0;31m         return self._request(\n\u001b[0m\u001b[1;32m   1058\u001b[0m             \u001b[0moptions\u001b[0m\u001b[0;34m=\u001b[0m\u001b[0moptions\u001b[0m\u001b[0;34m,\u001b[0m\u001b[0;34m\u001b[0m\u001b[0;34m\u001b[0m\u001b[0m\n\u001b[1;32m   1059\u001b[0m             \u001b[0mcast_to\u001b[0m\u001b[0;34m=\u001b[0m\u001b[0mcast_to\u001b[0m\u001b[0;34m,\u001b[0m\u001b[0;34m\u001b[0m\u001b[0;34m\u001b[0m\u001b[0m\n",
            "\u001b[0;32m/usr/local/lib/python3.11/dist-packages/openai/_base_client.py\u001b[0m in \u001b[0;36m_request\u001b[0;34m(self, cast_to, options, retries_taken, stream, stream_cls)\u001b[0m\n\u001b[1;32m   1021\u001b[0m \u001b[0;34m\u001b[0m\u001b[0m\n\u001b[1;32m   1022\u001b[0m             \u001b[0mlog\u001b[0m\u001b[0;34m.\u001b[0m\u001b[0mdebug\u001b[0m\u001b[0;34m(\u001b[0m\u001b[0;34m\"Re-raising status error\"\u001b[0m\u001b[0;34m)\u001b[0m\u001b[0;34m\u001b[0m\u001b[0;34m\u001b[0m\u001b[0m\n\u001b[0;32m-> 1023\u001b[0;31m             \u001b[0;32mraise\u001b[0m \u001b[0mself\u001b[0m\u001b[0;34m.\u001b[0m\u001b[0m_make_status_error_from_response\u001b[0m\u001b[0;34m(\u001b[0m\u001b[0merr\u001b[0m\u001b[0;34m.\u001b[0m\u001b[0mresponse\u001b[0m\u001b[0;34m)\u001b[0m \u001b[0;32mfrom\u001b[0m \u001b[0;32mNone\u001b[0m\u001b[0;34m\u001b[0m\u001b[0;34m\u001b[0m\u001b[0m\n\u001b[0m\u001b[1;32m   1024\u001b[0m \u001b[0;34m\u001b[0m\u001b[0m\n\u001b[1;32m   1025\u001b[0m         return self._process_response(\n",
            "\u001b[0;31mRateLimitError\u001b[0m: Error code: 429 - {'error': {'message': 'You exceeded your current quota, please check your plan and billing details. For more information on this error, read the docs: https://platform.openai.com/docs/guides/error-codes/api-errors.', 'type': 'insufficient_quota', 'param': None, 'code': 'insufficient_quota'}}"
          ]
        }
      ]
    },
    {
      "cell_type": "markdown",
      "source": [
        "# **Question 4 (35 Points)**"
      ],
      "metadata": {
        "id": "c-a-fRBtgI-Z"
      }
    },
    {
      "cell_type": "markdown",
      "metadata": {
        "id": "7nZGAOwl70ng"
      },
      "source": [
        "\n",
        "**BERTopic** allows for extensive customization, including the choice of embedding models, dimensionality reduction techniques, and clustering algorithms.\n",
        "\n",
        "**Dataset Link**: 20 Newsgroup Dataset (Random 2000 values)\n",
        "\n",
        "4)\n",
        "\n",
        "4.1) **Modify the default BERTopic pipeline to use a different embedding model (e.g., Sentence-Transformers) and a different clustering algorithm (e.g., DBSCAN instead of HDBSCAN).\n",
        "\n",
        "4.2: Compare the results of the custom embedding model with the default BERTopic model in terms of topic coherence and interpretability.\n",
        "\n",
        "4.3: Visualize the topics and provide a qualitative analysis of the differences\n",
        "\n",
        "**"
      ]
    },
    {
      "cell_type": "markdown",
      "source": [
        "Usefull Link :https://www.pinecone.io/learn/bertopic/"
      ],
      "metadata": {
        "id": "LYVtmLugexRE"
      }
    },
    {
      "cell_type": "code",
      "source": [
        "from sklearn.cluster import DBSCAN\n",
        "from sentence_transformers import SentenceTransformer"
      ],
      "metadata": {
        "id": "P0fQNzxpmivO"
      },
      "execution_count": 50,
      "outputs": []
    },
    {
      "cell_type": "code",
      "source": [
        "data_list, news_data = random_sample(newsgroups)\n",
        "print(len(news_data))\n",
        "df = pd.DataFrame(news_data, columns = ['text'])\n",
        "df['text']"
      ],
      "metadata": {
        "id": "XraxAtQP25bK",
        "colab": {
          "base_uri": "https://localhost:8080/",
          "height": 475
        },
        "outputId": "1152dde6-ef82-49a9-f5aa-772abda16d9e"
      },
      "execution_count": 48,
      "outputs": [
        {
          "output_type": "stream",
          "name": "stdout",
          "text": [
            "2000\n"
          ]
        },
        {
          "output_type": "execute_result",
          "data": {
            "text/plain": [
              "0       From: jcj@tellabs.com (jcj)\\nSubject: Re: When...\n",
              "1       From: mikeq@freddy.CNA.TEK.COM (Mike Quigley)\\...\n",
              "2       From: dcd@se.houston.geoquest.slb.com (Dan Day...\n",
              "3       From: nlu@Xenon.Stanford.EDU (Nelson Lu)\\nSubj...\n",
              "4       From: slack@boi.hp.com (David Slack)\\nSubject:...\n",
              "                              ...                        \n",
              "1995    From: parr@acs.ucalgary.ca (Charles Parr)\\nSub...\n",
              "1996    From: brian@porky.contex.com (Brian Love)\\nSub...\n",
              "1997    From: wdm@world.std.com (Wayne Michael)\\nSubje...\n",
              "1998    From: amehdi@src.honeywell.com (Hossien Amehdi...\n",
              "1999    From: jeremi@ee.ualberta.ca (William Jeremiah)...\n",
              "Name: text, Length: 2000, dtype: object"
            ],
            "text/html": [
              "<div>\n",
              "<style scoped>\n",
              "    .dataframe tbody tr th:only-of-type {\n",
              "        vertical-align: middle;\n",
              "    }\n",
              "\n",
              "    .dataframe tbody tr th {\n",
              "        vertical-align: top;\n",
              "    }\n",
              "\n",
              "    .dataframe thead th {\n",
              "        text-align: right;\n",
              "    }\n",
              "</style>\n",
              "<table border=\"1\" class=\"dataframe\">\n",
              "  <thead>\n",
              "    <tr style=\"text-align: right;\">\n",
              "      <th></th>\n",
              "      <th>text</th>\n",
              "    </tr>\n",
              "  </thead>\n",
              "  <tbody>\n",
              "    <tr>\n",
              "      <th>0</th>\n",
              "      <td>From: jcj@tellabs.com (jcj)\\nSubject: Re: When...</td>\n",
              "    </tr>\n",
              "    <tr>\n",
              "      <th>1</th>\n",
              "      <td>From: mikeq@freddy.CNA.TEK.COM (Mike Quigley)\\...</td>\n",
              "    </tr>\n",
              "    <tr>\n",
              "      <th>2</th>\n",
              "      <td>From: dcd@se.houston.geoquest.slb.com (Dan Day...</td>\n",
              "    </tr>\n",
              "    <tr>\n",
              "      <th>3</th>\n",
              "      <td>From: nlu@Xenon.Stanford.EDU (Nelson Lu)\\nSubj...</td>\n",
              "    </tr>\n",
              "    <tr>\n",
              "      <th>4</th>\n",
              "      <td>From: slack@boi.hp.com (David Slack)\\nSubject:...</td>\n",
              "    </tr>\n",
              "    <tr>\n",
              "      <th>...</th>\n",
              "      <td>...</td>\n",
              "    </tr>\n",
              "    <tr>\n",
              "      <th>1995</th>\n",
              "      <td>From: parr@acs.ucalgary.ca (Charles Parr)\\nSub...</td>\n",
              "    </tr>\n",
              "    <tr>\n",
              "      <th>1996</th>\n",
              "      <td>From: brian@porky.contex.com (Brian Love)\\nSub...</td>\n",
              "    </tr>\n",
              "    <tr>\n",
              "      <th>1997</th>\n",
              "      <td>From: wdm@world.std.com (Wayne Michael)\\nSubje...</td>\n",
              "    </tr>\n",
              "    <tr>\n",
              "      <th>1998</th>\n",
              "      <td>From: amehdi@src.honeywell.com (Hossien Amehdi...</td>\n",
              "    </tr>\n",
              "    <tr>\n",
              "      <th>1999</th>\n",
              "      <td>From: jeremi@ee.ualberta.ca (William Jeremiah)...</td>\n",
              "    </tr>\n",
              "  </tbody>\n",
              "</table>\n",
              "<p>2000 rows × 1 columns</p>\n",
              "</div><br><label><b>dtype:</b> object</label>"
            ]
          },
          "metadata": {},
          "execution_count": 48
        }
      ]
    },
    {
      "cell_type": "code",
      "source": [
        "# apply function to all reviews\n",
        "df['cleaned_text'] = df['text'].apply(lambda x: preprocess(x))"
      ],
      "metadata": {
        "id": "veqvOTe9qezO"
      },
      "execution_count": 76,
      "outputs": []
    },
    {
      "cell_type": "code",
      "source": [
        "df['cleaned_text']"
      ],
      "metadata": {
        "colab": {
          "base_uri": "https://localhost:8080/",
          "height": 458
        },
        "id": "dg3ql0Qerl6c",
        "outputId": "77777e20-2d39-484d-d820-ae2218f56752"
      },
      "execution_count": 77,
      "outputs": [
        {
          "output_type": "execute_result",
          "data": {
            "text/plain": [
              "0       [from, jcj, tellab, com, jcj, subject, peopl, ...\n",
              "1       [from, mikeq, freddi, cna, tek, com, mike, qui...\n",
              "2       [from, dcd, houston, geoquest, slb, com, dan, ...\n",
              "3       [from, nlu, xenon, stanford, edu, nelson, subj...\n",
              "4       [from, slack, boi, com, david, slack, subject,...\n",
              "                              ...                        \n",
              "1995    [from, parr, ac, ucalgari, charl, parr, subjec...\n",
              "1996    [from, brian, porki, contex, com, brian, love,...\n",
              "1997    [from, wdm, world, std, com, wayn, michael, su...\n",
              "1998    [from, amehdi, src, honeywel, com, hossien, am...\n",
              "1999    [from, jeremi, ualberta, william, jeremiah, su...\n",
              "Name: cleaned_text, Length: 2000, dtype: object"
            ],
            "text/html": [
              "<div>\n",
              "<style scoped>\n",
              "    .dataframe tbody tr th:only-of-type {\n",
              "        vertical-align: middle;\n",
              "    }\n",
              "\n",
              "    .dataframe tbody tr th {\n",
              "        vertical-align: top;\n",
              "    }\n",
              "\n",
              "    .dataframe thead th {\n",
              "        text-align: right;\n",
              "    }\n",
              "</style>\n",
              "<table border=\"1\" class=\"dataframe\">\n",
              "  <thead>\n",
              "    <tr style=\"text-align: right;\">\n",
              "      <th></th>\n",
              "      <th>cleaned_text</th>\n",
              "    </tr>\n",
              "  </thead>\n",
              "  <tbody>\n",
              "    <tr>\n",
              "      <th>0</th>\n",
              "      <td>[from, jcj, tellab, com, jcj, subject, peopl, ...</td>\n",
              "    </tr>\n",
              "    <tr>\n",
              "      <th>1</th>\n",
              "      <td>[from, mikeq, freddi, cna, tek, com, mike, qui...</td>\n",
              "    </tr>\n",
              "    <tr>\n",
              "      <th>2</th>\n",
              "      <td>[from, dcd, houston, geoquest, slb, com, dan, ...</td>\n",
              "    </tr>\n",
              "    <tr>\n",
              "      <th>3</th>\n",
              "      <td>[from, nlu, xenon, stanford, edu, nelson, subj...</td>\n",
              "    </tr>\n",
              "    <tr>\n",
              "      <th>4</th>\n",
              "      <td>[from, slack, boi, com, david, slack, subject,...</td>\n",
              "    </tr>\n",
              "    <tr>\n",
              "      <th>...</th>\n",
              "      <td>...</td>\n",
              "    </tr>\n",
              "    <tr>\n",
              "      <th>1995</th>\n",
              "      <td>[from, parr, ac, ucalgari, charl, parr, subjec...</td>\n",
              "    </tr>\n",
              "    <tr>\n",
              "      <th>1996</th>\n",
              "      <td>[from, brian, porki, contex, com, brian, love,...</td>\n",
              "    </tr>\n",
              "    <tr>\n",
              "      <th>1997</th>\n",
              "      <td>[from, wdm, world, std, com, wayn, michael, su...</td>\n",
              "    </tr>\n",
              "    <tr>\n",
              "      <th>1998</th>\n",
              "      <td>[from, amehdi, src, honeywel, com, hossien, am...</td>\n",
              "    </tr>\n",
              "    <tr>\n",
              "      <th>1999</th>\n",
              "      <td>[from, jeremi, ualberta, william, jeremiah, su...</td>\n",
              "    </tr>\n",
              "  </tbody>\n",
              "</table>\n",
              "<p>2000 rows × 1 columns</p>\n",
              "</div><br><label><b>dtype:</b> object</label>"
            ]
          },
          "metadata": {},
          "execution_count": 77
        }
      ]
    },
    {
      "cell_type": "code",
      "source": [
        "stop_words = stopwords.words('english')\n",
        "stop_words.extend(['from', 'subject', 're', 'edu', 'use'])  # custom ones\n",
        "\n",
        "#Remove stopwords from each token list\n",
        "df['cleaned_text'] = df['cleaned_text'].apply(\n",
        "    lambda tokens: [word for word in tokens if word.lower() not in stop_words]\n",
        ")"
      ],
      "metadata": {
        "id": "e7a_ablWuyK_"
      },
      "execution_count": 84,
      "outputs": []
    },
    {
      "cell_type": "code",
      "source": [
        "#Load a Sentence-Transformers embedding model\n",
        "embedding_model = SentenceTransformer('all-MiniLM-L6-v2')\n",
        "\n",
        "#Define a custom clustering model (DBSCAN)\n",
        "clustering_model = DBSCAN(eps=0.5, min_samples=5, metric='cosine')\n",
        "\n",
        "#Create BERTopic with custom models\n",
        "topic_model = BERTopic(\n",
        "    embedding_model=embedding_model,\n",
        "    hdbscan_model=clustering_model,  # despite the name, this param accepts any clustering model\n",
        "    language=\"english\",\n",
        "    calculate_probabilities=True,  # optional\n",
        "    verbose=True\n",
        ")"
      ],
      "metadata": {
        "id": "AU5yntqzmG3f"
      },
      "execution_count": 85,
      "outputs": []
    },
    {
      "cell_type": "code",
      "source": [
        "docs = df['cleaned_text'].apply(lambda tokens: ' '.join(tokens) if isinstance(tokens, list) else tokens)\n",
        "topics, probs = topic_model.fit_transform(docs)"
      ],
      "metadata": {
        "colab": {
          "base_uri": "https://localhost:8080/",
          "height": 353,
          "referenced_widgets": [
            "9a2f80d97af44cf5a42816b61016291d",
            "57039ac2fb694f0ca2f14c8356517cbd",
            "22d2098de7d64a8581e1d7290c495c69",
            "0811ac8f351e4538a341efb1f235b7f9",
            "03741d0e3e6c401e8de43cc4e261240e",
            "6a4e071d99c64da0a9e685f41756dcc8",
            "ac2de5e3534f464e8a8cd5bc515af87e",
            "83ab0d9cca0d406485785bcd5cb6e6bc",
            "ab0b3f8667d74c36bdf9cc3a6f0c1d7d",
            "7b708cfb6db94aa7b839dbce3bffd22b",
            "fcf28ef6ddc94ac4a6f35aaad58b5ce7"
          ]
        },
        "id": "jku2npiwmplZ",
        "outputId": "43cc36a7-6086-40cb-8d9c-dcafa8e42bac"
      },
      "execution_count": 86,
      "outputs": [
        {
          "output_type": "stream",
          "name": "stderr",
          "text": [
            "2025-04-08 04:49:41,833 - BERTopic - Embedding - Transforming documents to embeddings.\n"
          ]
        },
        {
          "output_type": "display_data",
          "data": {
            "text/plain": [
              "Batches:   0%|          | 0/63 [00:00<?, ?it/s]"
            ],
            "application/vnd.jupyter.widget-view+json": {
              "version_major": 2,
              "version_minor": 0,
              "model_id": "9a2f80d97af44cf5a42816b61016291d"
            }
          },
          "metadata": {}
        },
        {
          "output_type": "error",
          "ename": "KeyboardInterrupt",
          "evalue": "",
          "traceback": [
            "\u001b[0;31m---------------------------------------------------------------------------\u001b[0m",
            "\u001b[0;31mKeyboardInterrupt\u001b[0m                         Traceback (most recent call last)",
            "\u001b[0;32m<ipython-input-86-3f22da18bdd0>\u001b[0m in \u001b[0;36m<cell line: 0>\u001b[0;34m()\u001b[0m\n\u001b[1;32m      1\u001b[0m \u001b[0mdocs\u001b[0m \u001b[0;34m=\u001b[0m \u001b[0mdf\u001b[0m\u001b[0;34m[\u001b[0m\u001b[0;34m'cleaned_text'\u001b[0m\u001b[0;34m]\u001b[0m\u001b[0;34m.\u001b[0m\u001b[0mapply\u001b[0m\u001b[0;34m(\u001b[0m\u001b[0;32mlambda\u001b[0m \u001b[0mtokens\u001b[0m\u001b[0;34m:\u001b[0m \u001b[0;34m' '\u001b[0m\u001b[0;34m.\u001b[0m\u001b[0mjoin\u001b[0m\u001b[0;34m(\u001b[0m\u001b[0mtokens\u001b[0m\u001b[0;34m)\u001b[0m \u001b[0;32mif\u001b[0m \u001b[0misinstance\u001b[0m\u001b[0;34m(\u001b[0m\u001b[0mtokens\u001b[0m\u001b[0;34m,\u001b[0m \u001b[0mlist\u001b[0m\u001b[0;34m)\u001b[0m \u001b[0;32melse\u001b[0m \u001b[0mtokens\u001b[0m\u001b[0;34m)\u001b[0m\u001b[0;34m\u001b[0m\u001b[0;34m\u001b[0m\u001b[0m\n\u001b[0;32m----> 2\u001b[0;31m \u001b[0mtopics\u001b[0m\u001b[0;34m,\u001b[0m \u001b[0mprobs\u001b[0m \u001b[0;34m=\u001b[0m \u001b[0mtopic_model\u001b[0m\u001b[0;34m.\u001b[0m\u001b[0mfit_transform\u001b[0m\u001b[0;34m(\u001b[0m\u001b[0mdocs\u001b[0m\u001b[0;34m)\u001b[0m\u001b[0;34m\u001b[0m\u001b[0;34m\u001b[0m\u001b[0m\n\u001b[0m",
            "\u001b[0;32m/usr/local/lib/python3.11/dist-packages/bertopic/_bertopic.py\u001b[0m in \u001b[0;36mfit_transform\u001b[0;34m(self, documents, embeddings, images, y)\u001b[0m\n\u001b[1;32m    452\u001b[0m             \u001b[0mlogger\u001b[0m\u001b[0;34m.\u001b[0m\u001b[0minfo\u001b[0m\u001b[0;34m(\u001b[0m\u001b[0;34m\"Embedding - Transforming documents to embeddings.\"\u001b[0m\u001b[0;34m)\u001b[0m\u001b[0;34m\u001b[0m\u001b[0;34m\u001b[0m\u001b[0m\n\u001b[1;32m    453\u001b[0m             \u001b[0mself\u001b[0m\u001b[0;34m.\u001b[0m\u001b[0membedding_model\u001b[0m \u001b[0;34m=\u001b[0m \u001b[0mselect_backend\u001b[0m\u001b[0;34m(\u001b[0m\u001b[0mself\u001b[0m\u001b[0;34m.\u001b[0m\u001b[0membedding_model\u001b[0m\u001b[0;34m,\u001b[0m \u001b[0mlanguage\u001b[0m\u001b[0;34m=\u001b[0m\u001b[0mself\u001b[0m\u001b[0;34m.\u001b[0m\u001b[0mlanguage\u001b[0m\u001b[0;34m,\u001b[0m \u001b[0mverbose\u001b[0m\u001b[0;34m=\u001b[0m\u001b[0mself\u001b[0m\u001b[0;34m.\u001b[0m\u001b[0mverbose\u001b[0m\u001b[0;34m)\u001b[0m\u001b[0;34m\u001b[0m\u001b[0;34m\u001b[0m\u001b[0m\n\u001b[0;32m--> 454\u001b[0;31m             embeddings = self._extract_embeddings(\n\u001b[0m\u001b[1;32m    455\u001b[0m                 \u001b[0mdocuments\u001b[0m\u001b[0;34m.\u001b[0m\u001b[0mDocument\u001b[0m\u001b[0;34m.\u001b[0m\u001b[0mvalues\u001b[0m\u001b[0;34m.\u001b[0m\u001b[0mtolist\u001b[0m\u001b[0;34m(\u001b[0m\u001b[0;34m)\u001b[0m\u001b[0;34m,\u001b[0m\u001b[0;34m\u001b[0m\u001b[0;34m\u001b[0m\u001b[0m\n\u001b[1;32m    456\u001b[0m                 \u001b[0mimages\u001b[0m\u001b[0;34m=\u001b[0m\u001b[0mimages\u001b[0m\u001b[0;34m,\u001b[0m\u001b[0;34m\u001b[0m\u001b[0;34m\u001b[0m\u001b[0m\n",
            "\u001b[0;32m/usr/local/lib/python3.11/dist-packages/bertopic/_bertopic.py\u001b[0m in \u001b[0;36m_extract_embeddings\u001b[0;34m(self, documents, images, method, verbose)\u001b[0m\n\u001b[1;32m   3709\u001b[0m             \u001b[0membeddings\u001b[0m \u001b[0;34m=\u001b[0m \u001b[0mself\u001b[0m\u001b[0;34m.\u001b[0m\u001b[0membedding_model\u001b[0m\u001b[0;34m.\u001b[0m\u001b[0membed_words\u001b[0m\u001b[0;34m(\u001b[0m\u001b[0mwords\u001b[0m\u001b[0;34m=\u001b[0m\u001b[0mdocuments\u001b[0m\u001b[0;34m,\u001b[0m \u001b[0mverbose\u001b[0m\u001b[0;34m=\u001b[0m\u001b[0mverbose\u001b[0m\u001b[0;34m)\u001b[0m\u001b[0;34m\u001b[0m\u001b[0;34m\u001b[0m\u001b[0m\n\u001b[1;32m   3710\u001b[0m         \u001b[0;32melif\u001b[0m \u001b[0mmethod\u001b[0m \u001b[0;34m==\u001b[0m \u001b[0;34m\"document\"\u001b[0m\u001b[0;34m:\u001b[0m\u001b[0;34m\u001b[0m\u001b[0;34m\u001b[0m\u001b[0m\n\u001b[0;32m-> 3711\u001b[0;31m             \u001b[0membeddings\u001b[0m \u001b[0;34m=\u001b[0m \u001b[0mself\u001b[0m\u001b[0;34m.\u001b[0m\u001b[0membedding_model\u001b[0m\u001b[0;34m.\u001b[0m\u001b[0membed_documents\u001b[0m\u001b[0;34m(\u001b[0m\u001b[0mdocuments\u001b[0m\u001b[0;34m,\u001b[0m \u001b[0mverbose\u001b[0m\u001b[0;34m=\u001b[0m\u001b[0mverbose\u001b[0m\u001b[0;34m)\u001b[0m\u001b[0;34m\u001b[0m\u001b[0;34m\u001b[0m\u001b[0m\n\u001b[0m\u001b[1;32m   3712\u001b[0m         \u001b[0;32melif\u001b[0m \u001b[0mdocuments\u001b[0m\u001b[0;34m[\u001b[0m\u001b[0;36m0\u001b[0m\u001b[0;34m]\u001b[0m \u001b[0;32mis\u001b[0m \u001b[0;32mNone\u001b[0m \u001b[0;32mand\u001b[0m \u001b[0mimages\u001b[0m \u001b[0;32mis\u001b[0m \u001b[0;32mNone\u001b[0m\u001b[0;34m:\u001b[0m\u001b[0;34m\u001b[0m\u001b[0;34m\u001b[0m\u001b[0m\n\u001b[1;32m   3713\u001b[0m             raise ValueError(\n",
            "\u001b[0;32m/usr/local/lib/python3.11/dist-packages/bertopic/backend/_base.py\u001b[0m in \u001b[0;36membed_documents\u001b[0;34m(self, document, verbose)\u001b[0m\n\u001b[1;32m     60\u001b[0m             \u001b[0mthat\u001b[0m \u001b[0meach\u001b[0m \u001b[0mhave\u001b[0m \u001b[0man\u001b[0m \u001b[0membeddings\u001b[0m \u001b[0msize\u001b[0m \u001b[0mof\u001b[0m\u001b[0;31m \u001b[0m\u001b[0;31m`\u001b[0m\u001b[0mm\u001b[0m\u001b[0;31m`\u001b[0m\u001b[0;34m\u001b[0m\u001b[0;34m\u001b[0m\u001b[0m\n\u001b[1;32m     61\u001b[0m         \"\"\"\n\u001b[0;32m---> 62\u001b[0;31m         \u001b[0;32mreturn\u001b[0m \u001b[0mself\u001b[0m\u001b[0;34m.\u001b[0m\u001b[0membed\u001b[0m\u001b[0;34m(\u001b[0m\u001b[0mdocument\u001b[0m\u001b[0;34m,\u001b[0m \u001b[0mverbose\u001b[0m\u001b[0;34m)\u001b[0m\u001b[0;34m\u001b[0m\u001b[0;34m\u001b[0m\u001b[0m\n\u001b[0m",
            "\u001b[0;32m/usr/local/lib/python3.11/dist-packages/bertopic/backend/_sentencetransformers.py\u001b[0m in \u001b[0;36membed\u001b[0;34m(self, documents, verbose)\u001b[0m\n\u001b[1;32m     82\u001b[0m             \u001b[0mthat\u001b[0m \u001b[0meach\u001b[0m \u001b[0mhave\u001b[0m \u001b[0man\u001b[0m \u001b[0membeddings\u001b[0m \u001b[0msize\u001b[0m \u001b[0mof\u001b[0m\u001b[0;31m \u001b[0m\u001b[0;31m`\u001b[0m\u001b[0mm\u001b[0m\u001b[0;31m`\u001b[0m\u001b[0;34m\u001b[0m\u001b[0;34m\u001b[0m\u001b[0m\n\u001b[1;32m     83\u001b[0m         \"\"\"\n\u001b[0;32m---> 84\u001b[0;31m         \u001b[0membeddings\u001b[0m \u001b[0;34m=\u001b[0m \u001b[0mself\u001b[0m\u001b[0;34m.\u001b[0m\u001b[0membedding_model\u001b[0m\u001b[0;34m.\u001b[0m\u001b[0mencode\u001b[0m\u001b[0;34m(\u001b[0m\u001b[0mdocuments\u001b[0m\u001b[0;34m,\u001b[0m \u001b[0mshow_progress_bar\u001b[0m\u001b[0;34m=\u001b[0m\u001b[0mverbose\u001b[0m\u001b[0;34m)\u001b[0m\u001b[0;34m\u001b[0m\u001b[0;34m\u001b[0m\u001b[0m\n\u001b[0m\u001b[1;32m     85\u001b[0m         \u001b[0;32mreturn\u001b[0m \u001b[0membeddings\u001b[0m\u001b[0;34m\u001b[0m\u001b[0;34m\u001b[0m\u001b[0m\n",
            "\u001b[0;32m/usr/local/lib/python3.11/dist-packages/sentence_transformers/SentenceTransformer.py\u001b[0m in \u001b[0;36mencode\u001b[0;34m(self, sentences, prompt_name, prompt, batch_size, show_progress_bar, output_value, precision, convert_to_numpy, convert_to_tensor, device, normalize_embeddings, **kwargs)\u001b[0m\n\u001b[1;32m    621\u001b[0m \u001b[0;34m\u001b[0m\u001b[0m\n\u001b[1;32m    622\u001b[0m             \u001b[0;32mwith\u001b[0m \u001b[0mtorch\u001b[0m\u001b[0;34m.\u001b[0m\u001b[0mno_grad\u001b[0m\u001b[0;34m(\u001b[0m\u001b[0;34m)\u001b[0m\u001b[0;34m:\u001b[0m\u001b[0;34m\u001b[0m\u001b[0;34m\u001b[0m\u001b[0m\n\u001b[0;32m--> 623\u001b[0;31m                 \u001b[0mout_features\u001b[0m \u001b[0;34m=\u001b[0m \u001b[0mself\u001b[0m\u001b[0;34m.\u001b[0m\u001b[0mforward\u001b[0m\u001b[0;34m(\u001b[0m\u001b[0mfeatures\u001b[0m\u001b[0;34m,\u001b[0m \u001b[0;34m**\u001b[0m\u001b[0mkwargs\u001b[0m\u001b[0;34m)\u001b[0m\u001b[0;34m\u001b[0m\u001b[0;34m\u001b[0m\u001b[0m\n\u001b[0m\u001b[1;32m    624\u001b[0m                 \u001b[0;32mif\u001b[0m \u001b[0mself\u001b[0m\u001b[0;34m.\u001b[0m\u001b[0mdevice\u001b[0m\u001b[0;34m.\u001b[0m\u001b[0mtype\u001b[0m \u001b[0;34m==\u001b[0m \u001b[0;34m\"hpu\"\u001b[0m\u001b[0;34m:\u001b[0m\u001b[0;34m\u001b[0m\u001b[0;34m\u001b[0m\u001b[0m\n\u001b[1;32m    625\u001b[0m                     \u001b[0mout_features\u001b[0m \u001b[0;34m=\u001b[0m \u001b[0mcopy\u001b[0m\u001b[0;34m.\u001b[0m\u001b[0mdeepcopy\u001b[0m\u001b[0;34m(\u001b[0m\u001b[0mout_features\u001b[0m\u001b[0;34m)\u001b[0m\u001b[0;34m\u001b[0m\u001b[0;34m\u001b[0m\u001b[0m\n",
            "\u001b[0;32m/usr/local/lib/python3.11/dist-packages/sentence_transformers/SentenceTransformer.py\u001b[0m in \u001b[0;36mforward\u001b[0;34m(self, input, **kwargs)\u001b[0m\n\u001b[1;32m    688\u001b[0m             \u001b[0mmodule_kwarg_keys\u001b[0m \u001b[0;34m=\u001b[0m \u001b[0mself\u001b[0m\u001b[0;34m.\u001b[0m\u001b[0mmodule_kwargs\u001b[0m\u001b[0;34m.\u001b[0m\u001b[0mget\u001b[0m\u001b[0;34m(\u001b[0m\u001b[0mmodule_name\u001b[0m\u001b[0;34m,\u001b[0m \u001b[0;34m[\u001b[0m\u001b[0;34m]\u001b[0m\u001b[0;34m)\u001b[0m\u001b[0;34m\u001b[0m\u001b[0;34m\u001b[0m\u001b[0m\n\u001b[1;32m    689\u001b[0m             \u001b[0mmodule_kwargs\u001b[0m \u001b[0;34m=\u001b[0m \u001b[0;34m{\u001b[0m\u001b[0mkey\u001b[0m\u001b[0;34m:\u001b[0m \u001b[0mvalue\u001b[0m \u001b[0;32mfor\u001b[0m \u001b[0mkey\u001b[0m\u001b[0;34m,\u001b[0m \u001b[0mvalue\u001b[0m \u001b[0;32min\u001b[0m \u001b[0mkwargs\u001b[0m\u001b[0;34m.\u001b[0m\u001b[0mitems\u001b[0m\u001b[0;34m(\u001b[0m\u001b[0;34m)\u001b[0m \u001b[0;32mif\u001b[0m \u001b[0mkey\u001b[0m \u001b[0;32min\u001b[0m \u001b[0mmodule_kwarg_keys\u001b[0m\u001b[0;34m}\u001b[0m\u001b[0;34m\u001b[0m\u001b[0;34m\u001b[0m\u001b[0m\n\u001b[0;32m--> 690\u001b[0;31m             \u001b[0minput\u001b[0m \u001b[0;34m=\u001b[0m \u001b[0mmodule\u001b[0m\u001b[0;34m(\u001b[0m\u001b[0minput\u001b[0m\u001b[0;34m,\u001b[0m \u001b[0;34m**\u001b[0m\u001b[0mmodule_kwargs\u001b[0m\u001b[0;34m)\u001b[0m\u001b[0;34m\u001b[0m\u001b[0;34m\u001b[0m\u001b[0m\n\u001b[0m\u001b[1;32m    691\u001b[0m         \u001b[0;32mreturn\u001b[0m \u001b[0minput\u001b[0m\u001b[0;34m\u001b[0m\u001b[0;34m\u001b[0m\u001b[0m\n\u001b[1;32m    692\u001b[0m \u001b[0;34m\u001b[0m\u001b[0m\n",
            "\u001b[0;32m/usr/local/lib/python3.11/dist-packages/torch/nn/modules/module.py\u001b[0m in \u001b[0;36m_wrapped_call_impl\u001b[0;34m(self, *args, **kwargs)\u001b[0m\n\u001b[1;32m   1737\u001b[0m             \u001b[0;32mreturn\u001b[0m \u001b[0mself\u001b[0m\u001b[0;34m.\u001b[0m\u001b[0m_compiled_call_impl\u001b[0m\u001b[0;34m(\u001b[0m\u001b[0;34m*\u001b[0m\u001b[0margs\u001b[0m\u001b[0;34m,\u001b[0m \u001b[0;34m**\u001b[0m\u001b[0mkwargs\u001b[0m\u001b[0;34m)\u001b[0m  \u001b[0;31m# type: ignore[misc]\u001b[0m\u001b[0;34m\u001b[0m\u001b[0;34m\u001b[0m\u001b[0m\n\u001b[1;32m   1738\u001b[0m         \u001b[0;32melse\u001b[0m\u001b[0;34m:\u001b[0m\u001b[0;34m\u001b[0m\u001b[0;34m\u001b[0m\u001b[0m\n\u001b[0;32m-> 1739\u001b[0;31m             \u001b[0;32mreturn\u001b[0m \u001b[0mself\u001b[0m\u001b[0;34m.\u001b[0m\u001b[0m_call_impl\u001b[0m\u001b[0;34m(\u001b[0m\u001b[0;34m*\u001b[0m\u001b[0margs\u001b[0m\u001b[0;34m,\u001b[0m \u001b[0;34m**\u001b[0m\u001b[0mkwargs\u001b[0m\u001b[0;34m)\u001b[0m\u001b[0;34m\u001b[0m\u001b[0;34m\u001b[0m\u001b[0m\n\u001b[0m\u001b[1;32m   1740\u001b[0m \u001b[0;34m\u001b[0m\u001b[0m\n\u001b[1;32m   1741\u001b[0m     \u001b[0;31m# torchrec tests the code consistency with the following code\u001b[0m\u001b[0;34m\u001b[0m\u001b[0;34m\u001b[0m\u001b[0m\n",
            "\u001b[0;32m/usr/local/lib/python3.11/dist-packages/torch/nn/modules/module.py\u001b[0m in \u001b[0;36m_call_impl\u001b[0;34m(self, *args, **kwargs)\u001b[0m\n\u001b[1;32m   1748\u001b[0m                 \u001b[0;32mor\u001b[0m \u001b[0m_global_backward_pre_hooks\u001b[0m \u001b[0;32mor\u001b[0m \u001b[0m_global_backward_hooks\u001b[0m\u001b[0;34m\u001b[0m\u001b[0;34m\u001b[0m\u001b[0m\n\u001b[1;32m   1749\u001b[0m                 or _global_forward_hooks or _global_forward_pre_hooks):\n\u001b[0;32m-> 1750\u001b[0;31m             \u001b[0;32mreturn\u001b[0m \u001b[0mforward_call\u001b[0m\u001b[0;34m(\u001b[0m\u001b[0;34m*\u001b[0m\u001b[0margs\u001b[0m\u001b[0;34m,\u001b[0m \u001b[0;34m**\u001b[0m\u001b[0mkwargs\u001b[0m\u001b[0;34m)\u001b[0m\u001b[0;34m\u001b[0m\u001b[0;34m\u001b[0m\u001b[0m\n\u001b[0m\u001b[1;32m   1751\u001b[0m \u001b[0;34m\u001b[0m\u001b[0m\n\u001b[1;32m   1752\u001b[0m         \u001b[0mresult\u001b[0m \u001b[0;34m=\u001b[0m \u001b[0;32mNone\u001b[0m\u001b[0;34m\u001b[0m\u001b[0;34m\u001b[0m\u001b[0m\n",
            "\u001b[0;32m/usr/local/lib/python3.11/dist-packages/sentence_transformers/models/Transformer.py\u001b[0m in \u001b[0;36mforward\u001b[0;34m(self, features, **kwargs)\u001b[0m\n\u001b[1;32m    440\u001b[0m         }\n\u001b[1;32m    441\u001b[0m \u001b[0;34m\u001b[0m\u001b[0m\n\u001b[0;32m--> 442\u001b[0;31m         \u001b[0moutput_states\u001b[0m \u001b[0;34m=\u001b[0m \u001b[0mself\u001b[0m\u001b[0;34m.\u001b[0m\u001b[0mauto_model\u001b[0m\u001b[0;34m(\u001b[0m\u001b[0;34m**\u001b[0m\u001b[0mtrans_features\u001b[0m\u001b[0;34m,\u001b[0m \u001b[0;34m**\u001b[0m\u001b[0mkwargs\u001b[0m\u001b[0;34m,\u001b[0m \u001b[0mreturn_dict\u001b[0m\u001b[0;34m=\u001b[0m\u001b[0;32mFalse\u001b[0m\u001b[0;34m)\u001b[0m\u001b[0;34m\u001b[0m\u001b[0;34m\u001b[0m\u001b[0m\n\u001b[0m\u001b[1;32m    443\u001b[0m         \u001b[0moutput_tokens\u001b[0m \u001b[0;34m=\u001b[0m \u001b[0moutput_states\u001b[0m\u001b[0;34m[\u001b[0m\u001b[0;36m0\u001b[0m\u001b[0;34m]\u001b[0m\u001b[0;34m\u001b[0m\u001b[0;34m\u001b[0m\u001b[0m\n\u001b[1;32m    444\u001b[0m \u001b[0;34m\u001b[0m\u001b[0m\n",
            "\u001b[0;32m/usr/local/lib/python3.11/dist-packages/torch/nn/modules/module.py\u001b[0m in \u001b[0;36m_wrapped_call_impl\u001b[0;34m(self, *args, **kwargs)\u001b[0m\n\u001b[1;32m   1737\u001b[0m             \u001b[0;32mreturn\u001b[0m \u001b[0mself\u001b[0m\u001b[0;34m.\u001b[0m\u001b[0m_compiled_call_impl\u001b[0m\u001b[0;34m(\u001b[0m\u001b[0;34m*\u001b[0m\u001b[0margs\u001b[0m\u001b[0;34m,\u001b[0m \u001b[0;34m**\u001b[0m\u001b[0mkwargs\u001b[0m\u001b[0;34m)\u001b[0m  \u001b[0;31m# type: ignore[misc]\u001b[0m\u001b[0;34m\u001b[0m\u001b[0;34m\u001b[0m\u001b[0m\n\u001b[1;32m   1738\u001b[0m         \u001b[0;32melse\u001b[0m\u001b[0;34m:\u001b[0m\u001b[0;34m\u001b[0m\u001b[0;34m\u001b[0m\u001b[0m\n\u001b[0;32m-> 1739\u001b[0;31m             \u001b[0;32mreturn\u001b[0m \u001b[0mself\u001b[0m\u001b[0;34m.\u001b[0m\u001b[0m_call_impl\u001b[0m\u001b[0;34m(\u001b[0m\u001b[0;34m*\u001b[0m\u001b[0margs\u001b[0m\u001b[0;34m,\u001b[0m \u001b[0;34m**\u001b[0m\u001b[0mkwargs\u001b[0m\u001b[0;34m)\u001b[0m\u001b[0;34m\u001b[0m\u001b[0;34m\u001b[0m\u001b[0m\n\u001b[0m\u001b[1;32m   1740\u001b[0m \u001b[0;34m\u001b[0m\u001b[0m\n\u001b[1;32m   1741\u001b[0m     \u001b[0;31m# torchrec tests the code consistency with the following code\u001b[0m\u001b[0;34m\u001b[0m\u001b[0;34m\u001b[0m\u001b[0m\n",
            "\u001b[0;32m/usr/local/lib/python3.11/dist-packages/torch/nn/modules/module.py\u001b[0m in \u001b[0;36m_call_impl\u001b[0;34m(self, *args, **kwargs)\u001b[0m\n\u001b[1;32m   1748\u001b[0m                 \u001b[0;32mor\u001b[0m \u001b[0m_global_backward_pre_hooks\u001b[0m \u001b[0;32mor\u001b[0m \u001b[0m_global_backward_hooks\u001b[0m\u001b[0;34m\u001b[0m\u001b[0;34m\u001b[0m\u001b[0m\n\u001b[1;32m   1749\u001b[0m                 or _global_forward_hooks or _global_forward_pre_hooks):\n\u001b[0;32m-> 1750\u001b[0;31m             \u001b[0;32mreturn\u001b[0m \u001b[0mforward_call\u001b[0m\u001b[0;34m(\u001b[0m\u001b[0;34m*\u001b[0m\u001b[0margs\u001b[0m\u001b[0;34m,\u001b[0m \u001b[0;34m**\u001b[0m\u001b[0mkwargs\u001b[0m\u001b[0;34m)\u001b[0m\u001b[0;34m\u001b[0m\u001b[0;34m\u001b[0m\u001b[0m\n\u001b[0m\u001b[1;32m   1751\u001b[0m \u001b[0;34m\u001b[0m\u001b[0m\n\u001b[1;32m   1752\u001b[0m         \u001b[0mresult\u001b[0m \u001b[0;34m=\u001b[0m \u001b[0;32mNone\u001b[0m\u001b[0;34m\u001b[0m\u001b[0;34m\u001b[0m\u001b[0m\n",
            "\u001b[0;32m/usr/local/lib/python3.11/dist-packages/transformers/models/bert/modeling_bert.py\u001b[0m in \u001b[0;36mforward\u001b[0;34m(self, input_ids, attention_mask, token_type_ids, position_ids, head_mask, inputs_embeds, encoder_hidden_states, encoder_attention_mask, past_key_values, use_cache, output_attentions, output_hidden_states, return_dict)\u001b[0m\n\u001b[1;32m   1140\u001b[0m         \u001b[0mhead_mask\u001b[0m \u001b[0;34m=\u001b[0m \u001b[0mself\u001b[0m\u001b[0;34m.\u001b[0m\u001b[0mget_head_mask\u001b[0m\u001b[0;34m(\u001b[0m\u001b[0mhead_mask\u001b[0m\u001b[0;34m,\u001b[0m \u001b[0mself\u001b[0m\u001b[0;34m.\u001b[0m\u001b[0mconfig\u001b[0m\u001b[0;34m.\u001b[0m\u001b[0mnum_hidden_layers\u001b[0m\u001b[0;34m)\u001b[0m\u001b[0;34m\u001b[0m\u001b[0;34m\u001b[0m\u001b[0m\n\u001b[1;32m   1141\u001b[0m \u001b[0;34m\u001b[0m\u001b[0m\n\u001b[0;32m-> 1142\u001b[0;31m         encoder_outputs = self.encoder(\n\u001b[0m\u001b[1;32m   1143\u001b[0m             \u001b[0membedding_output\u001b[0m\u001b[0;34m,\u001b[0m\u001b[0;34m\u001b[0m\u001b[0;34m\u001b[0m\u001b[0m\n\u001b[1;32m   1144\u001b[0m             \u001b[0mattention_mask\u001b[0m\u001b[0;34m=\u001b[0m\u001b[0mextended_attention_mask\u001b[0m\u001b[0;34m,\u001b[0m\u001b[0;34m\u001b[0m\u001b[0;34m\u001b[0m\u001b[0m\n",
            "\u001b[0;32m/usr/local/lib/python3.11/dist-packages/torch/nn/modules/module.py\u001b[0m in \u001b[0;36m_wrapped_call_impl\u001b[0;34m(self, *args, **kwargs)\u001b[0m\n\u001b[1;32m   1737\u001b[0m             \u001b[0;32mreturn\u001b[0m \u001b[0mself\u001b[0m\u001b[0;34m.\u001b[0m\u001b[0m_compiled_call_impl\u001b[0m\u001b[0;34m(\u001b[0m\u001b[0;34m*\u001b[0m\u001b[0margs\u001b[0m\u001b[0;34m,\u001b[0m \u001b[0;34m**\u001b[0m\u001b[0mkwargs\u001b[0m\u001b[0;34m)\u001b[0m  \u001b[0;31m# type: ignore[misc]\u001b[0m\u001b[0;34m\u001b[0m\u001b[0;34m\u001b[0m\u001b[0m\n\u001b[1;32m   1738\u001b[0m         \u001b[0;32melse\u001b[0m\u001b[0;34m:\u001b[0m\u001b[0;34m\u001b[0m\u001b[0;34m\u001b[0m\u001b[0m\n\u001b[0;32m-> 1739\u001b[0;31m             \u001b[0;32mreturn\u001b[0m \u001b[0mself\u001b[0m\u001b[0;34m.\u001b[0m\u001b[0m_call_impl\u001b[0m\u001b[0;34m(\u001b[0m\u001b[0;34m*\u001b[0m\u001b[0margs\u001b[0m\u001b[0;34m,\u001b[0m \u001b[0;34m**\u001b[0m\u001b[0mkwargs\u001b[0m\u001b[0;34m)\u001b[0m\u001b[0;34m\u001b[0m\u001b[0;34m\u001b[0m\u001b[0m\n\u001b[0m\u001b[1;32m   1740\u001b[0m \u001b[0;34m\u001b[0m\u001b[0m\n\u001b[1;32m   1741\u001b[0m     \u001b[0;31m# torchrec tests the code consistency with the following code\u001b[0m\u001b[0;34m\u001b[0m\u001b[0;34m\u001b[0m\u001b[0m\n",
            "\u001b[0;32m/usr/local/lib/python3.11/dist-packages/torch/nn/modules/module.py\u001b[0m in \u001b[0;36m_call_impl\u001b[0;34m(self, *args, **kwargs)\u001b[0m\n\u001b[1;32m   1748\u001b[0m                 \u001b[0;32mor\u001b[0m \u001b[0m_global_backward_pre_hooks\u001b[0m \u001b[0;32mor\u001b[0m \u001b[0m_global_backward_hooks\u001b[0m\u001b[0;34m\u001b[0m\u001b[0;34m\u001b[0m\u001b[0m\n\u001b[1;32m   1749\u001b[0m                 or _global_forward_hooks or _global_forward_pre_hooks):\n\u001b[0;32m-> 1750\u001b[0;31m             \u001b[0;32mreturn\u001b[0m \u001b[0mforward_call\u001b[0m\u001b[0;34m(\u001b[0m\u001b[0;34m*\u001b[0m\u001b[0margs\u001b[0m\u001b[0;34m,\u001b[0m \u001b[0;34m**\u001b[0m\u001b[0mkwargs\u001b[0m\u001b[0;34m)\u001b[0m\u001b[0;34m\u001b[0m\u001b[0;34m\u001b[0m\u001b[0m\n\u001b[0m\u001b[1;32m   1751\u001b[0m \u001b[0;34m\u001b[0m\u001b[0m\n\u001b[1;32m   1752\u001b[0m         \u001b[0mresult\u001b[0m \u001b[0;34m=\u001b[0m \u001b[0;32mNone\u001b[0m\u001b[0;34m\u001b[0m\u001b[0;34m\u001b[0m\u001b[0m\n",
            "\u001b[0;32m/usr/local/lib/python3.11/dist-packages/transformers/models/bert/modeling_bert.py\u001b[0m in \u001b[0;36mforward\u001b[0;34m(self, hidden_states, attention_mask, head_mask, encoder_hidden_states, encoder_attention_mask, past_key_values, use_cache, output_attentions, output_hidden_states, return_dict)\u001b[0m\n\u001b[1;32m    693\u001b[0m                 )\n\u001b[1;32m    694\u001b[0m             \u001b[0;32melse\u001b[0m\u001b[0;34m:\u001b[0m\u001b[0;34m\u001b[0m\u001b[0;34m\u001b[0m\u001b[0m\n\u001b[0;32m--> 695\u001b[0;31m                 layer_outputs = layer_module(\n\u001b[0m\u001b[1;32m    696\u001b[0m                     \u001b[0mhidden_states\u001b[0m\u001b[0;34m,\u001b[0m\u001b[0;34m\u001b[0m\u001b[0;34m\u001b[0m\u001b[0m\n\u001b[1;32m    697\u001b[0m                     \u001b[0mattention_mask\u001b[0m\u001b[0;34m,\u001b[0m\u001b[0;34m\u001b[0m\u001b[0;34m\u001b[0m\u001b[0m\n",
            "\u001b[0;32m/usr/local/lib/python3.11/dist-packages/torch/nn/modules/module.py\u001b[0m in \u001b[0;36m_wrapped_call_impl\u001b[0;34m(self, *args, **kwargs)\u001b[0m\n\u001b[1;32m   1737\u001b[0m             \u001b[0;32mreturn\u001b[0m \u001b[0mself\u001b[0m\u001b[0;34m.\u001b[0m\u001b[0m_compiled_call_impl\u001b[0m\u001b[0;34m(\u001b[0m\u001b[0;34m*\u001b[0m\u001b[0margs\u001b[0m\u001b[0;34m,\u001b[0m \u001b[0;34m**\u001b[0m\u001b[0mkwargs\u001b[0m\u001b[0;34m)\u001b[0m  \u001b[0;31m# type: ignore[misc]\u001b[0m\u001b[0;34m\u001b[0m\u001b[0;34m\u001b[0m\u001b[0m\n\u001b[1;32m   1738\u001b[0m         \u001b[0;32melse\u001b[0m\u001b[0;34m:\u001b[0m\u001b[0;34m\u001b[0m\u001b[0;34m\u001b[0m\u001b[0m\n\u001b[0;32m-> 1739\u001b[0;31m             \u001b[0;32mreturn\u001b[0m \u001b[0mself\u001b[0m\u001b[0;34m.\u001b[0m\u001b[0m_call_impl\u001b[0m\u001b[0;34m(\u001b[0m\u001b[0;34m*\u001b[0m\u001b[0margs\u001b[0m\u001b[0;34m,\u001b[0m \u001b[0;34m**\u001b[0m\u001b[0mkwargs\u001b[0m\u001b[0;34m)\u001b[0m\u001b[0;34m\u001b[0m\u001b[0;34m\u001b[0m\u001b[0m\n\u001b[0m\u001b[1;32m   1740\u001b[0m \u001b[0;34m\u001b[0m\u001b[0m\n\u001b[1;32m   1741\u001b[0m     \u001b[0;31m# torchrec tests the code consistency with the following code\u001b[0m\u001b[0;34m\u001b[0m\u001b[0;34m\u001b[0m\u001b[0m\n",
            "\u001b[0;32m/usr/local/lib/python3.11/dist-packages/torch/nn/modules/module.py\u001b[0m in \u001b[0;36m_call_impl\u001b[0;34m(self, *args, **kwargs)\u001b[0m\n\u001b[1;32m   1748\u001b[0m                 \u001b[0;32mor\u001b[0m \u001b[0m_global_backward_pre_hooks\u001b[0m \u001b[0;32mor\u001b[0m \u001b[0m_global_backward_hooks\u001b[0m\u001b[0;34m\u001b[0m\u001b[0;34m\u001b[0m\u001b[0m\n\u001b[1;32m   1749\u001b[0m                 or _global_forward_hooks or _global_forward_pre_hooks):\n\u001b[0;32m-> 1750\u001b[0;31m             \u001b[0;32mreturn\u001b[0m \u001b[0mforward_call\u001b[0m\u001b[0;34m(\u001b[0m\u001b[0;34m*\u001b[0m\u001b[0margs\u001b[0m\u001b[0;34m,\u001b[0m \u001b[0;34m**\u001b[0m\u001b[0mkwargs\u001b[0m\u001b[0;34m)\u001b[0m\u001b[0;34m\u001b[0m\u001b[0;34m\u001b[0m\u001b[0m\n\u001b[0m\u001b[1;32m   1751\u001b[0m \u001b[0;34m\u001b[0m\u001b[0m\n\u001b[1;32m   1752\u001b[0m         \u001b[0mresult\u001b[0m \u001b[0;34m=\u001b[0m \u001b[0;32mNone\u001b[0m\u001b[0;34m\u001b[0m\u001b[0;34m\u001b[0m\u001b[0m\n",
            "\u001b[0;32m/usr/local/lib/python3.11/dist-packages/transformers/models/bert/modeling_bert.py\u001b[0m in \u001b[0;36mforward\u001b[0;34m(self, hidden_states, attention_mask, head_mask, encoder_hidden_states, encoder_attention_mask, past_key_value, output_attentions)\u001b[0m\n\u001b[1;32m    583\u001b[0m         \u001b[0;31m# decoder uni-directional self-attention cached key/values tuple is at positions 1,2\u001b[0m\u001b[0;34m\u001b[0m\u001b[0;34m\u001b[0m\u001b[0m\n\u001b[1;32m    584\u001b[0m         \u001b[0mself_attn_past_key_value\u001b[0m \u001b[0;34m=\u001b[0m \u001b[0mpast_key_value\u001b[0m\u001b[0;34m[\u001b[0m\u001b[0;34m:\u001b[0m\u001b[0;36m2\u001b[0m\u001b[0;34m]\u001b[0m \u001b[0;32mif\u001b[0m \u001b[0mpast_key_value\u001b[0m \u001b[0;32mis\u001b[0m \u001b[0;32mnot\u001b[0m \u001b[0;32mNone\u001b[0m \u001b[0;32melse\u001b[0m \u001b[0;32mNone\u001b[0m\u001b[0;34m\u001b[0m\u001b[0;34m\u001b[0m\u001b[0m\n\u001b[0;32m--> 585\u001b[0;31m         self_attention_outputs = self.attention(\n\u001b[0m\u001b[1;32m    586\u001b[0m             \u001b[0mhidden_states\u001b[0m\u001b[0;34m,\u001b[0m\u001b[0;34m\u001b[0m\u001b[0;34m\u001b[0m\u001b[0m\n\u001b[1;32m    587\u001b[0m             \u001b[0mattention_mask\u001b[0m\u001b[0;34m,\u001b[0m\u001b[0;34m\u001b[0m\u001b[0;34m\u001b[0m\u001b[0m\n",
            "\u001b[0;32m/usr/local/lib/python3.11/dist-packages/torch/nn/modules/module.py\u001b[0m in \u001b[0;36m_wrapped_call_impl\u001b[0;34m(self, *args, **kwargs)\u001b[0m\n\u001b[1;32m   1737\u001b[0m             \u001b[0;32mreturn\u001b[0m \u001b[0mself\u001b[0m\u001b[0;34m.\u001b[0m\u001b[0m_compiled_call_impl\u001b[0m\u001b[0;34m(\u001b[0m\u001b[0;34m*\u001b[0m\u001b[0margs\u001b[0m\u001b[0;34m,\u001b[0m \u001b[0;34m**\u001b[0m\u001b[0mkwargs\u001b[0m\u001b[0;34m)\u001b[0m  \u001b[0;31m# type: ignore[misc]\u001b[0m\u001b[0;34m\u001b[0m\u001b[0;34m\u001b[0m\u001b[0m\n\u001b[1;32m   1738\u001b[0m         \u001b[0;32melse\u001b[0m\u001b[0;34m:\u001b[0m\u001b[0;34m\u001b[0m\u001b[0;34m\u001b[0m\u001b[0m\n\u001b[0;32m-> 1739\u001b[0;31m             \u001b[0;32mreturn\u001b[0m \u001b[0mself\u001b[0m\u001b[0;34m.\u001b[0m\u001b[0m_call_impl\u001b[0m\u001b[0;34m(\u001b[0m\u001b[0;34m*\u001b[0m\u001b[0margs\u001b[0m\u001b[0;34m,\u001b[0m \u001b[0;34m**\u001b[0m\u001b[0mkwargs\u001b[0m\u001b[0;34m)\u001b[0m\u001b[0;34m\u001b[0m\u001b[0;34m\u001b[0m\u001b[0m\n\u001b[0m\u001b[1;32m   1740\u001b[0m \u001b[0;34m\u001b[0m\u001b[0m\n\u001b[1;32m   1741\u001b[0m     \u001b[0;31m# torchrec tests the code consistency with the following code\u001b[0m\u001b[0;34m\u001b[0m\u001b[0;34m\u001b[0m\u001b[0m\n",
            "\u001b[0;32m/usr/local/lib/python3.11/dist-packages/torch/nn/modules/module.py\u001b[0m in \u001b[0;36m_call_impl\u001b[0;34m(self, *args, **kwargs)\u001b[0m\n\u001b[1;32m   1748\u001b[0m                 \u001b[0;32mor\u001b[0m \u001b[0m_global_backward_pre_hooks\u001b[0m \u001b[0;32mor\u001b[0m \u001b[0m_global_backward_hooks\u001b[0m\u001b[0;34m\u001b[0m\u001b[0;34m\u001b[0m\u001b[0m\n\u001b[1;32m   1749\u001b[0m                 or _global_forward_hooks or _global_forward_pre_hooks):\n\u001b[0;32m-> 1750\u001b[0;31m             \u001b[0;32mreturn\u001b[0m \u001b[0mforward_call\u001b[0m\u001b[0;34m(\u001b[0m\u001b[0;34m*\u001b[0m\u001b[0margs\u001b[0m\u001b[0;34m,\u001b[0m \u001b[0;34m**\u001b[0m\u001b[0mkwargs\u001b[0m\u001b[0;34m)\u001b[0m\u001b[0;34m\u001b[0m\u001b[0;34m\u001b[0m\u001b[0m\n\u001b[0m\u001b[1;32m   1751\u001b[0m \u001b[0;34m\u001b[0m\u001b[0m\n\u001b[1;32m   1752\u001b[0m         \u001b[0mresult\u001b[0m \u001b[0;34m=\u001b[0m \u001b[0;32mNone\u001b[0m\u001b[0;34m\u001b[0m\u001b[0;34m\u001b[0m\u001b[0m\n",
            "\u001b[0;32m/usr/local/lib/python3.11/dist-packages/transformers/models/bert/modeling_bert.py\u001b[0m in \u001b[0;36mforward\u001b[0;34m(self, hidden_states, attention_mask, head_mask, encoder_hidden_states, encoder_attention_mask, past_key_value, output_attentions)\u001b[0m\n\u001b[1;32m    513\u001b[0m         \u001b[0moutput_attentions\u001b[0m\u001b[0;34m:\u001b[0m \u001b[0mOptional\u001b[0m\u001b[0;34m[\u001b[0m\u001b[0mbool\u001b[0m\u001b[0;34m]\u001b[0m \u001b[0;34m=\u001b[0m \u001b[0;32mFalse\u001b[0m\u001b[0;34m,\u001b[0m\u001b[0;34m\u001b[0m\u001b[0;34m\u001b[0m\u001b[0m\n\u001b[1;32m    514\u001b[0m     ) -> Tuple[torch.Tensor]:\n\u001b[0;32m--> 515\u001b[0;31m         self_outputs = self.self(\n\u001b[0m\u001b[1;32m    516\u001b[0m             \u001b[0mhidden_states\u001b[0m\u001b[0;34m,\u001b[0m\u001b[0;34m\u001b[0m\u001b[0;34m\u001b[0m\u001b[0m\n\u001b[1;32m    517\u001b[0m             \u001b[0mattention_mask\u001b[0m\u001b[0;34m,\u001b[0m\u001b[0;34m\u001b[0m\u001b[0;34m\u001b[0m\u001b[0m\n",
            "\u001b[0;32m/usr/local/lib/python3.11/dist-packages/torch/nn/modules/module.py\u001b[0m in \u001b[0;36m_wrapped_call_impl\u001b[0;34m(self, *args, **kwargs)\u001b[0m\n\u001b[1;32m   1737\u001b[0m             \u001b[0;32mreturn\u001b[0m \u001b[0mself\u001b[0m\u001b[0;34m.\u001b[0m\u001b[0m_compiled_call_impl\u001b[0m\u001b[0;34m(\u001b[0m\u001b[0;34m*\u001b[0m\u001b[0margs\u001b[0m\u001b[0;34m,\u001b[0m \u001b[0;34m**\u001b[0m\u001b[0mkwargs\u001b[0m\u001b[0;34m)\u001b[0m  \u001b[0;31m# type: ignore[misc]\u001b[0m\u001b[0;34m\u001b[0m\u001b[0;34m\u001b[0m\u001b[0m\n\u001b[1;32m   1738\u001b[0m         \u001b[0;32melse\u001b[0m\u001b[0;34m:\u001b[0m\u001b[0;34m\u001b[0m\u001b[0;34m\u001b[0m\u001b[0m\n\u001b[0;32m-> 1739\u001b[0;31m             \u001b[0;32mreturn\u001b[0m \u001b[0mself\u001b[0m\u001b[0;34m.\u001b[0m\u001b[0m_call_impl\u001b[0m\u001b[0;34m(\u001b[0m\u001b[0;34m*\u001b[0m\u001b[0margs\u001b[0m\u001b[0;34m,\u001b[0m \u001b[0;34m**\u001b[0m\u001b[0mkwargs\u001b[0m\u001b[0;34m)\u001b[0m\u001b[0;34m\u001b[0m\u001b[0;34m\u001b[0m\u001b[0m\n\u001b[0m\u001b[1;32m   1740\u001b[0m \u001b[0;34m\u001b[0m\u001b[0m\n\u001b[1;32m   1741\u001b[0m     \u001b[0;31m# torchrec tests the code consistency with the following code\u001b[0m\u001b[0;34m\u001b[0m\u001b[0;34m\u001b[0m\u001b[0m\n",
            "\u001b[0;32m/usr/local/lib/python3.11/dist-packages/torch/nn/modules/module.py\u001b[0m in \u001b[0;36m_call_impl\u001b[0;34m(self, *args, **kwargs)\u001b[0m\n\u001b[1;32m   1748\u001b[0m                 \u001b[0;32mor\u001b[0m \u001b[0m_global_backward_pre_hooks\u001b[0m \u001b[0;32mor\u001b[0m \u001b[0m_global_backward_hooks\u001b[0m\u001b[0;34m\u001b[0m\u001b[0;34m\u001b[0m\u001b[0m\n\u001b[1;32m   1749\u001b[0m                 or _global_forward_hooks or _global_forward_pre_hooks):\n\u001b[0;32m-> 1750\u001b[0;31m             \u001b[0;32mreturn\u001b[0m \u001b[0mforward_call\u001b[0m\u001b[0;34m(\u001b[0m\u001b[0;34m*\u001b[0m\u001b[0margs\u001b[0m\u001b[0;34m,\u001b[0m \u001b[0;34m**\u001b[0m\u001b[0mkwargs\u001b[0m\u001b[0;34m)\u001b[0m\u001b[0;34m\u001b[0m\u001b[0;34m\u001b[0m\u001b[0m\n\u001b[0m\u001b[1;32m   1751\u001b[0m \u001b[0;34m\u001b[0m\u001b[0m\n\u001b[1;32m   1752\u001b[0m         \u001b[0mresult\u001b[0m \u001b[0;34m=\u001b[0m \u001b[0;32mNone\u001b[0m\u001b[0;34m\u001b[0m\u001b[0;34m\u001b[0m\u001b[0m\n",
            "\u001b[0;32m/usr/local/lib/python3.11/dist-packages/transformers/models/bert/modeling_bert.py\u001b[0m in \u001b[0;36mforward\u001b[0;34m(self, hidden_states, attention_mask, head_mask, encoder_hidden_states, encoder_attention_mask, past_key_value, output_attentions)\u001b[0m\n\u001b[1;32m    438\u001b[0m         )\n\u001b[1;32m    439\u001b[0m \u001b[0;34m\u001b[0m\u001b[0m\n\u001b[0;32m--> 440\u001b[0;31m         attn_output = torch.nn.functional.scaled_dot_product_attention(\n\u001b[0m\u001b[1;32m    441\u001b[0m             \u001b[0mquery_layer\u001b[0m\u001b[0;34m,\u001b[0m\u001b[0;34m\u001b[0m\u001b[0;34m\u001b[0m\u001b[0m\n\u001b[1;32m    442\u001b[0m             \u001b[0mkey_layer\u001b[0m\u001b[0;34m,\u001b[0m\u001b[0;34m\u001b[0m\u001b[0;34m\u001b[0m\u001b[0m\n",
            "\u001b[0;31mKeyboardInterrupt\u001b[0m: "
          ]
        }
      ]
    },
    {
      "cell_type": "code",
      "source": [
        "texts = df['cleaned_text']\n",
        "\n",
        "#Extract top words per topic from the BERTopic model\n",
        "#Skip topic -1 (outliers)\n",
        "topics = topic_model.get_topics()\n",
        "top_words_per_topic = [\n",
        "    [word for word, _ in words]\n",
        "    for topic_id, words in topics.items()\n",
        "    if topic_id != -1\n",
        "]\n",
        "\n",
        "#Create a Gensim Dictionary\n",
        "dictionary = corpora.Dictionary(texts)\n",
        "\n",
        "#Create Coherence Model\n",
        "coherence_model = CoherenceModel(\n",
        "    topics=top_words_per_topic,\n",
        "    texts=texts,\n",
        "    dictionary=dictionary,\n",
        "    coherence='c_v'\n",
        ")\n",
        "\n",
        "#Get the Coherence Score\n",
        "coherence_score = coherence_model.get_coherence()\n",
        "print(f\"Coherence Score: {coherence_score:.4f}\")"
      ],
      "metadata": {
        "colab": {
          "base_uri": "https://localhost:8080/"
        },
        "id": "p0lqBsquoYkX",
        "outputId": "09728f98-1667-4cb5-e61a-87a12fd855a3"
      },
      "execution_count": 72,
      "outputs": [
        {
          "output_type": "stream",
          "name": "stdout",
          "text": [
            "Coherence Score: 0.7086\n"
          ]
        }
      ]
    },
    {
      "cell_type": "code",
      "source": [
        "topic_model.get_topic_info()"
      ],
      "metadata": {
        "colab": {
          "base_uri": "https://localhost:8080/",
          "height": 80
        },
        "id": "Ex_84r16qFbQ",
        "outputId": "7793afb2-3f48-4b96-faef-08d8ab5c0303"
      },
      "execution_count": 73,
      "outputs": [
        {
          "output_type": "execute_result",
          "data": {
            "text/plain": [
              "   Topic  Count                    Name  \\\n",
              "0      0   2000  0_edu_line_subject_com   \n",
              "\n",
              "                                      Representation  \\\n",
              "0  [edu, line, subject, com, from, organ, write, ...   \n",
              "\n",
              "                                 Representative_Docs  \n",
              "0  [from marshal csugrad edu kevin marshal subjec...  "
            ],
            "text/html": [
              "\n",
              "  <div id=\"df-7b0970b6-8e61-4e32-8886-7e3dae5f3b52\" class=\"colab-df-container\">\n",
              "    <div>\n",
              "<style scoped>\n",
              "    .dataframe tbody tr th:only-of-type {\n",
              "        vertical-align: middle;\n",
              "    }\n",
              "\n",
              "    .dataframe tbody tr th {\n",
              "        vertical-align: top;\n",
              "    }\n",
              "\n",
              "    .dataframe thead th {\n",
              "        text-align: right;\n",
              "    }\n",
              "</style>\n",
              "<table border=\"1\" class=\"dataframe\">\n",
              "  <thead>\n",
              "    <tr style=\"text-align: right;\">\n",
              "      <th></th>\n",
              "      <th>Topic</th>\n",
              "      <th>Count</th>\n",
              "      <th>Name</th>\n",
              "      <th>Representation</th>\n",
              "      <th>Representative_Docs</th>\n",
              "    </tr>\n",
              "  </thead>\n",
              "  <tbody>\n",
              "    <tr>\n",
              "      <th>0</th>\n",
              "      <td>0</td>\n",
              "      <td>2000</td>\n",
              "      <td>0_edu_line_subject_com</td>\n",
              "      <td>[edu, line, subject, com, from, organ, write, ...</td>\n",
              "      <td>[from marshal csugrad edu kevin marshal subjec...</td>\n",
              "    </tr>\n",
              "  </tbody>\n",
              "</table>\n",
              "</div>\n",
              "    <div class=\"colab-df-buttons\">\n",
              "\n",
              "  <div class=\"colab-df-container\">\n",
              "    <button class=\"colab-df-convert\" onclick=\"convertToInteractive('df-7b0970b6-8e61-4e32-8886-7e3dae5f3b52')\"\n",
              "            title=\"Convert this dataframe to an interactive table.\"\n",
              "            style=\"display:none;\">\n",
              "\n",
              "  <svg xmlns=\"http://www.w3.org/2000/svg\" height=\"24px\" viewBox=\"0 -960 960 960\">\n",
              "    <path d=\"M120-120v-720h720v720H120Zm60-500h600v-160H180v160Zm220 220h160v-160H400v160Zm0 220h160v-160H400v160ZM180-400h160v-160H180v160Zm440 0h160v-160H620v160ZM180-180h160v-160H180v160Zm440 0h160v-160H620v160Z\"/>\n",
              "  </svg>\n",
              "    </button>\n",
              "\n",
              "  <style>\n",
              "    .colab-df-container {\n",
              "      display:flex;\n",
              "      gap: 12px;\n",
              "    }\n",
              "\n",
              "    .colab-df-convert {\n",
              "      background-color: #E8F0FE;\n",
              "      border: none;\n",
              "      border-radius: 50%;\n",
              "      cursor: pointer;\n",
              "      display: none;\n",
              "      fill: #1967D2;\n",
              "      height: 32px;\n",
              "      padding: 0 0 0 0;\n",
              "      width: 32px;\n",
              "    }\n",
              "\n",
              "    .colab-df-convert:hover {\n",
              "      background-color: #E2EBFA;\n",
              "      box-shadow: 0px 1px 2px rgba(60, 64, 67, 0.3), 0px 1px 3px 1px rgba(60, 64, 67, 0.15);\n",
              "      fill: #174EA6;\n",
              "    }\n",
              "\n",
              "    .colab-df-buttons div {\n",
              "      margin-bottom: 4px;\n",
              "    }\n",
              "\n",
              "    [theme=dark] .colab-df-convert {\n",
              "      background-color: #3B4455;\n",
              "      fill: #D2E3FC;\n",
              "    }\n",
              "\n",
              "    [theme=dark] .colab-df-convert:hover {\n",
              "      background-color: #434B5C;\n",
              "      box-shadow: 0px 1px 3px 1px rgba(0, 0, 0, 0.15);\n",
              "      filter: drop-shadow(0px 1px 2px rgba(0, 0, 0, 0.3));\n",
              "      fill: #FFFFFF;\n",
              "    }\n",
              "  </style>\n",
              "\n",
              "    <script>\n",
              "      const buttonEl =\n",
              "        document.querySelector('#df-7b0970b6-8e61-4e32-8886-7e3dae5f3b52 button.colab-df-convert');\n",
              "      buttonEl.style.display =\n",
              "        google.colab.kernel.accessAllowed ? 'block' : 'none';\n",
              "\n",
              "      async function convertToInteractive(key) {\n",
              "        const element = document.querySelector('#df-7b0970b6-8e61-4e32-8886-7e3dae5f3b52');\n",
              "        const dataTable =\n",
              "          await google.colab.kernel.invokeFunction('convertToInteractive',\n",
              "                                                    [key], {});\n",
              "        if (!dataTable) return;\n",
              "\n",
              "        const docLinkHtml = 'Like what you see? Visit the ' +\n",
              "          '<a target=\"_blank\" href=https://colab.research.google.com/notebooks/data_table.ipynb>data table notebook</a>'\n",
              "          + ' to learn more about interactive tables.';\n",
              "        element.innerHTML = '';\n",
              "        dataTable['output_type'] = 'display_data';\n",
              "        await google.colab.output.renderOutput(dataTable, element);\n",
              "        const docLink = document.createElement('div');\n",
              "        docLink.innerHTML = docLinkHtml;\n",
              "        element.appendChild(docLink);\n",
              "      }\n",
              "    </script>\n",
              "  </div>\n",
              "\n",
              "\n",
              "    </div>\n",
              "  </div>\n"
            ],
            "application/vnd.google.colaboratory.intrinsic+json": {
              "type": "dataframe",
              "summary": "{\n  \"name\": \"topic_model\",\n  \"rows\": 1,\n  \"fields\": [\n    {\n      \"column\": \"Topic\",\n      \"properties\": {\n        \"dtype\": \"number\",\n        \"std\": null,\n        \"min\": 0,\n        \"max\": 0,\n        \"num_unique_values\": 1,\n        \"samples\": [\n          0\n        ],\n        \"semantic_type\": \"\",\n        \"description\": \"\"\n      }\n    },\n    {\n      \"column\": \"Count\",\n      \"properties\": {\n        \"dtype\": \"number\",\n        \"std\": null,\n        \"min\": 2000,\n        \"max\": 2000,\n        \"num_unique_values\": 1,\n        \"samples\": [\n          2000\n        ],\n        \"semantic_type\": \"\",\n        \"description\": \"\"\n      }\n    },\n    {\n      \"column\": \"Name\",\n      \"properties\": {\n        \"dtype\": \"string\",\n        \"num_unique_values\": 1,\n        \"samples\": [\n          \"0_edu_line_subject_com\"\n        ],\n        \"semantic_type\": \"\",\n        \"description\": \"\"\n      }\n    },\n    {\n      \"column\": \"Representation\",\n      \"properties\": {\n        \"dtype\": \"object\",\n        \"semantic_type\": \"\",\n        \"description\": \"\"\n      }\n    },\n    {\n      \"column\": \"Representative_Docs\",\n      \"properties\": {\n        \"dtype\": \"object\",\n        \"semantic_type\": \"\",\n        \"description\": \"\"\n      }\n    }\n  ]\n}"
            }
          },
          "metadata": {},
          "execution_count": 73
        }
      ]
    },
    {
      "cell_type": "code",
      "source": [
        "topic_model.visualize_topics()"
      ],
      "metadata": {
        "colab": {
          "base_uri": "https://localhost:8080/",
          "height": 667
        },
        "id": "ONTlg3YlqKAU",
        "outputId": "0297deb7-890d-40bc-e154-4ff5844fa6af"
      },
      "execution_count": 74,
      "outputs": [
        {
          "output_type": "display_data",
          "data": {
            "text/html": [
              "<html>\n",
              "<head><meta charset=\"utf-8\" /></head>\n",
              "<body>\n",
              "    <div>            <script src=\"https://cdnjs.cloudflare.com/ajax/libs/mathjax/2.7.5/MathJax.js?config=TeX-AMS-MML_SVG\"></script><script type=\"text/javascript\">if (window.MathJax && window.MathJax.Hub && window.MathJax.Hub.Config) {window.MathJax.Hub.Config({SVG: {font: \"STIX-Web\"}});}</script>                <script type=\"text/javascript\">window.PlotlyConfig = {MathJaxConfig: 'local'};</script>\n",
              "        <script charset=\"utf-8\" src=\"https://cdn.plot.ly/plotly-2.35.2.min.js\"></script>                <div id=\"ec343567-b1b0-45c2-8046-392288b4ea04\" class=\"plotly-graph-div\" style=\"height:650px; width:650px;\"></div>            <script type=\"text/javascript\">                                    window.PLOTLYENV=window.PLOTLYENV || {};                                    if (document.getElementById(\"ec343567-b1b0-45c2-8046-392288b4ea04\")) {                    Plotly.newPlot(                        \"ec343567-b1b0-45c2-8046-392288b4ea04\",                        [{\"customdata\":[[0,\"edu | line | subject | com | from\",2000]],\"hovertemplate\":\"\\u003cb\\u003eTopic %{customdata[0]}\\u003c\\u002fb\\u003e\\u003cbr\\u003e%{customdata[1]}\\u003cbr\\u003eSize: %{customdata[2]}\",\"legendgroup\":\"\",\"marker\":{\"color\":\"#B0BEC5\",\"size\":[2000],\"sizemode\":\"area\",\"sizeref\":1.25,\"symbol\":\"circle\",\"line\":{\"color\":\"DarkSlateGrey\",\"width\":2}},\"mode\":\"markers\",\"name\":\"\",\"orientation\":\"v\",\"showlegend\":false,\"x\":[0.0],\"xaxis\":\"x\",\"y\":[0.0],\"yaxis\":\"y\",\"type\":\"scatter\"}],                        {\"template\":{\"data\":{\"barpolar\":[{\"marker\":{\"line\":{\"color\":\"white\",\"width\":0.5},\"pattern\":{\"fillmode\":\"overlay\",\"size\":10,\"solidity\":0.2}},\"type\":\"barpolar\"}],\"bar\":[{\"error_x\":{\"color\":\"rgb(36,36,36)\"},\"error_y\":{\"color\":\"rgb(36,36,36)\"},\"marker\":{\"line\":{\"color\":\"white\",\"width\":0.5},\"pattern\":{\"fillmode\":\"overlay\",\"size\":10,\"solidity\":0.2}},\"type\":\"bar\"}],\"carpet\":[{\"aaxis\":{\"endlinecolor\":\"rgb(36,36,36)\",\"gridcolor\":\"white\",\"linecolor\":\"white\",\"minorgridcolor\":\"white\",\"startlinecolor\":\"rgb(36,36,36)\"},\"baxis\":{\"endlinecolor\":\"rgb(36,36,36)\",\"gridcolor\":\"white\",\"linecolor\":\"white\",\"minorgridcolor\":\"white\",\"startlinecolor\":\"rgb(36,36,36)\"},\"type\":\"carpet\"}],\"choropleth\":[{\"colorbar\":{\"outlinewidth\":1,\"tickcolor\":\"rgb(36,36,36)\",\"ticks\":\"outside\"},\"type\":\"choropleth\"}],\"contourcarpet\":[{\"colorbar\":{\"outlinewidth\":1,\"tickcolor\":\"rgb(36,36,36)\",\"ticks\":\"outside\"},\"type\":\"contourcarpet\"}],\"contour\":[{\"colorbar\":{\"outlinewidth\":1,\"tickcolor\":\"rgb(36,36,36)\",\"ticks\":\"outside\"},\"colorscale\":[[0.0,\"#440154\"],[0.1111111111111111,\"#482878\"],[0.2222222222222222,\"#3e4989\"],[0.3333333333333333,\"#31688e\"],[0.4444444444444444,\"#26828e\"],[0.5555555555555556,\"#1f9e89\"],[0.6666666666666666,\"#35b779\"],[0.7777777777777778,\"#6ece58\"],[0.8888888888888888,\"#b5de2b\"],[1.0,\"#fde725\"]],\"type\":\"contour\"}],\"heatmapgl\":[{\"colorbar\":{\"outlinewidth\":1,\"tickcolor\":\"rgb(36,36,36)\",\"ticks\":\"outside\"},\"colorscale\":[[0.0,\"#440154\"],[0.1111111111111111,\"#482878\"],[0.2222222222222222,\"#3e4989\"],[0.3333333333333333,\"#31688e\"],[0.4444444444444444,\"#26828e\"],[0.5555555555555556,\"#1f9e89\"],[0.6666666666666666,\"#35b779\"],[0.7777777777777778,\"#6ece58\"],[0.8888888888888888,\"#b5de2b\"],[1.0,\"#fde725\"]],\"type\":\"heatmapgl\"}],\"heatmap\":[{\"colorbar\":{\"outlinewidth\":1,\"tickcolor\":\"rgb(36,36,36)\",\"ticks\":\"outside\"},\"colorscale\":[[0.0,\"#440154\"],[0.1111111111111111,\"#482878\"],[0.2222222222222222,\"#3e4989\"],[0.3333333333333333,\"#31688e\"],[0.4444444444444444,\"#26828e\"],[0.5555555555555556,\"#1f9e89\"],[0.6666666666666666,\"#35b779\"],[0.7777777777777778,\"#6ece58\"],[0.8888888888888888,\"#b5de2b\"],[1.0,\"#fde725\"]],\"type\":\"heatmap\"}],\"histogram2dcontour\":[{\"colorbar\":{\"outlinewidth\":1,\"tickcolor\":\"rgb(36,36,36)\",\"ticks\":\"outside\"},\"colorscale\":[[0.0,\"#440154\"],[0.1111111111111111,\"#482878\"],[0.2222222222222222,\"#3e4989\"],[0.3333333333333333,\"#31688e\"],[0.4444444444444444,\"#26828e\"],[0.5555555555555556,\"#1f9e89\"],[0.6666666666666666,\"#35b779\"],[0.7777777777777778,\"#6ece58\"],[0.8888888888888888,\"#b5de2b\"],[1.0,\"#fde725\"]],\"type\":\"histogram2dcontour\"}],\"histogram2d\":[{\"colorbar\":{\"outlinewidth\":1,\"tickcolor\":\"rgb(36,36,36)\",\"ticks\":\"outside\"},\"colorscale\":[[0.0,\"#440154\"],[0.1111111111111111,\"#482878\"],[0.2222222222222222,\"#3e4989\"],[0.3333333333333333,\"#31688e\"],[0.4444444444444444,\"#26828e\"],[0.5555555555555556,\"#1f9e89\"],[0.6666666666666666,\"#35b779\"],[0.7777777777777778,\"#6ece58\"],[0.8888888888888888,\"#b5de2b\"],[1.0,\"#fde725\"]],\"type\":\"histogram2d\"}],\"histogram\":[{\"marker\":{\"line\":{\"color\":\"white\",\"width\":0.6}},\"type\":\"histogram\"}],\"mesh3d\":[{\"colorbar\":{\"outlinewidth\":1,\"tickcolor\":\"rgb(36,36,36)\",\"ticks\":\"outside\"},\"type\":\"mesh3d\"}],\"parcoords\":[{\"line\":{\"colorbar\":{\"outlinewidth\":1,\"tickcolor\":\"rgb(36,36,36)\",\"ticks\":\"outside\"}},\"type\":\"parcoords\"}],\"pie\":[{\"automargin\":true,\"type\":\"pie\"}],\"scatter3d\":[{\"line\":{\"colorbar\":{\"outlinewidth\":1,\"tickcolor\":\"rgb(36,36,36)\",\"ticks\":\"outside\"}},\"marker\":{\"colorbar\":{\"outlinewidth\":1,\"tickcolor\":\"rgb(36,36,36)\",\"ticks\":\"outside\"}},\"type\":\"scatter3d\"}],\"scattercarpet\":[{\"marker\":{\"colorbar\":{\"outlinewidth\":1,\"tickcolor\":\"rgb(36,36,36)\",\"ticks\":\"outside\"}},\"type\":\"scattercarpet\"}],\"scattergeo\":[{\"marker\":{\"colorbar\":{\"outlinewidth\":1,\"tickcolor\":\"rgb(36,36,36)\",\"ticks\":\"outside\"}},\"type\":\"scattergeo\"}],\"scattergl\":[{\"marker\":{\"colorbar\":{\"outlinewidth\":1,\"tickcolor\":\"rgb(36,36,36)\",\"ticks\":\"outside\"}},\"type\":\"scattergl\"}],\"scattermapbox\":[{\"marker\":{\"colorbar\":{\"outlinewidth\":1,\"tickcolor\":\"rgb(36,36,36)\",\"ticks\":\"outside\"}},\"type\":\"scattermapbox\"}],\"scatterpolargl\":[{\"marker\":{\"colorbar\":{\"outlinewidth\":1,\"tickcolor\":\"rgb(36,36,36)\",\"ticks\":\"outside\"}},\"type\":\"scatterpolargl\"}],\"scatterpolar\":[{\"marker\":{\"colorbar\":{\"outlinewidth\":1,\"tickcolor\":\"rgb(36,36,36)\",\"ticks\":\"outside\"}},\"type\":\"scatterpolar\"}],\"scatter\":[{\"fillpattern\":{\"fillmode\":\"overlay\",\"size\":10,\"solidity\":0.2},\"type\":\"scatter\"}],\"scatterternary\":[{\"marker\":{\"colorbar\":{\"outlinewidth\":1,\"tickcolor\":\"rgb(36,36,36)\",\"ticks\":\"outside\"}},\"type\":\"scatterternary\"}],\"surface\":[{\"colorbar\":{\"outlinewidth\":1,\"tickcolor\":\"rgb(36,36,36)\",\"ticks\":\"outside\"},\"colorscale\":[[0.0,\"#440154\"],[0.1111111111111111,\"#482878\"],[0.2222222222222222,\"#3e4989\"],[0.3333333333333333,\"#31688e\"],[0.4444444444444444,\"#26828e\"],[0.5555555555555556,\"#1f9e89\"],[0.6666666666666666,\"#35b779\"],[0.7777777777777778,\"#6ece58\"],[0.8888888888888888,\"#b5de2b\"],[1.0,\"#fde725\"]],\"type\":\"surface\"}],\"table\":[{\"cells\":{\"fill\":{\"color\":\"rgb(237,237,237)\"},\"line\":{\"color\":\"white\"}},\"header\":{\"fill\":{\"color\":\"rgb(217,217,217)\"},\"line\":{\"color\":\"white\"}},\"type\":\"table\"}]},\"layout\":{\"annotationdefaults\":{\"arrowhead\":0,\"arrowwidth\":1},\"autotypenumbers\":\"strict\",\"coloraxis\":{\"colorbar\":{\"outlinewidth\":1,\"tickcolor\":\"rgb(36,36,36)\",\"ticks\":\"outside\"}},\"colorscale\":{\"diverging\":[[0.0,\"rgb(103,0,31)\"],[0.1,\"rgb(178,24,43)\"],[0.2,\"rgb(214,96,77)\"],[0.3,\"rgb(244,165,130)\"],[0.4,\"rgb(253,219,199)\"],[0.5,\"rgb(247,247,247)\"],[0.6,\"rgb(209,229,240)\"],[0.7,\"rgb(146,197,222)\"],[0.8,\"rgb(67,147,195)\"],[0.9,\"rgb(33,102,172)\"],[1.0,\"rgb(5,48,97)\"]],\"sequential\":[[0.0,\"#440154\"],[0.1111111111111111,\"#482878\"],[0.2222222222222222,\"#3e4989\"],[0.3333333333333333,\"#31688e\"],[0.4444444444444444,\"#26828e\"],[0.5555555555555556,\"#1f9e89\"],[0.6666666666666666,\"#35b779\"],[0.7777777777777778,\"#6ece58\"],[0.8888888888888888,\"#b5de2b\"],[1.0,\"#fde725\"]],\"sequentialminus\":[[0.0,\"#440154\"],[0.1111111111111111,\"#482878\"],[0.2222222222222222,\"#3e4989\"],[0.3333333333333333,\"#31688e\"],[0.4444444444444444,\"#26828e\"],[0.5555555555555556,\"#1f9e89\"],[0.6666666666666666,\"#35b779\"],[0.7777777777777778,\"#6ece58\"],[0.8888888888888888,\"#b5de2b\"],[1.0,\"#fde725\"]]},\"colorway\":[\"#1F77B4\",\"#FF7F0E\",\"#2CA02C\",\"#D62728\",\"#9467BD\",\"#8C564B\",\"#E377C2\",\"#7F7F7F\",\"#BCBD22\",\"#17BECF\"],\"font\":{\"color\":\"rgb(36,36,36)\"},\"geo\":{\"bgcolor\":\"white\",\"lakecolor\":\"white\",\"landcolor\":\"white\",\"showlakes\":true,\"showland\":true,\"subunitcolor\":\"white\"},\"hoverlabel\":{\"align\":\"left\"},\"hovermode\":\"closest\",\"mapbox\":{\"style\":\"light\"},\"paper_bgcolor\":\"white\",\"plot_bgcolor\":\"white\",\"polar\":{\"angularaxis\":{\"gridcolor\":\"rgb(232,232,232)\",\"linecolor\":\"rgb(36,36,36)\",\"showgrid\":false,\"showline\":true,\"ticks\":\"outside\"},\"bgcolor\":\"white\",\"radialaxis\":{\"gridcolor\":\"rgb(232,232,232)\",\"linecolor\":\"rgb(36,36,36)\",\"showgrid\":false,\"showline\":true,\"ticks\":\"outside\"}},\"scene\":{\"xaxis\":{\"backgroundcolor\":\"white\",\"gridcolor\":\"rgb(232,232,232)\",\"gridwidth\":2,\"linecolor\":\"rgb(36,36,36)\",\"showbackground\":true,\"showgrid\":false,\"showline\":true,\"ticks\":\"outside\",\"zeroline\":false,\"zerolinecolor\":\"rgb(36,36,36)\"},\"yaxis\":{\"backgroundcolor\":\"white\",\"gridcolor\":\"rgb(232,232,232)\",\"gridwidth\":2,\"linecolor\":\"rgb(36,36,36)\",\"showbackground\":true,\"showgrid\":false,\"showline\":true,\"ticks\":\"outside\",\"zeroline\":false,\"zerolinecolor\":\"rgb(36,36,36)\"},\"zaxis\":{\"backgroundcolor\":\"white\",\"gridcolor\":\"rgb(232,232,232)\",\"gridwidth\":2,\"linecolor\":\"rgb(36,36,36)\",\"showbackground\":true,\"showgrid\":false,\"showline\":true,\"ticks\":\"outside\",\"zeroline\":false,\"zerolinecolor\":\"rgb(36,36,36)\"}},\"shapedefaults\":{\"fillcolor\":\"black\",\"line\":{\"width\":0},\"opacity\":0.3},\"ternary\":{\"aaxis\":{\"gridcolor\":\"rgb(232,232,232)\",\"linecolor\":\"rgb(36,36,36)\",\"showgrid\":false,\"showline\":true,\"ticks\":\"outside\"},\"baxis\":{\"gridcolor\":\"rgb(232,232,232)\",\"linecolor\":\"rgb(36,36,36)\",\"showgrid\":false,\"showline\":true,\"ticks\":\"outside\"},\"bgcolor\":\"white\",\"caxis\":{\"gridcolor\":\"rgb(232,232,232)\",\"linecolor\":\"rgb(36,36,36)\",\"showgrid\":false,\"showline\":true,\"ticks\":\"outside\"}},\"title\":{\"x\":0.05},\"xaxis\":{\"automargin\":true,\"gridcolor\":\"rgb(232,232,232)\",\"linecolor\":\"rgb(36,36,36)\",\"showgrid\":false,\"showline\":true,\"ticks\":\"outside\",\"title\":{\"standoff\":15},\"zeroline\":false,\"zerolinecolor\":\"rgb(36,36,36)\"},\"yaxis\":{\"automargin\":true,\"gridcolor\":\"rgb(232,232,232)\",\"linecolor\":\"rgb(36,36,36)\",\"showgrid\":false,\"showline\":true,\"ticks\":\"outside\",\"title\":{\"standoff\":15},\"zeroline\":false,\"zerolinecolor\":\"rgb(36,36,36)\"}}},\"xaxis\":{\"anchor\":\"y\",\"domain\":[0.0,1.0],\"title\":{\"text\":\"\"},\"visible\":false,\"range\":[0.0,0.0]},\"yaxis\":{\"anchor\":\"x\",\"domain\":[0.0,1.0],\"title\":{\"text\":\"\"},\"visible\":false,\"range\":[0.0,0.0]},\"legend\":{\"tracegroupgap\":0,\"itemsizing\":\"constant\"},\"margin\":{\"t\":60},\"title\":{\"font\":{\"size\":22,\"color\":\"Black\"},\"text\":\"\\u003cb\\u003eIntertopic Distance Map\\u003c\\u002fb\\u003e\",\"y\":0.95,\"x\":0.5,\"xanchor\":\"center\",\"yanchor\":\"top\"},\"hoverlabel\":{\"font\":{\"size\":16,\"family\":\"Rockwell\"},\"bgcolor\":\"white\"},\"width\":650,\"height\":650,\"sliders\":[{\"active\":0,\"pad\":{\"t\":50},\"steps\":[{\"args\":[{\"marker.color\":[[\"red\"]]}],\"label\":\"Topic 0\",\"method\":\"update\"}]}],\"shapes\":[{\"line\":{\"color\":\"#CFD8DC\",\"width\":2},\"type\":\"line\",\"x0\":0.0,\"x1\":0.0,\"y0\":0.0,\"y1\":0.0},{\"line\":{\"color\":\"#9E9E9E\",\"width\":2},\"type\":\"line\",\"x0\":0.0,\"x1\":0.0,\"y0\":0.0,\"y1\":0.0}],\"annotations\":[{\"showarrow\":false,\"text\":\"D1\",\"x\":0.0,\"y\":0.0,\"yshift\":10},{\"showarrow\":false,\"text\":\"D2\",\"x\":0.0,\"xshift\":10,\"y\":0.0}]},                        {\"responsive\": true}                    ).then(function(){\n",
              "                            \n",
              "var gd = document.getElementById('ec343567-b1b0-45c2-8046-392288b4ea04');\n",
              "var x = new MutationObserver(function (mutations, observer) {{\n",
              "        var display = window.getComputedStyle(gd).display;\n",
              "        if (!display || display === 'none') {{\n",
              "            console.log([gd, 'removed!']);\n",
              "            Plotly.purge(gd);\n",
              "            observer.disconnect();\n",
              "        }}\n",
              "}});\n",
              "\n",
              "// Listen for the removal of the full notebook cells\n",
              "var notebookContainer = gd.closest('#notebook-container');\n",
              "if (notebookContainer) {{\n",
              "    x.observe(notebookContainer, {childList: true});\n",
              "}}\n",
              "\n",
              "// Listen for the clearing of the current output cell\n",
              "var outputEl = gd.closest('.output');\n",
              "if (outputEl) {{\n",
              "    x.observe(outputEl, {childList: true});\n",
              "}}\n",
              "\n",
              "                        })                };                            </script>        </div>\n",
              "</body>\n",
              "</html>"
            ]
          },
          "metadata": {}
        }
      ]
    },
    {
      "cell_type": "code",
      "source": [
        "topic_model.visualize_barchart(top_n_topics=12, n_words = 10, width = 350, height = 350)"
      ],
      "metadata": {
        "colab": {
          "base_uri": "https://localhost:8080/",
          "height": 472
        },
        "id": "A1sj_OoDqNBQ",
        "outputId": "b95dccaa-d65e-4db0-ba56-7d9515bdd0fc"
      },
      "execution_count": 75,
      "outputs": [
        {
          "output_type": "display_data",
          "data": {
            "text/html": [
              "<html>\n",
              "<head><meta charset=\"utf-8\" /></head>\n",
              "<body>\n",
              "    <div>            <script src=\"https://cdnjs.cloudflare.com/ajax/libs/mathjax/2.7.5/MathJax.js?config=TeX-AMS-MML_SVG\"></script><script type=\"text/javascript\">if (window.MathJax && window.MathJax.Hub && window.MathJax.Hub.Config) {window.MathJax.Hub.Config({SVG: {font: \"STIX-Web\"}});}</script>                <script type=\"text/javascript\">window.PlotlyConfig = {MathJaxConfig: 'local'};</script>\n",
              "        <script charset=\"utf-8\" src=\"https://cdn.plot.ly/plotly-2.35.2.min.js\"></script>                <div id=\"13fd6f05-386b-468f-8587-3bc4ad2f51bb\" class=\"plotly-graph-div\" style=\"height:455.0px; width:1400px;\"></div>            <script type=\"text/javascript\">                                    window.PLOTLYENV=window.PLOTLYENV || {};                                    if (document.getElementById(\"13fd6f05-386b-468f-8587-3bc4ad2f51bb\")) {                    Plotly.newPlot(                        \"13fd6f05-386b-468f-8587-3bc4ad2f51bb\",                        [{\"marker\":{\"color\":\"#D55E00\"},\"orientation\":\"h\",\"x\":[0.0211498080017748,0.02215838761157495,0.023531997561975628,0.024730613239914944,0.031007340251587495,0.03206964630362568,0.03223578363767759,0.032862408058314876,0.034069937388094,0.04977038988120195],\"y\":[\"post  \",\"articl  \",\"max  \",\"write  \",\"organ  \",\"from  \",\"com  \",\"subject  \",\"line  \",\"edu  \"],\"type\":\"bar\",\"xaxis\":\"x\",\"yaxis\":\"y\"}],                        {\"template\":{\"data\":{\"barpolar\":[{\"marker\":{\"line\":{\"color\":\"white\",\"width\":0.5},\"pattern\":{\"fillmode\":\"overlay\",\"size\":10,\"solidity\":0.2}},\"type\":\"barpolar\"}],\"bar\":[{\"error_x\":{\"color\":\"#2a3f5f\"},\"error_y\":{\"color\":\"#2a3f5f\"},\"marker\":{\"line\":{\"color\":\"white\",\"width\":0.5},\"pattern\":{\"fillmode\":\"overlay\",\"size\":10,\"solidity\":0.2}},\"type\":\"bar\"}],\"carpet\":[{\"aaxis\":{\"endlinecolor\":\"#2a3f5f\",\"gridcolor\":\"#C8D4E3\",\"linecolor\":\"#C8D4E3\",\"minorgridcolor\":\"#C8D4E3\",\"startlinecolor\":\"#2a3f5f\"},\"baxis\":{\"endlinecolor\":\"#2a3f5f\",\"gridcolor\":\"#C8D4E3\",\"linecolor\":\"#C8D4E3\",\"minorgridcolor\":\"#C8D4E3\",\"startlinecolor\":\"#2a3f5f\"},\"type\":\"carpet\"}],\"choropleth\":[{\"colorbar\":{\"outlinewidth\":0,\"ticks\":\"\"},\"type\":\"choropleth\"}],\"contourcarpet\":[{\"colorbar\":{\"outlinewidth\":0,\"ticks\":\"\"},\"type\":\"contourcarpet\"}],\"contour\":[{\"colorbar\":{\"outlinewidth\":0,\"ticks\":\"\"},\"colorscale\":[[0.0,\"#0d0887\"],[0.1111111111111111,\"#46039f\"],[0.2222222222222222,\"#7201a8\"],[0.3333333333333333,\"#9c179e\"],[0.4444444444444444,\"#bd3786\"],[0.5555555555555556,\"#d8576b\"],[0.6666666666666666,\"#ed7953\"],[0.7777777777777778,\"#fb9f3a\"],[0.8888888888888888,\"#fdca26\"],[1.0,\"#f0f921\"]],\"type\":\"contour\"}],\"heatmapgl\":[{\"colorbar\":{\"outlinewidth\":0,\"ticks\":\"\"},\"colorscale\":[[0.0,\"#0d0887\"],[0.1111111111111111,\"#46039f\"],[0.2222222222222222,\"#7201a8\"],[0.3333333333333333,\"#9c179e\"],[0.4444444444444444,\"#bd3786\"],[0.5555555555555556,\"#d8576b\"],[0.6666666666666666,\"#ed7953\"],[0.7777777777777778,\"#fb9f3a\"],[0.8888888888888888,\"#fdca26\"],[1.0,\"#f0f921\"]],\"type\":\"heatmapgl\"}],\"heatmap\":[{\"colorbar\":{\"outlinewidth\":0,\"ticks\":\"\"},\"colorscale\":[[0.0,\"#0d0887\"],[0.1111111111111111,\"#46039f\"],[0.2222222222222222,\"#7201a8\"],[0.3333333333333333,\"#9c179e\"],[0.4444444444444444,\"#bd3786\"],[0.5555555555555556,\"#d8576b\"],[0.6666666666666666,\"#ed7953\"],[0.7777777777777778,\"#fb9f3a\"],[0.8888888888888888,\"#fdca26\"],[1.0,\"#f0f921\"]],\"type\":\"heatmap\"}],\"histogram2dcontour\":[{\"colorbar\":{\"outlinewidth\":0,\"ticks\":\"\"},\"colorscale\":[[0.0,\"#0d0887\"],[0.1111111111111111,\"#46039f\"],[0.2222222222222222,\"#7201a8\"],[0.3333333333333333,\"#9c179e\"],[0.4444444444444444,\"#bd3786\"],[0.5555555555555556,\"#d8576b\"],[0.6666666666666666,\"#ed7953\"],[0.7777777777777778,\"#fb9f3a\"],[0.8888888888888888,\"#fdca26\"],[1.0,\"#f0f921\"]],\"type\":\"histogram2dcontour\"}],\"histogram2d\":[{\"colorbar\":{\"outlinewidth\":0,\"ticks\":\"\"},\"colorscale\":[[0.0,\"#0d0887\"],[0.1111111111111111,\"#46039f\"],[0.2222222222222222,\"#7201a8\"],[0.3333333333333333,\"#9c179e\"],[0.4444444444444444,\"#bd3786\"],[0.5555555555555556,\"#d8576b\"],[0.6666666666666666,\"#ed7953\"],[0.7777777777777778,\"#fb9f3a\"],[0.8888888888888888,\"#fdca26\"],[1.0,\"#f0f921\"]],\"type\":\"histogram2d\"}],\"histogram\":[{\"marker\":{\"pattern\":{\"fillmode\":\"overlay\",\"size\":10,\"solidity\":0.2}},\"type\":\"histogram\"}],\"mesh3d\":[{\"colorbar\":{\"outlinewidth\":0,\"ticks\":\"\"},\"type\":\"mesh3d\"}],\"parcoords\":[{\"line\":{\"colorbar\":{\"outlinewidth\":0,\"ticks\":\"\"}},\"type\":\"parcoords\"}],\"pie\":[{\"automargin\":true,\"type\":\"pie\"}],\"scatter3d\":[{\"line\":{\"colorbar\":{\"outlinewidth\":0,\"ticks\":\"\"}},\"marker\":{\"colorbar\":{\"outlinewidth\":0,\"ticks\":\"\"}},\"type\":\"scatter3d\"}],\"scattercarpet\":[{\"marker\":{\"colorbar\":{\"outlinewidth\":0,\"ticks\":\"\"}},\"type\":\"scattercarpet\"}],\"scattergeo\":[{\"marker\":{\"colorbar\":{\"outlinewidth\":0,\"ticks\":\"\"}},\"type\":\"scattergeo\"}],\"scattergl\":[{\"marker\":{\"colorbar\":{\"outlinewidth\":0,\"ticks\":\"\"}},\"type\":\"scattergl\"}],\"scattermapbox\":[{\"marker\":{\"colorbar\":{\"outlinewidth\":0,\"ticks\":\"\"}},\"type\":\"scattermapbox\"}],\"scatterpolargl\":[{\"marker\":{\"colorbar\":{\"outlinewidth\":0,\"ticks\":\"\"}},\"type\":\"scatterpolargl\"}],\"scatterpolar\":[{\"marker\":{\"colorbar\":{\"outlinewidth\":0,\"ticks\":\"\"}},\"type\":\"scatterpolar\"}],\"scatter\":[{\"fillpattern\":{\"fillmode\":\"overlay\",\"size\":10,\"solidity\":0.2},\"type\":\"scatter\"}],\"scatterternary\":[{\"marker\":{\"colorbar\":{\"outlinewidth\":0,\"ticks\":\"\"}},\"type\":\"scatterternary\"}],\"surface\":[{\"colorbar\":{\"outlinewidth\":0,\"ticks\":\"\"},\"colorscale\":[[0.0,\"#0d0887\"],[0.1111111111111111,\"#46039f\"],[0.2222222222222222,\"#7201a8\"],[0.3333333333333333,\"#9c179e\"],[0.4444444444444444,\"#bd3786\"],[0.5555555555555556,\"#d8576b\"],[0.6666666666666666,\"#ed7953\"],[0.7777777777777778,\"#fb9f3a\"],[0.8888888888888888,\"#fdca26\"],[1.0,\"#f0f921\"]],\"type\":\"surface\"}],\"table\":[{\"cells\":{\"fill\":{\"color\":\"#EBF0F8\"},\"line\":{\"color\":\"white\"}},\"header\":{\"fill\":{\"color\":\"#C8D4E3\"},\"line\":{\"color\":\"white\"}},\"type\":\"table\"}]},\"layout\":{\"annotationdefaults\":{\"arrowcolor\":\"#2a3f5f\",\"arrowhead\":0,\"arrowwidth\":1},\"autotypenumbers\":\"strict\",\"coloraxis\":{\"colorbar\":{\"outlinewidth\":0,\"ticks\":\"\"}},\"colorscale\":{\"diverging\":[[0,\"#8e0152\"],[0.1,\"#c51b7d\"],[0.2,\"#de77ae\"],[0.3,\"#f1b6da\"],[0.4,\"#fde0ef\"],[0.5,\"#f7f7f7\"],[0.6,\"#e6f5d0\"],[0.7,\"#b8e186\"],[0.8,\"#7fbc41\"],[0.9,\"#4d9221\"],[1,\"#276419\"]],\"sequential\":[[0.0,\"#0d0887\"],[0.1111111111111111,\"#46039f\"],[0.2222222222222222,\"#7201a8\"],[0.3333333333333333,\"#9c179e\"],[0.4444444444444444,\"#bd3786\"],[0.5555555555555556,\"#d8576b\"],[0.6666666666666666,\"#ed7953\"],[0.7777777777777778,\"#fb9f3a\"],[0.8888888888888888,\"#fdca26\"],[1.0,\"#f0f921\"]],\"sequentialminus\":[[0.0,\"#0d0887\"],[0.1111111111111111,\"#46039f\"],[0.2222222222222222,\"#7201a8\"],[0.3333333333333333,\"#9c179e\"],[0.4444444444444444,\"#bd3786\"],[0.5555555555555556,\"#d8576b\"],[0.6666666666666666,\"#ed7953\"],[0.7777777777777778,\"#fb9f3a\"],[0.8888888888888888,\"#fdca26\"],[1.0,\"#f0f921\"]]},\"colorway\":[\"#636efa\",\"#EF553B\",\"#00cc96\",\"#ab63fa\",\"#FFA15A\",\"#19d3f3\",\"#FF6692\",\"#B6E880\",\"#FF97FF\",\"#FECB52\"],\"font\":{\"color\":\"#2a3f5f\"},\"geo\":{\"bgcolor\":\"white\",\"lakecolor\":\"white\",\"landcolor\":\"white\",\"showlakes\":true,\"showland\":true,\"subunitcolor\":\"#C8D4E3\"},\"hoverlabel\":{\"align\":\"left\"},\"hovermode\":\"closest\",\"mapbox\":{\"style\":\"light\"},\"paper_bgcolor\":\"white\",\"plot_bgcolor\":\"white\",\"polar\":{\"angularaxis\":{\"gridcolor\":\"#EBF0F8\",\"linecolor\":\"#EBF0F8\",\"ticks\":\"\"},\"bgcolor\":\"white\",\"radialaxis\":{\"gridcolor\":\"#EBF0F8\",\"linecolor\":\"#EBF0F8\",\"ticks\":\"\"}},\"scene\":{\"xaxis\":{\"backgroundcolor\":\"white\",\"gridcolor\":\"#DFE8F3\",\"gridwidth\":2,\"linecolor\":\"#EBF0F8\",\"showbackground\":true,\"ticks\":\"\",\"zerolinecolor\":\"#EBF0F8\"},\"yaxis\":{\"backgroundcolor\":\"white\",\"gridcolor\":\"#DFE8F3\",\"gridwidth\":2,\"linecolor\":\"#EBF0F8\",\"showbackground\":true,\"ticks\":\"\",\"zerolinecolor\":\"#EBF0F8\"},\"zaxis\":{\"backgroundcolor\":\"white\",\"gridcolor\":\"#DFE8F3\",\"gridwidth\":2,\"linecolor\":\"#EBF0F8\",\"showbackground\":true,\"ticks\":\"\",\"zerolinecolor\":\"#EBF0F8\"}},\"shapedefaults\":{\"line\":{\"color\":\"#2a3f5f\"}},\"ternary\":{\"aaxis\":{\"gridcolor\":\"#DFE8F3\",\"linecolor\":\"#A2B1C6\",\"ticks\":\"\"},\"baxis\":{\"gridcolor\":\"#DFE8F3\",\"linecolor\":\"#A2B1C6\",\"ticks\":\"\"},\"bgcolor\":\"white\",\"caxis\":{\"gridcolor\":\"#DFE8F3\",\"linecolor\":\"#A2B1C6\",\"ticks\":\"\"}},\"title\":{\"x\":0.05},\"xaxis\":{\"automargin\":true,\"gridcolor\":\"#EBF0F8\",\"linecolor\":\"#EBF0F8\",\"ticks\":\"\",\"title\":{\"standoff\":15},\"zerolinecolor\":\"#EBF0F8\",\"zerolinewidth\":2},\"yaxis\":{\"automargin\":true,\"gridcolor\":\"#EBF0F8\",\"linecolor\":\"#EBF0F8\",\"ticks\":\"\",\"title\":{\"standoff\":15},\"zerolinecolor\":\"#EBF0F8\",\"zerolinewidth\":2}}},\"xaxis\":{\"anchor\":\"y\",\"domain\":[0.0,0.175],\"showgrid\":true},\"yaxis\":{\"anchor\":\"x\",\"domain\":[0.0,1.0],\"showgrid\":true},\"xaxis2\":{\"anchor\":\"y2\",\"domain\":[0.275,0.45],\"showgrid\":true},\"yaxis2\":{\"anchor\":\"x2\",\"domain\":[0.0,1.0],\"showgrid\":true},\"xaxis3\":{\"anchor\":\"y3\",\"domain\":[0.55,0.7250000000000001],\"showgrid\":true},\"yaxis3\":{\"anchor\":\"x3\",\"domain\":[0.0,1.0],\"showgrid\":true},\"xaxis4\":{\"anchor\":\"y4\",\"domain\":[0.825,1.0],\"showgrid\":true},\"yaxis4\":{\"anchor\":\"x4\",\"domain\":[0.0,1.0],\"showgrid\":true},\"annotations\":[{\"font\":{\"size\":16},\"showarrow\":false,\"text\":\"Topic 0\",\"x\":0.0875,\"xanchor\":\"center\",\"xref\":\"paper\",\"y\":1.0,\"yanchor\":\"bottom\",\"yref\":\"paper\"}],\"title\":{\"font\":{\"size\":22,\"color\":\"Black\"},\"text\":\"Topic Word Scores\",\"x\":0.5,\"xanchor\":\"center\",\"yanchor\":\"top\"},\"hoverlabel\":{\"font\":{\"size\":16,\"family\":\"Rockwell\"},\"bgcolor\":\"white\"},\"showlegend\":false,\"width\":1400,\"height\":455.0},                        {\"responsive\": true}                    ).then(function(){\n",
              "                            \n",
              "var gd = document.getElementById('13fd6f05-386b-468f-8587-3bc4ad2f51bb');\n",
              "var x = new MutationObserver(function (mutations, observer) {{\n",
              "        var display = window.getComputedStyle(gd).display;\n",
              "        if (!display || display === 'none') {{\n",
              "            console.log([gd, 'removed!']);\n",
              "            Plotly.purge(gd);\n",
              "            observer.disconnect();\n",
              "        }}\n",
              "}});\n",
              "\n",
              "// Listen for the removal of the full notebook cells\n",
              "var notebookContainer = gd.closest('#notebook-container');\n",
              "if (notebookContainer) {{\n",
              "    x.observe(notebookContainer, {childList: true});\n",
              "}}\n",
              "\n",
              "// Listen for the clearing of the current output cell\n",
              "var outputEl = gd.closest('.output');\n",
              "if (outputEl) {{\n",
              "    x.observe(outputEl, {childList: true});\n",
              "}}\n",
              "\n",
              "                        })                };                            </script>        </div>\n",
              "</body>\n",
              "</html>"
            ]
          },
          "metadata": {}
        }
      ]
    },
    {
      "cell_type": "markdown",
      "source": [
        "##Difference in Coherence Scores\n",
        "\n",
        "We can see that with the customized version of BERTopic with SentenceTransformer model 'all-MiniLM-L6-v2' and clustering model DBSCAN our total coherence score was 0.51, whereas the previous default version of BERTopic\n",
        "received a coherence score of 0.2547."
      ],
      "metadata": {
        "id": "6PbiNmjEpOHB"
      }
    },
    {
      "cell_type": "markdown",
      "source": [
        "## Extra Question (5 Points)\n",
        "\n",
        "**Compare the results generated by the four topic modeling algorithms (LDA, LSA, BERTopic, Modified BERTopic), which one is better? You should explain the reasons in details.**\n",
        "\n",
        "**This question will compensate for any points deducted in this exercise. Maximum marks for the exercise is 100 points.**"
      ],
      "metadata": {
        "id": "d89ODUx3jjJV"
      }
    },
    {
      "cell_type": "code",
      "source": [
        "# Write your code here"
      ],
      "metadata": {
        "id": "OK34nZtojhmm"
      },
      "execution_count": null,
      "outputs": []
    },
    {
      "cell_type": "markdown",
      "source": [
        "# Mandatory Question"
      ],
      "metadata": {
        "id": "VEs-OoDEhTW4"
      }
    },
    {
      "cell_type": "markdown",
      "source": [
        "**Important: Reflective Feedback on this exercise**\n",
        "\n",
        "Please provide your thoughts and feedback on the exercises you completed in this assignment.\n",
        "\n",
        "Consider the following points in your response:\n",
        "\n",
        "**Learning Experience:** Describe your overall learning experience in working with text data and extracting features using various topic modeling algorithms. Did you understand these algorithms and did the implementations helped in grasping the nuances of feature extraction from text data.\n",
        "\n",
        "**Challenges Encountered:** Were there specific difficulties in completing this exercise?\n",
        "\n",
        "Relevance to Your Field of Study: How does this exercise relate to the field of NLP?\n",
        "\n",
        "**(Your submission will not be graded if this question is left unanswered)**\n",
        "\n"
      ],
      "metadata": {
        "id": "IUKC7suYhVl0"
      }
    },
    {
      "cell_type": "code",
      "source": [
        "# Your answer here (no code for this question, write down your answer as detail as possible for the above questions):\n",
        "\n",
        "'''\n",
        "I thought that the exercises were useful and interesting in trying to group texts\n",
        "and derive the overall subject/topic similarity between them. It could be useful\n",
        "for many different types of projects and tasks where information extraction, and\n",
        "grouping of information is useful. I am still not 100% sure of what all the different\n",
        "methodologies behind the different types models were doing and what the pros and cons of one versus\n",
        "the other were, but it was interesting to see how easy they are to implement and\n",
        "change based on the Gensim, BERTopic libraries, and the extensive amount of documentation\n",
        "available for each. For instance, I do understand that basically they are calculating\n",
        "the frequencies of words, and the relative closeness of those words to determine\n",
        "the liklihood of a given text being a part of one of the topics based on the word count,\n",
        "and the space between other topic word probabilities and embeddings. I found one\n",
        "of the major challenges was that trying to run tasks which would change the created\n",
        "models topic number would take a ton of time to train,\n",
        "with the BERTopic training model taking approx. 36 minutes to do 10 different topic\n",
        "amounts. I also found it difficult to connect the model with the API as I would receive\n",
        "an error about the billing/API credits required.\n",
        "'''"
      ],
      "metadata": {
        "id": "CAq0DZWAhU9m"
      },
      "execution_count": null,
      "outputs": []
    }
  ],
  "metadata": {
    "kernelspec": {
      "display_name": "Python 3 (ipykernel)",
      "language": "python",
      "name": "python3"
    },
    "language_info": {
      "codemirror_mode": {
        "name": "ipython",
        "version": 3
      },
      "file_extension": ".py",
      "mimetype": "text/x-python",
      "name": "python",
      "nbconvert_exporter": "python",
      "pygments_lexer": "ipython3",
      "version": "3.9.12"
    },
    "colab": {
      "provenance": [],
      "include_colab_link": true
    },
    "widgets": {
      "application/vnd.jupyter.widget-state+json": {
        "9a2f80d97af44cf5a42816b61016291d": {
          "model_module": "@jupyter-widgets/controls",
          "model_name": "HBoxModel",
          "model_module_version": "1.5.0",
          "state": {
            "_dom_classes": [],
            "_model_module": "@jupyter-widgets/controls",
            "_model_module_version": "1.5.0",
            "_model_name": "HBoxModel",
            "_view_count": null,
            "_view_module": "@jupyter-widgets/controls",
            "_view_module_version": "1.5.0",
            "_view_name": "HBoxView",
            "box_style": "",
            "children": [
              "IPY_MODEL_57039ac2fb694f0ca2f14c8356517cbd",
              "IPY_MODEL_22d2098de7d64a8581e1d7290c495c69",
              "IPY_MODEL_0811ac8f351e4538a341efb1f235b7f9"
            ],
            "layout": "IPY_MODEL_03741d0e3e6c401e8de43cc4e261240e"
          }
        },
        "57039ac2fb694f0ca2f14c8356517cbd": {
          "model_module": "@jupyter-widgets/controls",
          "model_name": "HTMLModel",
          "model_module_version": "1.5.0",
          "state": {
            "_dom_classes": [],
            "_model_module": "@jupyter-widgets/controls",
            "_model_module_version": "1.5.0",
            "_model_name": "HTMLModel",
            "_view_count": null,
            "_view_module": "@jupyter-widgets/controls",
            "_view_module_version": "1.5.0",
            "_view_name": "HTMLView",
            "description": "",
            "description_tooltip": null,
            "layout": "IPY_MODEL_6a4e071d99c64da0a9e685f41756dcc8",
            "placeholder": "​",
            "style": "IPY_MODEL_ac2de5e3534f464e8a8cd5bc515af87e",
            "value": "Batches:  35%"
          }
        },
        "22d2098de7d64a8581e1d7290c495c69": {
          "model_module": "@jupyter-widgets/controls",
          "model_name": "FloatProgressModel",
          "model_module_version": "1.5.0",
          "state": {
            "_dom_classes": [],
            "_model_module": "@jupyter-widgets/controls",
            "_model_module_version": "1.5.0",
            "_model_name": "FloatProgressModel",
            "_view_count": null,
            "_view_module": "@jupyter-widgets/controls",
            "_view_module_version": "1.5.0",
            "_view_name": "ProgressView",
            "bar_style": "danger",
            "description": "",
            "description_tooltip": null,
            "layout": "IPY_MODEL_83ab0d9cca0d406485785bcd5cb6e6bc",
            "max": 63,
            "min": 0,
            "orientation": "horizontal",
            "style": "IPY_MODEL_ab0b3f8667d74c36bdf9cc3a6f0c1d7d",
            "value": 22
          }
        },
        "0811ac8f351e4538a341efb1f235b7f9": {
          "model_module": "@jupyter-widgets/controls",
          "model_name": "HTMLModel",
          "model_module_version": "1.5.0",
          "state": {
            "_dom_classes": [],
            "_model_module": "@jupyter-widgets/controls",
            "_model_module_version": "1.5.0",
            "_model_name": "HTMLModel",
            "_view_count": null,
            "_view_module": "@jupyter-widgets/controls",
            "_view_module_version": "1.5.0",
            "_view_name": "HTMLView",
            "description": "",
            "description_tooltip": null,
            "layout": "IPY_MODEL_7b708cfb6db94aa7b839dbce3bffd22b",
            "placeholder": "​",
            "style": "IPY_MODEL_fcf28ef6ddc94ac4a6f35aaad58b5ce7",
            "value": " 22/63 [02:09&lt;03:04,  4.51s/it]"
          }
        },
        "03741d0e3e6c401e8de43cc4e261240e": {
          "model_module": "@jupyter-widgets/base",
          "model_name": "LayoutModel",
          "model_module_version": "1.2.0",
          "state": {
            "_model_module": "@jupyter-widgets/base",
            "_model_module_version": "1.2.0",
            "_model_name": "LayoutModel",
            "_view_count": null,
            "_view_module": "@jupyter-widgets/base",
            "_view_module_version": "1.2.0",
            "_view_name": "LayoutView",
            "align_content": null,
            "align_items": null,
            "align_self": null,
            "border": null,
            "bottom": null,
            "display": null,
            "flex": null,
            "flex_flow": null,
            "grid_area": null,
            "grid_auto_columns": null,
            "grid_auto_flow": null,
            "grid_auto_rows": null,
            "grid_column": null,
            "grid_gap": null,
            "grid_row": null,
            "grid_template_areas": null,
            "grid_template_columns": null,
            "grid_template_rows": null,
            "height": null,
            "justify_content": null,
            "justify_items": null,
            "left": null,
            "margin": null,
            "max_height": null,
            "max_width": null,
            "min_height": null,
            "min_width": null,
            "object_fit": null,
            "object_position": null,
            "order": null,
            "overflow": null,
            "overflow_x": null,
            "overflow_y": null,
            "padding": null,
            "right": null,
            "top": null,
            "visibility": null,
            "width": null
          }
        },
        "6a4e071d99c64da0a9e685f41756dcc8": {
          "model_module": "@jupyter-widgets/base",
          "model_name": "LayoutModel",
          "model_module_version": "1.2.0",
          "state": {
            "_model_module": "@jupyter-widgets/base",
            "_model_module_version": "1.2.0",
            "_model_name": "LayoutModel",
            "_view_count": null,
            "_view_module": "@jupyter-widgets/base",
            "_view_module_version": "1.2.0",
            "_view_name": "LayoutView",
            "align_content": null,
            "align_items": null,
            "align_self": null,
            "border": null,
            "bottom": null,
            "display": null,
            "flex": null,
            "flex_flow": null,
            "grid_area": null,
            "grid_auto_columns": null,
            "grid_auto_flow": null,
            "grid_auto_rows": null,
            "grid_column": null,
            "grid_gap": null,
            "grid_row": null,
            "grid_template_areas": null,
            "grid_template_columns": null,
            "grid_template_rows": null,
            "height": null,
            "justify_content": null,
            "justify_items": null,
            "left": null,
            "margin": null,
            "max_height": null,
            "max_width": null,
            "min_height": null,
            "min_width": null,
            "object_fit": null,
            "object_position": null,
            "order": null,
            "overflow": null,
            "overflow_x": null,
            "overflow_y": null,
            "padding": null,
            "right": null,
            "top": null,
            "visibility": null,
            "width": null
          }
        },
        "ac2de5e3534f464e8a8cd5bc515af87e": {
          "model_module": "@jupyter-widgets/controls",
          "model_name": "DescriptionStyleModel",
          "model_module_version": "1.5.0",
          "state": {
            "_model_module": "@jupyter-widgets/controls",
            "_model_module_version": "1.5.0",
            "_model_name": "DescriptionStyleModel",
            "_view_count": null,
            "_view_module": "@jupyter-widgets/base",
            "_view_module_version": "1.2.0",
            "_view_name": "StyleView",
            "description_width": ""
          }
        },
        "83ab0d9cca0d406485785bcd5cb6e6bc": {
          "model_module": "@jupyter-widgets/base",
          "model_name": "LayoutModel",
          "model_module_version": "1.2.0",
          "state": {
            "_model_module": "@jupyter-widgets/base",
            "_model_module_version": "1.2.0",
            "_model_name": "LayoutModel",
            "_view_count": null,
            "_view_module": "@jupyter-widgets/base",
            "_view_module_version": "1.2.0",
            "_view_name": "LayoutView",
            "align_content": null,
            "align_items": null,
            "align_self": null,
            "border": null,
            "bottom": null,
            "display": null,
            "flex": null,
            "flex_flow": null,
            "grid_area": null,
            "grid_auto_columns": null,
            "grid_auto_flow": null,
            "grid_auto_rows": null,
            "grid_column": null,
            "grid_gap": null,
            "grid_row": null,
            "grid_template_areas": null,
            "grid_template_columns": null,
            "grid_template_rows": null,
            "height": null,
            "justify_content": null,
            "justify_items": null,
            "left": null,
            "margin": null,
            "max_height": null,
            "max_width": null,
            "min_height": null,
            "min_width": null,
            "object_fit": null,
            "object_position": null,
            "order": null,
            "overflow": null,
            "overflow_x": null,
            "overflow_y": null,
            "padding": null,
            "right": null,
            "top": null,
            "visibility": null,
            "width": null
          }
        },
        "ab0b3f8667d74c36bdf9cc3a6f0c1d7d": {
          "model_module": "@jupyter-widgets/controls",
          "model_name": "ProgressStyleModel",
          "model_module_version": "1.5.0",
          "state": {
            "_model_module": "@jupyter-widgets/controls",
            "_model_module_version": "1.5.0",
            "_model_name": "ProgressStyleModel",
            "_view_count": null,
            "_view_module": "@jupyter-widgets/base",
            "_view_module_version": "1.2.0",
            "_view_name": "StyleView",
            "bar_color": null,
            "description_width": ""
          }
        },
        "7b708cfb6db94aa7b839dbce3bffd22b": {
          "model_module": "@jupyter-widgets/base",
          "model_name": "LayoutModel",
          "model_module_version": "1.2.0",
          "state": {
            "_model_module": "@jupyter-widgets/base",
            "_model_module_version": "1.2.0",
            "_model_name": "LayoutModel",
            "_view_count": null,
            "_view_module": "@jupyter-widgets/base",
            "_view_module_version": "1.2.0",
            "_view_name": "LayoutView",
            "align_content": null,
            "align_items": null,
            "align_self": null,
            "border": null,
            "bottom": null,
            "display": null,
            "flex": null,
            "flex_flow": null,
            "grid_area": null,
            "grid_auto_columns": null,
            "grid_auto_flow": null,
            "grid_auto_rows": null,
            "grid_column": null,
            "grid_gap": null,
            "grid_row": null,
            "grid_template_areas": null,
            "grid_template_columns": null,
            "grid_template_rows": null,
            "height": null,
            "justify_content": null,
            "justify_items": null,
            "left": null,
            "margin": null,
            "max_height": null,
            "max_width": null,
            "min_height": null,
            "min_width": null,
            "object_fit": null,
            "object_position": null,
            "order": null,
            "overflow": null,
            "overflow_x": null,
            "overflow_y": null,
            "padding": null,
            "right": null,
            "top": null,
            "visibility": null,
            "width": null
          }
        },
        "fcf28ef6ddc94ac4a6f35aaad58b5ce7": {
          "model_module": "@jupyter-widgets/controls",
          "model_name": "DescriptionStyleModel",
          "model_module_version": "1.5.0",
          "state": {
            "_model_module": "@jupyter-widgets/controls",
            "_model_module_version": "1.5.0",
            "_model_name": "DescriptionStyleModel",
            "_view_count": null,
            "_view_module": "@jupyter-widgets/base",
            "_view_module_version": "1.2.0",
            "_view_name": "StyleView",
            "description_width": ""
          }
        }
      }
    }
  },
  "nbformat": 4,
  "nbformat_minor": 0
}